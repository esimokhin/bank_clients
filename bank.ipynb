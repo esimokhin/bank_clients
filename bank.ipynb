{
 "cells": [
  {
   "cell_type": "markdown",
   "metadata": {},
   "source": [
    "# Отток клиентов"
   ]
  },
  {
   "cell_type": "markdown",
   "metadata": {},
   "source": [
    "Из «Бета-Банка» стали уходить клиенты. Каждый месяц. Немного, но заметно. Банковские маркетологи посчитали: сохранять текущих клиентов дешевле, чем привлекать новых.\n",
    "\n",
    "Нужно спрогнозировать, уйдёт клиент из банка в ближайшее время или нет. Вам предоставлены исторические данные о поведении клиентов и расторжении договоров с банком. \n",
    "\n",
    "Постройте модель с предельно большим значением *F1*-меры. Чтобы сдать проект успешно, нужно довести метрику до 0.59. Проверьте *F1*-меру на тестовой выборке самостоятельно.\n",
    "\n",
    "Дополнительно измеряйте *AUC-ROC*, сравнивайте её значение с *F1*-мерой.\n",
    "\n",
    "Источник данных: [https://www.kaggle.com/barelydedicated/bank-customer-churn-modeling](https://www.kaggle.com/barelydedicated/bank-customer-churn-modeling)"
   ]
  },
  {
   "cell_type": "markdown",
   "metadata": {},
   "source": [
    "# Описание данных:"
   ]
  },
  {
   "cell_type": "markdown",
   "metadata": {},
   "source": [
    "**Признаки**<br />\n",
    "RowNumber — индекс строки в данных<br />\n",
    "CustomerId — уникальный идентификатор клиента<br />\n",
    "Surname — фамилия<br />\n",
    "CreditScore — кредитный рейтинг<br />\n",
    "Geography — страна проживания<br />\n",
    "Gender — пол<br />\n",
    "Age — возраст<br />\n",
    "Tenure — сколько лет человек является клиентом банка<br />\n",
    "Balance — баланс на счёте<br />\n",
    "NumOfProducts — количество продуктов банка, используемых клиентом<br />\n",
    "HasCrCard — наличие кредитной карты<br />\n",
    "IsActiveMember — активность клиента<br />\n",
    "EstimatedSalary — предполагаемая зарплата<br />\n",
    "**Целевой признак**<br />\n",
    "Exited — факт ухода клиента<br />"
   ]
  },
  {
   "cell_type": "markdown",
   "metadata": {},
   "source": [
    "# Вспомогательные функции:"
   ]
  },
  {
   "cell_type": "markdown",
   "metadata": {},
   "source": [
    "### Импорт библиотек"
   ]
  },
  {
   "cell_type": "code",
   "execution_count": 1,
   "metadata": {},
   "outputs": [
    {
     "name": "stdout",
     "output_type": "stream",
     "text": [
      "Requirement already satisfied: imbalanced-learn in /opt/conda/lib/python3.9/site-packages (0.10.1)\n",
      "Requirement already satisfied: joblib>=1.1.1 in /opt/conda/lib/python3.9/site-packages (from imbalanced-learn) (1.2.0)\n",
      "Requirement already satisfied: scipy>=1.3.2 in /opt/conda/lib/python3.9/site-packages (from imbalanced-learn) (1.9.1)\n",
      "Requirement already satisfied: scikit-learn>=1.0.2 in /opt/conda/lib/python3.9/site-packages (from imbalanced-learn) (1.2.1)\n",
      "Requirement already satisfied: threadpoolctl>=2.0.0 in /opt/conda/lib/python3.9/site-packages (from imbalanced-learn) (3.1.0)\n",
      "Requirement already satisfied: numpy>=1.17.3 in /opt/conda/lib/python3.9/site-packages (from imbalanced-learn) (1.21.1)\n"
     ]
    }
   ],
   "source": [
    "!pip install imbalanced-learn"
   ]
  },
  {
   "cell_type": "code",
   "execution_count": 2,
   "metadata": {},
   "outputs": [],
   "source": [
    "import warnings\n",
    "\n",
    "import matplotlib.pyplot as plt\n",
    "import numpy as np\n",
    "import pandas as pd\n",
    "import seaborn as sns\n",
    "\n",
    "from collections import Counter\n",
    "from imblearn.under_sampling import RandomUnderSampler\n",
    "from imblearn.over_sampling import SMOTE\n",
    "from sklearn.compose import ColumnTransformer\n",
    "from sklearn.dummy import DummyClassifier\n",
    "from sklearn.ensemble import RandomForestClassifier\n",
    "from sklearn.linear_model import LogisticRegression \n",
    "from sklearn.metrics import (\n",
    "    accuracy_score,\n",
    "    f1_score,\n",
    "    precision_score,\n",
    "    recall_score,\n",
    "    roc_auc_score,\n",
    "    roc_curve\n",
    ")\n",
    "from sklearn.model_selection import train_test_split\n",
    "from sklearn.preprocessing import (\n",
    "    OneHotEncoder,\n",
    "    StandardScaler\n",
    ")\n",
    "from sklearn.tree import DecisionTreeClassifier\n",
    "from sklearn.utils import shuffle\n",
    "\n",
    "%matplotlib notebook\n",
    "%matplotlib inline"
   ]
  },
  {
   "cell_type": "code",
   "execution_count": 3,
   "metadata": {},
   "outputs": [],
   "source": [
    "# Отключение warning\n",
    "warnings.filterwarnings('ignore')\n",
    "pd.options.mode.chained_assignment = None\n",
    "#Формат float\n",
    "pd.options.display.float_format = '{:,.2f}'.format\n",
    "# Сброс ограничений на число столбцов\n",
    "pd.options.display.max_columns = None\n"
   ]
  },
  {
   "cell_type": "markdown",
   "metadata": {},
   "source": [
    "Отключение вывода в окно с прокруткой:"
   ]
  },
  {
   "cell_type": "code",
   "execution_count": 4,
   "metadata": {},
   "outputs": [
    {
     "data": {
      "application/javascript": [
       "IPython.OutputArea.auto_scroll_threshold = 9999;\n"
      ],
      "text/plain": [
       "<IPython.core.display.Javascript object>"
      ]
     },
     "metadata": {},
     "output_type": "display_data"
    }
   ],
   "source": [
    "%%javascript\n",
    "IPython.OutputArea.auto_scroll_threshold = 9999;"
   ]
  },
  {
   "cell_type": "code",
   "execution_count": null,
   "metadata": {},
   "outputs": [],
   "source": []
  },
  {
   "cell_type": "markdown",
   "metadata": {},
   "source": [
    "### Информация о столбцах:"
   ]
  },
  {
   "cell_type": "code",
   "execution_count": 5,
   "metadata": {},
   "outputs": [],
   "source": [
    "data_name = 'Данные об клиентах'\n",
    "data_fields = {\n",
    "'RowNumber':['Индекс строки в данных', False],\n",
    "'CustomerId':['Уникальный идентификатор клиента', False],\n",
    "'Surname':['Фамилия', False],\n",
    "'CreditScore':['Кредитный рейтинг', True],\n",
    "'Geography':['Страна проживания', True],\n",
    "'Gender':['Пол', True],\n",
    "'Age':['Возраст', True],\n",
    "'Tenure':['Сколько лет человек является клиентом банка', True],\n",
    "'Balance':['Баланс на счёте', True],\n",
    "'NumOfProducts':['Количество продуктов банка, используемых клиентом', True],\n",
    "'HasCrCard':['Наличие кредитной карты', True],\n",
    "'IsActiveMember':['Активность клиента', True],\n",
    "'EstimatedSalary':['Предполагаемая зарплата', True],\n",
    "'Exited':['Факт ухода клиента', True]\n",
    "}    \n"
   ]
  },
  {
   "cell_type": "markdown",
   "metadata": {},
   "source": [
    "### Функция, создающая таблицу по данным describe() для столбцов датафрейма"
   ]
  },
  {
   "cell_type": "code",
   "execution_count": 6,
   "metadata": {},
   "outputs": [],
   "source": [
    "def describer(df,clmn='column'):\n",
    "    df_describe = pd.DataFrame(columns=[clmn,'count','mean','std','min','25%','50%','75%','max'])\n",
    "    for col in df.columns:\n",
    "        param = df[col]\n",
    "        typer = type(list(param)[0]) #[0])\n",
    "        if (not 'str' in str(typer)) and (not 'bool' in str(typer)) and (not 'date' in str(typer)):\n",
    "            desc = df[col].describe().to_dict()\n",
    "            desc[clmn] = col\n",
    "            df_describe = df_describe.append(desc, ignore_index=True)\n",
    "    return df_describe"
   ]
  },
  {
   "cell_type": "markdown",
   "metadata": {},
   "source": [
    "### Функция получения информации о столбце"
   ]
  },
  {
   "cell_type": "code",
   "execution_count": 7,
   "metadata": {},
   "outputs": [],
   "source": [
    "def col_reaper(ddf,param_name,plot_hist = True):\n",
    "    global data_fields\n",
    "    data_len = len(ddf)\n",
    "    param = ddf[param_name]\n",
    "    \n",
    "    #Определение имени столбца\n",
    "    if data_fields.get(param_name)[0] is not None:\n",
    "        field = data_fields.get(param_name)[0]\n",
    "    else:\n",
    "        field = ''\n",
    "        \n",
    "    #Описание данных\n",
    "    print('')\n",
    "    print('\\033[4m'+'Описание данных:'+ '\\033[0m')\n",
    "    print(param.describe(datetime_is_numeric=True))\n",
    "    typer = type(param[0])\n",
    "    print('\\033[4m' +  'Количество записей:' + '\\033[0m', sum(param.notna()), 'из', data_len)\n",
    "    if sum(param.isna()) >0:\n",
    "       print('\\033[4m' +  'Пропущено:' + '\\033[0m', sum(param.isna()))\n",
    "       print('')\n",
    "\n",
    "    #Построение гистограммы\n",
    "    print('\\033[4m'+'\\nТип:\\n' + '\\033[0m', typer)\n",
    "    if plot_hist and not 'str' in str(typer):\n",
    "#        print('\\nГистограмма значений:')\n",
    "        param.hist();\n",
    "    if plot_hist and not 'str' in str(typer):\n",
    "            print('\\033[4m'+'\\nГистограмма значений:'+ '\\033[0m')\n",
    "            param.plot(kind='hist',figsize=(16,5), grid = True)\n",
    "            plt.title(field)\n",
    "            #plt.xlabel('Населенные пункты') \n",
    "            plt.ylabel('Количество записей')\n",
    "            plt.xticks(rotation=0)\n",
    "            plt.show()\n",
    "            \n",
    "    else:\n",
    "        if len(param.unique())<=40:\n",
    "            #param_index = param.reset_index()\n",
    "            print('\\033[4m'+'\\nРаспределение уникальных значений (первые 10 значений в порядке убывания):'+ '\\033[0m')\n",
    "            param_group=ddf.groupby(param_name).agg(cnt=(param_name,'count')).reset_index()\n",
    "            display(param_group.sort_values(by='cnt',ascending=False).reset_index(drop=True).head(10))\n",
    "            \n",
    "            print('\\033[4m'+'\\nГистограмма значений:'+ '\\033[0m')\n",
    "            param_group.plot(x=param_name, y='cnt', kind='bar',figsize=(16,5))\n",
    "            plt.title(field)\n",
    "            plt.xlabel('') \n",
    "            plt.ylabel('Количество записей')\n",
    "            if len(param.unique())<=20:\n",
    "                plt.xticks(rotation=0)\n",
    "            else:\n",
    "                plt.xticks(rotation=90)\n",
    "            plt.show()\n",
    "    print('')\n",
    "    "
   ]
  },
  {
   "cell_type": "markdown",
   "metadata": {},
   "source": [
    "### Функция получения информации о датафрейме"
   ]
  },
  {
   "cell_type": "code",
   "execution_count": 8,
   "metadata": {},
   "outputs": [],
   "source": [
    "def df_reaper(df, df_name ='', data_fields = {}):\n",
    "    #global data_fields\n",
    "    #global df_name\n",
    "    #global descript\n",
    "    \n",
    "    # Список столюцов для гистограмм, диаграмм, корелляции и т.п.\n",
    "    cols = df.columns\n",
    "    true_cols = []\n",
    "    for col in cols:\n",
    "        if data_fields.get(col)[1]:\n",
    "            true_cols.append(col)\n",
    "\n",
    "    \n",
    "    print('\\033[1;4m' +  df_name + '\\033[0m \\n')   \n",
    "    print('\\033[1m' +  'Количество записей:' + '\\033[0m')   \n",
    "    df_len = len(df)\n",
    "    display(df_len)\n",
    "    print('')\n",
    "    \n",
    "    print('\\033[1m' +  'Первые 5 строк данных:' + '\\033[0m')   \n",
    "    display(df.head())\n",
    "    print('')\n",
    "    \n",
    "    print('\\033[1m' +  'Информация о датафрейме:' + '\\033[0m')\n",
    "    print('')\n",
    "    display(df.info())\n",
    "    \n",
    "    print('\\033[1m' +  'Описание данных в столбцах с числовыми значениями:' + '\\033[0m')\n",
    "    display(describer(df[true_cols]))\n",
    "\n",
    "    print('\\033[1m' +  'Диаграмма рассеивания:' + '\\033[0m')\n",
    "    pd.plotting.scatter_matrix(df[true_cols], figsize=(16, 16)); \n",
    "    plt.show()\n",
    "    \n",
    "    print('\\033[1m' +  'Корелляция данных:' + '\\033[0m')\n",
    "#    display(df[true_cols].corr())\n",
    "    \n",
    "    plt.figure(figsize=(16, 6))\n",
    "    # define the mask to set the values in the upper triangle to True\n",
    "    mask = np.triu(np.ones_like(df[true_cols].corr(), dtype=np.bool))\n",
    "    heatmap = sns.heatmap(df[true_cols].corr(), mask=mask, vmin=-1, vmax=1, annot=True, cmap='BrBG')\n",
    "    #heatmap.set_title('Корелляция данных', fontdict={'fontsize':18}, pad=16);\n",
    "    plt.show()\n",
    "    \n",
    "    print('\\033[1m' +  'Столбцы:' + '\\033[0m \\n')\n",
    " #   cols = df.columns\n",
    "\n",
    "    for col in cols:\n",
    "        if data_fields.get(col)[0] is not None:\n",
    "            field = data_fields.get(col)[0]\n",
    "        else:\n",
    "            field = ''\n",
    "        print('\\033[1;3m' +  col + ' - ' + field + '\\033[0m')\n",
    "        plot_hist = data_fields.get(col)[1]\n",
    "        col_reaper(df,col,plot_hist)"
   ]
  },
  {
   "cell_type": "code",
   "execution_count": 9,
   "metadata": {},
   "outputs": [
    {
     "data": {
      "text/plain": [
       "{'RowNumber': ['Индекс строки в данных', False],\n",
       " 'CustomerId': ['Уникальный идентификатор клиента', False],\n",
       " 'Surname': ['Фамилия', False],\n",
       " 'CreditScore': ['Кредитный рейтинг', True],\n",
       " 'Geography': ['Страна проживания', True],\n",
       " 'Gender': ['Пол', True],\n",
       " 'Age': ['Возраст', True],\n",
       " 'Tenure': ['Сколько лет человек является клиентом банка', True],\n",
       " 'Balance': ['Баланс на счёте', True],\n",
       " 'NumOfProducts': ['Количество продуктов банка, используемых клиентом', True],\n",
       " 'HasCrCard': ['Наличие кредитной карты', True],\n",
       " 'IsActiveMember': ['Активность клиента', True],\n",
       " 'EstimatedSalary': ['Предполагаемая зарплата', True],\n",
       " 'Exited': ['Факт ухода клиента', True]}"
      ]
     },
     "execution_count": 9,
     "metadata": {},
     "output_type": "execute_result"
    }
   ],
   "source": [
    "data_fields"
   ]
  },
  {
   "cell_type": "markdown",
   "metadata": {},
   "source": [
    "## **Подготовка данных**"
   ]
  },
  {
   "cell_type": "markdown",
   "metadata": {},
   "source": [
    "### Загрузка данных"
   ]
  },
  {
   "cell_type": "code",
   "execution_count": 10,
   "metadata": {
    "scrolled": false
   },
   "outputs": [
    {
     "data": {
      "text/html": [
       "<div>\n",
       "<style scoped>\n",
       "    .dataframe tbody tr th:only-of-type {\n",
       "        vertical-align: middle;\n",
       "    }\n",
       "\n",
       "    .dataframe tbody tr th {\n",
       "        vertical-align: top;\n",
       "    }\n",
       "\n",
       "    .dataframe thead th {\n",
       "        text-align: right;\n",
       "    }\n",
       "</style>\n",
       "<table border=\"1\" class=\"dataframe\">\n",
       "  <thead>\n",
       "    <tr style=\"text-align: right;\">\n",
       "      <th></th>\n",
       "      <th>RowNumber</th>\n",
       "      <th>CustomerId</th>\n",
       "      <th>Surname</th>\n",
       "      <th>CreditScore</th>\n",
       "      <th>Geography</th>\n",
       "      <th>Gender</th>\n",
       "      <th>Age</th>\n",
       "      <th>Tenure</th>\n",
       "      <th>Balance</th>\n",
       "      <th>NumOfProducts</th>\n",
       "      <th>HasCrCard</th>\n",
       "      <th>IsActiveMember</th>\n",
       "      <th>EstimatedSalary</th>\n",
       "      <th>Exited</th>\n",
       "    </tr>\n",
       "  </thead>\n",
       "  <tbody>\n",
       "    <tr>\n",
       "      <th>0</th>\n",
       "      <td>1</td>\n",
       "      <td>15634602</td>\n",
       "      <td>Hargrave</td>\n",
       "      <td>619</td>\n",
       "      <td>France</td>\n",
       "      <td>Female</td>\n",
       "      <td>42</td>\n",
       "      <td>2.00</td>\n",
       "      <td>0.00</td>\n",
       "      <td>1</td>\n",
       "      <td>1</td>\n",
       "      <td>1</td>\n",
       "      <td>101,348.88</td>\n",
       "      <td>1</td>\n",
       "    </tr>\n",
       "    <tr>\n",
       "      <th>1</th>\n",
       "      <td>2</td>\n",
       "      <td>15647311</td>\n",
       "      <td>Hill</td>\n",
       "      <td>608</td>\n",
       "      <td>Spain</td>\n",
       "      <td>Female</td>\n",
       "      <td>41</td>\n",
       "      <td>1.00</td>\n",
       "      <td>83,807.86</td>\n",
       "      <td>1</td>\n",
       "      <td>0</td>\n",
       "      <td>1</td>\n",
       "      <td>112,542.58</td>\n",
       "      <td>0</td>\n",
       "    </tr>\n",
       "    <tr>\n",
       "      <th>2</th>\n",
       "      <td>3</td>\n",
       "      <td>15619304</td>\n",
       "      <td>Onio</td>\n",
       "      <td>502</td>\n",
       "      <td>France</td>\n",
       "      <td>Female</td>\n",
       "      <td>42</td>\n",
       "      <td>8.00</td>\n",
       "      <td>159,660.80</td>\n",
       "      <td>3</td>\n",
       "      <td>1</td>\n",
       "      <td>0</td>\n",
       "      <td>113,931.57</td>\n",
       "      <td>1</td>\n",
       "    </tr>\n",
       "    <tr>\n",
       "      <th>3</th>\n",
       "      <td>4</td>\n",
       "      <td>15701354</td>\n",
       "      <td>Boni</td>\n",
       "      <td>699</td>\n",
       "      <td>France</td>\n",
       "      <td>Female</td>\n",
       "      <td>39</td>\n",
       "      <td>1.00</td>\n",
       "      <td>0.00</td>\n",
       "      <td>2</td>\n",
       "      <td>0</td>\n",
       "      <td>0</td>\n",
       "      <td>93,826.63</td>\n",
       "      <td>0</td>\n",
       "    </tr>\n",
       "    <tr>\n",
       "      <th>4</th>\n",
       "      <td>5</td>\n",
       "      <td>15737888</td>\n",
       "      <td>Mitchell</td>\n",
       "      <td>850</td>\n",
       "      <td>Spain</td>\n",
       "      <td>Female</td>\n",
       "      <td>43</td>\n",
       "      <td>2.00</td>\n",
       "      <td>125,510.82</td>\n",
       "      <td>1</td>\n",
       "      <td>1</td>\n",
       "      <td>1</td>\n",
       "      <td>79,084.10</td>\n",
       "      <td>0</td>\n",
       "    </tr>\n",
       "  </tbody>\n",
       "</table>\n",
       "</div>"
      ],
      "text/plain": [
       "   RowNumber  CustomerId   Surname  CreditScore Geography  Gender  Age  \\\n",
       "0          1    15634602  Hargrave          619    France  Female   42   \n",
       "1          2    15647311      Hill          608     Spain  Female   41   \n",
       "2          3    15619304      Onio          502    France  Female   42   \n",
       "3          4    15701354      Boni          699    France  Female   39   \n",
       "4          5    15737888  Mitchell          850     Spain  Female   43   \n",
       "\n",
       "   Tenure    Balance  NumOfProducts  HasCrCard  IsActiveMember  \\\n",
       "0    2.00       0.00              1          1               1   \n",
       "1    1.00  83,807.86              1          0               1   \n",
       "2    8.00 159,660.80              3          1               0   \n",
       "3    1.00       0.00              2          0               0   \n",
       "4    2.00 125,510.82              1          1               1   \n",
       "\n",
       "   EstimatedSalary  Exited  \n",
       "0       101,348.88       1  \n",
       "1       112,542.58       0  \n",
       "2       113,931.57       1  \n",
       "3        93,826.63       0  \n",
       "4        79,084.10       0  "
      ]
     },
     "execution_count": 10,
     "metadata": {},
     "output_type": "execute_result"
    }
   ],
   "source": [
    "data = pd.read_csv('/datasets/Churn.csv')\n",
    "data.head()"
   ]
  },
  {
   "cell_type": "markdown",
   "metadata": {},
   "source": [
    "### Анализ данных"
   ]
  },
  {
   "cell_type": "code",
   "execution_count": 11,
   "metadata": {},
   "outputs": [
    {
     "name": "stdout",
     "output_type": "stream",
     "text": [
      "\u001b[1;4mДанные об клиентах\u001b[0m \n",
      "\n",
      "\u001b[1mКоличество записей:\u001b[0m\n"
     ]
    },
    {
     "data": {
      "text/plain": [
       "10000"
      ]
     },
     "metadata": {},
     "output_type": "display_data"
    },
    {
     "name": "stdout",
     "output_type": "stream",
     "text": [
      "\n",
      "\u001b[1mПервые 5 строк данных:\u001b[0m\n"
     ]
    },
    {
     "data": {
      "text/html": [
       "<div>\n",
       "<style scoped>\n",
       "    .dataframe tbody tr th:only-of-type {\n",
       "        vertical-align: middle;\n",
       "    }\n",
       "\n",
       "    .dataframe tbody tr th {\n",
       "        vertical-align: top;\n",
       "    }\n",
       "\n",
       "    .dataframe thead th {\n",
       "        text-align: right;\n",
       "    }\n",
       "</style>\n",
       "<table border=\"1\" class=\"dataframe\">\n",
       "  <thead>\n",
       "    <tr style=\"text-align: right;\">\n",
       "      <th></th>\n",
       "      <th>RowNumber</th>\n",
       "      <th>CustomerId</th>\n",
       "      <th>Surname</th>\n",
       "      <th>CreditScore</th>\n",
       "      <th>Geography</th>\n",
       "      <th>Gender</th>\n",
       "      <th>Age</th>\n",
       "      <th>Tenure</th>\n",
       "      <th>Balance</th>\n",
       "      <th>NumOfProducts</th>\n",
       "      <th>HasCrCard</th>\n",
       "      <th>IsActiveMember</th>\n",
       "      <th>EstimatedSalary</th>\n",
       "      <th>Exited</th>\n",
       "    </tr>\n",
       "  </thead>\n",
       "  <tbody>\n",
       "    <tr>\n",
       "      <th>0</th>\n",
       "      <td>1</td>\n",
       "      <td>15634602</td>\n",
       "      <td>Hargrave</td>\n",
       "      <td>619</td>\n",
       "      <td>France</td>\n",
       "      <td>Female</td>\n",
       "      <td>42</td>\n",
       "      <td>2.00</td>\n",
       "      <td>0.00</td>\n",
       "      <td>1</td>\n",
       "      <td>1</td>\n",
       "      <td>1</td>\n",
       "      <td>101,348.88</td>\n",
       "      <td>1</td>\n",
       "    </tr>\n",
       "    <tr>\n",
       "      <th>1</th>\n",
       "      <td>2</td>\n",
       "      <td>15647311</td>\n",
       "      <td>Hill</td>\n",
       "      <td>608</td>\n",
       "      <td>Spain</td>\n",
       "      <td>Female</td>\n",
       "      <td>41</td>\n",
       "      <td>1.00</td>\n",
       "      <td>83,807.86</td>\n",
       "      <td>1</td>\n",
       "      <td>0</td>\n",
       "      <td>1</td>\n",
       "      <td>112,542.58</td>\n",
       "      <td>0</td>\n",
       "    </tr>\n",
       "    <tr>\n",
       "      <th>2</th>\n",
       "      <td>3</td>\n",
       "      <td>15619304</td>\n",
       "      <td>Onio</td>\n",
       "      <td>502</td>\n",
       "      <td>France</td>\n",
       "      <td>Female</td>\n",
       "      <td>42</td>\n",
       "      <td>8.00</td>\n",
       "      <td>159,660.80</td>\n",
       "      <td>3</td>\n",
       "      <td>1</td>\n",
       "      <td>0</td>\n",
       "      <td>113,931.57</td>\n",
       "      <td>1</td>\n",
       "    </tr>\n",
       "    <tr>\n",
       "      <th>3</th>\n",
       "      <td>4</td>\n",
       "      <td>15701354</td>\n",
       "      <td>Boni</td>\n",
       "      <td>699</td>\n",
       "      <td>France</td>\n",
       "      <td>Female</td>\n",
       "      <td>39</td>\n",
       "      <td>1.00</td>\n",
       "      <td>0.00</td>\n",
       "      <td>2</td>\n",
       "      <td>0</td>\n",
       "      <td>0</td>\n",
       "      <td>93,826.63</td>\n",
       "      <td>0</td>\n",
       "    </tr>\n",
       "    <tr>\n",
       "      <th>4</th>\n",
       "      <td>5</td>\n",
       "      <td>15737888</td>\n",
       "      <td>Mitchell</td>\n",
       "      <td>850</td>\n",
       "      <td>Spain</td>\n",
       "      <td>Female</td>\n",
       "      <td>43</td>\n",
       "      <td>2.00</td>\n",
       "      <td>125,510.82</td>\n",
       "      <td>1</td>\n",
       "      <td>1</td>\n",
       "      <td>1</td>\n",
       "      <td>79,084.10</td>\n",
       "      <td>0</td>\n",
       "    </tr>\n",
       "  </tbody>\n",
       "</table>\n",
       "</div>"
      ],
      "text/plain": [
       "   RowNumber  CustomerId   Surname  CreditScore Geography  Gender  Age  \\\n",
       "0          1    15634602  Hargrave          619    France  Female   42   \n",
       "1          2    15647311      Hill          608     Spain  Female   41   \n",
       "2          3    15619304      Onio          502    France  Female   42   \n",
       "3          4    15701354      Boni          699    France  Female   39   \n",
       "4          5    15737888  Mitchell          850     Spain  Female   43   \n",
       "\n",
       "   Tenure    Balance  NumOfProducts  HasCrCard  IsActiveMember  \\\n",
       "0    2.00       0.00              1          1               1   \n",
       "1    1.00  83,807.86              1          0               1   \n",
       "2    8.00 159,660.80              3          1               0   \n",
       "3    1.00       0.00              2          0               0   \n",
       "4    2.00 125,510.82              1          1               1   \n",
       "\n",
       "   EstimatedSalary  Exited  \n",
       "0       101,348.88       1  \n",
       "1       112,542.58       0  \n",
       "2       113,931.57       1  \n",
       "3        93,826.63       0  \n",
       "4        79,084.10       0  "
      ]
     },
     "metadata": {},
     "output_type": "display_data"
    },
    {
     "name": "stdout",
     "output_type": "stream",
     "text": [
      "\n",
      "\u001b[1mИнформация о датафрейме:\u001b[0m\n",
      "\n",
      "<class 'pandas.core.frame.DataFrame'>\n",
      "RangeIndex: 10000 entries, 0 to 9999\n",
      "Data columns (total 14 columns):\n",
      " #   Column           Non-Null Count  Dtype  \n",
      "---  ------           --------------  -----  \n",
      " 0   RowNumber        10000 non-null  int64  \n",
      " 1   CustomerId       10000 non-null  int64  \n",
      " 2   Surname          10000 non-null  object \n",
      " 3   CreditScore      10000 non-null  int64  \n",
      " 4   Geography        10000 non-null  object \n",
      " 5   Gender           10000 non-null  object \n",
      " 6   Age              10000 non-null  int64  \n",
      " 7   Tenure           9091 non-null   float64\n",
      " 8   Balance          10000 non-null  float64\n",
      " 9   NumOfProducts    10000 non-null  int64  \n",
      " 10  HasCrCard        10000 non-null  int64  \n",
      " 11  IsActiveMember   10000 non-null  int64  \n",
      " 12  EstimatedSalary  10000 non-null  float64\n",
      " 13  Exited           10000 non-null  int64  \n",
      "dtypes: float64(3), int64(8), object(3)\n",
      "memory usage: 1.1+ MB\n"
     ]
    },
    {
     "data": {
      "text/plain": [
       "None"
      ]
     },
     "metadata": {},
     "output_type": "display_data"
    },
    {
     "name": "stdout",
     "output_type": "stream",
     "text": [
      "\u001b[1mОписание данных в столбцах с числовыми значениями:\u001b[0m\n"
     ]
    },
    {
     "data": {
      "text/html": [
       "<div>\n",
       "<style scoped>\n",
       "    .dataframe tbody tr th:only-of-type {\n",
       "        vertical-align: middle;\n",
       "    }\n",
       "\n",
       "    .dataframe tbody tr th {\n",
       "        vertical-align: top;\n",
       "    }\n",
       "\n",
       "    .dataframe thead th {\n",
       "        text-align: right;\n",
       "    }\n",
       "</style>\n",
       "<table border=\"1\" class=\"dataframe\">\n",
       "  <thead>\n",
       "    <tr style=\"text-align: right;\">\n",
       "      <th></th>\n",
       "      <th>column</th>\n",
       "      <th>count</th>\n",
       "      <th>mean</th>\n",
       "      <th>std</th>\n",
       "      <th>min</th>\n",
       "      <th>25%</th>\n",
       "      <th>50%</th>\n",
       "      <th>75%</th>\n",
       "      <th>max</th>\n",
       "    </tr>\n",
       "  </thead>\n",
       "  <tbody>\n",
       "    <tr>\n",
       "      <th>0</th>\n",
       "      <td>CreditScore</td>\n",
       "      <td>10,000.00</td>\n",
       "      <td>650.53</td>\n",
       "      <td>96.65</td>\n",
       "      <td>350.00</td>\n",
       "      <td>584.00</td>\n",
       "      <td>652.00</td>\n",
       "      <td>718.00</td>\n",
       "      <td>850.00</td>\n",
       "    </tr>\n",
       "    <tr>\n",
       "      <th>1</th>\n",
       "      <td>Age</td>\n",
       "      <td>10,000.00</td>\n",
       "      <td>38.92</td>\n",
       "      <td>10.49</td>\n",
       "      <td>18.00</td>\n",
       "      <td>32.00</td>\n",
       "      <td>37.00</td>\n",
       "      <td>44.00</td>\n",
       "      <td>92.00</td>\n",
       "    </tr>\n",
       "    <tr>\n",
       "      <th>2</th>\n",
       "      <td>Tenure</td>\n",
       "      <td>9,091.00</td>\n",
       "      <td>5.00</td>\n",
       "      <td>2.89</td>\n",
       "      <td>0.00</td>\n",
       "      <td>2.00</td>\n",
       "      <td>5.00</td>\n",
       "      <td>7.00</td>\n",
       "      <td>10.00</td>\n",
       "    </tr>\n",
       "    <tr>\n",
       "      <th>3</th>\n",
       "      <td>Balance</td>\n",
       "      <td>10,000.00</td>\n",
       "      <td>76,485.89</td>\n",
       "      <td>62,397.41</td>\n",
       "      <td>0.00</td>\n",
       "      <td>0.00</td>\n",
       "      <td>97,198.54</td>\n",
       "      <td>127,644.24</td>\n",
       "      <td>250,898.09</td>\n",
       "    </tr>\n",
       "    <tr>\n",
       "      <th>4</th>\n",
       "      <td>NumOfProducts</td>\n",
       "      <td>10,000.00</td>\n",
       "      <td>1.53</td>\n",
       "      <td>0.58</td>\n",
       "      <td>1.00</td>\n",
       "      <td>1.00</td>\n",
       "      <td>1.00</td>\n",
       "      <td>2.00</td>\n",
       "      <td>4.00</td>\n",
       "    </tr>\n",
       "    <tr>\n",
       "      <th>5</th>\n",
       "      <td>HasCrCard</td>\n",
       "      <td>10,000.00</td>\n",
       "      <td>0.71</td>\n",
       "      <td>0.46</td>\n",
       "      <td>0.00</td>\n",
       "      <td>0.00</td>\n",
       "      <td>1.00</td>\n",
       "      <td>1.00</td>\n",
       "      <td>1.00</td>\n",
       "    </tr>\n",
       "    <tr>\n",
       "      <th>6</th>\n",
       "      <td>IsActiveMember</td>\n",
       "      <td>10,000.00</td>\n",
       "      <td>0.52</td>\n",
       "      <td>0.50</td>\n",
       "      <td>0.00</td>\n",
       "      <td>0.00</td>\n",
       "      <td>1.00</td>\n",
       "      <td>1.00</td>\n",
       "      <td>1.00</td>\n",
       "    </tr>\n",
       "    <tr>\n",
       "      <th>7</th>\n",
       "      <td>EstimatedSalary</td>\n",
       "      <td>10,000.00</td>\n",
       "      <td>100,090.24</td>\n",
       "      <td>57,510.49</td>\n",
       "      <td>11.58</td>\n",
       "      <td>51,002.11</td>\n",
       "      <td>100,193.91</td>\n",
       "      <td>149,388.25</td>\n",
       "      <td>199,992.48</td>\n",
       "    </tr>\n",
       "    <tr>\n",
       "      <th>8</th>\n",
       "      <td>Exited</td>\n",
       "      <td>10,000.00</td>\n",
       "      <td>0.20</td>\n",
       "      <td>0.40</td>\n",
       "      <td>0.00</td>\n",
       "      <td>0.00</td>\n",
       "      <td>0.00</td>\n",
       "      <td>0.00</td>\n",
       "      <td>1.00</td>\n",
       "    </tr>\n",
       "  </tbody>\n",
       "</table>\n",
       "</div>"
      ],
      "text/plain": [
       "            column     count       mean       std    min       25%        50%  \\\n",
       "0      CreditScore 10,000.00     650.53     96.65 350.00    584.00     652.00   \n",
       "1              Age 10,000.00      38.92     10.49  18.00     32.00      37.00   \n",
       "2           Tenure  9,091.00       5.00      2.89   0.00      2.00       5.00   \n",
       "3          Balance 10,000.00  76,485.89 62,397.41   0.00      0.00  97,198.54   \n",
       "4    NumOfProducts 10,000.00       1.53      0.58   1.00      1.00       1.00   \n",
       "5        HasCrCard 10,000.00       0.71      0.46   0.00      0.00       1.00   \n",
       "6   IsActiveMember 10,000.00       0.52      0.50   0.00      0.00       1.00   \n",
       "7  EstimatedSalary 10,000.00 100,090.24 57,510.49  11.58 51,002.11 100,193.91   \n",
       "8           Exited 10,000.00       0.20      0.40   0.00      0.00       0.00   \n",
       "\n",
       "         75%        max  \n",
       "0     718.00     850.00  \n",
       "1      44.00      92.00  \n",
       "2       7.00      10.00  \n",
       "3 127,644.24 250,898.09  \n",
       "4       2.00       4.00  \n",
       "5       1.00       1.00  \n",
       "6       1.00       1.00  \n",
       "7 149,388.25 199,992.48  \n",
       "8       0.00       1.00  "
      ]
     },
     "metadata": {},
     "output_type": "display_data"
    },
    {
     "name": "stdout",
     "output_type": "stream",
     "text": [
      "\u001b[1mДиаграмма рассеивания:\u001b[0m\n"
     ]
    },
    {
     "data": {
      "image/png": "[encoded data removed]",
      "text/plain": [
       "<Figure size 1152x1152 with 81 Axes>"
      ]
     },
     "metadata": {
      "needs_background": "light"
     },
     "output_type": "display_data"
    },
    {
     "name": "stdout",
     "output_type": "stream",
     "text": [
      "\u001b[1mКорелляция данных:\u001b[0m\n"
     ]
    },
    {
     "data": {
      "image/png": "[encoded data removed]",
      "text/plain": [
       "<Figure size 1152x432 with 2 Axes>"
      ]
     },
     "metadata": {
      "needs_background": "light"
     },
     "output_type": "display_data"
    },
    {
     "name": "stdout",
     "output_type": "stream",
     "text": [
      "\u001b[1mСтолбцы:\u001b[0m \n",
      "\n",
      "\u001b[1;3mRowNumber - Индекс строки в данных\u001b[0m\n",
      "\n",
      "\u001b[4mОписание данных:\u001b[0m\n",
      "count   10,000.00\n",
      "mean     5,000.50\n",
      "std      2,886.90\n",
      "min          1.00\n",
      "25%      2,500.75\n",
      "50%      5,000.50\n",
      "75%      7,500.25\n",
      "max     10,000.00\n",
      "Name: RowNumber, dtype: float64\n",
      "\u001b[4mКоличество записей:\u001b[0m 10000 из 10000\n",
      "\u001b[4m\n",
      "Тип:\n",
      "\u001b[0m <class 'numpy.int64'>\n",
      "\n",
      "\u001b[1;3mCustomerId - Уникальный идентификатор клиента\u001b[0m\n",
      "\n",
      "\u001b[4mОписание данных:\u001b[0m\n",
      "count       10,000.00\n",
      "mean    15,690,940.57\n",
      "std         71,936.19\n",
      "min     15,565,701.00\n",
      "25%     15,628,528.25\n",
      "50%     15,690,738.00\n",
      "75%     15,753,233.75\n",
      "max     15,815,690.00\n",
      "Name: CustomerId, dtype: float64\n",
      "\u001b[4mКоличество записей:\u001b[0m 10000 из 10000\n",
      "\u001b[4m\n",
      "Тип:\n",
      "\u001b[0m <class 'numpy.int64'>\n",
      "\n",
      "\u001b[1;3mSurname - Фамилия\u001b[0m\n",
      "\n",
      "\u001b[4mОписание данных:\u001b[0m\n",
      "count     10000\n",
      "unique     2932\n",
      "top       Smith\n",
      "freq         32\n",
      "Name: Surname, dtype: object\n",
      "\u001b[4mКоличество записей:\u001b[0m 10000 из 10000\n",
      "\u001b[4m\n",
      "Тип:\n",
      "\u001b[0m <class 'str'>\n",
      "\n",
      "\u001b[1;3mCreditScore - Кредитный рейтинг\u001b[0m\n",
      "\n",
      "\u001b[4mОписание данных:\u001b[0m\n",
      "count   10,000.00\n",
      "mean       650.53\n",
      "std         96.65\n",
      "min        350.00\n",
      "25%        584.00\n",
      "50%        652.00\n",
      "75%        718.00\n",
      "max        850.00\n",
      "Name: CreditScore, dtype: float64\n",
      "\u001b[4mКоличество записей:\u001b[0m 10000 из 10000\n",
      "\u001b[4m\n",
      "Тип:\n",
      "\u001b[0m <class 'numpy.int64'>\n",
      "\u001b[4m\n",
      "Гистограмма значений:\u001b[0m\n"
     ]
    },
    {
     "data": {
      "image/png": "[encoded data removed]",
      "text/plain": [
       "<Figure size 1152x360 with 1 Axes>"
      ]
     },
     "metadata": {
      "needs_background": "light"
     },
     "output_type": "display_data"
    },
    {
     "name": "stdout",
     "output_type": "stream",
     "text": [
      "\n",
      "\u001b[1;3mGeography - Страна проживания\u001b[0m\n",
      "\n",
      "\u001b[4mОписание данных:\u001b[0m\n",
      "count      10000\n",
      "unique         3\n",
      "top       France\n",
      "freq        5014\n",
      "Name: Geography, dtype: object\n",
      "\u001b[4mКоличество записей:\u001b[0m 10000 из 10000\n",
      "\u001b[4m\n",
      "Тип:\n",
      "\u001b[0m <class 'str'>\n",
      "\u001b[4m\n",
      "Распределение уникальных значений (первые 10 значений в порядке убывания):\u001b[0m\n"
     ]
    },
    {
     "data": {
      "text/html": [
       "<div>\n",
       "<style scoped>\n",
       "    .dataframe tbody tr th:only-of-type {\n",
       "        vertical-align: middle;\n",
       "    }\n",
       "\n",
       "    .dataframe tbody tr th {\n",
       "        vertical-align: top;\n",
       "    }\n",
       "\n",
       "    .dataframe thead th {\n",
       "        text-align: right;\n",
       "    }\n",
       "</style>\n",
       "<table border=\"1\" class=\"dataframe\">\n",
       "  <thead>\n",
       "    <tr style=\"text-align: right;\">\n",
       "      <th></th>\n",
       "      <th>Geography</th>\n",
       "      <th>cnt</th>\n",
       "    </tr>\n",
       "  </thead>\n",
       "  <tbody>\n",
       "    <tr>\n",
       "      <th>0</th>\n",
       "      <td>France</td>\n",
       "      <td>5014</td>\n",
       "    </tr>\n",
       "    <tr>\n",
       "      <th>1</th>\n",
       "      <td>Germany</td>\n",
       "      <td>2509</td>\n",
       "    </tr>\n",
       "    <tr>\n",
       "      <th>2</th>\n",
       "      <td>Spain</td>\n",
       "      <td>2477</td>\n",
       "    </tr>\n",
       "  </tbody>\n",
       "</table>\n",
       "</div>"
      ],
      "text/plain": [
       "  Geography   cnt\n",
       "0    France  5014\n",
       "1   Germany  2509\n",
       "2     Spain  2477"
      ]
     },
     "metadata": {},
     "output_type": "display_data"
    },
    {
     "name": "stdout",
     "output_type": "stream",
     "text": [
      "\u001b[4m\n",
      "Гистограмма значений:\u001b[0m\n"
     ]
    },
    {
     "data": {
      "image/png": "[encoded data removed]",
      "text/plain": [
       "<Figure size 1152x360 with 1 Axes>"
      ]
     },
     "metadata": {
      "needs_background": "light"
     },
     "output_type": "display_data"
    },
    {
     "name": "stdout",
     "output_type": "stream",
     "text": [
      "\n",
      "\u001b[1;3mGender - Пол\u001b[0m\n",
      "\n",
      "\u001b[4mОписание данных:\u001b[0m\n",
      "count     10000\n",
      "unique        2\n",
      "top        Male\n",
      "freq       5457\n",
      "Name: Gender, dtype: object\n",
      "\u001b[4mКоличество записей:\u001b[0m 10000 из 10000\n",
      "\u001b[4m\n",
      "Тип:\n",
      "\u001b[0m <class 'str'>\n",
      "\u001b[4m\n",
      "Распределение уникальных значений (первые 10 значений в порядке убывания):\u001b[0m\n"
     ]
    },
    {
     "data": {
      "text/html": [
       "<div>\n",
       "<style scoped>\n",
       "    .dataframe tbody tr th:only-of-type {\n",
       "        vertical-align: middle;\n",
       "    }\n",
       "\n",
       "    .dataframe tbody tr th {\n",
       "        vertical-align: top;\n",
       "    }\n",
       "\n",
       "    .dataframe thead th {\n",
       "        text-align: right;\n",
       "    }\n",
       "</style>\n",
       "<table border=\"1\" class=\"dataframe\">\n",
       "  <thead>\n",
       "    <tr style=\"text-align: right;\">\n",
       "      <th></th>\n",
       "      <th>Gender</th>\n",
       "      <th>cnt</th>\n",
       "    </tr>\n",
       "  </thead>\n",
       "  <tbody>\n",
       "    <tr>\n",
       "      <th>0</th>\n",
       "      <td>Male</td>\n",
       "      <td>5457</td>\n",
       "    </tr>\n",
       "    <tr>\n",
       "      <th>1</th>\n",
       "      <td>Female</td>\n",
       "      <td>4543</td>\n",
       "    </tr>\n",
       "  </tbody>\n",
       "</table>\n",
       "</div>"
      ],
      "text/plain": [
       "   Gender   cnt\n",
       "0    Male  5457\n",
       "1  Female  4543"
      ]
     },
     "metadata": {},
     "output_type": "display_data"
    },
    {
     "name": "stdout",
     "output_type": "stream",
     "text": [
      "\u001b[4m\n",
      "Гистограмма значений:\u001b[0m\n"
     ]
    },
    {
     "data": {
      "image/png": "[encoded data removed]",
      "text/plain": [
       "<Figure size 1152x360 with 1 Axes>"
      ]
     },
     "metadata": {
      "needs_background": "light"
     },
     "output_type": "display_data"
    },
    {
     "name": "stdout",
     "output_type": "stream",
     "text": [
      "\n",
      "\u001b[1;3mAge - Возраст\u001b[0m\n",
      "\n",
      "\u001b[4mОписание данных:\u001b[0m\n",
      "count   10,000.00\n",
      "mean        38.92\n",
      "std         10.49\n",
      "min         18.00\n",
      "25%         32.00\n",
      "50%         37.00\n",
      "75%         44.00\n",
      "max         92.00\n",
      "Name: Age, dtype: float64\n",
      "\u001b[4mКоличество записей:\u001b[0m 10000 из 10000\n",
      "\u001b[4m\n",
      "Тип:\n",
      "\u001b[0m <class 'numpy.int64'>\n",
      "\u001b[4m\n",
      "Гистограмма значений:\u001b[0m\n"
     ]
    },
    {
     "data": {
      "image/png": "[encoded data removed]",
      "text/plain": [
       "<Figure size 1152x360 with 1 Axes>"
      ]
     },
     "metadata": {
      "needs_background": "light"
     },
     "output_type": "display_data"
    },
    {
     "name": "stdout",
     "output_type": "stream",
     "text": [
      "\n",
      "\u001b[1;3mTenure - Сколько лет человек является клиентом банка\u001b[0m\n",
      "\n",
      "\u001b[4mОписание данных:\u001b[0m\n",
      "count   9,091.00\n",
      "mean        5.00\n",
      "std         2.89\n",
      "min         0.00\n",
      "25%         2.00\n",
      "50%         5.00\n",
      "75%         7.00\n",
      "max        10.00\n",
      "Name: Tenure, dtype: float64\n",
      "\u001b[4mКоличество записей:\u001b[0m 9091 из 10000\n",
      "\u001b[4mПропущено:\u001b[0m 909\n",
      "\n",
      "\u001b[4m\n",
      "Тип:\n",
      "\u001b[0m <class 'numpy.float64'>\n",
      "\u001b[4m\n",
      "Гистограмма значений:\u001b[0m\n"
     ]
    },
    {
     "data": {
      "image/png": "[encoded data removed]",
      "text/plain": [
       "<Figure size 1152x360 with 1 Axes>"
      ]
     },
     "metadata": {
      "needs_background": "light"
     },
     "output_type": "display_data"
    },
    {
     "name": "stdout",
     "output_type": "stream",
     "text": [
      "\n",
      "\u001b[1;3mBalance - Баланс на счёте\u001b[0m\n",
      "\n",
      "\u001b[4mОписание данных:\u001b[0m\n",
      "count    10,000.00\n",
      "mean     76,485.89\n",
      "std      62,397.41\n",
      "min           0.00\n",
      "25%           0.00\n",
      "50%      97,198.54\n",
      "75%     127,644.24\n",
      "max     250,898.09\n",
      "Name: Balance, dtype: float64\n",
      "\u001b[4mКоличество записей:\u001b[0m 10000 из 10000\n",
      "\u001b[4m\n",
      "Тип:\n",
      "\u001b[0m <class 'numpy.float64'>\n",
      "\u001b[4m\n",
      "Гистограмма значений:\u001b[0m\n"
     ]
    },
    {
     "data": {
      "image/png": "[encoded data removed]",
      "text/plain": [
       "<Figure size 1152x360 with 1 Axes>"
      ]
     },
     "metadata": {
      "needs_background": "light"
     },
     "output_type": "display_data"
    },
    {
     "name": "stdout",
     "output_type": "stream",
     "text": [
      "\n",
      "\u001b[1;3mNumOfProducts - Количество продуктов банка, используемых клиентом\u001b[0m\n",
      "\n",
      "\u001b[4mОписание данных:\u001b[0m\n",
      "count   10,000.00\n",
      "mean         1.53\n",
      "std          0.58\n",
      "min          1.00\n",
      "25%          1.00\n",
      "50%          1.00\n",
      "75%          2.00\n",
      "max          4.00\n",
      "Name: NumOfProducts, dtype: float64\n",
      "\u001b[4mКоличество записей:\u001b[0m 10000 из 10000\n",
      "\u001b[4m\n",
      "Тип:\n",
      "\u001b[0m <class 'numpy.int64'>\n",
      "\u001b[4m\n",
      "Гистограмма значений:\u001b[0m\n"
     ]
    },
    {
     "data": {
      "image/png": "[encoded data removed]",
      "text/plain": [
       "<Figure size 1152x360 with 1 Axes>"
      ]
     },
     "metadata": {
      "needs_background": "light"
     },
     "output_type": "display_data"
    },
    {
     "name": "stdout",
     "output_type": "stream",
     "text": [
      "\n",
      "\u001b[1;3mHasCrCard - Наличие кредитной карты\u001b[0m\n",
      "\n",
      "\u001b[4mОписание данных:\u001b[0m\n",
      "count   10,000.00\n",
      "mean         0.71\n",
      "std          0.46\n",
      "min          0.00\n",
      "25%          0.00\n",
      "50%          1.00\n",
      "75%          1.00\n",
      "max          1.00\n",
      "Name: HasCrCard, dtype: float64\n",
      "\u001b[4mКоличество записей:\u001b[0m 10000 из 10000\n",
      "\u001b[4m\n",
      "Тип:\n",
      "\u001b[0m <class 'numpy.int64'>\n",
      "\u001b[4m\n",
      "Гистограмма значений:\u001b[0m\n"
     ]
    },
    {
     "data": {
      "image/png": "[encoded data removed]",
      "text/plain": [
       "<Figure size 1152x360 with 1 Axes>"
      ]
     },
     "metadata": {
      "needs_background": "light"
     },
     "output_type": "display_data"
    },
    {
     "name": "stdout",
     "output_type": "stream",
     "text": [
      "\n",
      "\u001b[1;3mIsActiveMember - Активность клиента\u001b[0m\n",
      "\n",
      "\u001b[4mОписание данных:\u001b[0m\n",
      "count   10,000.00\n",
      "mean         0.52\n",
      "std          0.50\n",
      "min          0.00\n",
      "25%          0.00\n",
      "50%          1.00\n",
      "75%          1.00\n",
      "max          1.00\n",
      "Name: IsActiveMember, dtype: float64\n",
      "\u001b[4mКоличество записей:\u001b[0m 10000 из 10000\n",
      "\u001b[4m\n",
      "Тип:\n",
      "\u001b[0m <class 'numpy.int64'>\n",
      "\u001b[4m\n",
      "Гистограмма значений:\u001b[0m\n"
     ]
    },
    {
     "data": {
      "image/png": "[encoded data removed]",
      "text/plain": [
       "<Figure size 1152x360 with 1 Axes>"
      ]
     },
     "metadata": {
      "needs_background": "light"
     },
     "output_type": "display_data"
    },
    {
     "name": "stdout",
     "output_type": "stream",
     "text": [
      "\n",
      "\u001b[1;3mEstimatedSalary - Предполагаемая зарплата\u001b[0m\n",
      "\n",
      "\u001b[4mОписание данных:\u001b[0m\n",
      "count    10,000.00\n",
      "mean    100,090.24\n",
      "std      57,510.49\n",
      "min          11.58\n",
      "25%      51,002.11\n",
      "50%     100,193.91\n",
      "75%     149,388.25\n",
      "max     199,992.48\n",
      "Name: EstimatedSalary, dtype: float64\n",
      "\u001b[4mКоличество записей:\u001b[0m 10000 из 10000\n",
      "\u001b[4m\n",
      "Тип:\n",
      "\u001b[0m <class 'numpy.float64'>\n",
      "\u001b[4m\n",
      "Гистограмма значений:\u001b[0m\n"
     ]
    },
    {
     "data": {
      "image/png": "[encoded data removed]",
      "text/plain": [
       "<Figure size 1152x360 with 1 Axes>"
      ]
     },
     "metadata": {
      "needs_background": "light"
     },
     "output_type": "display_data"
    },
    {
     "name": "stdout",
     "output_type": "stream",
     "text": [
      "\n",
      "\u001b[1;3mExited - Факт ухода клиента\u001b[0m\n",
      "\n",
      "\u001b[4mОписание данных:\u001b[0m\n",
      "count   10,000.00\n",
      "mean         0.20\n",
      "std          0.40\n",
      "min          0.00\n",
      "25%          0.00\n",
      "50%          0.00\n",
      "75%          0.00\n",
      "max          1.00\n",
      "Name: Exited, dtype: float64\n",
      "\u001b[4mКоличество записей:\u001b[0m 10000 из 10000\n",
      "\u001b[4m\n",
      "Тип:\n",
      "\u001b[0m <class 'numpy.int64'>\n",
      "\u001b[4m\n",
      "Гистограмма значений:\u001b[0m\n"
     ]
    },
    {
     "data": {
      "image/png": "[encoded data removed]",
      "text/plain": [
       "<Figure size 1152x360 with 1 Axes>"
      ]
     },
     "metadata": {
      "needs_background": "light"
     },
     "output_type": "display_data"
    },
    {
     "name": "stdout",
     "output_type": "stream",
     "text": [
      "\n"
     ]
    }
   ],
   "source": [
    "df_reaper(data, data_name, data_fields)"
   ]
  },
  {
   "cell_type": "markdown",
   "metadata": {},
   "source": [
    "### Подготовка признаков"
   ]
  },
  {
   "cell_type": "markdown",
   "metadata": {},
   "source": [
    "#### Удаление данных с пропусками"
   ]
  },
  {
   "cell_type": "markdown",
   "metadata": {},
   "source": [
    "В  909 записях отсутствуют данные в столбце Tenure. Это составляет приблизительно 9% всех данных.\n",
    "Восстановить эти данные по остальным данным  не получится. \n",
    "Данные в датасете распределены равномерно, без выбросов, поэтому эти 9% не повлияют на распределение данных ."
   ]
  },
  {
   "cell_type": "markdown",
   "metadata": {},
   "source": [
    "В столбце Tenure у части записей отсутствуют данные.\n",
    "Рассмотрим эти записи:"
   ]
  },
  {
   "cell_type": "code",
   "execution_count": 12,
   "metadata": {},
   "outputs": [
    {
     "data": {
      "text/html": [
       "<div>\n",
       "<style scoped>\n",
       "    .dataframe tbody tr th:only-of-type {\n",
       "        vertical-align: middle;\n",
       "    }\n",
       "\n",
       "    .dataframe tbody tr th {\n",
       "        vertical-align: top;\n",
       "    }\n",
       "\n",
       "    .dataframe thead th {\n",
       "        text-align: right;\n",
       "    }\n",
       "</style>\n",
       "<table border=\"1\" class=\"dataframe\">\n",
       "  <thead>\n",
       "    <tr style=\"text-align: right;\">\n",
       "      <th></th>\n",
       "      <th>RowNumber</th>\n",
       "      <th>CustomerId</th>\n",
       "      <th>Surname</th>\n",
       "      <th>CreditScore</th>\n",
       "      <th>Geography</th>\n",
       "      <th>Gender</th>\n",
       "      <th>Age</th>\n",
       "      <th>Tenure</th>\n",
       "      <th>Balance</th>\n",
       "      <th>NumOfProducts</th>\n",
       "      <th>HasCrCard</th>\n",
       "      <th>IsActiveMember</th>\n",
       "      <th>EstimatedSalary</th>\n",
       "      <th>Exited</th>\n",
       "    </tr>\n",
       "  </thead>\n",
       "  <tbody>\n",
       "    <tr>\n",
       "      <th>30</th>\n",
       "      <td>31</td>\n",
       "      <td>15589475</td>\n",
       "      <td>Azikiwe</td>\n",
       "      <td>591</td>\n",
       "      <td>Spain</td>\n",
       "      <td>Female</td>\n",
       "      <td>39</td>\n",
       "      <td>NaN</td>\n",
       "      <td>0.00</td>\n",
       "      <td>3</td>\n",
       "      <td>1</td>\n",
       "      <td>0</td>\n",
       "      <td>140,469.38</td>\n",
       "      <td>1</td>\n",
       "    </tr>\n",
       "    <tr>\n",
       "      <th>48</th>\n",
       "      <td>49</td>\n",
       "      <td>15766205</td>\n",
       "      <td>Yin</td>\n",
       "      <td>550</td>\n",
       "      <td>Germany</td>\n",
       "      <td>Male</td>\n",
       "      <td>38</td>\n",
       "      <td>NaN</td>\n",
       "      <td>103,391.38</td>\n",
       "      <td>1</td>\n",
       "      <td>0</td>\n",
       "      <td>1</td>\n",
       "      <td>90,878.13</td>\n",
       "      <td>0</td>\n",
       "    </tr>\n",
       "    <tr>\n",
       "      <th>51</th>\n",
       "      <td>52</td>\n",
       "      <td>15768193</td>\n",
       "      <td>Trevisani</td>\n",
       "      <td>585</td>\n",
       "      <td>Germany</td>\n",
       "      <td>Male</td>\n",
       "      <td>36</td>\n",
       "      <td>NaN</td>\n",
       "      <td>146,050.97</td>\n",
       "      <td>2</td>\n",
       "      <td>0</td>\n",
       "      <td>0</td>\n",
       "      <td>86,424.57</td>\n",
       "      <td>0</td>\n",
       "    </tr>\n",
       "    <tr>\n",
       "      <th>53</th>\n",
       "      <td>54</td>\n",
       "      <td>15702298</td>\n",
       "      <td>Parkhill</td>\n",
       "      <td>655</td>\n",
       "      <td>Germany</td>\n",
       "      <td>Male</td>\n",
       "      <td>41</td>\n",
       "      <td>NaN</td>\n",
       "      <td>125,561.97</td>\n",
       "      <td>1</td>\n",
       "      <td>0</td>\n",
       "      <td>0</td>\n",
       "      <td>164,040.94</td>\n",
       "      <td>1</td>\n",
       "    </tr>\n",
       "    <tr>\n",
       "      <th>60</th>\n",
       "      <td>61</td>\n",
       "      <td>15651280</td>\n",
       "      <td>Hunter</td>\n",
       "      <td>742</td>\n",
       "      <td>Germany</td>\n",
       "      <td>Male</td>\n",
       "      <td>35</td>\n",
       "      <td>NaN</td>\n",
       "      <td>136,857.00</td>\n",
       "      <td>1</td>\n",
       "      <td>0</td>\n",
       "      <td>0</td>\n",
       "      <td>84,509.57</td>\n",
       "      <td>0</td>\n",
       "    </tr>\n",
       "  </tbody>\n",
       "</table>\n",
       "</div>"
      ],
      "text/plain": [
       "    RowNumber  CustomerId    Surname  CreditScore Geography  Gender  Age  \\\n",
       "30         31    15589475    Azikiwe          591     Spain  Female   39   \n",
       "48         49    15766205        Yin          550   Germany    Male   38   \n",
       "51         52    15768193  Trevisani          585   Germany    Male   36   \n",
       "53         54    15702298   Parkhill          655   Germany    Male   41   \n",
       "60         61    15651280     Hunter          742   Germany    Male   35   \n",
       "\n",
       "    Tenure    Balance  NumOfProducts  HasCrCard  IsActiveMember  \\\n",
       "30     NaN       0.00              3          1               0   \n",
       "48     NaN 103,391.38              1          0               1   \n",
       "51     NaN 146,050.97              2          0               0   \n",
       "53     NaN 125,561.97              1          0               0   \n",
       "60     NaN 136,857.00              1          0               0   \n",
       "\n",
       "    EstimatedSalary  Exited  \n",
       "30       140,469.38       1  \n",
       "48        90,878.13       0  \n",
       "51        86,424.57       0  \n",
       "53       164,040.94       1  \n",
       "60        84,509.57       0  "
      ]
     },
     "execution_count": 12,
     "metadata": {},
     "output_type": "execute_result"
    }
   ],
   "source": [
    "no_data = data.query('Tenure.isna()')\n",
    "no_data.head()"
   ]
  },
  {
   "cell_type": "markdown",
   "metadata": {},
   "source": [
    "Доля этих данных:"
   ]
  },
  {
   "cell_type": "code",
   "execution_count": 13,
   "metadata": {},
   "outputs": [
    {
     "data": {
      "text/plain": [
       "0.0909"
      ]
     },
     "execution_count": 13,
     "metadata": {},
     "output_type": "execute_result"
    }
   ],
   "source": [
    "len(no_data)/len(data)"
   ]
  },
  {
   "cell_type": "markdown",
   "metadata": {},
   "source": [
    "Их всего 9%"
   ]
  },
  {
   "cell_type": "markdown",
   "metadata": {},
   "source": [
    "Посмотрим долю ушедших клиентов из этой подборки:"
   ]
  },
  {
   "cell_type": "code",
   "execution_count": 14,
   "metadata": {},
   "outputs": [
    {
     "data": {
      "text/plain": [
       "0.20132013201320131"
      ]
     },
     "execution_count": 14,
     "metadata": {},
     "output_type": "execute_result"
    }
   ],
   "source": [
    "no_data['Exited'].mean()"
   ]
  },
  {
   "cell_type": "markdown",
   "metadata": {},
   "source": [
    "Доля ушедших клиентов во всем датасете:"
   ]
  },
  {
   "cell_type": "code",
   "execution_count": 15,
   "metadata": {},
   "outputs": [
    {
     "data": {
      "text/plain": [
       "0.2037"
      ]
     },
     "execution_count": 15,
     "metadata": {},
     "output_type": "execute_result"
    }
   ],
   "source": [
    "data['Exited'].mean()"
   ]
  },
  {
   "cell_type": "markdown",
   "metadata": {},
   "source": [
    "То есть, целевой признак среди этих данных распределен также, как и у всего набора."
   ]
  },
  {
   "cell_type": "markdown",
   "metadata": {},
   "source": [
    "9% данных, имеющих такое же распределение целевого признака, что и у всего набора данных, не повлияют на результат моделирования, поэтому их можно удалить:"
   ]
  },
  {
   "cell_type": "code",
   "execution_count": 16,
   "metadata": {},
   "outputs": [],
   "source": [
    "data = data.dropna(subset=['Tenure'])"
   ]
  },
  {
   "cell_type": "code",
   "execution_count": 17,
   "metadata": {},
   "outputs": [],
   "source": [
    "data = data.reset_index(drop=True)"
   ]
  },
  {
   "cell_type": "code",
   "execution_count": 18,
   "metadata": {},
   "outputs": [
    {
     "data": {
      "text/plain": [
       "9091"
      ]
     },
     "execution_count": 18,
     "metadata": {},
     "output_type": "execute_result"
    }
   ],
   "source": [
    "len(data)"
   ]
  },
  {
   "cell_type": "markdown",
   "metadata": {},
   "source": [
    "#### Выделение признаков и целевого признака"
   ]
  },
  {
   "cell_type": "code",
   "execution_count": 19,
   "metadata": {},
   "outputs": [
    {
     "data": {
      "text/plain": [
       "{'RowNumber': ['Индекс строки в данных', False],\n",
       " 'CustomerId': ['Уникальный идентификатор клиента', False],\n",
       " 'Surname': ['Фамилия', False],\n",
       " 'CreditScore': ['Кредитный рейтинг', True],\n",
       " 'Geography': ['Страна проживания', True],\n",
       " 'Gender': ['Пол', True],\n",
       " 'Age': ['Возраст', True],\n",
       " 'Tenure': ['Сколько лет человек является клиентом банка', True],\n",
       " 'Balance': ['Баланс на счёте', True],\n",
       " 'NumOfProducts': ['Количество продуктов банка, используемых клиентом', True],\n",
       " 'HasCrCard': ['Наличие кредитной карты', True],\n",
       " 'IsActiveMember': ['Активность клиента', True],\n",
       " 'EstimatedSalary': ['Предполагаемая зарплата', True],\n",
       " 'Exited': ['Факт ухода клиента', True]}"
      ]
     },
     "execution_count": 19,
     "metadata": {},
     "output_type": "execute_result"
    }
   ],
   "source": [
    "data_fields"
   ]
  },
  {
   "cell_type": "markdown",
   "metadata": {},
   "source": [
    "Маловероятно, что поля:<br />\n",
    "**RowNumber** - Индекс строки в данных,<br />\n",
    "**CustomerId**- Уникальный идентификатор клиента,<br />\n",
    "**Surname** - Фамилия<br />\n",
    "влияют на решение клиента покинуть банк.<br />\n",
    "Поэтому целесообразно не включать эти поля в признаки, которые будем использовать при анализе "
   ]
  },
  {
   "cell_type": "code",
   "execution_count": 20,
   "metadata": {},
   "outputs": [],
   "source": [
    "target = data['Exited'] \n",
    "features = data.drop(['RowNumber', 'CustomerId','Surname', 'Exited'], axis=1)"
   ]
  },
  {
   "cell_type": "code",
   "execution_count": 21,
   "metadata": {},
   "outputs": [
    {
     "data": {
      "text/html": [
       "<div>\n",
       "<style scoped>\n",
       "    .dataframe tbody tr th:only-of-type {\n",
       "        vertical-align: middle;\n",
       "    }\n",
       "\n",
       "    .dataframe tbody tr th {\n",
       "        vertical-align: top;\n",
       "    }\n",
       "\n",
       "    .dataframe thead th {\n",
       "        text-align: right;\n",
       "    }\n",
       "</style>\n",
       "<table border=\"1\" class=\"dataframe\">\n",
       "  <thead>\n",
       "    <tr style=\"text-align: right;\">\n",
       "      <th></th>\n",
       "      <th>CreditScore</th>\n",
       "      <th>Geography</th>\n",
       "      <th>Gender</th>\n",
       "      <th>Age</th>\n",
       "      <th>Tenure</th>\n",
       "      <th>Balance</th>\n",
       "      <th>NumOfProducts</th>\n",
       "      <th>HasCrCard</th>\n",
       "      <th>IsActiveMember</th>\n",
       "      <th>EstimatedSalary</th>\n",
       "    </tr>\n",
       "  </thead>\n",
       "  <tbody>\n",
       "    <tr>\n",
       "      <th>0</th>\n",
       "      <td>619</td>\n",
       "      <td>France</td>\n",
       "      <td>Female</td>\n",
       "      <td>42</td>\n",
       "      <td>2.00</td>\n",
       "      <td>0.00</td>\n",
       "      <td>1</td>\n",
       "      <td>1</td>\n",
       "      <td>1</td>\n",
       "      <td>101,348.88</td>\n",
       "    </tr>\n",
       "    <tr>\n",
       "      <th>1</th>\n",
       "      <td>608</td>\n",
       "      <td>Spain</td>\n",
       "      <td>Female</td>\n",
       "      <td>41</td>\n",
       "      <td>1.00</td>\n",
       "      <td>83,807.86</td>\n",
       "      <td>1</td>\n",
       "      <td>0</td>\n",
       "      <td>1</td>\n",
       "      <td>112,542.58</td>\n",
       "    </tr>\n",
       "    <tr>\n",
       "      <th>2</th>\n",
       "      <td>502</td>\n",
       "      <td>France</td>\n",
       "      <td>Female</td>\n",
       "      <td>42</td>\n",
       "      <td>8.00</td>\n",
       "      <td>159,660.80</td>\n",
       "      <td>3</td>\n",
       "      <td>1</td>\n",
       "      <td>0</td>\n",
       "      <td>113,931.57</td>\n",
       "    </tr>\n",
       "    <tr>\n",
       "      <th>3</th>\n",
       "      <td>699</td>\n",
       "      <td>France</td>\n",
       "      <td>Female</td>\n",
       "      <td>39</td>\n",
       "      <td>1.00</td>\n",
       "      <td>0.00</td>\n",
       "      <td>2</td>\n",
       "      <td>0</td>\n",
       "      <td>0</td>\n",
       "      <td>93,826.63</td>\n",
       "    </tr>\n",
       "    <tr>\n",
       "      <th>4</th>\n",
       "      <td>850</td>\n",
       "      <td>Spain</td>\n",
       "      <td>Female</td>\n",
       "      <td>43</td>\n",
       "      <td>2.00</td>\n",
       "      <td>125,510.82</td>\n",
       "      <td>1</td>\n",
       "      <td>1</td>\n",
       "      <td>1</td>\n",
       "      <td>79,084.10</td>\n",
       "    </tr>\n",
       "    <tr>\n",
       "      <th>...</th>\n",
       "      <td>...</td>\n",
       "      <td>...</td>\n",
       "      <td>...</td>\n",
       "      <td>...</td>\n",
       "      <td>...</td>\n",
       "      <td>...</td>\n",
       "      <td>...</td>\n",
       "      <td>...</td>\n",
       "      <td>...</td>\n",
       "      <td>...</td>\n",
       "    </tr>\n",
       "    <tr>\n",
       "      <th>9086</th>\n",
       "      <td>800</td>\n",
       "      <td>France</td>\n",
       "      <td>Female</td>\n",
       "      <td>29</td>\n",
       "      <td>2.00</td>\n",
       "      <td>0.00</td>\n",
       "      <td>2</td>\n",
       "      <td>0</td>\n",
       "      <td>0</td>\n",
       "      <td>167,773.55</td>\n",
       "    </tr>\n",
       "    <tr>\n",
       "      <th>9087</th>\n",
       "      <td>771</td>\n",
       "      <td>France</td>\n",
       "      <td>Male</td>\n",
       "      <td>39</td>\n",
       "      <td>5.00</td>\n",
       "      <td>0.00</td>\n",
       "      <td>2</td>\n",
       "      <td>1</td>\n",
       "      <td>0</td>\n",
       "      <td>96,270.64</td>\n",
       "    </tr>\n",
       "    <tr>\n",
       "      <th>9088</th>\n",
       "      <td>516</td>\n",
       "      <td>France</td>\n",
       "      <td>Male</td>\n",
       "      <td>35</td>\n",
       "      <td>10.00</td>\n",
       "      <td>57,369.61</td>\n",
       "      <td>1</td>\n",
       "      <td>1</td>\n",
       "      <td>1</td>\n",
       "      <td>101,699.77</td>\n",
       "    </tr>\n",
       "    <tr>\n",
       "      <th>9089</th>\n",
       "      <td>709</td>\n",
       "      <td>France</td>\n",
       "      <td>Female</td>\n",
       "      <td>36</td>\n",
       "      <td>7.00</td>\n",
       "      <td>0.00</td>\n",
       "      <td>1</td>\n",
       "      <td>0</td>\n",
       "      <td>1</td>\n",
       "      <td>42,085.58</td>\n",
       "    </tr>\n",
       "    <tr>\n",
       "      <th>9090</th>\n",
       "      <td>772</td>\n",
       "      <td>Germany</td>\n",
       "      <td>Male</td>\n",
       "      <td>42</td>\n",
       "      <td>3.00</td>\n",
       "      <td>75,075.31</td>\n",
       "      <td>2</td>\n",
       "      <td>1</td>\n",
       "      <td>0</td>\n",
       "      <td>92,888.52</td>\n",
       "    </tr>\n",
       "  </tbody>\n",
       "</table>\n",
       "<p>9091 rows × 10 columns</p>\n",
       "</div>"
      ],
      "text/plain": [
       "      CreditScore Geography  Gender  Age  Tenure    Balance  NumOfProducts  \\\n",
       "0             619    France  Female   42    2.00       0.00              1   \n",
       "1             608     Spain  Female   41    1.00  83,807.86              1   \n",
       "2             502    France  Female   42    8.00 159,660.80              3   \n",
       "3             699    France  Female   39    1.00       0.00              2   \n",
       "4             850     Spain  Female   43    2.00 125,510.82              1   \n",
       "...           ...       ...     ...  ...     ...        ...            ...   \n",
       "9086          800    France  Female   29    2.00       0.00              2   \n",
       "9087          771    France    Male   39    5.00       0.00              2   \n",
       "9088          516    France    Male   35   10.00  57,369.61              1   \n",
       "9089          709    France  Female   36    7.00       0.00              1   \n",
       "9090          772   Germany    Male   42    3.00  75,075.31              2   \n",
       "\n",
       "      HasCrCard  IsActiveMember  EstimatedSalary  \n",
       "0             1               1       101,348.88  \n",
       "1             0               1       112,542.58  \n",
       "2             1               0       113,931.57  \n",
       "3             0               0        93,826.63  \n",
       "4             1               1        79,084.10  \n",
       "...         ...             ...              ...  \n",
       "9086          0               0       167,773.55  \n",
       "9087          1               0        96,270.64  \n",
       "9088          1               1       101,699.77  \n",
       "9089          0               1        42,085.58  \n",
       "9090          1               0        92,888.52  \n",
       "\n",
       "[9091 rows x 10 columns]"
      ]
     },
     "execution_count": 21,
     "metadata": {},
     "output_type": "execute_result"
    }
   ],
   "source": [
    "features"
   ]
  },
  {
   "cell_type": "markdown",
   "metadata": {},
   "source": [
    "#### Разбивка датасета  на тренировочную, валидационную и тестовую выборку в пропорции 60:20:20"
   ]
  },
  {
   "cell_type": "code",
   "execution_count": 22,
   "metadata": {},
   "outputs": [],
   "source": [
    "features_train, features_valid_test, target_train, target_valid_test = train_test_split(\n",
    "    features, target, test_size=0.4, random_state=12345, stratify = target)\n",
    "features_valid, features_test, target_valid, target_test = train_test_split(\n",
    "    features_valid_test, target_valid_test, test_size=0.5, random_state=12345, stratify = target_valid_test)"
   ]
  },
  {
   "cell_type": "markdown",
   "metadata": {},
   "source": [
    "Проверка:"
   ]
  },
  {
   "cell_type": "code",
   "execution_count": 23,
   "metadata": {},
   "outputs": [
    {
     "data": {
      "text/plain": [
       "0.5999340006599934"
      ]
     },
     "execution_count": 23,
     "metadata": {},
     "output_type": "execute_result"
    }
   ],
   "source": [
    "len(features_train)/len(features)"
   ]
  },
  {
   "cell_type": "code",
   "execution_count": 24,
   "metadata": {},
   "outputs": [
    {
     "data": {
      "text/plain": [
       "0.1999780002199978"
      ]
     },
     "execution_count": 24,
     "metadata": {},
     "output_type": "execute_result"
    }
   ],
   "source": [
    "len(features_valid)/len(features)"
   ]
  },
  {
   "cell_type": "code",
   "execution_count": 25,
   "metadata": {},
   "outputs": [
    {
     "data": {
      "text/plain": [
       "0.2000879991200088"
      ]
     },
     "execution_count": 25,
     "metadata": {},
     "output_type": "execute_result"
    }
   ],
   "source": [
    "len(features_test)/len(features)"
   ]
  },
  {
   "cell_type": "markdown",
   "metadata": {},
   "source": [
    "#### OHE"
   ]
  },
  {
   "cell_type": "markdown",
   "metadata": {},
   "source": [
    "Произведем прямое кодирование для столбцов: \"Пол\" и \"Страна проживания\""
   ]
  },
  {
   "cell_type": "code",
   "execution_count": 26,
   "metadata": {},
   "outputs": [],
   "source": [
    "#features = pd.get_dummies(features, columns=['Gender','Geography'], drop_first=True)"
   ]
  },
  {
   "cell_type": "markdown",
   "metadata": {},
   "source": [
    " Столбцы, для которых мы будем проводить OHE:"
   ]
  },
  {
   "cell_type": "code",
   "execution_count": 27,
   "metadata": {},
   "outputs": [],
   "source": [
    "ohe_columns=['Gender','Geography']"
   ]
  },
  {
   "cell_type": "markdown",
   "metadata": {},
   "source": [
    "Обучение OHE:"
   ]
  },
  {
   "cell_type": "code",
   "execution_count": 28,
   "metadata": {},
   "outputs": [],
   "source": [
    "encoder_ohe = OneHotEncoder(drop='first', handle_unknown='error', sparse=False)"
   ]
  },
  {
   "cell_type": "code",
   "execution_count": 29,
   "metadata": {},
   "outputs": [
    {
     "data": {
      "text/html": [
       "<style>#sk-container-id-1 {color: black;background-color: white;}#sk-container-id-1 pre{padding: 0;}#sk-container-id-1 div.sk-toggleable {background-color: white;}#sk-container-id-1 label.sk-toggleable__label {cursor: pointer;display: block;width: 100%;margin-bottom: 0;padding: 0.3em;box-sizing: border-box;text-align: center;}#sk-container-id-1 label.sk-toggleable__label-arrow:before {content: \"▸\";float: left;margin-right: 0.25em;color: #696969;}#sk-container-id-1 label.sk-toggleable__label-arrow:hover:before {color: black;}#sk-container-id-1 div.sk-estimator:hover label.sk-toggleable__label-arrow:before {color: black;}#sk-container-id-1 div.sk-toggleable__content {max-height: 0;max-width: 0;overflow: hidden;text-align: left;background-color: #f0f8ff;}#sk-container-id-1 div.sk-toggleable__content pre {margin: 0.2em;color: black;border-radius: 0.25em;background-color: #f0f8ff;}#sk-container-id-1 input.sk-toggleable__control:checked~div.sk-toggleable__content {max-height: 200px;max-width: 100%;overflow: auto;}#sk-container-id-1 input.sk-toggleable__control:checked~label.sk-toggleable__label-arrow:before {content: \"▾\";}#sk-container-id-1 div.sk-estimator input.sk-toggleable__control:checked~label.sk-toggleable__label {background-color: #d4ebff;}#sk-container-id-1 div.sk-label input.sk-toggleable__control:checked~label.sk-toggleable__label {background-color: #d4ebff;}#sk-container-id-1 input.sk-hidden--visually {border: 0;clip: rect(1px 1px 1px 1px);clip: rect(1px, 1px, 1px, 1px);height: 1px;margin: -1px;overflow: hidden;padding: 0;position: absolute;width: 1px;}#sk-container-id-1 div.sk-estimator {font-family: monospace;background-color: #f0f8ff;border: 1px dotted black;border-radius: 0.25em;box-sizing: border-box;margin-bottom: 0.5em;}#sk-container-id-1 div.sk-estimator:hover {background-color: #d4ebff;}#sk-container-id-1 div.sk-parallel-item::after {content: \"\";width: 100%;border-bottom: 1px solid gray;flex-grow: 1;}#sk-container-id-1 div.sk-label:hover label.sk-toggleable__label {background-color: #d4ebff;}#sk-container-id-1 div.sk-serial::before {content: \"\";position: absolute;border-left: 1px solid gray;box-sizing: border-box;top: 0;bottom: 0;left: 50%;z-index: 0;}#sk-container-id-1 div.sk-serial {display: flex;flex-direction: column;align-items: center;background-color: white;padding-right: 0.2em;padding-left: 0.2em;position: relative;}#sk-container-id-1 div.sk-item {position: relative;z-index: 1;}#sk-container-id-1 div.sk-parallel {display: flex;align-items: stretch;justify-content: center;background-color: white;position: relative;}#sk-container-id-1 div.sk-item::before, #sk-container-id-1 div.sk-parallel-item::before {content: \"\";position: absolute;border-left: 1px solid gray;box-sizing: border-box;top: 0;bottom: 0;left: 50%;z-index: -1;}#sk-container-id-1 div.sk-parallel-item {display: flex;flex-direction: column;z-index: 1;position: relative;background-color: white;}#sk-container-id-1 div.sk-parallel-item:first-child::after {align-self: flex-end;width: 50%;}#sk-container-id-1 div.sk-parallel-item:last-child::after {align-self: flex-start;width: 50%;}#sk-container-id-1 div.sk-parallel-item:only-child::after {width: 0;}#sk-container-id-1 div.sk-dashed-wrapped {border: 1px dashed gray;margin: 0 0.4em 0.5em 0.4em;box-sizing: border-box;padding-bottom: 0.4em;background-color: white;}#sk-container-id-1 div.sk-label label {font-family: monospace;font-weight: bold;display: inline-block;line-height: 1.2em;}#sk-container-id-1 div.sk-label-container {text-align: center;}#sk-container-id-1 div.sk-container {/* jupyter's `normalize.less` sets `[hidden] { display: none; }` but bootstrap.min.css set `[hidden] { display: none !important; }` so we also need the `!important` here to be able to override the default hidden behavior on the sphinx rendered scikit-learn.org. See: https://github.com/scikit-learn/scikit-learn/issues/21755 */display: inline-block !important;position: relative;}#sk-container-id-1 div.sk-text-repr-fallback {display: none;}</style><div id=\"sk-container-id-1\" class=\"sk-top-container\"><div class=\"sk-text-repr-fallback\"><pre>OneHotEncoder(drop=&#x27;first&#x27;, sparse=False, sparse_output=False)</pre><b>In a Jupyter environment, please rerun this cell to show the HTML representation or trust the notebook. <br />On GitHub, the HTML representation is unable to render, please try loading this page with nbviewer.org.</b></div><div class=\"sk-container\" hidden><div class=\"sk-item\"><div class=\"sk-estimator sk-toggleable\"><input class=\"sk-toggleable__control sk-hidden--visually\" id=\"sk-estimator-id-1\" type=\"checkbox\" checked><label for=\"sk-estimator-id-1\" class=\"sk-toggleable__label sk-toggleable__label-arrow\">OneHotEncoder</label><div class=\"sk-toggleable__content\"><pre>OneHotEncoder(drop=&#x27;first&#x27;, sparse=False, sparse_output=False)</pre></div></div></div></div></div>"
      ],
      "text/plain": [
       "OneHotEncoder(drop='first', sparse=False, sparse_output=False)"
      ]
     },
     "execution_count": 29,
     "metadata": {},
     "output_type": "execute_result"
    }
   ],
   "source": [
    "encoder_ohe.fit(features_train[ohe_columns])"
   ]
  },
  {
   "cell_type": "code",
   "execution_count": 30,
   "metadata": {
    "scrolled": true
   },
   "outputs": [
    {
     "data": {
      "text/plain": [
       "array(['Gender_Male', 'Geography_Germany', 'Geography_Spain'],\n",
       "      dtype=object)"
      ]
     },
     "execution_count": 30,
     "metadata": {},
     "output_type": "execute_result"
    }
   ],
   "source": [
    "new_columns = encoder_ohe.get_feature_names_out()\n",
    "new_columns"
   ]
  },
  {
   "cell_type": "markdown",
   "metadata": {},
   "source": [
    "Кодировка обучающей выборки:"
   ]
  },
  {
   "cell_type": "code",
   "execution_count": 31,
   "metadata": {},
   "outputs": [],
   "source": [
    "features_train[new_columns] = encoder_ohe.transform(features_train[ohe_columns])\n",
    "features_train = features_train.drop(ohe_columns, axis=1)"
   ]
  },
  {
   "cell_type": "code",
   "execution_count": 32,
   "metadata": {},
   "outputs": [
    {
     "data": {
      "text/html": [
       "<div>\n",
       "<style scoped>\n",
       "    .dataframe tbody tr th:only-of-type {\n",
       "        vertical-align: middle;\n",
       "    }\n",
       "\n",
       "    .dataframe tbody tr th {\n",
       "        vertical-align: top;\n",
       "    }\n",
       "\n",
       "    .dataframe thead th {\n",
       "        text-align: right;\n",
       "    }\n",
       "</style>\n",
       "<table border=\"1\" class=\"dataframe\">\n",
       "  <thead>\n",
       "    <tr style=\"text-align: right;\">\n",
       "      <th></th>\n",
       "      <th>CreditScore</th>\n",
       "      <th>Age</th>\n",
       "      <th>Tenure</th>\n",
       "      <th>Balance</th>\n",
       "      <th>NumOfProducts</th>\n",
       "      <th>HasCrCard</th>\n",
       "      <th>IsActiveMember</th>\n",
       "      <th>EstimatedSalary</th>\n",
       "      <th>Gender_Male</th>\n",
       "      <th>Geography_Germany</th>\n",
       "      <th>Geography_Spain</th>\n",
       "    </tr>\n",
       "  </thead>\n",
       "  <tbody>\n",
       "    <tr>\n",
       "      <th>8837</th>\n",
       "      <td>526</td>\n",
       "      <td>32</td>\n",
       "      <td>7.00</td>\n",
       "      <td>125,540.05</td>\n",
       "      <td>1</td>\n",
       "      <td>0</td>\n",
       "      <td>0</td>\n",
       "      <td>86,786.41</td>\n",
       "      <td>1.00</td>\n",
       "      <td>0.00</td>\n",
       "      <td>0.00</td>\n",
       "    </tr>\n",
       "    <tr>\n",
       "      <th>1090</th>\n",
       "      <td>500</td>\n",
       "      <td>47</td>\n",
       "      <td>8.00</td>\n",
       "      <td>128,486.11</td>\n",
       "      <td>1</td>\n",
       "      <td>1</td>\n",
       "      <td>0</td>\n",
       "      <td>179,227.12</td>\n",
       "      <td>0.00</td>\n",
       "      <td>0.00</td>\n",
       "      <td>1.00</td>\n",
       "    </tr>\n",
       "    <tr>\n",
       "      <th>7609</th>\n",
       "      <td>802</td>\n",
       "      <td>40</td>\n",
       "      <td>4.00</td>\n",
       "      <td>0.00</td>\n",
       "      <td>2</td>\n",
       "      <td>1</td>\n",
       "      <td>1</td>\n",
       "      <td>81,908.09</td>\n",
       "      <td>1.00</td>\n",
       "      <td>0.00</td>\n",
       "      <td>1.00</td>\n",
       "    </tr>\n",
       "    <tr>\n",
       "      <th>7279</th>\n",
       "      <td>731</td>\n",
       "      <td>39</td>\n",
       "      <td>2.00</td>\n",
       "      <td>126,816.18</td>\n",
       "      <td>1</td>\n",
       "      <td>1</td>\n",
       "      <td>1</td>\n",
       "      <td>74,850.93</td>\n",
       "      <td>0.00</td>\n",
       "      <td>0.00</td>\n",
       "      <td>1.00</td>\n",
       "    </tr>\n",
       "    <tr>\n",
       "      <th>2245</th>\n",
       "      <td>612</td>\n",
       "      <td>26</td>\n",
       "      <td>4.00</td>\n",
       "      <td>0.00</td>\n",
       "      <td>2</td>\n",
       "      <td>1</td>\n",
       "      <td>1</td>\n",
       "      <td>179,780.74</td>\n",
       "      <td>0.00</td>\n",
       "      <td>0.00</td>\n",
       "      <td>1.00</td>\n",
       "    </tr>\n",
       "  </tbody>\n",
       "</table>\n",
       "</div>"
      ],
      "text/plain": [
       "      CreditScore  Age  Tenure    Balance  NumOfProducts  HasCrCard  \\\n",
       "8837          526   32    7.00 125,540.05              1          0   \n",
       "1090          500   47    8.00 128,486.11              1          1   \n",
       "7609          802   40    4.00       0.00              2          1   \n",
       "7279          731   39    2.00 126,816.18              1          1   \n",
       "2245          612   26    4.00       0.00              2          1   \n",
       "\n",
       "      IsActiveMember  EstimatedSalary  Gender_Male  Geography_Germany  \\\n",
       "8837               0        86,786.41         1.00               0.00   \n",
       "1090               0       179,227.12         0.00               0.00   \n",
       "7609               1        81,908.09         1.00               0.00   \n",
       "7279               1        74,850.93         0.00               0.00   \n",
       "2245               1       179,780.74         0.00               0.00   \n",
       "\n",
       "      Geography_Spain  \n",
       "8837             0.00  \n",
       "1090             1.00  \n",
       "7609             1.00  \n",
       "7279             1.00  \n",
       "2245             1.00  "
      ]
     },
     "execution_count": 32,
     "metadata": {},
     "output_type": "execute_result"
    }
   ],
   "source": [
    "features_train.head()"
   ]
  },
  {
   "cell_type": "markdown",
   "metadata": {},
   "source": [
    "Кодировка валидационной выборки:"
   ]
  },
  {
   "cell_type": "code",
   "execution_count": 33,
   "metadata": {},
   "outputs": [],
   "source": [
    "features_valid[new_columns] = encoder_ohe.transform(features_valid[ohe_columns])\n",
    "features_valid = features_valid.drop(ohe_columns, axis=1)"
   ]
  },
  {
   "cell_type": "code",
   "execution_count": 34,
   "metadata": {},
   "outputs": [
    {
     "data": {
      "text/html": [
       "<div>\n",
       "<style scoped>\n",
       "    .dataframe tbody tr th:only-of-type {\n",
       "        vertical-align: middle;\n",
       "    }\n",
       "\n",
       "    .dataframe tbody tr th {\n",
       "        vertical-align: top;\n",
       "    }\n",
       "\n",
       "    .dataframe thead th {\n",
       "        text-align: right;\n",
       "    }\n",
       "</style>\n",
       "<table border=\"1\" class=\"dataframe\">\n",
       "  <thead>\n",
       "    <tr style=\"text-align: right;\">\n",
       "      <th></th>\n",
       "      <th>CreditScore</th>\n",
       "      <th>Age</th>\n",
       "      <th>Tenure</th>\n",
       "      <th>Balance</th>\n",
       "      <th>NumOfProducts</th>\n",
       "      <th>HasCrCard</th>\n",
       "      <th>IsActiveMember</th>\n",
       "      <th>EstimatedSalary</th>\n",
       "      <th>Gender_Male</th>\n",
       "      <th>Geography_Germany</th>\n",
       "      <th>Geography_Spain</th>\n",
       "    </tr>\n",
       "  </thead>\n",
       "  <tbody>\n",
       "    <tr>\n",
       "      <th>6800</th>\n",
       "      <td>610</td>\n",
       "      <td>37</td>\n",
       "      <td>10.00</td>\n",
       "      <td>140,363.95</td>\n",
       "      <td>2</td>\n",
       "      <td>1</td>\n",
       "      <td>1</td>\n",
       "      <td>129,563.86</td>\n",
       "      <td>0.00</td>\n",
       "      <td>0.00</td>\n",
       "      <td>1.00</td>\n",
       "    </tr>\n",
       "    <tr>\n",
       "      <th>4950</th>\n",
       "      <td>661</td>\n",
       "      <td>41</td>\n",
       "      <td>5.00</td>\n",
       "      <td>122,552.48</td>\n",
       "      <td>2</td>\n",
       "      <td>0</td>\n",
       "      <td>1</td>\n",
       "      <td>120,646.40</td>\n",
       "      <td>1.00</td>\n",
       "      <td>1.00</td>\n",
       "      <td>0.00</td>\n",
       "    </tr>\n",
       "    <tr>\n",
       "      <th>8287</th>\n",
       "      <td>753</td>\n",
       "      <td>51</td>\n",
       "      <td>4.00</td>\n",
       "      <td>79,811.72</td>\n",
       "      <td>2</td>\n",
       "      <td>0</td>\n",
       "      <td>1</td>\n",
       "      <td>68,260.27</td>\n",
       "      <td>1.00</td>\n",
       "      <td>0.00</td>\n",
       "      <td>1.00</td>\n",
       "    </tr>\n",
       "    <tr>\n",
       "      <th>8912</th>\n",
       "      <td>569</td>\n",
       "      <td>30</td>\n",
       "      <td>3.00</td>\n",
       "      <td>139,528.23</td>\n",
       "      <td>1</td>\n",
       "      <td>1</td>\n",
       "      <td>1</td>\n",
       "      <td>33,230.37</td>\n",
       "      <td>0.00</td>\n",
       "      <td>0.00</td>\n",
       "      <td>1.00</td>\n",
       "    </tr>\n",
       "    <tr>\n",
       "      <th>8265</th>\n",
       "      <td>597</td>\n",
       "      <td>38</td>\n",
       "      <td>6.00</td>\n",
       "      <td>115,702.67</td>\n",
       "      <td>2</td>\n",
       "      <td>1</td>\n",
       "      <td>1</td>\n",
       "      <td>25,059.05</td>\n",
       "      <td>1.00</td>\n",
       "      <td>0.00</td>\n",
       "      <td>1.00</td>\n",
       "    </tr>\n",
       "  </tbody>\n",
       "</table>\n",
       "</div>"
      ],
      "text/plain": [
       "      CreditScore  Age  Tenure    Balance  NumOfProducts  HasCrCard  \\\n",
       "6800          610   37   10.00 140,363.95              2          1   \n",
       "4950          661   41    5.00 122,552.48              2          0   \n",
       "8287          753   51    4.00  79,811.72              2          0   \n",
       "8912          569   30    3.00 139,528.23              1          1   \n",
       "8265          597   38    6.00 115,702.67              2          1   \n",
       "\n",
       "      IsActiveMember  EstimatedSalary  Gender_Male  Geography_Germany  \\\n",
       "6800               1       129,563.86         0.00               0.00   \n",
       "4950               1       120,646.40         1.00               1.00   \n",
       "8287               1        68,260.27         1.00               0.00   \n",
       "8912               1        33,230.37         0.00               0.00   \n",
       "8265               1        25,059.05         1.00               0.00   \n",
       "\n",
       "      Geography_Spain  \n",
       "6800             1.00  \n",
       "4950             0.00  \n",
       "8287             1.00  \n",
       "8912             1.00  \n",
       "8265             1.00  "
      ]
     },
     "execution_count": 34,
     "metadata": {},
     "output_type": "execute_result"
    }
   ],
   "source": [
    "features_valid.head()"
   ]
  },
  {
   "cell_type": "markdown",
   "metadata": {},
   "source": [
    "Кодировка тестовой выборки:"
   ]
  },
  {
   "cell_type": "code",
   "execution_count": 35,
   "metadata": {},
   "outputs": [],
   "source": [
    "features_test[new_columns] = encoder_ohe.transform(features_test[ohe_columns])\n",
    "features_test = features_test.drop(ohe_columns, axis=1)"
   ]
  },
  {
   "cell_type": "code",
   "execution_count": 36,
   "metadata": {},
   "outputs": [
    {
     "data": {
      "text/html": [
       "<div>\n",
       "<style scoped>\n",
       "    .dataframe tbody tr th:only-of-type {\n",
       "        vertical-align: middle;\n",
       "    }\n",
       "\n",
       "    .dataframe tbody tr th {\n",
       "        vertical-align: top;\n",
       "    }\n",
       "\n",
       "    .dataframe thead th {\n",
       "        text-align: right;\n",
       "    }\n",
       "</style>\n",
       "<table border=\"1\" class=\"dataframe\">\n",
       "  <thead>\n",
       "    <tr style=\"text-align: right;\">\n",
       "      <th></th>\n",
       "      <th>CreditScore</th>\n",
       "      <th>Age</th>\n",
       "      <th>Tenure</th>\n",
       "      <th>Balance</th>\n",
       "      <th>NumOfProducts</th>\n",
       "      <th>HasCrCard</th>\n",
       "      <th>IsActiveMember</th>\n",
       "      <th>EstimatedSalary</th>\n",
       "      <th>Gender_Male</th>\n",
       "      <th>Geography_Germany</th>\n",
       "      <th>Geography_Spain</th>\n",
       "    </tr>\n",
       "  </thead>\n",
       "  <tbody>\n",
       "    <tr>\n",
       "      <th>3726</th>\n",
       "      <td>675</td>\n",
       "      <td>32</td>\n",
       "      <td>10.00</td>\n",
       "      <td>0.00</td>\n",
       "      <td>2</td>\n",
       "      <td>1</td>\n",
       "      <td>0</td>\n",
       "      <td>191,545.65</td>\n",
       "      <td>1.00</td>\n",
       "      <td>0.00</td>\n",
       "      <td>1.00</td>\n",
       "    </tr>\n",
       "    <tr>\n",
       "      <th>4661</th>\n",
       "      <td>784</td>\n",
       "      <td>38</td>\n",
       "      <td>1.00</td>\n",
       "      <td>138,515.02</td>\n",
       "      <td>1</td>\n",
       "      <td>1</td>\n",
       "      <td>1</td>\n",
       "      <td>171,768.76</td>\n",
       "      <td>1.00</td>\n",
       "      <td>1.00</td>\n",
       "      <td>0.00</td>\n",
       "    </tr>\n",
       "    <tr>\n",
       "      <th>8400</th>\n",
       "      <td>644</td>\n",
       "      <td>49</td>\n",
       "      <td>10.00</td>\n",
       "      <td>0.00</td>\n",
       "      <td>2</td>\n",
       "      <td>1</td>\n",
       "      <td>1</td>\n",
       "      <td>145,089.64</td>\n",
       "      <td>1.00</td>\n",
       "      <td>0.00</td>\n",
       "      <td>1.00</td>\n",
       "    </tr>\n",
       "    <tr>\n",
       "      <th>6135</th>\n",
       "      <td>717</td>\n",
       "      <td>36</td>\n",
       "      <td>2.00</td>\n",
       "      <td>102,989.83</td>\n",
       "      <td>2</td>\n",
       "      <td>0</td>\n",
       "      <td>1</td>\n",
       "      <td>49,185.57</td>\n",
       "      <td>1.00</td>\n",
       "      <td>0.00</td>\n",
       "      <td>1.00</td>\n",
       "    </tr>\n",
       "    <tr>\n",
       "      <th>8853</th>\n",
       "      <td>677</td>\n",
       "      <td>25</td>\n",
       "      <td>3.00</td>\n",
       "      <td>0.00</td>\n",
       "      <td>2</td>\n",
       "      <td>1</td>\n",
       "      <td>0</td>\n",
       "      <td>179,608.96</td>\n",
       "      <td>0.00</td>\n",
       "      <td>0.00</td>\n",
       "      <td>0.00</td>\n",
       "    </tr>\n",
       "  </tbody>\n",
       "</table>\n",
       "</div>"
      ],
      "text/plain": [
       "      CreditScore  Age  Tenure    Balance  NumOfProducts  HasCrCard  \\\n",
       "3726          675   32   10.00       0.00              2          1   \n",
       "4661          784   38    1.00 138,515.02              1          1   \n",
       "8400          644   49   10.00       0.00              2          1   \n",
       "6135          717   36    2.00 102,989.83              2          0   \n",
       "8853          677   25    3.00       0.00              2          1   \n",
       "\n",
       "      IsActiveMember  EstimatedSalary  Gender_Male  Geography_Germany  \\\n",
       "3726               0       191,545.65         1.00               0.00   \n",
       "4661               1       171,768.76         1.00               1.00   \n",
       "8400               1       145,089.64         1.00               0.00   \n",
       "6135               1        49,185.57         1.00               0.00   \n",
       "8853               0       179,608.96         0.00               0.00   \n",
       "\n",
       "      Geography_Spain  \n",
       "3726             1.00  \n",
       "4661             0.00  \n",
       "8400             1.00  \n",
       "6135             1.00  \n",
       "8853             0.00  "
      ]
     },
     "execution_count": 36,
     "metadata": {},
     "output_type": "execute_result"
    }
   ],
   "source": [
    "features_test.head()"
   ]
  },
  {
   "cell_type": "markdown",
   "metadata": {},
   "source": [
    "#### Масштабирование числовых признаков"
   ]
  },
  {
   "cell_type": "markdown",
   "metadata": {},
   "source": [
    "Числовые признаки:"
   ]
  },
  {
   "cell_type": "code",
   "execution_count": 37,
   "metadata": {},
   "outputs": [],
   "source": [
    "numeric = ['CreditScore', 'Age', 'Tenure','Balance', 'NumOfProducts','EstimatedSalary']"
   ]
  },
  {
   "cell_type": "markdown",
   "metadata": {},
   "source": [
    "Масштабирование:"
   ]
  },
  {
   "cell_type": "code",
   "execution_count": 38,
   "metadata": {},
   "outputs": [],
   "source": [
    "scaler = StandardScaler()\n",
    "scaler.fit(features_train[numeric]) \n",
    "features_train[numeric] = scaler.transform(features_train[numeric])\n",
    "features_valid[numeric] = scaler.transform(features_valid[numeric]) \n",
    "features_test[numeric] = scaler.transform(features_test[numeric]) "
   ]
  },
  {
   "cell_type": "code",
   "execution_count": 39,
   "metadata": {},
   "outputs": [
    {
     "data": {
      "text/html": [
       "<div>\n",
       "<style scoped>\n",
       "    .dataframe tbody tr th:only-of-type {\n",
       "        vertical-align: middle;\n",
       "    }\n",
       "\n",
       "    .dataframe tbody tr th {\n",
       "        vertical-align: top;\n",
       "    }\n",
       "\n",
       "    .dataframe thead th {\n",
       "        text-align: right;\n",
       "    }\n",
       "</style>\n",
       "<table border=\"1\" class=\"dataframe\">\n",
       "  <thead>\n",
       "    <tr style=\"text-align: right;\">\n",
       "      <th></th>\n",
       "      <th>CreditScore</th>\n",
       "      <th>Age</th>\n",
       "      <th>Tenure</th>\n",
       "      <th>Balance</th>\n",
       "      <th>NumOfProducts</th>\n",
       "      <th>HasCrCard</th>\n",
       "      <th>IsActiveMember</th>\n",
       "      <th>EstimatedSalary</th>\n",
       "      <th>Gender_Male</th>\n",
       "      <th>Geography_Germany</th>\n",
       "      <th>Geography_Spain</th>\n",
       "    </tr>\n",
       "  </thead>\n",
       "  <tbody>\n",
       "    <tr>\n",
       "      <th>8837</th>\n",
       "      <td>-1.29</td>\n",
       "      <td>-0.66</td>\n",
       "      <td>0.69</td>\n",
       "      <td>0.79</td>\n",
       "      <td>-0.91</td>\n",
       "      <td>0</td>\n",
       "      <td>0</td>\n",
       "      <td>-0.22</td>\n",
       "      <td>1.00</td>\n",
       "      <td>0.00</td>\n",
       "      <td>0.00</td>\n",
       "    </tr>\n",
       "    <tr>\n",
       "      <th>1090</th>\n",
       "      <td>-1.56</td>\n",
       "      <td>0.78</td>\n",
       "      <td>1.03</td>\n",
       "      <td>0.83</td>\n",
       "      <td>-0.91</td>\n",
       "      <td>1</td>\n",
       "      <td>0</td>\n",
       "      <td>1.38</td>\n",
       "      <td>0.00</td>\n",
       "      <td>0.00</td>\n",
       "      <td>1.00</td>\n",
       "    </tr>\n",
       "    <tr>\n",
       "      <th>7609</th>\n",
       "      <td>1.58</td>\n",
       "      <td>0.11</td>\n",
       "      <td>-0.36</td>\n",
       "      <td>-1.22</td>\n",
       "      <td>0.79</td>\n",
       "      <td>1</td>\n",
       "      <td>1</td>\n",
       "      <td>-0.31</td>\n",
       "      <td>1.00</td>\n",
       "      <td>0.00</td>\n",
       "      <td>1.00</td>\n",
       "    </tr>\n",
       "    <tr>\n",
       "      <th>7279</th>\n",
       "      <td>0.84</td>\n",
       "      <td>0.01</td>\n",
       "      <td>-1.05</td>\n",
       "      <td>0.81</td>\n",
       "      <td>-0.91</td>\n",
       "      <td>1</td>\n",
       "      <td>1</td>\n",
       "      <td>-0.43</td>\n",
       "      <td>0.00</td>\n",
       "      <td>0.00</td>\n",
       "      <td>1.00</td>\n",
       "    </tr>\n",
       "    <tr>\n",
       "      <th>2245</th>\n",
       "      <td>-0.40</td>\n",
       "      <td>-1.24</td>\n",
       "      <td>-0.36</td>\n",
       "      <td>-1.22</td>\n",
       "      <td>0.79</td>\n",
       "      <td>1</td>\n",
       "      <td>1</td>\n",
       "      <td>1.39</td>\n",
       "      <td>0.00</td>\n",
       "      <td>0.00</td>\n",
       "      <td>1.00</td>\n",
       "    </tr>\n",
       "  </tbody>\n",
       "</table>\n",
       "</div>"
      ],
      "text/plain": [
       "      CreditScore   Age  Tenure  Balance  NumOfProducts  HasCrCard  \\\n",
       "8837        -1.29 -0.66    0.69     0.79          -0.91          0   \n",
       "1090        -1.56  0.78    1.03     0.83          -0.91          1   \n",
       "7609         1.58  0.11   -0.36    -1.22           0.79          1   \n",
       "7279         0.84  0.01   -1.05     0.81          -0.91          1   \n",
       "2245        -0.40 -1.24   -0.36    -1.22           0.79          1   \n",
       "\n",
       "      IsActiveMember  EstimatedSalary  Gender_Male  Geography_Germany  \\\n",
       "8837               0            -0.22         1.00               0.00   \n",
       "1090               0             1.38         0.00               0.00   \n",
       "7609               1            -0.31         1.00               0.00   \n",
       "7279               1            -0.43         0.00               0.00   \n",
       "2245               1             1.39         0.00               0.00   \n",
       "\n",
       "      Geography_Spain  \n",
       "8837             0.00  \n",
       "1090             1.00  \n",
       "7609             1.00  \n",
       "7279             1.00  \n",
       "2245             1.00  "
      ]
     },
     "execution_count": 39,
     "metadata": {},
     "output_type": "execute_result"
    }
   ],
   "source": [
    "features_train.head(5)"
   ]
  },
  {
   "cell_type": "code",
   "execution_count": 40,
   "metadata": {},
   "outputs": [
    {
     "data": {
      "text/html": [
       "<div>\n",
       "<style scoped>\n",
       "    .dataframe tbody tr th:only-of-type {\n",
       "        vertical-align: middle;\n",
       "    }\n",
       "\n",
       "    .dataframe tbody tr th {\n",
       "        vertical-align: top;\n",
       "    }\n",
       "\n",
       "    .dataframe thead th {\n",
       "        text-align: right;\n",
       "    }\n",
       "</style>\n",
       "<table border=\"1\" class=\"dataframe\">\n",
       "  <thead>\n",
       "    <tr style=\"text-align: right;\">\n",
       "      <th></th>\n",
       "      <th>CreditScore</th>\n",
       "      <th>Age</th>\n",
       "      <th>Tenure</th>\n",
       "      <th>Balance</th>\n",
       "      <th>NumOfProducts</th>\n",
       "      <th>HasCrCard</th>\n",
       "      <th>IsActiveMember</th>\n",
       "      <th>EstimatedSalary</th>\n",
       "      <th>Gender_Male</th>\n",
       "      <th>Geography_Germany</th>\n",
       "      <th>Geography_Spain</th>\n",
       "    </tr>\n",
       "  </thead>\n",
       "  <tbody>\n",
       "    <tr>\n",
       "      <th>6800</th>\n",
       "      <td>-0.42</td>\n",
       "      <td>-0.18</td>\n",
       "      <td>1.73</td>\n",
       "      <td>1.02</td>\n",
       "      <td>0.79</td>\n",
       "      <td>1</td>\n",
       "      <td>1</td>\n",
       "      <td>0.52</td>\n",
       "      <td>0.00</td>\n",
       "      <td>0.00</td>\n",
       "      <td>1.00</td>\n",
       "    </tr>\n",
       "    <tr>\n",
       "      <th>4950</th>\n",
       "      <td>0.11</td>\n",
       "      <td>0.20</td>\n",
       "      <td>-0.01</td>\n",
       "      <td>0.74</td>\n",
       "      <td>0.79</td>\n",
       "      <td>0</td>\n",
       "      <td>1</td>\n",
       "      <td>0.36</td>\n",
       "      <td>1.00</td>\n",
       "      <td>1.00</td>\n",
       "      <td>0.00</td>\n",
       "    </tr>\n",
       "    <tr>\n",
       "      <th>8287</th>\n",
       "      <td>1.07</td>\n",
       "      <td>1.16</td>\n",
       "      <td>-0.36</td>\n",
       "      <td>0.05</td>\n",
       "      <td>0.79</td>\n",
       "      <td>0</td>\n",
       "      <td>1</td>\n",
       "      <td>-0.55</td>\n",
       "      <td>1.00</td>\n",
       "      <td>0.00</td>\n",
       "      <td>1.00</td>\n",
       "    </tr>\n",
       "    <tr>\n",
       "      <th>8912</th>\n",
       "      <td>-0.85</td>\n",
       "      <td>-0.85</td>\n",
       "      <td>-0.71</td>\n",
       "      <td>1.01</td>\n",
       "      <td>-0.91</td>\n",
       "      <td>1</td>\n",
       "      <td>1</td>\n",
       "      <td>-1.15</td>\n",
       "      <td>0.00</td>\n",
       "      <td>0.00</td>\n",
       "      <td>1.00</td>\n",
       "    </tr>\n",
       "    <tr>\n",
       "      <th>8265</th>\n",
       "      <td>-0.55</td>\n",
       "      <td>-0.09</td>\n",
       "      <td>0.34</td>\n",
       "      <td>0.63</td>\n",
       "      <td>0.79</td>\n",
       "      <td>1</td>\n",
       "      <td>1</td>\n",
       "      <td>-1.30</td>\n",
       "      <td>1.00</td>\n",
       "      <td>0.00</td>\n",
       "      <td>1.00</td>\n",
       "    </tr>\n",
       "  </tbody>\n",
       "</table>\n",
       "</div>"
      ],
      "text/plain": [
       "      CreditScore   Age  Tenure  Balance  NumOfProducts  HasCrCard  \\\n",
       "6800        -0.42 -0.18    1.73     1.02           0.79          1   \n",
       "4950         0.11  0.20   -0.01     0.74           0.79          0   \n",
       "8287         1.07  1.16   -0.36     0.05           0.79          0   \n",
       "8912        -0.85 -0.85   -0.71     1.01          -0.91          1   \n",
       "8265        -0.55 -0.09    0.34     0.63           0.79          1   \n",
       "\n",
       "      IsActiveMember  EstimatedSalary  Gender_Male  Geography_Germany  \\\n",
       "6800               1             0.52         0.00               0.00   \n",
       "4950               1             0.36         1.00               1.00   \n",
       "8287               1            -0.55         1.00               0.00   \n",
       "8912               1            -1.15         0.00               0.00   \n",
       "8265               1            -1.30         1.00               0.00   \n",
       "\n",
       "      Geography_Spain  \n",
       "6800             1.00  \n",
       "4950             0.00  \n",
       "8287             1.00  \n",
       "8912             1.00  \n",
       "8265             1.00  "
      ]
     },
     "execution_count": 40,
     "metadata": {},
     "output_type": "execute_result"
    }
   ],
   "source": [
    "features_valid.head(5)"
   ]
  },
  {
   "cell_type": "code",
   "execution_count": 41,
   "metadata": {},
   "outputs": [
    {
     "data": {
      "text/html": [
       "<div>\n",
       "<style scoped>\n",
       "    .dataframe tbody tr th:only-of-type {\n",
       "        vertical-align: middle;\n",
       "    }\n",
       "\n",
       "    .dataframe tbody tr th {\n",
       "        vertical-align: top;\n",
       "    }\n",
       "\n",
       "    .dataframe thead th {\n",
       "        text-align: right;\n",
       "    }\n",
       "</style>\n",
       "<table border=\"1\" class=\"dataframe\">\n",
       "  <thead>\n",
       "    <tr style=\"text-align: right;\">\n",
       "      <th></th>\n",
       "      <th>CreditScore</th>\n",
       "      <th>Age</th>\n",
       "      <th>Tenure</th>\n",
       "      <th>Balance</th>\n",
       "      <th>NumOfProducts</th>\n",
       "      <th>HasCrCard</th>\n",
       "      <th>IsActiveMember</th>\n",
       "      <th>EstimatedSalary</th>\n",
       "      <th>Gender_Male</th>\n",
       "      <th>Geography_Germany</th>\n",
       "      <th>Geography_Spain</th>\n",
       "    </tr>\n",
       "  </thead>\n",
       "  <tbody>\n",
       "    <tr>\n",
       "      <th>3726</th>\n",
       "      <td>0.26</td>\n",
       "      <td>-0.66</td>\n",
       "      <td>1.73</td>\n",
       "      <td>-1.22</td>\n",
       "      <td>0.79</td>\n",
       "      <td>1</td>\n",
       "      <td>0</td>\n",
       "      <td>1.60</td>\n",
       "      <td>1.00</td>\n",
       "      <td>0.00</td>\n",
       "      <td>1.00</td>\n",
       "    </tr>\n",
       "    <tr>\n",
       "      <th>4661</th>\n",
       "      <td>1.39</td>\n",
       "      <td>-0.09</td>\n",
       "      <td>-1.40</td>\n",
       "      <td>0.99</td>\n",
       "      <td>-0.91</td>\n",
       "      <td>1</td>\n",
       "      <td>1</td>\n",
       "      <td>1.25</td>\n",
       "      <td>1.00</td>\n",
       "      <td>1.00</td>\n",
       "      <td>0.00</td>\n",
       "    </tr>\n",
       "    <tr>\n",
       "      <th>8400</th>\n",
       "      <td>-0.06</td>\n",
       "      <td>0.97</td>\n",
       "      <td>1.73</td>\n",
       "      <td>-1.22</td>\n",
       "      <td>0.79</td>\n",
       "      <td>1</td>\n",
       "      <td>1</td>\n",
       "      <td>0.79</td>\n",
       "      <td>1.00</td>\n",
       "      <td>0.00</td>\n",
       "      <td>1.00</td>\n",
       "    </tr>\n",
       "    <tr>\n",
       "      <th>6135</th>\n",
       "      <td>0.70</td>\n",
       "      <td>-0.28</td>\n",
       "      <td>-1.05</td>\n",
       "      <td>0.43</td>\n",
       "      <td>0.79</td>\n",
       "      <td>0</td>\n",
       "      <td>1</td>\n",
       "      <td>-0.88</td>\n",
       "      <td>1.00</td>\n",
       "      <td>0.00</td>\n",
       "      <td>1.00</td>\n",
       "    </tr>\n",
       "    <tr>\n",
       "      <th>8853</th>\n",
       "      <td>0.28</td>\n",
       "      <td>-1.33</td>\n",
       "      <td>-0.71</td>\n",
       "      <td>-1.22</td>\n",
       "      <td>0.79</td>\n",
       "      <td>1</td>\n",
       "      <td>0</td>\n",
       "      <td>1.39</td>\n",
       "      <td>0.00</td>\n",
       "      <td>0.00</td>\n",
       "      <td>0.00</td>\n",
       "    </tr>\n",
       "  </tbody>\n",
       "</table>\n",
       "</div>"
      ],
      "text/plain": [
       "      CreditScore   Age  Tenure  Balance  NumOfProducts  HasCrCard  \\\n",
       "3726         0.26 -0.66    1.73    -1.22           0.79          1   \n",
       "4661         1.39 -0.09   -1.40     0.99          -0.91          1   \n",
       "8400        -0.06  0.97    1.73    -1.22           0.79          1   \n",
       "6135         0.70 -0.28   -1.05     0.43           0.79          0   \n",
       "8853         0.28 -1.33   -0.71    -1.22           0.79          1   \n",
       "\n",
       "      IsActiveMember  EstimatedSalary  Gender_Male  Geography_Germany  \\\n",
       "3726               0             1.60         1.00               0.00   \n",
       "4661               1             1.25         1.00               1.00   \n",
       "8400               1             0.79         1.00               0.00   \n",
       "6135               1            -0.88         1.00               0.00   \n",
       "8853               0             1.39         0.00               0.00   \n",
       "\n",
       "      Geography_Spain  \n",
       "3726             1.00  \n",
       "4661             0.00  \n",
       "8400             1.00  \n",
       "6135             1.00  \n",
       "8853             0.00  "
      ]
     },
     "execution_count": 41,
     "metadata": {},
     "output_type": "execute_result"
    }
   ],
   "source": [
    "features_test.head(5)"
   ]
  },
  {
   "cell_type": "markdown",
   "metadata": {},
   "source": [
    "#### Расчёт дисбаланса"
   ]
  },
  {
   "cell_type": "code",
   "execution_count": 42,
   "metadata": {},
   "outputs": [
    {
     "data": {
      "text/plain": [
       "0   0.80\n",
       "1   0.20\n",
       "Name: Exited, dtype: float64"
      ]
     },
     "execution_count": 42,
     "metadata": {},
     "output_type": "execute_result"
    }
   ],
   "source": [
    "target_train.value_counts(normalize=True)"
   ]
  },
  {
   "cell_type": "code",
   "execution_count": 43,
   "metadata": {},
   "outputs": [
    {
     "data": {
      "image/png": "[encoded data removed]",
      "text/plain": [
       "<Figure size 432x432 with 1 Axes>"
      ]
     },
     "metadata": {},
     "output_type": "display_data"
    }
   ],
   "source": [
    "target_train.value_counts(normalize=True).plot(kind='pie', y='Exited', autopct='%1.0f%%', \n",
    "                                               figsize=(6,6), startangle=90, labeldistance=None)\n",
    "plt.title('Дисбаланс целевого признака', fontsize=16)\n",
    "plt.legend()\n",
    "plt.show()"
   ]
  },
  {
   "cell_type": "markdown",
   "metadata": {},
   "source": [
    "### Выводы"
   ]
  },
  {
   "cell_type": "markdown",
   "metadata": {},
   "source": [
    "**I Анализ датасета:<br/>**\n",
    "1. Датасет содержит 10000 записей. Данные не содержат выбросов, 9% записей содержат пропуски данных.<br/><br/>\n",
    "2. Присутствует слабая корелляция (0.29) между возрастом клиентов и фактом ухода <br/>\n",
    "Присутствует незначительная обратная корелляция (-0.16) между активностью клиента и фактом ухода.<br/><br/>\n",
    "3.Характеристика клиентов:\n",
    "- Пол: мужчины - 5457, женщины - 4543;<br/>\n",
    "- Возраст: от 18 до 92 лет (медиана - 37 лет);<br/>\n",
    "- Страны проживания: Франция(5014), Германия(2509), Испания(2477);<br/>\n",
    "- Предполагаемая зарплата: от 0 до 200 000 (медиана - 100 000);<br/>\n",
    "- Являются клиентами банка от 0 до 10 лет (медиана - 5 лет);<br/>\n",
    "- Кредитный рейтинг: от 350 до 850;<br/>\n",
    "- Не имеют вкладов в банке больше 35%, остальные имеют вклады до 250 000 (медиана - около 100 000);<br/>\n",
    "- 50% клиентов пользуются одним банковским продуктом, 45 - двумя, остальные 3 и 4;<br/>\n",
    "- Кредитная карта есть у 75% клиентов;<br/>\n",
    "- Активных клиентов - 52%<br/>\n",
    "4. Из банка ушло 20% клиентов. \"Немного, но заметно\"(с)<br/>\n",
    "\n",
    "**II Подготовка признаков:<br/>**\n",
    "1. Удалено 909 записей (около 9%), содержащих неполные данные.\n",
    "2. Выделены признаки и целевой признак\n",
    "3. Произведено прямое кодирование признаков \"Пол\" и \"Страна проживания\"\n",
    "4. Датасет разбит на обучающую, валидационную и тестовую выборку\n",
    "5. Произведено масштабирование числовых признаков в каждой из выборок\n",
    "6. В целевом признаке присутствует дисбаланс (1:4)"
   ]
  },
  {
   "cell_type": "markdown",
   "metadata": {},
   "source": [
    "## **Исследование задачи**"
   ]
  },
  {
   "cell_type": "markdown",
   "metadata": {},
   "source": [
    "**Проверка влияния дисбаланса на результат**"
   ]
  },
  {
   "cell_type": "markdown",
   "metadata": {},
   "source": [
    "Целевой признак не сбалансирован. Но влияет ли это на результат? <br />\n",
    "Для начала  используем фальшивую модель DummyClassifier для получения статистического результата.<br /> \n",
    "После чего посмотрим модели  \"Решающее дерево\", \"Случайный лес\" и \"Логистическая регрессия\" на валидационной выборке и оценим их метрикой F1.<br /> \n",
    "Для проверки адекватности модели, применим метрику accuracy."
   ]
  },
  {
   "cell_type": "markdown",
   "metadata": {},
   "source": [
    "### Модель **DummyClassifier**"
   ]
  },
  {
   "cell_type": "markdown",
   "metadata": {},
   "source": [
    "Поскольку результат бинарен, достаточно использовать стратегии 'most_frequent', 'stratified','uniform' и 'constant' при constant=1 (стратегия 'prior' при наиболее распространенном 0 будет выдавать тот же результат, что и  'most_frequent')"
   ]
  },
  {
   "cell_type": "code",
   "execution_count": 44,
   "metadata": {},
   "outputs": [
    {
     "name": "stdout",
     "output_type": "stream",
     "text": [
      "Стратегия \t F1 \t AUC-ROC\n",
      "most_frequent \t 0.0 \t 0.5\n",
      "stratified \t 0.20772303595206393 \t 0.5007674582787698\n",
      "uniform \t 0.2560124127230411 \t 0.5\n",
      "constant \t 0.33896756509821835 \t 0.5\n",
      "prior \t 0.0 \t 0.5\n"
     ]
    }
   ],
   "source": [
    "strategies = ['most_frequent','stratified', 'uniform','constant', 'prior']  \n",
    "print('Стратегия \\t F1 \\t AUC-ROC')  \n",
    "for s in strategies:\n",
    "    dclf = DummyClassifier(strategy = s, random_state = 12345,constant=1)\n",
    "    dclf.fit(features_train, target_train)\n",
    "    predictions_dummy = dclf.predict(features_valid)\n",
    "    probabilities_valid = dclf.predict_proba(features_valid)\n",
    "    probabilities_one_valid = probabilities_valid[:, 1]\n",
    "    print(s,'\\t', f1_score(target_valid,predictions_dummy), '\\t', roc_auc_score(target_valid, probabilities_one_valid))    \n",
    "    "
   ]
  },
  {
   "cell_type": "markdown",
   "metadata": {},
   "source": [
    "Лучший результат (0.339) даёт модель 'constant' при constant=1. Значение метрики F1 для нее мы и будем использовать, как критерий адекватности."
   ]
  },
  {
   "cell_type": "markdown",
   "metadata": {},
   "source": [
    "### Модель **\"Решающее дерево\"**"
   ]
  },
  {
   "cell_type": "markdown",
   "metadata": {},
   "source": [
    "#### Поиск оптимальных гиперпараметров:"
   ]
  },
  {
   "cell_type": "code",
   "execution_count": 45,
   "metadata": {},
   "outputs": [
    {
     "name": "stdout",
     "output_type": "stream",
     "text": [
      "CPU times: user 3.4 s, sys: 672 µs, total: 3.4 s\n",
      "Wall time: 3.41 s\n"
     ]
    },
    {
     "data": {
      "text/html": [
       "<style>#sk-container-id-2 {color: black;background-color: white;}#sk-container-id-2 pre{padding: 0;}#sk-container-id-2 div.sk-toggleable {background-color: white;}#sk-container-id-2 label.sk-toggleable__label {cursor: pointer;display: block;width: 100%;margin-bottom: 0;padding: 0.3em;box-sizing: border-box;text-align: center;}#sk-container-id-2 label.sk-toggleable__label-arrow:before {content: \"▸\";float: left;margin-right: 0.25em;color: #696969;}#sk-container-id-2 label.sk-toggleable__label-arrow:hover:before {color: black;}#sk-container-id-2 div.sk-estimator:hover label.sk-toggleable__label-arrow:before {color: black;}#sk-container-id-2 div.sk-toggleable__content {max-height: 0;max-width: 0;overflow: hidden;text-align: left;background-color: #f0f8ff;}#sk-container-id-2 div.sk-toggleable__content pre {margin: 0.2em;color: black;border-radius: 0.25em;background-color: #f0f8ff;}#sk-container-id-2 input.sk-toggleable__control:checked~div.sk-toggleable__content {max-height: 200px;max-width: 100%;overflow: auto;}#sk-container-id-2 input.sk-toggleable__control:checked~label.sk-toggleable__label-arrow:before {content: \"▾\";}#sk-container-id-2 div.sk-estimator input.sk-toggleable__control:checked~label.sk-toggleable__label {background-color: #d4ebff;}#sk-container-id-2 div.sk-label input.sk-toggleable__control:checked~label.sk-toggleable__label {background-color: #d4ebff;}#sk-container-id-2 input.sk-hidden--visually {border: 0;clip: rect(1px 1px 1px 1px);clip: rect(1px, 1px, 1px, 1px);height: 1px;margin: -1px;overflow: hidden;padding: 0;position: absolute;width: 1px;}#sk-container-id-2 div.sk-estimator {font-family: monospace;background-color: #f0f8ff;border: 1px dotted black;border-radius: 0.25em;box-sizing: border-box;margin-bottom: 0.5em;}#sk-container-id-2 div.sk-estimator:hover {background-color: #d4ebff;}#sk-container-id-2 div.sk-parallel-item::after {content: \"\";width: 100%;border-bottom: 1px solid gray;flex-grow: 1;}#sk-container-id-2 div.sk-label:hover label.sk-toggleable__label {background-color: #d4ebff;}#sk-container-id-2 div.sk-serial::before {content: \"\";position: absolute;border-left: 1px solid gray;box-sizing: border-box;top: 0;bottom: 0;left: 50%;z-index: 0;}#sk-container-id-2 div.sk-serial {display: flex;flex-direction: column;align-items: center;background-color: white;padding-right: 0.2em;padding-left: 0.2em;position: relative;}#sk-container-id-2 div.sk-item {position: relative;z-index: 1;}#sk-container-id-2 div.sk-parallel {display: flex;align-items: stretch;justify-content: center;background-color: white;position: relative;}#sk-container-id-2 div.sk-item::before, #sk-container-id-2 div.sk-parallel-item::before {content: \"\";position: absolute;border-left: 1px solid gray;box-sizing: border-box;top: 0;bottom: 0;left: 50%;z-index: -1;}#sk-container-id-2 div.sk-parallel-item {display: flex;flex-direction: column;z-index: 1;position: relative;background-color: white;}#sk-container-id-2 div.sk-parallel-item:first-child::after {align-self: flex-end;width: 50%;}#sk-container-id-2 div.sk-parallel-item:last-child::after {align-self: flex-start;width: 50%;}#sk-container-id-2 div.sk-parallel-item:only-child::after {width: 0;}#sk-container-id-2 div.sk-dashed-wrapped {border: 1px dashed gray;margin: 0 0.4em 0.5em 0.4em;box-sizing: border-box;padding-bottom: 0.4em;background-color: white;}#sk-container-id-2 div.sk-label label {font-family: monospace;font-weight: bold;display: inline-block;line-height: 1.2em;}#sk-container-id-2 div.sk-label-container {text-align: center;}#sk-container-id-2 div.sk-container {/* jupyter's `normalize.less` sets `[hidden] { display: none; }` but bootstrap.min.css set `[hidden] { display: none !important; }` so we also need the `!important` here to be able to override the default hidden behavior on the sphinx rendered scikit-learn.org. See: https://github.com/scikit-learn/scikit-learn/issues/21755 */display: inline-block !important;position: relative;}#sk-container-id-2 div.sk-text-repr-fallback {display: none;}</style><div id=\"sk-container-id-2\" class=\"sk-top-container\"><div class=\"sk-text-repr-fallback\"><pre>DecisionTreeClassifier(max_depth=7, random_state=12345)</pre><b>In a Jupyter environment, please rerun this cell to show the HTML representation or trust the notebook. <br />On GitHub, the HTML representation is unable to render, please try loading this page with nbviewer.org.</b></div><div class=\"sk-container\" hidden><div class=\"sk-item\"><div class=\"sk-estimator sk-toggleable\"><input class=\"sk-toggleable__control sk-hidden--visually\" id=\"sk-estimator-id-2\" type=\"checkbox\" checked><label for=\"sk-estimator-id-2\" class=\"sk-toggleable__label sk-toggleable__label-arrow\">DecisionTreeClassifier</label><div class=\"sk-toggleable__content\"><pre>DecisionTreeClassifier(max_depth=7, random_state=12345)</pre></div></div></div></div></div>"
      ],
      "text/plain": [
       "DecisionTreeClassifier(max_depth=7, random_state=12345)"
      ]
     },
     "execution_count": 45,
     "metadata": {},
     "output_type": "execute_result"
    }
   ],
   "source": [
    "%%time\n",
    "best_model = None\n",
    "best_result = 0\n",
    "for depth in range(1, 101):\n",
    "    model = DecisionTreeClassifier(random_state=12345, max_depth=depth)\n",
    "    model.fit(features_train, target_train)\n",
    "    predictions_valid = model.predict(features_valid)\n",
    "    result = f1_score(target_valid,predictions_valid)\n",
    "    if result > best_result:\n",
    "        best_model = model\n",
    "        best_result = result\n",
    "        best_depth = depth\n",
    "model_tree = best_model\n",
    "model_tree  "
   ]
  },
  {
   "cell_type": "markdown",
   "metadata": {},
   "source": [
    "#### F1 наилучшей модели на валидационной выборке:"
   ]
  },
  {
   "cell_type": "code",
   "execution_count": 46,
   "metadata": {},
   "outputs": [
    {
     "data": {
      "text/plain": [
       "0.587248322147651"
      ]
     },
     "execution_count": 46,
     "metadata": {},
     "output_type": "execute_result"
    }
   ],
   "source": [
    " best_result "
   ]
  },
  {
   "cell_type": "markdown",
   "metadata": {},
   "source": [
    "Модель адекватна, но значение F1 меньше минимально приемлемого (0.59)."
   ]
  },
  {
   "cell_type": "markdown",
   "metadata": {},
   "source": [
    "#### Метрика AUC-ROC для данной модели:"
   ]
  },
  {
   "cell_type": "code",
   "execution_count": 47,
   "metadata": {},
   "outputs": [
    {
     "data": {
      "text/plain": [
       "0.8280315999083522"
      ]
     },
     "execution_count": 47,
     "metadata": {},
     "output_type": "execute_result"
    }
   ],
   "source": [
    "probabilities_valid = model_tree.predict_proba(features_valid)\n",
    "probabilities_one_valid = probabilities_valid[:, 1]\n",
    "roc_auc_score(target_valid, probabilities_one_valid)"
   ]
  },
  {
   "cell_type": "markdown",
   "metadata": {},
   "source": [
    "### Модель **\"Случайный лес\"**"
   ]
  },
  {
   "cell_type": "markdown",
   "metadata": {},
   "source": [
    "#### Поиск оптимальных гиперпараметров:"
   ]
  },
  {
   "cell_type": "code",
   "execution_count": 48,
   "metadata": {},
   "outputs": [
    {
     "name": "stdout",
     "output_type": "stream",
     "text": [
      "CPU times: user 3min 8s, sys: 1.22 s, total: 3min 9s\n",
      "Wall time: 3min 10s\n"
     ]
    },
    {
     "data": {
      "text/html": [
       "<style>#sk-container-id-3 {color: black;background-color: white;}#sk-container-id-3 pre{padding: 0;}#sk-container-id-3 div.sk-toggleable {background-color: white;}#sk-container-id-3 label.sk-toggleable__label {cursor: pointer;display: block;width: 100%;margin-bottom: 0;padding: 0.3em;box-sizing: border-box;text-align: center;}#sk-container-id-3 label.sk-toggleable__label-arrow:before {content: \"▸\";float: left;margin-right: 0.25em;color: #696969;}#sk-container-id-3 label.sk-toggleable__label-arrow:hover:before {color: black;}#sk-container-id-3 div.sk-estimator:hover label.sk-toggleable__label-arrow:before {color: black;}#sk-container-id-3 div.sk-toggleable__content {max-height: 0;max-width: 0;overflow: hidden;text-align: left;background-color: #f0f8ff;}#sk-container-id-3 div.sk-toggleable__content pre {margin: 0.2em;color: black;border-radius: 0.25em;background-color: #f0f8ff;}#sk-container-id-3 input.sk-toggleable__control:checked~div.sk-toggleable__content {max-height: 200px;max-width: 100%;overflow: auto;}#sk-container-id-3 input.sk-toggleable__control:checked~label.sk-toggleable__label-arrow:before {content: \"▾\";}#sk-container-id-3 div.sk-estimator input.sk-toggleable__control:checked~label.sk-toggleable__label {background-color: #d4ebff;}#sk-container-id-3 div.sk-label input.sk-toggleable__control:checked~label.sk-toggleable__label {background-color: #d4ebff;}#sk-container-id-3 input.sk-hidden--visually {border: 0;clip: rect(1px 1px 1px 1px);clip: rect(1px, 1px, 1px, 1px);height: 1px;margin: -1px;overflow: hidden;padding: 0;position: absolute;width: 1px;}#sk-container-id-3 div.sk-estimator {font-family: monospace;background-color: #f0f8ff;border: 1px dotted black;border-radius: 0.25em;box-sizing: border-box;margin-bottom: 0.5em;}#sk-container-id-3 div.sk-estimator:hover {background-color: #d4ebff;}#sk-container-id-3 div.sk-parallel-item::after {content: \"\";width: 100%;border-bottom: 1px solid gray;flex-grow: 1;}#sk-container-id-3 div.sk-label:hover label.sk-toggleable__label {background-color: #d4ebff;}#sk-container-id-3 div.sk-serial::before {content: \"\";position: absolute;border-left: 1px solid gray;box-sizing: border-box;top: 0;bottom: 0;left: 50%;z-index: 0;}#sk-container-id-3 div.sk-serial {display: flex;flex-direction: column;align-items: center;background-color: white;padding-right: 0.2em;padding-left: 0.2em;position: relative;}#sk-container-id-3 div.sk-item {position: relative;z-index: 1;}#sk-container-id-3 div.sk-parallel {display: flex;align-items: stretch;justify-content: center;background-color: white;position: relative;}#sk-container-id-3 div.sk-item::before, #sk-container-id-3 div.sk-parallel-item::before {content: \"\";position: absolute;border-left: 1px solid gray;box-sizing: border-box;top: 0;bottom: 0;left: 50%;z-index: -1;}#sk-container-id-3 div.sk-parallel-item {display: flex;flex-direction: column;z-index: 1;position: relative;background-color: white;}#sk-container-id-3 div.sk-parallel-item:first-child::after {align-self: flex-end;width: 50%;}#sk-container-id-3 div.sk-parallel-item:last-child::after {align-self: flex-start;width: 50%;}#sk-container-id-3 div.sk-parallel-item:only-child::after {width: 0;}#sk-container-id-3 div.sk-dashed-wrapped {border: 1px dashed gray;margin: 0 0.4em 0.5em 0.4em;box-sizing: border-box;padding-bottom: 0.4em;background-color: white;}#sk-container-id-3 div.sk-label label {font-family: monospace;font-weight: bold;display: inline-block;line-height: 1.2em;}#sk-container-id-3 div.sk-label-container {text-align: center;}#sk-container-id-3 div.sk-container {/* jupyter's `normalize.less` sets `[hidden] { display: none; }` but bootstrap.min.css set `[hidden] { display: none !important; }` so we also need the `!important` here to be able to override the default hidden behavior on the sphinx rendered scikit-learn.org. See: https://github.com/scikit-learn/scikit-learn/issues/21755 */display: inline-block !important;position: relative;}#sk-container-id-3 div.sk-text-repr-fallback {display: none;}</style><div id=\"sk-container-id-3\" class=\"sk-top-container\"><div class=\"sk-text-repr-fallback\"><pre>RandomForestClassifier(max_depth=14, n_estimators=32, random_state=12345)</pre><b>In a Jupyter environment, please rerun this cell to show the HTML representation or trust the notebook. <br />On GitHub, the HTML representation is unable to render, please try loading this page with nbviewer.org.</b></div><div class=\"sk-container\" hidden><div class=\"sk-item\"><div class=\"sk-estimator sk-toggleable\"><input class=\"sk-toggleable__control sk-hidden--visually\" id=\"sk-estimator-id-3\" type=\"checkbox\" checked><label for=\"sk-estimator-id-3\" class=\"sk-toggleable__label sk-toggleable__label-arrow\">RandomForestClassifier</label><div class=\"sk-toggleable__content\"><pre>RandomForestClassifier(max_depth=14, n_estimators=32, random_state=12345)</pre></div></div></div></div></div>"
      ],
      "text/plain": [
       "RandomForestClassifier(max_depth=14, n_estimators=32, random_state=12345)"
      ]
     },
     "execution_count": 48,
     "metadata": {},
     "output_type": "execute_result"
    }
   ],
   "source": [
    "%%time\n",
    "best_model = None\n",
    "best_result = 0\n",
    "best_est = 0\n",
    "best_depth = 0\n",
    "for est in range(1, 51, 1):\n",
    "    for depth in range (1, 21):\n",
    "        model = RandomForestClassifier(random_state=12345, n_estimators=est, max_depth=depth)\n",
    "        model.fit(features_train, target_train)\n",
    "        predictions_valid = model.predict(features_valid)\n",
    "        result = f1_score(target_valid,predictions_valid)\n",
    "        if result > best_result:\n",
    "            best_model = model\n",
    "            best_result = result\n",
    "            best_est = est\n",
    "            best_depth = depth\n",
    "model_forest = best_model\n",
    "model_forest"
   ]
  },
  {
   "cell_type": "markdown",
   "metadata": {},
   "source": [
    "#### F1 наилучшей модели на валидационной выборке:"
   ]
  },
  {
   "cell_type": "code",
   "execution_count": 49,
   "metadata": {},
   "outputs": [
    {
     "data": {
      "text/plain": [
       "0.6298701298701298"
      ]
     },
     "execution_count": 49,
     "metadata": {},
     "output_type": "execute_result"
    }
   ],
   "source": [
    " best_result"
   ]
  },
  {
   "cell_type": "markdown",
   "metadata": {},
   "source": [
    "Модель адекватна, значение F1 немного больше минимально приемлемого (0.59)"
   ]
  },
  {
   "cell_type": "markdown",
   "metadata": {},
   "source": [
    "#### Метрика AUC-ROC для данной модели:"
   ]
  },
  {
   "cell_type": "code",
   "execution_count": 50,
   "metadata": {},
   "outputs": [
    {
     "data": {
      "text/plain": [
       "0.8673573170254658"
      ]
     },
     "execution_count": 50,
     "metadata": {},
     "output_type": "execute_result"
    }
   ],
   "source": [
    "probabilities_valid = model_forest.predict_proba(features_valid)\n",
    "probabilities_one_valid = probabilities_valid[:, 1]\n",
    "roc_auc_score(target_valid, probabilities_one_valid)"
   ]
  },
  {
   "cell_type": "markdown",
   "metadata": {},
   "source": [
    "### Модель **\"Логистическая регрессия\"**"
   ]
  },
  {
   "cell_type": "markdown",
   "metadata": {},
   "source": [
    "#### Обучение модели:"
   ]
  },
  {
   "cell_type": "code",
   "execution_count": 51,
   "metadata": {},
   "outputs": [
    {
     "data": {
      "text/html": [
       "<style>#sk-container-id-4 {color: black;background-color: white;}#sk-container-id-4 pre{padding: 0;}#sk-container-id-4 div.sk-toggleable {background-color: white;}#sk-container-id-4 label.sk-toggleable__label {cursor: pointer;display: block;width: 100%;margin-bottom: 0;padding: 0.3em;box-sizing: border-box;text-align: center;}#sk-container-id-4 label.sk-toggleable__label-arrow:before {content: \"▸\";float: left;margin-right: 0.25em;color: #696969;}#sk-container-id-4 label.sk-toggleable__label-arrow:hover:before {color: black;}#sk-container-id-4 div.sk-estimator:hover label.sk-toggleable__label-arrow:before {color: black;}#sk-container-id-4 div.sk-toggleable__content {max-height: 0;max-width: 0;overflow: hidden;text-align: left;background-color: #f0f8ff;}#sk-container-id-4 div.sk-toggleable__content pre {margin: 0.2em;color: black;border-radius: 0.25em;background-color: #f0f8ff;}#sk-container-id-4 input.sk-toggleable__control:checked~div.sk-toggleable__content {max-height: 200px;max-width: 100%;overflow: auto;}#sk-container-id-4 input.sk-toggleable__control:checked~label.sk-toggleable__label-arrow:before {content: \"▾\";}#sk-container-id-4 div.sk-estimator input.sk-toggleable__control:checked~label.sk-toggleable__label {background-color: #d4ebff;}#sk-container-id-4 div.sk-label input.sk-toggleable__control:checked~label.sk-toggleable__label {background-color: #d4ebff;}#sk-container-id-4 input.sk-hidden--visually {border: 0;clip: rect(1px 1px 1px 1px);clip: rect(1px, 1px, 1px, 1px);height: 1px;margin: -1px;overflow: hidden;padding: 0;position: absolute;width: 1px;}#sk-container-id-4 div.sk-estimator {font-family: monospace;background-color: #f0f8ff;border: 1px dotted black;border-radius: 0.25em;box-sizing: border-box;margin-bottom: 0.5em;}#sk-container-id-4 div.sk-estimator:hover {background-color: #d4ebff;}#sk-container-id-4 div.sk-parallel-item::after {content: \"\";width: 100%;border-bottom: 1px solid gray;flex-grow: 1;}#sk-container-id-4 div.sk-label:hover label.sk-toggleable__label {background-color: #d4ebff;}#sk-container-id-4 div.sk-serial::before {content: \"\";position: absolute;border-left: 1px solid gray;box-sizing: border-box;top: 0;bottom: 0;left: 50%;z-index: 0;}#sk-container-id-4 div.sk-serial {display: flex;flex-direction: column;align-items: center;background-color: white;padding-right: 0.2em;padding-left: 0.2em;position: relative;}#sk-container-id-4 div.sk-item {position: relative;z-index: 1;}#sk-container-id-4 div.sk-parallel {display: flex;align-items: stretch;justify-content: center;background-color: white;position: relative;}#sk-container-id-4 div.sk-item::before, #sk-container-id-4 div.sk-parallel-item::before {content: \"\";position: absolute;border-left: 1px solid gray;box-sizing: border-box;top: 0;bottom: 0;left: 50%;z-index: -1;}#sk-container-id-4 div.sk-parallel-item {display: flex;flex-direction: column;z-index: 1;position: relative;background-color: white;}#sk-container-id-4 div.sk-parallel-item:first-child::after {align-self: flex-end;width: 50%;}#sk-container-id-4 div.sk-parallel-item:last-child::after {align-self: flex-start;width: 50%;}#sk-container-id-4 div.sk-parallel-item:only-child::after {width: 0;}#sk-container-id-4 div.sk-dashed-wrapped {border: 1px dashed gray;margin: 0 0.4em 0.5em 0.4em;box-sizing: border-box;padding-bottom: 0.4em;background-color: white;}#sk-container-id-4 div.sk-label label {font-family: monospace;font-weight: bold;display: inline-block;line-height: 1.2em;}#sk-container-id-4 div.sk-label-container {text-align: center;}#sk-container-id-4 div.sk-container {/* jupyter's `normalize.less` sets `[hidden] { display: none; }` but bootstrap.min.css set `[hidden] { display: none !important; }` so we also need the `!important` here to be able to override the default hidden behavior on the sphinx rendered scikit-learn.org. See: https://github.com/scikit-learn/scikit-learn/issues/21755 */display: inline-block !important;position: relative;}#sk-container-id-4 div.sk-text-repr-fallback {display: none;}</style><div id=\"sk-container-id-4\" class=\"sk-top-container\"><div class=\"sk-text-repr-fallback\"><pre>LogisticRegression(max_iter=1000, random_state=12345)</pre><b>In a Jupyter environment, please rerun this cell to show the HTML representation or trust the notebook. <br />On GitHub, the HTML representation is unable to render, please try loading this page with nbviewer.org.</b></div><div class=\"sk-container\" hidden><div class=\"sk-item\"><div class=\"sk-estimator sk-toggleable\"><input class=\"sk-toggleable__control sk-hidden--visually\" id=\"sk-estimator-id-4\" type=\"checkbox\" checked><label for=\"sk-estimator-id-4\" class=\"sk-toggleable__label sk-toggleable__label-arrow\">LogisticRegression</label><div class=\"sk-toggleable__content\"><pre>LogisticRegression(max_iter=1000, random_state=12345)</pre></div></div></div></div></div>"
      ],
      "text/plain": [
       "LogisticRegression(max_iter=1000, random_state=12345)"
      ]
     },
     "execution_count": 51,
     "metadata": {},
     "output_type": "execute_result"
    }
   ],
   "source": [
    "model_regress = LogisticRegression(random_state=12345, solver='lbfgs', max_iter=1000)\n",
    "model_regress.fit(features_train, target_train)\n",
    "model_regress"
   ]
  },
  {
   "cell_type": "markdown",
   "metadata": {},
   "source": [
    "#### F1 модели на валидационной выборке:"
   ]
  },
  {
   "cell_type": "code",
   "execution_count": 52,
   "metadata": {
    "scrolled": true
   },
   "outputs": [
    {
     "data": {
      "text/plain": [
       "0.3306772908366534"
      ]
     },
     "execution_count": 52,
     "metadata": {},
     "output_type": "execute_result"
    }
   ],
   "source": [
    "predictions_valid = model_regress.predict(features_valid)\n",
    "f1_score(target_valid,predictions_valid)"
   ]
  },
  {
   "cell_type": "markdown",
   "metadata": {},
   "source": [
    "Модель неадекватна: значение F1 немного меньше, чем у dummy-модели (0.339)"
   ]
  },
  {
   "cell_type": "markdown",
   "metadata": {},
   "source": [
    "#### Метрика AUC-ROC для данной модели:"
   ]
  },
  {
   "cell_type": "code",
   "execution_count": 53,
   "metadata": {},
   "outputs": [
    {
     "data": {
      "text/plain": [
       "0.7893382907660986"
      ]
     },
     "execution_count": 53,
     "metadata": {},
     "output_type": "execute_result"
    }
   ],
   "source": [
    "probabilities_valid = model_regress.predict_proba(features_valid)\n",
    "probabilities_one_valid = probabilities_valid[:, 1]\n",
    "roc_auc_score(target_valid, probabilities_one_valid)"
   ]
  },
  {
   "cell_type": "markdown",
   "metadata": {},
   "source": [
    "### **Выводы:**"
   ]
  },
  {
   "cell_type": "markdown",
   "metadata": {},
   "source": [
    "1. Наилучший результат показала модель \"Случайный лес\" с параметрами max_depth=14, n_estimators=32, random_state=12345:<br />\n",
    "F1 = 0.630, AUC-ROC = 0.869. Она уже приемлема, но попробуем улучшить результат.\n",
    "2. Модель \"Решающее дерево\" адекватна, но показала результат ниже минимально приемлемого.\n",
    "3. Модель \"Логистическая регрессия\" неадекватна."
   ]
  },
  {
   "cell_type": "markdown",
   "metadata": {},
   "source": [
    "## **Борьба с дисбалансом**"
   ]
  },
  {
   "cell_type": "markdown",
   "metadata": {},
   "source": [
    "### **Взвешивание классов**"
   ]
  },
  {
   "cell_type": "markdown",
   "metadata": {},
   "source": [
    "Придадим объектам редкого класса (\"1\") больший вес."
   ]
  },
  {
   "cell_type": "markdown",
   "metadata": {},
   "source": [
    "#### Модель **\"Решающее дерево\"**"
   ]
  },
  {
   "cell_type": "markdown",
   "metadata": {},
   "source": [
    "##### Поиск оптимальных гиперпараметров:"
   ]
  },
  {
   "cell_type": "code",
   "execution_count": 54,
   "metadata": {},
   "outputs": [
    {
     "name": "stdout",
     "output_type": "stream",
     "text": [
      "CPU times: user 3.46 s, sys: 7.95 ms, total: 3.47 s\n",
      "Wall time: 3.48 s\n"
     ]
    },
    {
     "data": {
      "text/html": [
       "<style>#sk-container-id-5 {color: black;background-color: white;}#sk-container-id-5 pre{padding: 0;}#sk-container-id-5 div.sk-toggleable {background-color: white;}#sk-container-id-5 label.sk-toggleable__label {cursor: pointer;display: block;width: 100%;margin-bottom: 0;padding: 0.3em;box-sizing: border-box;text-align: center;}#sk-container-id-5 label.sk-toggleable__label-arrow:before {content: \"▸\";float: left;margin-right: 0.25em;color: #696969;}#sk-container-id-5 label.sk-toggleable__label-arrow:hover:before {color: black;}#sk-container-id-5 div.sk-estimator:hover label.sk-toggleable__label-arrow:before {color: black;}#sk-container-id-5 div.sk-toggleable__content {max-height: 0;max-width: 0;overflow: hidden;text-align: left;background-color: #f0f8ff;}#sk-container-id-5 div.sk-toggleable__content pre {margin: 0.2em;color: black;border-radius: 0.25em;background-color: #f0f8ff;}#sk-container-id-5 input.sk-toggleable__control:checked~div.sk-toggleable__content {max-height: 200px;max-width: 100%;overflow: auto;}#sk-container-id-5 input.sk-toggleable__control:checked~label.sk-toggleable__label-arrow:before {content: \"▾\";}#sk-container-id-5 div.sk-estimator input.sk-toggleable__control:checked~label.sk-toggleable__label {background-color: #d4ebff;}#sk-container-id-5 div.sk-label input.sk-toggleable__control:checked~label.sk-toggleable__label {background-color: #d4ebff;}#sk-container-id-5 input.sk-hidden--visually {border: 0;clip: rect(1px 1px 1px 1px);clip: rect(1px, 1px, 1px, 1px);height: 1px;margin: -1px;overflow: hidden;padding: 0;position: absolute;width: 1px;}#sk-container-id-5 div.sk-estimator {font-family: monospace;background-color: #f0f8ff;border: 1px dotted black;border-radius: 0.25em;box-sizing: border-box;margin-bottom: 0.5em;}#sk-container-id-5 div.sk-estimator:hover {background-color: #d4ebff;}#sk-container-id-5 div.sk-parallel-item::after {content: \"\";width: 100%;border-bottom: 1px solid gray;flex-grow: 1;}#sk-container-id-5 div.sk-label:hover label.sk-toggleable__label {background-color: #d4ebff;}#sk-container-id-5 div.sk-serial::before {content: \"\";position: absolute;border-left: 1px solid gray;box-sizing: border-box;top: 0;bottom: 0;left: 50%;z-index: 0;}#sk-container-id-5 div.sk-serial {display: flex;flex-direction: column;align-items: center;background-color: white;padding-right: 0.2em;padding-left: 0.2em;position: relative;}#sk-container-id-5 div.sk-item {position: relative;z-index: 1;}#sk-container-id-5 div.sk-parallel {display: flex;align-items: stretch;justify-content: center;background-color: white;position: relative;}#sk-container-id-5 div.sk-item::before, #sk-container-id-5 div.sk-parallel-item::before {content: \"\";position: absolute;border-left: 1px solid gray;box-sizing: border-box;top: 0;bottom: 0;left: 50%;z-index: -1;}#sk-container-id-5 div.sk-parallel-item {display: flex;flex-direction: column;z-index: 1;position: relative;background-color: white;}#sk-container-id-5 div.sk-parallel-item:first-child::after {align-self: flex-end;width: 50%;}#sk-container-id-5 div.sk-parallel-item:last-child::after {align-self: flex-start;width: 50%;}#sk-container-id-5 div.sk-parallel-item:only-child::after {width: 0;}#sk-container-id-5 div.sk-dashed-wrapped {border: 1px dashed gray;margin: 0 0.4em 0.5em 0.4em;box-sizing: border-box;padding-bottom: 0.4em;background-color: white;}#sk-container-id-5 div.sk-label label {font-family: monospace;font-weight: bold;display: inline-block;line-height: 1.2em;}#sk-container-id-5 div.sk-label-container {text-align: center;}#sk-container-id-5 div.sk-container {/* jupyter's `normalize.less` sets `[hidden] { display: none; }` but bootstrap.min.css set `[hidden] { display: none !important; }` so we also need the `!important` here to be able to override the default hidden behavior on the sphinx rendered scikit-learn.org. See: https://github.com/scikit-learn/scikit-learn/issues/21755 */display: inline-block !important;position: relative;}#sk-container-id-5 div.sk-text-repr-fallback {display: none;}</style><div id=\"sk-container-id-5\" class=\"sk-top-container\"><div class=\"sk-text-repr-fallback\"><pre>DecisionTreeClassifier(class_weight=&#x27;balanced&#x27;, max_depth=6, random_state=12345)</pre><b>In a Jupyter environment, please rerun this cell to show the HTML representation or trust the notebook. <br />On GitHub, the HTML representation is unable to render, please try loading this page with nbviewer.org.</b></div><div class=\"sk-container\" hidden><div class=\"sk-item\"><div class=\"sk-estimator sk-toggleable\"><input class=\"sk-toggleable__control sk-hidden--visually\" id=\"sk-estimator-id-5\" type=\"checkbox\" checked><label for=\"sk-estimator-id-5\" class=\"sk-toggleable__label sk-toggleable__label-arrow\">DecisionTreeClassifier</label><div class=\"sk-toggleable__content\"><pre>DecisionTreeClassifier(class_weight=&#x27;balanced&#x27;, max_depth=6, random_state=12345)</pre></div></div></div></div></div>"
      ],
      "text/plain": [
       "DecisionTreeClassifier(class_weight='balanced', max_depth=6, random_state=12345)"
      ]
     },
     "execution_count": 54,
     "metadata": {},
     "output_type": "execute_result"
    }
   ],
   "source": [
    "%%time\n",
    "best_model = None\n",
    "best_result = 0\n",
    "for depth in range(1, 101):\n",
    "    model = DecisionTreeClassifier(random_state=12345, max_depth=depth, class_weight='balanced')\n",
    "    model.fit(features_train, target_train)\n",
    "    predictions_valid = model.predict(features_valid)\n",
    "    result = f1_score(target_valid,predictions_valid)\n",
    "    if result > best_result:\n",
    "        best_model = model\n",
    "        best_result = result\n",
    "        best_depth = depth\n",
    "model_tree = best_model\n",
    "model_tree  "
   ]
  },
  {
   "cell_type": "markdown",
   "metadata": {},
   "source": [
    "##### F1 наилучшей модели на валидационной выборке:"
   ]
  },
  {
   "cell_type": "code",
   "execution_count": 55,
   "metadata": {},
   "outputs": [
    {
     "data": {
      "text/plain": [
       "0.583084577114428"
      ]
     },
     "execution_count": 55,
     "metadata": {},
     "output_type": "execute_result"
    }
   ],
   "source": [
    " best_result"
   ]
  },
  {
   "cell_type": "markdown",
   "metadata": {},
   "source": [
    "Модель адекватна, значение F1 немного уменьшилось, и все также меньше минимально приемлемого (0.59)"
   ]
  },
  {
   "cell_type": "markdown",
   "metadata": {},
   "source": [
    "##### Метрика AUC-ROC для данной модели:"
   ]
  },
  {
   "cell_type": "code",
   "execution_count": 56,
   "metadata": {},
   "outputs": [
    {
     "data": {
      "text/plain": [
       "0.8355133867449523"
      ]
     },
     "execution_count": 56,
     "metadata": {},
     "output_type": "execute_result"
    }
   ],
   "source": [
    "probabilities_valid = model_tree.predict_proba(features_valid)\n",
    "probabilities_one_valid = probabilities_valid[:, 1]\n",
    "roc_auc_score(target_valid, probabilities_one_valid)"
   ]
  },
  {
   "cell_type": "markdown",
   "metadata": {},
   "source": [
    "#### Модель **\"Случайный лес\"**"
   ]
  },
  {
   "cell_type": "markdown",
   "metadata": {},
   "source": [
    "##### Поиск оптимальных гиперпараметров:"
   ]
  },
  {
   "cell_type": "code",
   "execution_count": 57,
   "metadata": {},
   "outputs": [
    {
     "name": "stdout",
     "output_type": "stream",
     "text": [
      "CPU times: user 3min 4s, sys: 1.02 s, total: 3min 5s\n",
      "Wall time: 3min 6s\n"
     ]
    },
    {
     "data": {
      "text/html": [
       "<style>#sk-container-id-6 {color: black;background-color: white;}#sk-container-id-6 pre{padding: 0;}#sk-container-id-6 div.sk-toggleable {background-color: white;}#sk-container-id-6 label.sk-toggleable__label {cursor: pointer;display: block;width: 100%;margin-bottom: 0;padding: 0.3em;box-sizing: border-box;text-align: center;}#sk-container-id-6 label.sk-toggleable__label-arrow:before {content: \"▸\";float: left;margin-right: 0.25em;color: #696969;}#sk-container-id-6 label.sk-toggleable__label-arrow:hover:before {color: black;}#sk-container-id-6 div.sk-estimator:hover label.sk-toggleable__label-arrow:before {color: black;}#sk-container-id-6 div.sk-toggleable__content {max-height: 0;max-width: 0;overflow: hidden;text-align: left;background-color: #f0f8ff;}#sk-container-id-6 div.sk-toggleable__content pre {margin: 0.2em;color: black;border-radius: 0.25em;background-color: #f0f8ff;}#sk-container-id-6 input.sk-toggleable__control:checked~div.sk-toggleable__content {max-height: 200px;max-width: 100%;overflow: auto;}#sk-container-id-6 input.sk-toggleable__control:checked~label.sk-toggleable__label-arrow:before {content: \"▾\";}#sk-container-id-6 div.sk-estimator input.sk-toggleable__control:checked~label.sk-toggleable__label {background-color: #d4ebff;}#sk-container-id-6 div.sk-label input.sk-toggleable__control:checked~label.sk-toggleable__label {background-color: #d4ebff;}#sk-container-id-6 input.sk-hidden--visually {border: 0;clip: rect(1px 1px 1px 1px);clip: rect(1px, 1px, 1px, 1px);height: 1px;margin: -1px;overflow: hidden;padding: 0;position: absolute;width: 1px;}#sk-container-id-6 div.sk-estimator {font-family: monospace;background-color: #f0f8ff;border: 1px dotted black;border-radius: 0.25em;box-sizing: border-box;margin-bottom: 0.5em;}#sk-container-id-6 div.sk-estimator:hover {background-color: #d4ebff;}#sk-container-id-6 div.sk-parallel-item::after {content: \"\";width: 100%;border-bottom: 1px solid gray;flex-grow: 1;}#sk-container-id-6 div.sk-label:hover label.sk-toggleable__label {background-color: #d4ebff;}#sk-container-id-6 div.sk-serial::before {content: \"\";position: absolute;border-left: 1px solid gray;box-sizing: border-box;top: 0;bottom: 0;left: 50%;z-index: 0;}#sk-container-id-6 div.sk-serial {display: flex;flex-direction: column;align-items: center;background-color: white;padding-right: 0.2em;padding-left: 0.2em;position: relative;}#sk-container-id-6 div.sk-item {position: relative;z-index: 1;}#sk-container-id-6 div.sk-parallel {display: flex;align-items: stretch;justify-content: center;background-color: white;position: relative;}#sk-container-id-6 div.sk-item::before, #sk-container-id-6 div.sk-parallel-item::before {content: \"\";position: absolute;border-left: 1px solid gray;box-sizing: border-box;top: 0;bottom: 0;left: 50%;z-index: -1;}#sk-container-id-6 div.sk-parallel-item {display: flex;flex-direction: column;z-index: 1;position: relative;background-color: white;}#sk-container-id-6 div.sk-parallel-item:first-child::after {align-self: flex-end;width: 50%;}#sk-container-id-6 div.sk-parallel-item:last-child::after {align-self: flex-start;width: 50%;}#sk-container-id-6 div.sk-parallel-item:only-child::after {width: 0;}#sk-container-id-6 div.sk-dashed-wrapped {border: 1px dashed gray;margin: 0 0.4em 0.5em 0.4em;box-sizing: border-box;padding-bottom: 0.4em;background-color: white;}#sk-container-id-6 div.sk-label label {font-family: monospace;font-weight: bold;display: inline-block;line-height: 1.2em;}#sk-container-id-6 div.sk-label-container {text-align: center;}#sk-container-id-6 div.sk-container {/* jupyter's `normalize.less` sets `[hidden] { display: none; }` but bootstrap.min.css set `[hidden] { display: none !important; }` so we also need the `!important` here to be able to override the default hidden behavior on the sphinx rendered scikit-learn.org. See: https://github.com/scikit-learn/scikit-learn/issues/21755 */display: inline-block !important;position: relative;}#sk-container-id-6 div.sk-text-repr-fallback {display: none;}</style><div id=\"sk-container-id-6\" class=\"sk-top-container\"><div class=\"sk-text-repr-fallback\"><pre>RandomForestClassifier(class_weight=&#x27;balanced&#x27;, max_depth=10, n_estimators=44,\n",
       "                       random_state=12345)</pre><b>In a Jupyter environment, please rerun this cell to show the HTML representation or trust the notebook. <br />On GitHub, the HTML representation is unable to render, please try loading this page with nbviewer.org.</b></div><div class=\"sk-container\" hidden><div class=\"sk-item\"><div class=\"sk-estimator sk-toggleable\"><input class=\"sk-toggleable__control sk-hidden--visually\" id=\"sk-estimator-id-6\" type=\"checkbox\" checked><label for=\"sk-estimator-id-6\" class=\"sk-toggleable__label sk-toggleable__label-arrow\">RandomForestClassifier</label><div class=\"sk-toggleable__content\"><pre>RandomForestClassifier(class_weight=&#x27;balanced&#x27;, max_depth=10, n_estimators=44,\n",
       "                       random_state=12345)</pre></div></div></div></div></div>"
      ],
      "text/plain": [
       "RandomForestClassifier(class_weight='balanced', max_depth=10, n_estimators=44,\n",
       "                       random_state=12345)"
      ]
     },
     "execution_count": 57,
     "metadata": {},
     "output_type": "execute_result"
    }
   ],
   "source": [
    "%%time\n",
    "best_model = None\n",
    "best_result = 0\n",
    "best_est = 0\n",
    "best_depth = 0\n",
    "for est in range(1, 51, 1):\n",
    "    for depth in range (1, 21):\n",
    "        model = RandomForestClassifier(random_state=12345, n_estimators=est, max_depth=depth, class_weight='balanced')\n",
    "        model.fit(features_train, target_train)\n",
    "        predictions_valid = model.predict(features_valid)\n",
    "        result = f1_score(target_valid,predictions_valid)\n",
    "        if result > best_result:\n",
    "            best_model = model\n",
    "            best_result = result\n",
    "            best_est = est\n",
    "            best_depth = depth\n",
    "model_forest = best_model\n",
    "model_forest"
   ]
  },
  {
   "cell_type": "markdown",
   "metadata": {},
   "source": [
    "##### F1 наилучшей модели на валидационной выборке:"
   ]
  },
  {
   "cell_type": "code",
   "execution_count": 58,
   "metadata": {},
   "outputs": [
    {
     "data": {
      "text/plain": [
       "0.6497326203208557"
      ]
     },
     "execution_count": 58,
     "metadata": {},
     "output_type": "execute_result"
    }
   ],
   "source": [
    " best_result"
   ]
  },
  {
   "cell_type": "markdown",
   "metadata": {},
   "source": [
    "Модель адекватна, значение F1 увеличилось на 1.5% и остаётся немного большим минимально приемлемого (0.59)"
   ]
  },
  {
   "cell_type": "markdown",
   "metadata": {},
   "source": [
    "##### Метрика AUC-ROC для данной модели:"
   ]
  },
  {
   "cell_type": "code",
   "execution_count": 59,
   "metadata": {},
   "outputs": [
    {
     "data": {
      "text/plain": [
       "0.8680623727500153"
      ]
     },
     "execution_count": 59,
     "metadata": {},
     "output_type": "execute_result"
    }
   ],
   "source": [
    "probabilities_valid = model_forest.predict_proba(features_valid)\n",
    "probabilities_one_valid = probabilities_valid[:, 1]\n",
    "roc_auc_score(target_valid, probabilities_one_valid)"
   ]
  },
  {
   "cell_type": "markdown",
   "metadata": {},
   "source": [
    "#### Модель **\"Логистическая регрессия\"**"
   ]
  },
  {
   "cell_type": "markdown",
   "metadata": {},
   "source": [
    "##### Обучение модели:"
   ]
  },
  {
   "cell_type": "code",
   "execution_count": 60,
   "metadata": {},
   "outputs": [
    {
     "data": {
      "text/html": [
       "<style>#sk-container-id-7 {color: black;background-color: white;}#sk-container-id-7 pre{padding: 0;}#sk-container-id-7 div.sk-toggleable {background-color: white;}#sk-container-id-7 label.sk-toggleable__label {cursor: pointer;display: block;width: 100%;margin-bottom: 0;padding: 0.3em;box-sizing: border-box;text-align: center;}#sk-container-id-7 label.sk-toggleable__label-arrow:before {content: \"▸\";float: left;margin-right: 0.25em;color: #696969;}#sk-container-id-7 label.sk-toggleable__label-arrow:hover:before {color: black;}#sk-container-id-7 div.sk-estimator:hover label.sk-toggleable__label-arrow:before {color: black;}#sk-container-id-7 div.sk-toggleable__content {max-height: 0;max-width: 0;overflow: hidden;text-align: left;background-color: #f0f8ff;}#sk-container-id-7 div.sk-toggleable__content pre {margin: 0.2em;color: black;border-radius: 0.25em;background-color: #f0f8ff;}#sk-container-id-7 input.sk-toggleable__control:checked~div.sk-toggleable__content {max-height: 200px;max-width: 100%;overflow: auto;}#sk-container-id-7 input.sk-toggleable__control:checked~label.sk-toggleable__label-arrow:before {content: \"▾\";}#sk-container-id-7 div.sk-estimator input.sk-toggleable__control:checked~label.sk-toggleable__label {background-color: #d4ebff;}#sk-container-id-7 div.sk-label input.sk-toggleable__control:checked~label.sk-toggleable__label {background-color: #d4ebff;}#sk-container-id-7 input.sk-hidden--visually {border: 0;clip: rect(1px 1px 1px 1px);clip: rect(1px, 1px, 1px, 1px);height: 1px;margin: -1px;overflow: hidden;padding: 0;position: absolute;width: 1px;}#sk-container-id-7 div.sk-estimator {font-family: monospace;background-color: #f0f8ff;border: 1px dotted black;border-radius: 0.25em;box-sizing: border-box;margin-bottom: 0.5em;}#sk-container-id-7 div.sk-estimator:hover {background-color: #d4ebff;}#sk-container-id-7 div.sk-parallel-item::after {content: \"\";width: 100%;border-bottom: 1px solid gray;flex-grow: 1;}#sk-container-id-7 div.sk-label:hover label.sk-toggleable__label {background-color: #d4ebff;}#sk-container-id-7 div.sk-serial::before {content: \"\";position: absolute;border-left: 1px solid gray;box-sizing: border-box;top: 0;bottom: 0;left: 50%;z-index: 0;}#sk-container-id-7 div.sk-serial {display: flex;flex-direction: column;align-items: center;background-color: white;padding-right: 0.2em;padding-left: 0.2em;position: relative;}#sk-container-id-7 div.sk-item {position: relative;z-index: 1;}#sk-container-id-7 div.sk-parallel {display: flex;align-items: stretch;justify-content: center;background-color: white;position: relative;}#sk-container-id-7 div.sk-item::before, #sk-container-id-7 div.sk-parallel-item::before {content: \"\";position: absolute;border-left: 1px solid gray;box-sizing: border-box;top: 0;bottom: 0;left: 50%;z-index: -1;}#sk-container-id-7 div.sk-parallel-item {display: flex;flex-direction: column;z-index: 1;position: relative;background-color: white;}#sk-container-id-7 div.sk-parallel-item:first-child::after {align-self: flex-end;width: 50%;}#sk-container-id-7 div.sk-parallel-item:last-child::after {align-self: flex-start;width: 50%;}#sk-container-id-7 div.sk-parallel-item:only-child::after {width: 0;}#sk-container-id-7 div.sk-dashed-wrapped {border: 1px dashed gray;margin: 0 0.4em 0.5em 0.4em;box-sizing: border-box;padding-bottom: 0.4em;background-color: white;}#sk-container-id-7 div.sk-label label {font-family: monospace;font-weight: bold;display: inline-block;line-height: 1.2em;}#sk-container-id-7 div.sk-label-container {text-align: center;}#sk-container-id-7 div.sk-container {/* jupyter's `normalize.less` sets `[hidden] { display: none; }` but bootstrap.min.css set `[hidden] { display: none !important; }` so we also need the `!important` here to be able to override the default hidden behavior on the sphinx rendered scikit-learn.org. See: https://github.com/scikit-learn/scikit-learn/issues/21755 */display: inline-block !important;position: relative;}#sk-container-id-7 div.sk-text-repr-fallback {display: none;}</style><div id=\"sk-container-id-7\" class=\"sk-top-container\"><div class=\"sk-text-repr-fallback\"><pre>LogisticRegression(class_weight=&#x27;balanced&#x27;, max_iter=1000, random_state=12345)</pre><b>In a Jupyter environment, please rerun this cell to show the HTML representation or trust the notebook. <br />On GitHub, the HTML representation is unable to render, please try loading this page with nbviewer.org.</b></div><div class=\"sk-container\" hidden><div class=\"sk-item\"><div class=\"sk-estimator sk-toggleable\"><input class=\"sk-toggleable__control sk-hidden--visually\" id=\"sk-estimator-id-7\" type=\"checkbox\" checked><label for=\"sk-estimator-id-7\" class=\"sk-toggleable__label sk-toggleable__label-arrow\">LogisticRegression</label><div class=\"sk-toggleable__content\"><pre>LogisticRegression(class_weight=&#x27;balanced&#x27;, max_iter=1000, random_state=12345)</pre></div></div></div></div></div>"
      ],
      "text/plain": [
       "LogisticRegression(class_weight='balanced', max_iter=1000, random_state=12345)"
      ]
     },
     "execution_count": 60,
     "metadata": {},
     "output_type": "execute_result"
    }
   ],
   "source": [
    "model_regress = LogisticRegression(random_state=12345, solver='lbfgs', max_iter=1000, class_weight='balanced')\n",
    "model_regress.fit(features_train, target_train)\n",
    "model_regress"
   ]
  },
  {
   "cell_type": "markdown",
   "metadata": {},
   "source": [
    "##### F1 модели на валидационной выборке:"
   ]
  },
  {
   "cell_type": "code",
   "execution_count": 61,
   "metadata": {},
   "outputs": [
    {
     "data": {
      "text/plain": [
       "0.5079365079365079"
      ]
     },
     "execution_count": 61,
     "metadata": {},
     "output_type": "execute_result"
    }
   ],
   "source": [
    "predictions_valid = model_regress.predict(features_valid)\n",
    "f1_score(target_valid,predictions_valid)"
   ]
  },
  {
   "cell_type": "markdown",
   "metadata": {},
   "source": [
    "Модель стала адекватной, значение F1 увеличилось в 1.5 раза, но все еще меньше минимально приемлемого (0.59)"
   ]
  },
  {
   "cell_type": "markdown",
   "metadata": {},
   "source": [
    "##### Метрика AUC-ROC для данной модели:"
   ]
  },
  {
   "cell_type": "code",
   "execution_count": 62,
   "metadata": {},
   "outputs": [
    {
     "data": {
      "text/plain": [
       "0.7907428139267598"
      ]
     },
     "execution_count": 62,
     "metadata": {},
     "output_type": "execute_result"
    }
   ],
   "source": [
    "probabilities_valid = model_regress.predict_proba(features_valid)\n",
    "probabilities_one_valid = probabilities_valid[:, 1]\n",
    "roc_auc_score(target_valid, probabilities_one_valid)"
   ]
  },
  {
   "cell_type": "markdown",
   "metadata": {},
   "source": [
    "#### Выводы:"
   ]
  },
  {
   "cell_type": "markdown",
   "metadata": {},
   "source": [
    "1. При использовании взвешивания классов наилучший результат показала модель \"Случайный лес\" с параметрами class_weight='balanced', max_depth=10, n_estimators=44, random_state=12345:<br />\n",
    "F1 = 0.650, AUC-ROC = 0.868.<br />\n",
    "Она уже приемлема, но попробуем улучшить результат.\n",
    "2. Остальные 2 модели показывают результат ниже минимально приемлемого"
   ]
  },
  {
   "cell_type": "markdown",
   "metadata": {},
   "source": [
    "### **Увеличение выборки**"
   ]
  },
  {
   "cell_type": "markdown",
   "metadata": {},
   "source": [
    "#### Функция увеличения выборки"
   ]
  },
  {
   "cell_type": "code",
   "execution_count": 63,
   "metadata": {},
   "outputs": [],
   "source": [
    "def upsample(features, target, repeat):\n",
    "    features_zeros = features[target == 0]\n",
    "    features_ones = features[target == 1]\n",
    "    target_zeros = target[target == 0]\n",
    "    target_ones = target[target == 1]\n",
    "\n",
    "    features_upsampled = pd.concat([features_zeros] + [features_ones] * repeat)\n",
    "    target_upsampled = pd.concat([target_zeros] + [target_ones] * repeat)\n",
    "    \n",
    "    features_upsampled, target_upsampled = shuffle(\n",
    "        features_upsampled, target_upsampled, random_state=12345)\n",
    "    \n",
    "    return features_upsampled, target_upsampled"
   ]
  },
  {
   "cell_type": "code",
   "execution_count": 64,
   "metadata": {},
   "outputs": [
    {
     "data": {
      "text/plain": [
       "Counter({0: 4342, 1: 1112})"
      ]
     },
     "execution_count": 64,
     "metadata": {},
     "output_type": "execute_result"
    }
   ],
   "source": [
    "Counter(target_train)"
   ]
  },
  {
   "cell_type": "code",
   "execution_count": 65,
   "metadata": {},
   "outputs": [],
   "source": [
    "sm = SMOTE(random_state=12345)\n",
    "features_upsampled, target_upsampled = sm.fit_resample(features_train, target_train)"
   ]
  },
  {
   "cell_type": "code",
   "execution_count": 66,
   "metadata": {},
   "outputs": [
    {
     "data": {
      "text/plain": [
       "Counter({0: 4342, 1: 4342})"
      ]
     },
     "execution_count": 66,
     "metadata": {},
     "output_type": "execute_result"
    }
   ],
   "source": [
    "Counter(target_upsampled)"
   ]
  },
  {
   "cell_type": "code",
   "execution_count": 67,
   "metadata": {},
   "outputs": [],
   "source": [
    "#features_upsampled, target_upsampled = upsample(features_train, target_train, 4)"
   ]
  },
  {
   "cell_type": "markdown",
   "metadata": {},
   "source": [
    "#### Модель **\"Решающее дерево\"**"
   ]
  },
  {
   "cell_type": "markdown",
   "metadata": {},
   "source": [
    "##### Поиск оптимальных гиперпараметров:"
   ]
  },
  {
   "cell_type": "code",
   "execution_count": 68,
   "metadata": {},
   "outputs": [
    {
     "name": "stdout",
     "output_type": "stream",
     "text": [
      "CPU times: user 5.62 s, sys: 4.02 ms, total: 5.63 s\n",
      "Wall time: 5.65 s\n"
     ]
    },
    {
     "data": {
      "text/html": [
       "<style>#sk-container-id-8 {color: black;background-color: white;}#sk-container-id-8 pre{padding: 0;}#sk-container-id-8 div.sk-toggleable {background-color: white;}#sk-container-id-8 label.sk-toggleable__label {cursor: pointer;display: block;width: 100%;margin-bottom: 0;padding: 0.3em;box-sizing: border-box;text-align: center;}#sk-container-id-8 label.sk-toggleable__label-arrow:before {content: \"▸\";float: left;margin-right: 0.25em;color: #696969;}#sk-container-id-8 label.sk-toggleable__label-arrow:hover:before {color: black;}#sk-container-id-8 div.sk-estimator:hover label.sk-toggleable__label-arrow:before {color: black;}#sk-container-id-8 div.sk-toggleable__content {max-height: 0;max-width: 0;overflow: hidden;text-align: left;background-color: #f0f8ff;}#sk-container-id-8 div.sk-toggleable__content pre {margin: 0.2em;color: black;border-radius: 0.25em;background-color: #f0f8ff;}#sk-container-id-8 input.sk-toggleable__control:checked~div.sk-toggleable__content {max-height: 200px;max-width: 100%;overflow: auto;}#sk-container-id-8 input.sk-toggleable__control:checked~label.sk-toggleable__label-arrow:before {content: \"▾\";}#sk-container-id-8 div.sk-estimator input.sk-toggleable__control:checked~label.sk-toggleable__label {background-color: #d4ebff;}#sk-container-id-8 div.sk-label input.sk-toggleable__control:checked~label.sk-toggleable__label {background-color: #d4ebff;}#sk-container-id-8 input.sk-hidden--visually {border: 0;clip: rect(1px 1px 1px 1px);clip: rect(1px, 1px, 1px, 1px);height: 1px;margin: -1px;overflow: hidden;padding: 0;position: absolute;width: 1px;}#sk-container-id-8 div.sk-estimator {font-family: monospace;background-color: #f0f8ff;border: 1px dotted black;border-radius: 0.25em;box-sizing: border-box;margin-bottom: 0.5em;}#sk-container-id-8 div.sk-estimator:hover {background-color: #d4ebff;}#sk-container-id-8 div.sk-parallel-item::after {content: \"\";width: 100%;border-bottom: 1px solid gray;flex-grow: 1;}#sk-container-id-8 div.sk-label:hover label.sk-toggleable__label {background-color: #d4ebff;}#sk-container-id-8 div.sk-serial::before {content: \"\";position: absolute;border-left: 1px solid gray;box-sizing: border-box;top: 0;bottom: 0;left: 50%;z-index: 0;}#sk-container-id-8 div.sk-serial {display: flex;flex-direction: column;align-items: center;background-color: white;padding-right: 0.2em;padding-left: 0.2em;position: relative;}#sk-container-id-8 div.sk-item {position: relative;z-index: 1;}#sk-container-id-8 div.sk-parallel {display: flex;align-items: stretch;justify-content: center;background-color: white;position: relative;}#sk-container-id-8 div.sk-item::before, #sk-container-id-8 div.sk-parallel-item::before {content: \"\";position: absolute;border-left: 1px solid gray;box-sizing: border-box;top: 0;bottom: 0;left: 50%;z-index: -1;}#sk-container-id-8 div.sk-parallel-item {display: flex;flex-direction: column;z-index: 1;position: relative;background-color: white;}#sk-container-id-8 div.sk-parallel-item:first-child::after {align-self: flex-end;width: 50%;}#sk-container-id-8 div.sk-parallel-item:last-child::after {align-self: flex-start;width: 50%;}#sk-container-id-8 div.sk-parallel-item:only-child::after {width: 0;}#sk-container-id-8 div.sk-dashed-wrapped {border: 1px dashed gray;margin: 0 0.4em 0.5em 0.4em;box-sizing: border-box;padding-bottom: 0.4em;background-color: white;}#sk-container-id-8 div.sk-label label {font-family: monospace;font-weight: bold;display: inline-block;line-height: 1.2em;}#sk-container-id-8 div.sk-label-container {text-align: center;}#sk-container-id-8 div.sk-container {/* jupyter's `normalize.less` sets `[hidden] { display: none; }` but bootstrap.min.css set `[hidden] { display: none !important; }` so we also need the `!important` here to be able to override the default hidden behavior on the sphinx rendered scikit-learn.org. See: https://github.com/scikit-learn/scikit-learn/issues/21755 */display: inline-block !important;position: relative;}#sk-container-id-8 div.sk-text-repr-fallback {display: none;}</style><div id=\"sk-container-id-8\" class=\"sk-top-container\"><div class=\"sk-text-repr-fallback\"><pre>DecisionTreeClassifier(max_depth=7, random_state=12345)</pre><b>In a Jupyter environment, please rerun this cell to show the HTML representation or trust the notebook. <br />On GitHub, the HTML representation is unable to render, please try loading this page with nbviewer.org.</b></div><div class=\"sk-container\" hidden><div class=\"sk-item\"><div class=\"sk-estimator sk-toggleable\"><input class=\"sk-toggleable__control sk-hidden--visually\" id=\"sk-estimator-id-8\" type=\"checkbox\" checked><label for=\"sk-estimator-id-8\" class=\"sk-toggleable__label sk-toggleable__label-arrow\">DecisionTreeClassifier</label><div class=\"sk-toggleable__content\"><pre>DecisionTreeClassifier(max_depth=7, random_state=12345)</pre></div></div></div></div></div>"
      ],
      "text/plain": [
       "DecisionTreeClassifier(max_depth=7, random_state=12345)"
      ]
     },
     "execution_count": 68,
     "metadata": {},
     "output_type": "execute_result"
    }
   ],
   "source": [
    "%%time\n",
    "best_model = None\n",
    "best_result = 0\n",
    "for depth in range(1, 101):\n",
    "    model = DecisionTreeClassifier(random_state=12345, max_depth=depth)\n",
    "    model.fit(features_upsampled, target_upsampled)\n",
    "    predictions_valid = model.predict(features_valid)\n",
    "    result = f1_score(target_valid,predictions_valid)\n",
    "    if result > best_result:\n",
    "        best_model = model\n",
    "        best_result = result\n",
    "        best_depth = depth\n",
    "model_tree = best_model\n",
    "model_tree  "
   ]
  },
  {
   "cell_type": "markdown",
   "metadata": {},
   "source": [
    "##### F1 наилучшей модели на валидационной выборке:"
   ]
  },
  {
   "cell_type": "code",
   "execution_count": 69,
   "metadata": {},
   "outputs": [
    {
     "data": {
      "text/plain": [
       "0.5893958076448829"
      ]
     },
     "execution_count": 69,
     "metadata": {},
     "output_type": "execute_result"
    }
   ],
   "source": [
    " best_result"
   ]
  },
  {
   "cell_type": "markdown",
   "metadata": {},
   "source": [
    "F1 полностью совпадает с результатом модели с взвешиванием классов"
   ]
  },
  {
   "cell_type": "markdown",
   "metadata": {},
   "source": [
    "##### Метрика AUC-ROC для данной модели:"
   ]
  },
  {
   "cell_type": "code",
   "execution_count": 70,
   "metadata": {},
   "outputs": [
    {
     "data": {
      "text/plain": [
       "0.8167032078638395"
      ]
     },
     "execution_count": 70,
     "metadata": {},
     "output_type": "execute_result"
    }
   ],
   "source": [
    "probabilities_valid = model_tree.predict_proba(features_valid)\n",
    "probabilities_one_valid = probabilities_valid[:, 1]\n",
    "roc_auc_score(target_valid, probabilities_one_valid)"
   ]
  },
  {
   "cell_type": "markdown",
   "metadata": {},
   "source": [
    "#### Модель **\"Случайный лес\"**"
   ]
  },
  {
   "cell_type": "markdown",
   "metadata": {},
   "source": [
    "##### Поиск оптимальных гиперпараметров:"
   ]
  },
  {
   "cell_type": "code",
   "execution_count": 71,
   "metadata": {},
   "outputs": [
    {
     "name": "stdout",
     "output_type": "stream",
     "text": [
      "CPU times: user 4min 43s, sys: 1.32 s, total: 4min 44s\n",
      "Wall time: 4min 45s\n"
     ]
    },
    {
     "data": {
      "text/html": [
       "<style>#sk-container-id-9 {color: black;background-color: white;}#sk-container-id-9 pre{padding: 0;}#sk-container-id-9 div.sk-toggleable {background-color: white;}#sk-container-id-9 label.sk-toggleable__label {cursor: pointer;display: block;width: 100%;margin-bottom: 0;padding: 0.3em;box-sizing: border-box;text-align: center;}#sk-container-id-9 label.sk-toggleable__label-arrow:before {content: \"▸\";float: left;margin-right: 0.25em;color: #696969;}#sk-container-id-9 label.sk-toggleable__label-arrow:hover:before {color: black;}#sk-container-id-9 div.sk-estimator:hover label.sk-toggleable__label-arrow:before {color: black;}#sk-container-id-9 div.sk-toggleable__content {max-height: 0;max-width: 0;overflow: hidden;text-align: left;background-color: #f0f8ff;}#sk-container-id-9 div.sk-toggleable__content pre {margin: 0.2em;color: black;border-radius: 0.25em;background-color: #f0f8ff;}#sk-container-id-9 input.sk-toggleable__control:checked~div.sk-toggleable__content {max-height: 200px;max-width: 100%;overflow: auto;}#sk-container-id-9 input.sk-toggleable__control:checked~label.sk-toggleable__label-arrow:before {content: \"▾\";}#sk-container-id-9 div.sk-estimator input.sk-toggleable__control:checked~label.sk-toggleable__label {background-color: #d4ebff;}#sk-container-id-9 div.sk-label input.sk-toggleable__control:checked~label.sk-toggleable__label {background-color: #d4ebff;}#sk-container-id-9 input.sk-hidden--visually {border: 0;clip: rect(1px 1px 1px 1px);clip: rect(1px, 1px, 1px, 1px);height: 1px;margin: -1px;overflow: hidden;padding: 0;position: absolute;width: 1px;}#sk-container-id-9 div.sk-estimator {font-family: monospace;background-color: #f0f8ff;border: 1px dotted black;border-radius: 0.25em;box-sizing: border-box;margin-bottom: 0.5em;}#sk-container-id-9 div.sk-estimator:hover {background-color: #d4ebff;}#sk-container-id-9 div.sk-parallel-item::after {content: \"\";width: 100%;border-bottom: 1px solid gray;flex-grow: 1;}#sk-container-id-9 div.sk-label:hover label.sk-toggleable__label {background-color: #d4ebff;}#sk-container-id-9 div.sk-serial::before {content: \"\";position: absolute;border-left: 1px solid gray;box-sizing: border-box;top: 0;bottom: 0;left: 50%;z-index: 0;}#sk-container-id-9 div.sk-serial {display: flex;flex-direction: column;align-items: center;background-color: white;padding-right: 0.2em;padding-left: 0.2em;position: relative;}#sk-container-id-9 div.sk-item {position: relative;z-index: 1;}#sk-container-id-9 div.sk-parallel {display: flex;align-items: stretch;justify-content: center;background-color: white;position: relative;}#sk-container-id-9 div.sk-item::before, #sk-container-id-9 div.sk-parallel-item::before {content: \"\";position: absolute;border-left: 1px solid gray;box-sizing: border-box;top: 0;bottom: 0;left: 50%;z-index: -1;}#sk-container-id-9 div.sk-parallel-item {display: flex;flex-direction: column;z-index: 1;position: relative;background-color: white;}#sk-container-id-9 div.sk-parallel-item:first-child::after {align-self: flex-end;width: 50%;}#sk-container-id-9 div.sk-parallel-item:last-child::after {align-self: flex-start;width: 50%;}#sk-container-id-9 div.sk-parallel-item:only-child::after {width: 0;}#sk-container-id-9 div.sk-dashed-wrapped {border: 1px dashed gray;margin: 0 0.4em 0.5em 0.4em;box-sizing: border-box;padding-bottom: 0.4em;background-color: white;}#sk-container-id-9 div.sk-label label {font-family: monospace;font-weight: bold;display: inline-block;line-height: 1.2em;}#sk-container-id-9 div.sk-label-container {text-align: center;}#sk-container-id-9 div.sk-container {/* jupyter's `normalize.less` sets `[hidden] { display: none; }` but bootstrap.min.css set `[hidden] { display: none !important; }` so we also need the `!important` here to be able to override the default hidden behavior on the sphinx rendered scikit-learn.org. See: https://github.com/scikit-learn/scikit-learn/issues/21755 */display: inline-block !important;position: relative;}#sk-container-id-9 div.sk-text-repr-fallback {display: none;}</style><div id=\"sk-container-id-9\" class=\"sk-top-container\"><div class=\"sk-text-repr-fallback\"><pre>RandomForestClassifier(max_depth=11, n_estimators=48, random_state=12345)</pre><b>In a Jupyter environment, please rerun this cell to show the HTML representation or trust the notebook. <br />On GitHub, the HTML representation is unable to render, please try loading this page with nbviewer.org.</b></div><div class=\"sk-container\" hidden><div class=\"sk-item\"><div class=\"sk-estimator sk-toggleable\"><input class=\"sk-toggleable__control sk-hidden--visually\" id=\"sk-estimator-id-9\" type=\"checkbox\" checked><label for=\"sk-estimator-id-9\" class=\"sk-toggleable__label sk-toggleable__label-arrow\">RandomForestClassifier</label><div class=\"sk-toggleable__content\"><pre>RandomForestClassifier(max_depth=11, n_estimators=48, random_state=12345)</pre></div></div></div></div></div>"
      ],
      "text/plain": [
       "RandomForestClassifier(max_depth=11, n_estimators=48, random_state=12345)"
      ]
     },
     "execution_count": 71,
     "metadata": {},
     "output_type": "execute_result"
    }
   ],
   "source": [
    "%%time\n",
    "best_model = None\n",
    "best_result = 0\n",
    "best_est = 0\n",
    "best_depth = 0\n",
    "for est in range(1, 51, 1):\n",
    "    for depth in range (1, 21):\n",
    "        model = RandomForestClassifier(random_state=12345, n_estimators=est, max_depth=depth)\n",
    "        model.fit(features_upsampled, target_upsampled)\n",
    "        predictions_valid = model.predict(features_valid)\n",
    "        result = f1_score(target_valid,predictions_valid)\n",
    "        if result > best_result:\n",
    "            best_model = model\n",
    "            best_result = result\n",
    "            best_est = est\n",
    "            best_depth = depth\n",
    "model_forest = best_model\n",
    "model_forest"
   ]
  },
  {
   "cell_type": "markdown",
   "metadata": {},
   "source": [
    "##### F1 наилучшей модели на валидационной выборке:"
   ]
  },
  {
   "cell_type": "code",
   "execution_count": 72,
   "metadata": {},
   "outputs": [
    {
     "data": {
      "text/plain": [
       "0.6544021024967148"
      ]
     },
     "execution_count": 72,
     "metadata": {},
     "output_type": "execute_result"
    }
   ],
   "source": [
    " best_result"
   ]
  },
  {
   "cell_type": "markdown",
   "metadata": {},
   "source": [
    "F1 незначительно улучшилось по сравнению с результатом модели с взвешиванием классов"
   ]
  },
  {
   "cell_type": "markdown",
   "metadata": {},
   "source": [
    "##### Метрика AUC-ROC для данной модели:"
   ]
  },
  {
   "cell_type": "code",
   "execution_count": 73,
   "metadata": {},
   "outputs": [
    {
     "data": {
      "text/plain": [
       "0.87517812669395"
      ]
     },
     "execution_count": 73,
     "metadata": {},
     "output_type": "execute_result"
    }
   ],
   "source": [
    "probabilities_valid = model_forest.predict_proba(features_valid)\n",
    "probabilities_one_valid = probabilities_valid[:, 1]\n",
    "roc_auc_score(target_valid, probabilities_one_valid)"
   ]
  },
  {
   "cell_type": "markdown",
   "metadata": {},
   "source": [
    "#### Модель **\"Логистическая регрессия\"**"
   ]
  },
  {
   "cell_type": "markdown",
   "metadata": {},
   "source": [
    "##### Обучение модели:"
   ]
  },
  {
   "cell_type": "code",
   "execution_count": 74,
   "metadata": {},
   "outputs": [
    {
     "data": {
      "text/html": [
       "<style>#sk-container-id-10 {color: black;background-color: white;}#sk-container-id-10 pre{padding: 0;}#sk-container-id-10 div.sk-toggleable {background-color: white;}#sk-container-id-10 label.sk-toggleable__label {cursor: pointer;display: block;width: 100%;margin-bottom: 0;padding: 0.3em;box-sizing: border-box;text-align: center;}#sk-container-id-10 label.sk-toggleable__label-arrow:before {content: \"▸\";float: left;margin-right: 0.25em;color: #696969;}#sk-container-id-10 label.sk-toggleable__label-arrow:hover:before {color: black;}#sk-container-id-10 div.sk-estimator:hover label.sk-toggleable__label-arrow:before {color: black;}#sk-container-id-10 div.sk-toggleable__content {max-height: 0;max-width: 0;overflow: hidden;text-align: left;background-color: #f0f8ff;}#sk-container-id-10 div.sk-toggleable__content pre {margin: 0.2em;color: black;border-radius: 0.25em;background-color: #f0f8ff;}#sk-container-id-10 input.sk-toggleable__control:checked~div.sk-toggleable__content {max-height: 200px;max-width: 100%;overflow: auto;}#sk-container-id-10 input.sk-toggleable__control:checked~label.sk-toggleable__label-arrow:before {content: \"▾\";}#sk-container-id-10 div.sk-estimator input.sk-toggleable__control:checked~label.sk-toggleable__label {background-color: #d4ebff;}#sk-container-id-10 div.sk-label input.sk-toggleable__control:checked~label.sk-toggleable__label {background-color: #d4ebff;}#sk-container-id-10 input.sk-hidden--visually {border: 0;clip: rect(1px 1px 1px 1px);clip: rect(1px, 1px, 1px, 1px);height: 1px;margin: -1px;overflow: hidden;padding: 0;position: absolute;width: 1px;}#sk-container-id-10 div.sk-estimator {font-family: monospace;background-color: #f0f8ff;border: 1px dotted black;border-radius: 0.25em;box-sizing: border-box;margin-bottom: 0.5em;}#sk-container-id-10 div.sk-estimator:hover {background-color: #d4ebff;}#sk-container-id-10 div.sk-parallel-item::after {content: \"\";width: 100%;border-bottom: 1px solid gray;flex-grow: 1;}#sk-container-id-10 div.sk-label:hover label.sk-toggleable__label {background-color: #d4ebff;}#sk-container-id-10 div.sk-serial::before {content: \"\";position: absolute;border-left: 1px solid gray;box-sizing: border-box;top: 0;bottom: 0;left: 50%;z-index: 0;}#sk-container-id-10 div.sk-serial {display: flex;flex-direction: column;align-items: center;background-color: white;padding-right: 0.2em;padding-left: 0.2em;position: relative;}#sk-container-id-10 div.sk-item {position: relative;z-index: 1;}#sk-container-id-10 div.sk-parallel {display: flex;align-items: stretch;justify-content: center;background-color: white;position: relative;}#sk-container-id-10 div.sk-item::before, #sk-container-id-10 div.sk-parallel-item::before {content: \"\";position: absolute;border-left: 1px solid gray;box-sizing: border-box;top: 0;bottom: 0;left: 50%;z-index: -1;}#sk-container-id-10 div.sk-parallel-item {display: flex;flex-direction: column;z-index: 1;position: relative;background-color: white;}#sk-container-id-10 div.sk-parallel-item:first-child::after {align-self: flex-end;width: 50%;}#sk-container-id-10 div.sk-parallel-item:last-child::after {align-self: flex-start;width: 50%;}#sk-container-id-10 div.sk-parallel-item:only-child::after {width: 0;}#sk-container-id-10 div.sk-dashed-wrapped {border: 1px dashed gray;margin: 0 0.4em 0.5em 0.4em;box-sizing: border-box;padding-bottom: 0.4em;background-color: white;}#sk-container-id-10 div.sk-label label {font-family: monospace;font-weight: bold;display: inline-block;line-height: 1.2em;}#sk-container-id-10 div.sk-label-container {text-align: center;}#sk-container-id-10 div.sk-container {/* jupyter's `normalize.less` sets `[hidden] { display: none; }` but bootstrap.min.css set `[hidden] { display: none !important; }` so we also need the `!important` here to be able to override the default hidden behavior on the sphinx rendered scikit-learn.org. See: https://github.com/scikit-learn/scikit-learn/issues/21755 */display: inline-block !important;position: relative;}#sk-container-id-10 div.sk-text-repr-fallback {display: none;}</style><div id=\"sk-container-id-10\" class=\"sk-top-container\"><div class=\"sk-text-repr-fallback\"><pre>LogisticRegression(max_iter=1000, random_state=12345)</pre><b>In a Jupyter environment, please rerun this cell to show the HTML representation or trust the notebook. <br />On GitHub, the HTML representation is unable to render, please try loading this page with nbviewer.org.</b></div><div class=\"sk-container\" hidden><div class=\"sk-item\"><div class=\"sk-estimator sk-toggleable\"><input class=\"sk-toggleable__control sk-hidden--visually\" id=\"sk-estimator-id-10\" type=\"checkbox\" checked><label for=\"sk-estimator-id-10\" class=\"sk-toggleable__label sk-toggleable__label-arrow\">LogisticRegression</label><div class=\"sk-toggleable__content\"><pre>LogisticRegression(max_iter=1000, random_state=12345)</pre></div></div></div></div></div>"
      ],
      "text/plain": [
       "LogisticRegression(max_iter=1000, random_state=12345)"
      ]
     },
     "execution_count": 74,
     "metadata": {},
     "output_type": "execute_result"
    }
   ],
   "source": [
    "model_regress = LogisticRegression(random_state=12345, solver='lbfgs', max_iter=1000)\n",
    "model_regress.fit(features_upsampled, target_upsampled)\n",
    "model_regress"
   ]
  },
  {
   "cell_type": "markdown",
   "metadata": {},
   "source": [
    "##### F1 модели на валидационной выборке:"
   ]
  },
  {
   "cell_type": "code",
   "execution_count": 75,
   "metadata": {},
   "outputs": [
    {
     "data": {
      "text/plain": [
       "0.5004812319538018"
      ]
     },
     "execution_count": 75,
     "metadata": {},
     "output_type": "execute_result"
    }
   ],
   "source": [
    "predictions_valid = model_regress.predict(features_valid)\n",
    "f1_score(target_valid,predictions_valid)"
   ]
  },
  {
   "cell_type": "markdown",
   "metadata": {},
   "source": [
    "F1 незначительно ухудшилось по сравнению с результатом модели с взвешиванием классов"
   ]
  },
  {
   "cell_type": "markdown",
   "metadata": {},
   "source": [
    "##### Метрика AUC-ROC для данной модели:"
   ]
  },
  {
   "cell_type": "code",
   "execution_count": 76,
   "metadata": {},
   "outputs": [
    {
     "data": {
      "text/plain": [
       "0.7857710999800684"
      ]
     },
     "execution_count": 76,
     "metadata": {},
     "output_type": "execute_result"
    }
   ],
   "source": [
    "probabilities_valid = model_regress.predict_proba(features_valid)\n",
    "probabilities_one_valid = probabilities_valid[:, 1]\n",
    "roc_auc_score(target_valid, probabilities_one_valid)"
   ]
  },
  {
   "cell_type": "markdown",
   "metadata": {},
   "source": [
    "#### Выводы:"
   ]
  },
  {
   "cell_type": "markdown",
   "metadata": {},
   "source": [
    "1. При использовании увеличения выборки наилучший результат показала модель \"Случайный лес\" с параметрами max_depth=11, n_estimators=48, random_state=12345:<br />\n",
    "F1 = 0.654, AUC-ROC = 0.875.<br />\n",
    "Она уже приемлема, но попробуем улучшить результат.\n",
    "2. Остальные 2 модели показывают результат ниже минимально приемлемого"
   ]
  },
  {
   "cell_type": "markdown",
   "metadata": {},
   "source": [
    "### **Уменьшение выборки**"
   ]
  },
  {
   "cell_type": "markdown",
   "metadata": {},
   "source": [
    "#### Функция уменьшения выборки"
   ]
  },
  {
   "cell_type": "code",
   "execution_count": 77,
   "metadata": {},
   "outputs": [],
   "source": [
    "def downsample(features, target, fraction):\n",
    "    features_zeros = features[target == 0]\n",
    "    features_ones = features[target == 1]\n",
    "    target_zeros = target[target == 0]\n",
    "    target_ones = target[target == 1]\n",
    "\n",
    "    features_downsampled = pd.concat(\n",
    "        [features_zeros.sample(frac=fraction, random_state=12345)] + [features_ones])\n",
    "    target_downsampled = pd.concat(\n",
    "        [target_zeros.sample(frac=fraction, random_state=12345)] + [target_ones])\n",
    "    \n",
    "    features_downsampled, target_downsampled = shuffle(\n",
    "        features_downsampled, target_downsampled, random_state=12345)\n",
    "    \n",
    "    return features_downsampled, target_downsampled"
   ]
  },
  {
   "cell_type": "code",
   "execution_count": 78,
   "metadata": {},
   "outputs": [
    {
     "data": {
      "text/plain": [
       "Counter({0: 4342, 1: 1112})"
      ]
     },
     "execution_count": 78,
     "metadata": {},
     "output_type": "execute_result"
    }
   ],
   "source": [
    "Counter(target_train)"
   ]
  },
  {
   "cell_type": "code",
   "execution_count": 79,
   "metadata": {},
   "outputs": [],
   "source": [
    "rus = RandomUnderSampler(random_state=12345)\n",
    "features_downsampled, target_downsampled = rus.fit_resample(features_train, target_train)"
   ]
  },
  {
   "cell_type": "code",
   "execution_count": 80,
   "metadata": {},
   "outputs": [
    {
     "data": {
      "text/plain": [
       "Counter({0: 1112, 1: 1112})"
      ]
     },
     "execution_count": 80,
     "metadata": {},
     "output_type": "execute_result"
    }
   ],
   "source": [
    "Counter(target_downsampled)"
   ]
  },
  {
   "cell_type": "code",
   "execution_count": 81,
   "metadata": {},
   "outputs": [],
   "source": [
    "#features_downsampled, target_downsampled = downsample(features_train, target_train, 0.25)"
   ]
  },
  {
   "cell_type": "markdown",
   "metadata": {},
   "source": [
    "#### Модель **\"Решающее дерево\"**"
   ]
  },
  {
   "cell_type": "markdown",
   "metadata": {},
   "source": [
    "##### Поиск оптимальных гиперпараметров:"
   ]
  },
  {
   "cell_type": "code",
   "execution_count": 82,
   "metadata": {},
   "outputs": [
    {
     "name": "stdout",
     "output_type": "stream",
     "text": [
      "CPU times: user 1.98 s, sys: 31.9 ms, total: 2.01 s\n",
      "Wall time: 2.02 s\n"
     ]
    },
    {
     "data": {
      "text/html": [
       "<style>#sk-container-id-11 {color: black;background-color: white;}#sk-container-id-11 pre{padding: 0;}#sk-container-id-11 div.sk-toggleable {background-color: white;}#sk-container-id-11 label.sk-toggleable__label {cursor: pointer;display: block;width: 100%;margin-bottom: 0;padding: 0.3em;box-sizing: border-box;text-align: center;}#sk-container-id-11 label.sk-toggleable__label-arrow:before {content: \"▸\";float: left;margin-right: 0.25em;color: #696969;}#sk-container-id-11 label.sk-toggleable__label-arrow:hover:before {color: black;}#sk-container-id-11 div.sk-estimator:hover label.sk-toggleable__label-arrow:before {color: black;}#sk-container-id-11 div.sk-toggleable__content {max-height: 0;max-width: 0;overflow: hidden;text-align: left;background-color: #f0f8ff;}#sk-container-id-11 div.sk-toggleable__content pre {margin: 0.2em;color: black;border-radius: 0.25em;background-color: #f0f8ff;}#sk-container-id-11 input.sk-toggleable__control:checked~div.sk-toggleable__content {max-height: 200px;max-width: 100%;overflow: auto;}#sk-container-id-11 input.sk-toggleable__control:checked~label.sk-toggleable__label-arrow:before {content: \"▾\";}#sk-container-id-11 div.sk-estimator input.sk-toggleable__control:checked~label.sk-toggleable__label {background-color: #d4ebff;}#sk-container-id-11 div.sk-label input.sk-toggleable__control:checked~label.sk-toggleable__label {background-color: #d4ebff;}#sk-container-id-11 input.sk-hidden--visually {border: 0;clip: rect(1px 1px 1px 1px);clip: rect(1px, 1px, 1px, 1px);height: 1px;margin: -1px;overflow: hidden;padding: 0;position: absolute;width: 1px;}#sk-container-id-11 div.sk-estimator {font-family: monospace;background-color: #f0f8ff;border: 1px dotted black;border-radius: 0.25em;box-sizing: border-box;margin-bottom: 0.5em;}#sk-container-id-11 div.sk-estimator:hover {background-color: #d4ebff;}#sk-container-id-11 div.sk-parallel-item::after {content: \"\";width: 100%;border-bottom: 1px solid gray;flex-grow: 1;}#sk-container-id-11 div.sk-label:hover label.sk-toggleable__label {background-color: #d4ebff;}#sk-container-id-11 div.sk-serial::before {content: \"\";position: absolute;border-left: 1px solid gray;box-sizing: border-box;top: 0;bottom: 0;left: 50%;z-index: 0;}#sk-container-id-11 div.sk-serial {display: flex;flex-direction: column;align-items: center;background-color: white;padding-right: 0.2em;padding-left: 0.2em;position: relative;}#sk-container-id-11 div.sk-item {position: relative;z-index: 1;}#sk-container-id-11 div.sk-parallel {display: flex;align-items: stretch;justify-content: center;background-color: white;position: relative;}#sk-container-id-11 div.sk-item::before, #sk-container-id-11 div.sk-parallel-item::before {content: \"\";position: absolute;border-left: 1px solid gray;box-sizing: border-box;top: 0;bottom: 0;left: 50%;z-index: -1;}#sk-container-id-11 div.sk-parallel-item {display: flex;flex-direction: column;z-index: 1;position: relative;background-color: white;}#sk-container-id-11 div.sk-parallel-item:first-child::after {align-self: flex-end;width: 50%;}#sk-container-id-11 div.sk-parallel-item:last-child::after {align-self: flex-start;width: 50%;}#sk-container-id-11 div.sk-parallel-item:only-child::after {width: 0;}#sk-container-id-11 div.sk-dashed-wrapped {border: 1px dashed gray;margin: 0 0.4em 0.5em 0.4em;box-sizing: border-box;padding-bottom: 0.4em;background-color: white;}#sk-container-id-11 div.sk-label label {font-family: monospace;font-weight: bold;display: inline-block;line-height: 1.2em;}#sk-container-id-11 div.sk-label-container {text-align: center;}#sk-container-id-11 div.sk-container {/* jupyter's `normalize.less` sets `[hidden] { display: none; }` but bootstrap.min.css set `[hidden] { display: none !important; }` so we also need the `!important` here to be able to override the default hidden behavior on the sphinx rendered scikit-learn.org. See: https://github.com/scikit-learn/scikit-learn/issues/21755 */display: inline-block !important;position: relative;}#sk-container-id-11 div.sk-text-repr-fallback {display: none;}</style><div id=\"sk-container-id-11\" class=\"sk-top-container\"><div class=\"sk-text-repr-fallback\"><pre>DecisionTreeClassifier(max_depth=4, random_state=12345)</pre><b>In a Jupyter environment, please rerun this cell to show the HTML representation or trust the notebook. <br />On GitHub, the HTML representation is unable to render, please try loading this page with nbviewer.org.</b></div><div class=\"sk-container\" hidden><div class=\"sk-item\"><div class=\"sk-estimator sk-toggleable\"><input class=\"sk-toggleable__control sk-hidden--visually\" id=\"sk-estimator-id-11\" type=\"checkbox\" checked><label for=\"sk-estimator-id-11\" class=\"sk-toggleable__label sk-toggleable__label-arrow\">DecisionTreeClassifier</label><div class=\"sk-toggleable__content\"><pre>DecisionTreeClassifier(max_depth=4, random_state=12345)</pre></div></div></div></div></div>"
      ],
      "text/plain": [
       "DecisionTreeClassifier(max_depth=4, random_state=12345)"
      ]
     },
     "execution_count": 82,
     "metadata": {},
     "output_type": "execute_result"
    }
   ],
   "source": [
    "%%time\n",
    "best_model = None\n",
    "best_result = 0\n",
    "for depth in range(1, 101):\n",
    "    model = DecisionTreeClassifier(random_state=12345, max_depth=depth)\n",
    "    model.fit(features_downsampled, target_downsampled)\n",
    "    predictions_valid = model.predict(features_valid)\n",
    "    result = f1_score(target_valid,predictions_valid)\n",
    "    if result > best_result:\n",
    "        best_model = model\n",
    "        best_result = result\n",
    "        best_depth = depth\n",
    "model_tree = best_model\n",
    "model_tree  "
   ]
  },
  {
   "cell_type": "markdown",
   "metadata": {},
   "source": [
    "##### F1 наилучшей модели на валидационной выборке:"
   ]
  },
  {
   "cell_type": "code",
   "execution_count": 83,
   "metadata": {},
   "outputs": [
    {
     "data": {
      "text/plain": [
       "0.5623721881390594"
      ]
     },
     "execution_count": 83,
     "metadata": {},
     "output_type": "execute_result"
    }
   ],
   "source": [
    " best_result"
   ]
  },
  {
   "cell_type": "markdown",
   "metadata": {},
   "source": [
    "Значение ухудшилось относительно 2-х предыдущих способов балансировки"
   ]
  },
  {
   "cell_type": "markdown",
   "metadata": {},
   "source": [
    "##### Метрика AUC-ROC для данной модели:"
   ]
  },
  {
   "cell_type": "code",
   "execution_count": 84,
   "metadata": {},
   "outputs": [
    {
     "data": {
      "text/plain": [
       "0.827097424357859"
      ]
     },
     "execution_count": 84,
     "metadata": {},
     "output_type": "execute_result"
    }
   ],
   "source": [
    "probabilities_valid = model_tree.predict_proba(features_valid)\n",
    "probabilities_one_valid = probabilities_valid[:, 1]\n",
    "roc_auc_score(target_valid, probabilities_one_valid)"
   ]
  },
  {
   "cell_type": "markdown",
   "metadata": {},
   "source": [
    "#### Модель **\"Случайный лес\"**"
   ]
  },
  {
   "cell_type": "markdown",
   "metadata": {},
   "source": [
    "##### Поиск оптимальных гиперпараметров:"
   ]
  },
  {
   "cell_type": "code",
   "execution_count": 85,
   "metadata": {},
   "outputs": [
    {
     "name": "stdout",
     "output_type": "stream",
     "text": [
      "CPU times: user 2min 37s, sys: 925 ms, total: 2min 38s\n",
      "Wall time: 2min 40s\n"
     ]
    },
    {
     "data": {
      "text/html": [
       "<style>#sk-container-id-12 {color: black;background-color: white;}#sk-container-id-12 pre{padding: 0;}#sk-container-id-12 div.sk-toggleable {background-color: white;}#sk-container-id-12 label.sk-toggleable__label {cursor: pointer;display: block;width: 100%;margin-bottom: 0;padding: 0.3em;box-sizing: border-box;text-align: center;}#sk-container-id-12 label.sk-toggleable__label-arrow:before {content: \"▸\";float: left;margin-right: 0.25em;color: #696969;}#sk-container-id-12 label.sk-toggleable__label-arrow:hover:before {color: black;}#sk-container-id-12 div.sk-estimator:hover label.sk-toggleable__label-arrow:before {color: black;}#sk-container-id-12 div.sk-toggleable__content {max-height: 0;max-width: 0;overflow: hidden;text-align: left;background-color: #f0f8ff;}#sk-container-id-12 div.sk-toggleable__content pre {margin: 0.2em;color: black;border-radius: 0.25em;background-color: #f0f8ff;}#sk-container-id-12 input.sk-toggleable__control:checked~div.sk-toggleable__content {max-height: 200px;max-width: 100%;overflow: auto;}#sk-container-id-12 input.sk-toggleable__control:checked~label.sk-toggleable__label-arrow:before {content: \"▾\";}#sk-container-id-12 div.sk-estimator input.sk-toggleable__control:checked~label.sk-toggleable__label {background-color: #d4ebff;}#sk-container-id-12 div.sk-label input.sk-toggleable__control:checked~label.sk-toggleable__label {background-color: #d4ebff;}#sk-container-id-12 input.sk-hidden--visually {border: 0;clip: rect(1px 1px 1px 1px);clip: rect(1px, 1px, 1px, 1px);height: 1px;margin: -1px;overflow: hidden;padding: 0;position: absolute;width: 1px;}#sk-container-id-12 div.sk-estimator {font-family: monospace;background-color: #f0f8ff;border: 1px dotted black;border-radius: 0.25em;box-sizing: border-box;margin-bottom: 0.5em;}#sk-container-id-12 div.sk-estimator:hover {background-color: #d4ebff;}#sk-container-id-12 div.sk-parallel-item::after {content: \"\";width: 100%;border-bottom: 1px solid gray;flex-grow: 1;}#sk-container-id-12 div.sk-label:hover label.sk-toggleable__label {background-color: #d4ebff;}#sk-container-id-12 div.sk-serial::before {content: \"\";position: absolute;border-left: 1px solid gray;box-sizing: border-box;top: 0;bottom: 0;left: 50%;z-index: 0;}#sk-container-id-12 div.sk-serial {display: flex;flex-direction: column;align-items: center;background-color: white;padding-right: 0.2em;padding-left: 0.2em;position: relative;}#sk-container-id-12 div.sk-item {position: relative;z-index: 1;}#sk-container-id-12 div.sk-parallel {display: flex;align-items: stretch;justify-content: center;background-color: white;position: relative;}#sk-container-id-12 div.sk-item::before, #sk-container-id-12 div.sk-parallel-item::before {content: \"\";position: absolute;border-left: 1px solid gray;box-sizing: border-box;top: 0;bottom: 0;left: 50%;z-index: -1;}#sk-container-id-12 div.sk-parallel-item {display: flex;flex-direction: column;z-index: 1;position: relative;background-color: white;}#sk-container-id-12 div.sk-parallel-item:first-child::after {align-self: flex-end;width: 50%;}#sk-container-id-12 div.sk-parallel-item:last-child::after {align-self: flex-start;width: 50%;}#sk-container-id-12 div.sk-parallel-item:only-child::after {width: 0;}#sk-container-id-12 div.sk-dashed-wrapped {border: 1px dashed gray;margin: 0 0.4em 0.5em 0.4em;box-sizing: border-box;padding-bottom: 0.4em;background-color: white;}#sk-container-id-12 div.sk-label label {font-family: monospace;font-weight: bold;display: inline-block;line-height: 1.2em;}#sk-container-id-12 div.sk-label-container {text-align: center;}#sk-container-id-12 div.sk-container {/* jupyter's `normalize.less` sets `[hidden] { display: none; }` but bootstrap.min.css set `[hidden] { display: none !important; }` so we also need the `!important` here to be able to override the default hidden behavior on the sphinx rendered scikit-learn.org. See: https://github.com/scikit-learn/scikit-learn/issues/21755 */display: inline-block !important;position: relative;}#sk-container-id-12 div.sk-text-repr-fallback {display: none;}</style><div id=\"sk-container-id-12\" class=\"sk-top-container\"><div class=\"sk-text-repr-fallback\"><pre>RandomForestClassifier(max_depth=9, n_estimators=52, random_state=12345)</pre><b>In a Jupyter environment, please rerun this cell to show the HTML representation or trust the notebook. <br />On GitHub, the HTML representation is unable to render, please try loading this page with nbviewer.org.</b></div><div class=\"sk-container\" hidden><div class=\"sk-item\"><div class=\"sk-estimator sk-toggleable\"><input class=\"sk-toggleable__control sk-hidden--visually\" id=\"sk-estimator-id-12\" type=\"checkbox\" checked><label for=\"sk-estimator-id-12\" class=\"sk-toggleable__label sk-toggleable__label-arrow\">RandomForestClassifier</label><div class=\"sk-toggleable__content\"><pre>RandomForestClassifier(max_depth=9, n_estimators=52, random_state=12345)</pre></div></div></div></div></div>"
      ],
      "text/plain": [
       "RandomForestClassifier(max_depth=9, n_estimators=52, random_state=12345)"
      ]
     },
     "execution_count": 85,
     "metadata": {},
     "output_type": "execute_result"
    }
   ],
   "source": [
    "%%time\n",
    "best_model = None\n",
    "best_result = 0\n",
    "best_est = 0\n",
    "best_depth = 0\n",
    "for est in range(1,61, 1):\n",
    "    for depth in range (1, 21):\n",
    "        model = RandomForestClassifier(random_state=12345, n_estimators=est, max_depth=depth)\n",
    "        model.fit(features_downsampled, target_downsampled)\n",
    "        predictions_valid = model.predict(features_valid)\n",
    "        result = f1_score(target_valid,predictions_valid)\n",
    "        if result > best_result:\n",
    "            best_model = model\n",
    "            best_result = result\n",
    "            best_est = est\n",
    "            best_depth = depth\n",
    "model_forest = best_model\n",
    "model_forest"
   ]
  },
  {
   "cell_type": "markdown",
   "metadata": {},
   "source": [
    "##### F1 наилучшей модели на валидационной выборке:"
   ]
  },
  {
   "cell_type": "code",
   "execution_count": 86,
   "metadata": {},
   "outputs": [
    {
     "data": {
      "text/plain": [
       "0.628755364806867"
      ]
     },
     "execution_count": 86,
     "metadata": {},
     "output_type": "execute_result"
    }
   ],
   "source": [
    " best_result"
   ]
  },
  {
   "cell_type": "markdown",
   "metadata": {},
   "source": [
    "Значение ухудшилось относительно 2-х предыдущих способов балансировки"
   ]
  },
  {
   "cell_type": "markdown",
   "metadata": {},
   "source": [
    "##### Метрика AUC-ROC для данной модели:"
   ]
  },
  {
   "cell_type": "code",
   "execution_count": 87,
   "metadata": {},
   "outputs": [
    {
     "data": {
      "text/plain": [
       "0.8787732589221682"
      ]
     },
     "execution_count": 87,
     "metadata": {},
     "output_type": "execute_result"
    }
   ],
   "source": [
    "probabilities_valid = model_forest.predict_proba(features_valid)\n",
    "probabilities_one_valid = probabilities_valid[:, 1]\n",
    "roc_auc_score(target_valid, probabilities_one_valid)"
   ]
  },
  {
   "cell_type": "markdown",
   "metadata": {},
   "source": [
    "#### Модель **\"Логистическая регрессия\"**"
   ]
  },
  {
   "cell_type": "markdown",
   "metadata": {},
   "source": [
    "##### Обучение модели:"
   ]
  },
  {
   "cell_type": "code",
   "execution_count": 88,
   "metadata": {},
   "outputs": [
    {
     "data": {
      "text/html": [
       "<style>#sk-container-id-13 {color: black;background-color: white;}#sk-container-id-13 pre{padding: 0;}#sk-container-id-13 div.sk-toggleable {background-color: white;}#sk-container-id-13 label.sk-toggleable__label {cursor: pointer;display: block;width: 100%;margin-bottom: 0;padding: 0.3em;box-sizing: border-box;text-align: center;}#sk-container-id-13 label.sk-toggleable__label-arrow:before {content: \"▸\";float: left;margin-right: 0.25em;color: #696969;}#sk-container-id-13 label.sk-toggleable__label-arrow:hover:before {color: black;}#sk-container-id-13 div.sk-estimator:hover label.sk-toggleable__label-arrow:before {color: black;}#sk-container-id-13 div.sk-toggleable__content {max-height: 0;max-width: 0;overflow: hidden;text-align: left;background-color: #f0f8ff;}#sk-container-id-13 div.sk-toggleable__content pre {margin: 0.2em;color: black;border-radius: 0.25em;background-color: #f0f8ff;}#sk-container-id-13 input.sk-toggleable__control:checked~div.sk-toggleable__content {max-height: 200px;max-width: 100%;overflow: auto;}#sk-container-id-13 input.sk-toggleable__control:checked~label.sk-toggleable__label-arrow:before {content: \"▾\";}#sk-container-id-13 div.sk-estimator input.sk-toggleable__control:checked~label.sk-toggleable__label {background-color: #d4ebff;}#sk-container-id-13 div.sk-label input.sk-toggleable__control:checked~label.sk-toggleable__label {background-color: #d4ebff;}#sk-container-id-13 input.sk-hidden--visually {border: 0;clip: rect(1px 1px 1px 1px);clip: rect(1px, 1px, 1px, 1px);height: 1px;margin: -1px;overflow: hidden;padding: 0;position: absolute;width: 1px;}#sk-container-id-13 div.sk-estimator {font-family: monospace;background-color: #f0f8ff;border: 1px dotted black;border-radius: 0.25em;box-sizing: border-box;margin-bottom: 0.5em;}#sk-container-id-13 div.sk-estimator:hover {background-color: #d4ebff;}#sk-container-id-13 div.sk-parallel-item::after {content: \"\";width: 100%;border-bottom: 1px solid gray;flex-grow: 1;}#sk-container-id-13 div.sk-label:hover label.sk-toggleable__label {background-color: #d4ebff;}#sk-container-id-13 div.sk-serial::before {content: \"\";position: absolute;border-left: 1px solid gray;box-sizing: border-box;top: 0;bottom: 0;left: 50%;z-index: 0;}#sk-container-id-13 div.sk-serial {display: flex;flex-direction: column;align-items: center;background-color: white;padding-right: 0.2em;padding-left: 0.2em;position: relative;}#sk-container-id-13 div.sk-item {position: relative;z-index: 1;}#sk-container-id-13 div.sk-parallel {display: flex;align-items: stretch;justify-content: center;background-color: white;position: relative;}#sk-container-id-13 div.sk-item::before, #sk-container-id-13 div.sk-parallel-item::before {content: \"\";position: absolute;border-left: 1px solid gray;box-sizing: border-box;top: 0;bottom: 0;left: 50%;z-index: -1;}#sk-container-id-13 div.sk-parallel-item {display: flex;flex-direction: column;z-index: 1;position: relative;background-color: white;}#sk-container-id-13 div.sk-parallel-item:first-child::after {align-self: flex-end;width: 50%;}#sk-container-id-13 div.sk-parallel-item:last-child::after {align-self: flex-start;width: 50%;}#sk-container-id-13 div.sk-parallel-item:only-child::after {width: 0;}#sk-container-id-13 div.sk-dashed-wrapped {border: 1px dashed gray;margin: 0 0.4em 0.5em 0.4em;box-sizing: border-box;padding-bottom: 0.4em;background-color: white;}#sk-container-id-13 div.sk-label label {font-family: monospace;font-weight: bold;display: inline-block;line-height: 1.2em;}#sk-container-id-13 div.sk-label-container {text-align: center;}#sk-container-id-13 div.sk-container {/* jupyter's `normalize.less` sets `[hidden] { display: none; }` but bootstrap.min.css set `[hidden] { display: none !important; }` so we also need the `!important` here to be able to override the default hidden behavior on the sphinx rendered scikit-learn.org. See: https://github.com/scikit-learn/scikit-learn/issues/21755 */display: inline-block !important;position: relative;}#sk-container-id-13 div.sk-text-repr-fallback {display: none;}</style><div id=\"sk-container-id-13\" class=\"sk-top-container\"><div class=\"sk-text-repr-fallback\"><pre>LogisticRegression(max_iter=1000, random_state=12345)</pre><b>In a Jupyter environment, please rerun this cell to show the HTML representation or trust the notebook. <br />On GitHub, the HTML representation is unable to render, please try loading this page with nbviewer.org.</b></div><div class=\"sk-container\" hidden><div class=\"sk-item\"><div class=\"sk-estimator sk-toggleable\"><input class=\"sk-toggleable__control sk-hidden--visually\" id=\"sk-estimator-id-13\" type=\"checkbox\" checked><label for=\"sk-estimator-id-13\" class=\"sk-toggleable__label sk-toggleable__label-arrow\">LogisticRegression</label><div class=\"sk-toggleable__content\"><pre>LogisticRegression(max_iter=1000, random_state=12345)</pre></div></div></div></div></div>"
      ],
      "text/plain": [
       "LogisticRegression(max_iter=1000, random_state=12345)"
      ]
     },
     "execution_count": 88,
     "metadata": {},
     "output_type": "execute_result"
    }
   ],
   "source": [
    "model_regress = LogisticRegression(random_state=12345, solver='lbfgs', max_iter=1000)\n",
    "model_regress.fit(features_downsampled, target_downsampled)\n",
    "model_regress"
   ]
  },
  {
   "cell_type": "markdown",
   "metadata": {},
   "source": [
    "##### F1 модели на валидационной выборке:"
   ]
  },
  {
   "cell_type": "code",
   "execution_count": 89,
   "metadata": {},
   "outputs": [
    {
     "data": {
      "text/plain": [
       "0.5139664804469274"
      ]
     },
     "execution_count": 89,
     "metadata": {},
     "output_type": "execute_result"
    }
   ],
   "source": [
    "predictions_valid = model_regress.predict(features_valid)\n",
    "f1_score(target_valid,predictions_valid)"
   ]
  },
  {
   "cell_type": "markdown",
   "metadata": {},
   "source": [
    "Значение незначительно ухудшилось относительно 2-х  способа балансировки \"Увеличение выборки\""
   ]
  },
  {
   "cell_type": "markdown",
   "metadata": {},
   "source": [
    "##### Метрика AUC-ROC для данной модели:"
   ]
  },
  {
   "cell_type": "code",
   "execution_count": 90,
   "metadata": {},
   "outputs": [
    {
     "data": {
      "text/plain": [
       "0.7910948760983315"
      ]
     },
     "execution_count": 90,
     "metadata": {},
     "output_type": "execute_result"
    }
   ],
   "source": [
    "probabilities_valid = model_regress.predict_proba(features_valid)\n",
    "probabilities_one_valid = probabilities_valid[:, 1]\n",
    "roc_auc_score(target_valid, probabilities_one_valid)"
   ]
  },
  {
   "cell_type": "markdown",
   "metadata": {},
   "source": [
    "#### Выводы:"
   ]
  },
  {
   "cell_type": "markdown",
   "metadata": {},
   "source": [
    "1. При использовании уменьшения выборки наилучший результат показала модель \"Случайный лес\" с параметрами max_depth=9, n_estimators=52, random_state=12345:<br />\n",
    "F1 = 0.629, AUC-ROC = 0.879.<br />\n",
    "Она уже приемлема, но хуже результата при увеличении выборки.\n",
    "2. Остальные 2 модели показывают результат ниже минимально приемлемого"
   ]
  },
  {
   "cell_type": "markdown",
   "metadata": {},
   "source": [
    "### **Изменение порога классификации**"
   ]
  },
  {
   "cell_type": "markdown",
   "metadata": {},
   "source": [
    "Возьмем лучшие из сбалансированных и несбалансированных моделей и подберем им оптимальный порог"
   ]
  },
  {
   "cell_type": "markdown",
   "metadata": {},
   "source": [
    "#### Модель **\"Решающее дерево\"**"
   ]
  },
  {
   "cell_type": "markdown",
   "metadata": {},
   "source": [
    "Для модели \"Решающее дерево\" лучшее значение F1 было при увеличении обучающей выборки с параметрами random_state=12345, max_depth=7: 0.589 при значении AUC-ROC = 0.817<br />\n",
    "Применим для нее взвешивание классов и подберем порог"
   ]
  },
  {
   "cell_type": "code",
   "execution_count": 91,
   "metadata": {},
   "outputs": [
    {
     "name": "stdout",
     "output_type": "stream",
     "text": [
      "Порог = 0.68 | F1 = 0.593, AUC-ROC = 0.817\n",
      "CPU times: user 406 ms, sys: 3.94 ms, total: 410 ms\n",
      "Wall time: 416 ms\n"
     ]
    }
   ],
   "source": [
    "%%time\n",
    "model = DecisionTreeClassifier(random_state=12345, max_depth=7)\n",
    "model.fit(features_upsampled, target_upsampled)\n",
    "probabilities_valid = model.predict_proba(features_valid)\n",
    "probabilities_one_valid = probabilities_valid[:, 1]\n",
    "max_f1 = 0\n",
    "for threshold in np.arange(0, 1, 0.01):\n",
    "    predicted_valid = probabilities_one_valid > threshold\n",
    "    f1 = f1_score(target_valid,predicted_valid)\n",
    "    roc_auc = roc_auc_score(target_valid, probabilities_one_valid)\n",
    "    if f1 > max_f1:\n",
    "        max_f1 = f1\n",
    "        max_roc_auc = roc_auc\n",
    "        max_trh = threshold\n",
    "print(\"Порог = {:.2f} | F1 = {:.3f}, AUC-ROC = {:.3f}\".format(max_trh, max_f1, max_roc_auc))"
   ]
  },
  {
   "cell_type": "markdown",
   "metadata": {},
   "source": [
    "При пороге 0.68 значение F1 увеличилось до 0.593 и превысило минимально приемлемое (0.59)!"
   ]
  },
  {
   "cell_type": "markdown",
   "metadata": {},
   "source": [
    "Сравним ее с лучшей моделью без балансировки:"
   ]
  },
  {
   "cell_type": "code",
   "execution_count": 92,
   "metadata": {},
   "outputs": [
    {
     "name": "stdout",
     "output_type": "stream",
     "text": [
      "Порог = 0.39 | F1 = 0.602, AUC-ROC = 0.828\n",
      "CPU times: user 512 ms, sys: 3.85 ms, total: 516 ms\n",
      "Wall time: 527 ms\n"
     ]
    }
   ],
   "source": [
    "%%time\n",
    "model = DecisionTreeClassifier(random_state=12345, max_depth=7)\n",
    "model.fit(features_train, target_train)\n",
    "probabilities_valid = model.predict_proba(features_valid)\n",
    "probabilities_one_valid = probabilities_valid[:, 1]\n",
    "max_f1 = 0\n",
    "for threshold in np.arange(0, 1, 0.01):\n",
    "    predicted_valid = probabilities_one_valid > threshold\n",
    "    f1 = f1_score(target_valid,predicted_valid)\n",
    "    roc_auc = roc_auc_score(target_valid, probabilities_one_valid)\n",
    "    if f1 > max_f1:\n",
    "        max_f1 = f1\n",
    "        max_roc_auc = roc_auc\n",
    "        max_trh = threshold\n",
    "print(\"Порог = {:.2f} | F1 = {:.3f}, AUC-ROC = {:.3f}\".format(max_trh, max_f1, max_roc_auc))"
   ]
  },
  {
   "cell_type": "markdown",
   "metadata": {},
   "source": [
    "Значения F1 и AUC-ROC оказались лучше на модели без балансировки"
   ]
  },
  {
   "cell_type": "markdown",
   "metadata": {},
   "source": [
    "#### Модель **\"Случайный лес\"**"
   ]
  },
  {
   "cell_type": "markdown",
   "metadata": {},
   "source": [
    "Для модели \"Случайный лес\" лучшее значение F1 было при увеличении обучающей выборки с параметрами max_depth=11, n_estimators=48, random_state=12345: 0.654 при значении AUC-ROC = 0.875"
   ]
  },
  {
   "cell_type": "code",
   "execution_count": 93,
   "metadata": {
    "scrolled": true
   },
   "outputs": [
    {
     "name": "stdout",
     "output_type": "stream",
     "text": [
      "Порог = 0.50 | F1 = 0.654, AUC-ROC = 0.875\n",
      "CPU times: user 965 ms, sys: 19.9 ms, total: 985 ms\n",
      "Wall time: 987 ms\n"
     ]
    }
   ],
   "source": [
    "%%time\n",
    "model = RandomForestClassifier(random_state=12345, n_estimators=48, max_depth=11)\n",
    "model.fit(features_upsampled, target_upsampled)\n",
    "probabilities_valid = model.predict_proba(features_valid)\n",
    "probabilities_one_valid = probabilities_valid[:, 1]\n",
    "max_f1 = 0\n",
    "for threshold in np.arange(0, 1, 0.01):\n",
    "    predicted_valid = probabilities_one_valid > threshold\n",
    "    f1 = f1_score(target_valid,predicted_valid)\n",
    "    roc_auc = roc_auc_score(target_valid, probabilities_one_valid)\n",
    "    if f1 > max_f1:\n",
    "        max_f1 = f1\n",
    "        max_roc_auc = roc_auc\n",
    "        max_trh = threshold\n",
    "print(\"Порог = {:.2f} | F1 = {:.3f}, AUC-ROC = {:.3f}\".format(max_trh, max_f1, max_roc_auc))"
   ]
  },
  {
   "cell_type": "markdown",
   "metadata": {},
   "source": [
    "Данная модель не требует изменения порога"
   ]
  },
  {
   "cell_type": "markdown",
   "metadata": {},
   "source": [
    "Сравним ее с лучшей моделью без балансировки:"
   ]
  },
  {
   "cell_type": "code",
   "execution_count": 94,
   "metadata": {
    "scrolled": true
   },
   "outputs": [
    {
     "name": "stdout",
     "output_type": "stream",
     "text": [
      "Порог = 0.34 | F1 = 0.660, AUC-ROC = 0.867\n",
      "CPU times: user 756 ms, sys: 3.94 ms, total: 760 ms\n",
      "Wall time: 771 ms\n"
     ]
    }
   ],
   "source": [
    "%%time\n",
    "model = RandomForestClassifier(random_state=12345, n_estimators=32, max_depth=14)\n",
    "model.fit(features_train, target_train)\n",
    "probabilities_valid = model.predict_proba(features_valid)\n",
    "probabilities_one_valid = probabilities_valid[:, 1]\n",
    "max_f1 = 0\n",
    "for threshold in np.arange(0, 1, 0.01):\n",
    "    predicted_valid = probabilities_one_valid > threshold\n",
    "    f1 = f1_score(target_valid,predicted_valid)\n",
    "    roc_auc = roc_auc_score(target_valid, probabilities_one_valid)\n",
    "    if f1 > max_f1:\n",
    "        max_f1 = f1\n",
    "        max_roc_auc = roc_auc\n",
    "        max_trh = threshold\n",
    "print(\"Порог = {:.2f} | F1 = {:.3f}, AUC-ROC = {:.3f}\".format(max_trh, max_f1, max_roc_auc))"
   ]
  },
  {
   "cell_type": "markdown",
   "metadata": {},
   "source": [
    "Значение F1 увеличилось, а AUC-ROC - незначительно уменьшились"
   ]
  },
  {
   "cell_type": "markdown",
   "metadata": {},
   "source": [
    "#### Модель **\"Логистическая регрессия\"**"
   ]
  },
  {
   "cell_type": "markdown",
   "metadata": {},
   "source": [
    "Для модели \"Логистическая регрессия\" лучшее значение F1 было при уменьшении обучающей выборки:  0.508 при значении AUC-ROC =\n",
    "    0.791<br />"
   ]
  },
  {
   "cell_type": "code",
   "execution_count": 95,
   "metadata": {},
   "outputs": [
    {
     "name": "stdout",
     "output_type": "stream",
     "text": [
      "Порог = 0.56 | F1 = 0.522, AUC-ROC = 0.791\n"
     ]
    }
   ],
   "source": [
    "model = LogisticRegression(random_state=12345, solver='lbfgs', max_iter=1000)\n",
    "model.fit(features_downsampled, target_downsampled)\n",
    "probabilities_valid = model.predict_proba(features_valid)\n",
    "probabilities_one_valid = probabilities_valid[:, 1]\n",
    "max_f1 = 0\n",
    "for threshold in np.arange (0, 1, 0.01):\n",
    "    predicted_valid = probabilities_one_valid > threshold\n",
    "    f1 = f1_score(target_valid,predicted_valid)\n",
    "    roc_auc = roc_auc_score(target_valid, probabilities_one_valid)\n",
    "    if f1 > max_f1:\n",
    "        max_f1 = f1\n",
    "        max_roc_auc = roc_auc\n",
    "        max_trh = threshold\n",
    "print(\"Порог = {:.2f} | F1 = {:.3f}, AUC-ROC = {:.3f}\".format(max_trh, max_f1, max_roc_auc))"
   ]
  },
  {
   "cell_type": "markdown",
   "metadata": {},
   "source": [
    "Данные модели улучшились, но минимально приемлемое значение (0.59) не достигнуто."
   ]
  },
  {
   "cell_type": "markdown",
   "metadata": {},
   "source": [
    "Сравним ее с моделью без балансировки:"
   ]
  },
  {
   "cell_type": "code",
   "execution_count": 96,
   "metadata": {},
   "outputs": [
    {
     "name": "stdout",
     "output_type": "stream",
     "text": [
      "Порог = 0.28 | F1 = 0.532, AUC-ROC = 0.789\n"
     ]
    }
   ],
   "source": [
    "model = LogisticRegression(random_state=12345, solver='lbfgs', max_iter=1000)\n",
    "model.fit(features_train, target_train)\n",
    "probabilities_valid = model.predict_proba(features_valid)\n",
    "probabilities_one_valid = probabilities_valid[:, 1]\n",
    "max_f1 = 0\n",
    "for threshold in np.arange(0, 1, 0.01):\n",
    "    predicted_valid = probabilities_one_valid > threshold\n",
    "    f1 = f1_score(target_valid,predicted_valid)\n",
    "    roc_auc = roc_auc_score(target_valid, probabilities_one_valid)\n",
    "    if f1 > max_f1:\n",
    "        max_f1 = f1\n",
    "        max_roc_auc = roc_auc\n",
    "        max_trh = threshold\n",
    "print(\"Порог = {:.2f} | F1 = {:.3f}, AUC-ROC = {:.3f}\".format(max_trh, max_f1, max_roc_auc))"
   ]
  },
  {
   "cell_type": "markdown",
   "metadata": {},
   "source": [
    "F1 незначительно улучшилось, AUC-ROC незначительно ухудшилось...."
   ]
  },
  {
   "cell_type": "markdown",
   "metadata": {},
   "source": [
    "### **Выводы:**"
   ]
  },
  {
   "cell_type": "markdown",
   "metadata": {},
   "source": [
    "1. Балансировка благотворно влияет метрику F1 и практически не влияет на метрику AUC-ROC.\n",
    "2. Среди способов борьбы с дисбалансом наиболее эффективным показало себя изменение порога классификации.\n",
    "3. Наилучший результат показала модель \"Случайный лес\" с параметрами random_state=12345, n_estimators=32, max_depth=14, построенная на обучающей выборке, с порогом, измененным до 0.34: F1 = 0.660, AUC-ROC = 0.867<br />"
   ]
  },
  {
   "cell_type": "markdown",
   "metadata": {},
   "source": [
    "## **Тестирование модели**"
   ]
  },
  {
   "cell_type": "markdown",
   "metadata": {},
   "source": [
    "### Протестируем нашу лучшую модель на тестовых данных:"
   ]
  },
  {
   "cell_type": "code",
   "execution_count": 97,
   "metadata": {},
   "outputs": [
    {
     "name": "stdout",
     "output_type": "stream",
     "text": [
      "F1 = 0.603, AUC-ROC = 0.843\n",
      "CPU times: user 307 ms, sys: 11.9 ms, total: 319 ms\n",
      "Wall time: 329 ms\n"
     ]
    }
   ],
   "source": [
    "%%time\n",
    "model = RandomForestClassifier(random_state=12345, n_estimators=32, max_depth=14)\n",
    "model.fit(features_train, target_train)\n",
    "probabilities_test = model.predict_proba(features_test)\n",
    "probabilities_one_test = probabilities_test[:, 1]\n",
    "predicted_test = probabilities_one_test > 0.34\n",
    "f1 = f1_score(target_test,predicted_test)\n",
    "roc_auc = roc_auc_score(target_test, probabilities_one_test)\n",
    "print(\"F1 = {:.3f}, AUC-ROC = {:.3f}\".format(f1, roc_auc))"
   ]
  },
  {
   "cell_type": "markdown",
   "metadata": {},
   "source": [
    "F1 на тестовых данных ухудшилось на 9%, AUC-ROC - на 3%, что показывает высокое качество построенной модели."
   ]
  },
  {
   "cell_type": "markdown",
   "metadata": {},
   "source": [
    "### ROC-кривая для нашей модели:"
   ]
  },
  {
   "cell_type": "code",
   "execution_count": 98,
   "metadata": {
    "scrolled": true
   },
   "outputs": [
    {
     "data": {
      "image/png": "[encoded data removed]",
      "text/plain": [
       "<Figure size 432x288 with 1 Axes>"
      ]
     },
     "metadata": {
      "needs_background": "light"
     },
     "output_type": "display_data"
    }
   ],
   "source": [
    "fpr, tpr, thresholds = roc_curve(target_valid, probabilities_one_valid) \n",
    "plt.figure()\n",
    "plt.plot(fpr, tpr)\n",
    "# ROC-кривая случайной модели (выглядит как прямая)\n",
    "plt.plot([0, 1], [0, 1], linestyle='--')\n",
    "plt.ylim([0.0, 1.0])\n",
    "plt.xlim([0.0, 1.0])\n",
    "plt.xlabel('False Positive Rate')\n",
    "plt.ylabel('True Positive Rate')\n",
    "plt.title('ROC-кривая')\n",
    "plt.show()\n"
   ]
  },
  {
   "cell_type": "markdown",
   "metadata": {},
   "source": [
    "ROC-кривая выбранной модели значительно выше графика случайной модели, что показывает ее адекватность. Соответственно, площадь под кривой, она же метрика AUC-ROC, равная 0.867 значительно больше площади под кривой случайной модели (0.5)"
   ]
  },
  {
   "cell_type": "markdown",
   "metadata": {},
   "source": [
    "### Выводы:"
   ]
  },
  {
   "cell_type": "markdown",
   "metadata": {},
   "source": [
    "1. Выбранная модель остается корректной на тестовой выборке \n",
    "2. График ROC-кривой показывает ее адекватность."
   ]
  },
  {
   "cell_type": "markdown",
   "metadata": {},
   "source": [
    "## **Чек-лист готовности проекта**"
   ]
  },
  {
   "cell_type": "markdown",
   "metadata": {},
   "source": [
    "Поставьте 'x' в выполненных пунктах. Далее нажмите Shift+Enter."
   ]
  },
  {
   "cell_type": "markdown",
   "metadata": {},
   "source": [
    "- [x]  Jupyter Notebook открыт\n",
    "- [x]  Весь код выполняется без ошибок\n",
    "- [x]  Ячейки с кодом расположены в порядке исполнения\n",
    "- [x]  Выполнен шаг 1: данные подготовлены\n",
    "- [x]  Выполнен шаг 2: задача исследована\n",
    "    - [x]  Исследован баланс классов\n",
    "    - [x]  Изучены модели без учёта дисбаланса\n",
    "    - [x]  Написаны выводы по результатам исследования\n",
    "- [x]  Выполнен шаг 3: учтён дисбаланс\n",
    "    - [x]  Применено несколько способов борьбы с дисбалансом\n",
    "    - [x]  Написаны выводы по результатам исследования\n",
    "- [x]  Выполнен шаг 4: проведено тестирование\n",
    "- [x]  Удалось достичь *F1*-меры не менее 0.59\n",
    "- [x]  Исследована метрика *AUC-ROC*"
   ]
  },
  {
   "cell_type": "markdown",
   "metadata": {},
   "source": [
    "## **Итоги проекта:**"
   ]
  },
  {
   "cell_type": "markdown",
   "metadata": {},
   "source": [
    "**I. Подготовка данных**\n",
    "1. Исследованы данные в исходном датасете:<br />\n",
    "Исходный датасет содержит 10000 записей о клиентах банка. Данные не содержат выбросов, 9% записей содержат пропуски данных.\n",
    "\n",
    "2. Подготовлены признаки:\n",
    "- Удалено 909 записей (около 9%), содержащих неполные данные.\n",
    "- Выделены признаки и целевой признак\n",
    "- Произведено прямое кодирование признаков \"Пол\" и \"Страна проживания\"\n",
    "- Датасет разбит на обучающую, валидационную и тестовую выборку\n",
    "- Произведено масштабирование числовых признаков в каждой из выборок\n",
    "3. В целевом признаке присутствует дисбаланс (1:4)\n",
    "\n",
    "**II Исследование задачи**\n",
    "1. Построена модель DummyClassifier для проверки адекватности получаемых моделей.\n",
    "2. Построены модели \"Решающее дерево\", \"Случайный лес\" и \"Логистическая регрессия\", для которых были подобраны гиперпараметры для получения максимальной метрики F1.<br />  \n",
    "Наилучший результат показала модель \"Случайный лес\" с параметрами max_depth=14, n_estimators=32, random_state=12345:\n",
    "F1 = 0.630, AUC-ROC = 0.869. \n",
    "\n",
    "**III. Борьба с дисбалансом**\n",
    "\n",
    "1. Для каждого из трех типов моделей были произведены взвешивание классов, увеличение и уменьшение обучающей выборки, изменение порога классификации. Для данной задачи изменение порога классификации показало себя наиболее эффективным.\n",
    "2. Наилучший результат показала модель \"Случайный лес\" с параметрами random_state=12345, n_estimators=32, max_depth=14, с порогом, измененным до 0.34: F1 = 0.660, AUC-ROC = 0.867, которая и выбирается для дальнейшего тестирования.\n",
    "3. Балансировка благотворно влияет метрику F1 и не влияет на метрику AUC-ROC.\n",
    "\n",
    "**IV. Тестирование модели**\n",
    "1. Выбранная модель остается корректной на тестовой выборке: на тестовых данных F1 = 0.603, AUC-ROC = 0.843\n",
    "2. График ROC-кривой показывает ее адекватность.\n",
    "\n",
    "**V. Итог:**<br /><br />\n",
    "Для прогноза ухода клиентов из банка рекомендуется использовать модель \"Случайный лес\" с параметрами random_state=12345, n_estimators=32, max_depth=14, с порогом, измененным до 0.34."
   ]
  },
  {
   "cell_type": "code",
   "execution_count": null,
   "metadata": {},
   "outputs": [],
   "source": []
  }
 ],
 "metadata": {
  "ExecuteTimeLog": [
   {
    "duration": 496,
    "start_time": "2023-01-15T20:59:58.733Z"
   },
   {
    "duration": 968,
    "start_time": "2023-01-15T21:11:23.689Z"
   },
   {
    "duration": 5,
    "start_time": "2023-01-15T21:11:26.565Z"
   },
   {
    "duration": 4,
    "start_time": "2023-01-15T21:11:29.795Z"
   },
   {
    "duration": 10,
    "start_time": "2023-01-15T21:11:31.245Z"
   },
   {
    "duration": 5,
    "start_time": "2023-01-15T21:11:32.653Z"
   },
   {
    "duration": 10351,
    "start_time": "2023-01-15T21:11:46.524Z"
   },
   {
    "duration": 9921,
    "start_time": "2023-01-15T21:12:26.607Z"
   },
   {
    "duration": 10457,
    "start_time": "2023-01-15T21:14:20.408Z"
   },
   {
    "duration": 10065,
    "start_time": "2023-01-15T21:15:00.694Z"
   },
   {
    "duration": 6,
    "start_time": "2023-01-15T21:15:12.884Z"
   },
   {
    "duration": 10822,
    "start_time": "2023-01-15T21:15:17.976Z"
   },
   {
    "duration": 24,
    "start_time": "2023-01-15T21:16:13.357Z"
   },
   {
    "duration": 4,
    "start_time": "2023-01-15T21:16:15.271Z"
   },
   {
    "duration": 9989,
    "start_time": "2023-01-15T21:16:21.666Z"
   },
   {
    "duration": 47,
    "start_time": "2023-01-16T19:39:45.837Z"
   },
   {
    "duration": 1433,
    "start_time": "2023-01-16T19:40:00.801Z"
   },
   {
    "duration": 54,
    "start_time": "2023-01-16T19:40:03.155Z"
   },
   {
    "duration": 4,
    "start_time": "2023-01-16T19:40:05.177Z"
   },
   {
    "duration": 3,
    "start_time": "2023-01-16T19:40:10.609Z"
   },
   {
    "duration": 4,
    "start_time": "2023-01-16T19:40:13.322Z"
   },
   {
    "duration": 10,
    "start_time": "2023-01-16T19:40:16.340Z"
   },
   {
    "duration": 74,
    "start_time": "2023-01-16T19:40:20.216Z"
   },
   {
    "duration": 6,
    "start_time": "2023-01-16T19:40:31.714Z"
   },
   {
    "duration": 11,
    "start_time": "2023-01-16T19:40:33.035Z"
   },
   {
    "duration": 1178,
    "start_time": "2023-01-16T19:40:44.247Z"
   },
   {
    "duration": 39,
    "start_time": "2023-01-16T19:40:45.427Z"
   },
   {
    "duration": 4,
    "start_time": "2023-01-16T19:40:45.468Z"
   },
   {
    "duration": 12,
    "start_time": "2023-01-16T19:40:45.473Z"
   },
   {
    "duration": 5,
    "start_time": "2023-01-16T19:40:45.487Z"
   },
   {
    "duration": 10,
    "start_time": "2023-01-16T19:40:45.495Z"
   },
   {
    "duration": 11,
    "start_time": "2023-01-16T19:40:45.507Z"
   },
   {
    "duration": 105,
    "start_time": "2023-01-16T19:40:45.520Z"
   },
   {
    "duration": 0,
    "start_time": "2023-01-16T19:40:45.627Z"
   },
   {
    "duration": 91,
    "start_time": "2023-01-16T19:41:09.517Z"
   },
   {
    "duration": 10508,
    "start_time": "2023-01-16T19:41:12.121Z"
   },
   {
    "duration": 4,
    "start_time": "2023-01-16T19:42:55.084Z"
   },
   {
    "duration": 9,
    "start_time": "2023-01-16T19:51:10.811Z"
   },
   {
    "duration": 8412,
    "start_time": "2023-01-16T19:51:24.260Z"
   },
   {
    "duration": 9,
    "start_time": "2023-01-16T19:54:51.804Z"
   },
   {
    "duration": 8532,
    "start_time": "2023-01-16T19:54:57.811Z"
   },
   {
    "duration": 8,
    "start_time": "2023-01-16T19:56:15.996Z"
   },
   {
    "duration": 8240,
    "start_time": "2023-01-16T19:56:23.724Z"
   },
   {
    "duration": 9,
    "start_time": "2023-01-16T19:59:13.339Z"
   },
   {
    "duration": 8022,
    "start_time": "2023-01-16T19:59:21.037Z"
   },
   {
    "duration": 7,
    "start_time": "2023-01-16T20:01:22.062Z"
   },
   {
    "duration": 8546,
    "start_time": "2023-01-16T20:01:35.549Z"
   },
   {
    "duration": 5,
    "start_time": "2023-01-16T20:03:12.996Z"
   },
   {
    "duration": 4,
    "start_time": "2023-01-16T20:03:52.324Z"
   },
   {
    "duration": 4,
    "start_time": "2023-01-16T20:03:56.556Z"
   },
   {
    "duration": 8528,
    "start_time": "2023-01-16T20:04:16.638Z"
   },
   {
    "duration": 342,
    "start_time": "2023-01-16T20:18:58.795Z"
   },
   {
    "duration": 13,
    "start_time": "2023-01-16T20:21:48.739Z"
   },
   {
    "duration": 7857,
    "start_time": "2023-01-16T20:22:25.643Z"
   },
   {
    "duration": 79,
    "start_time": "2023-01-16T20:22:39.559Z"
   },
   {
    "duration": 6,
    "start_time": "2023-01-16T20:22:56.302Z"
   },
   {
    "duration": 8708,
    "start_time": "2023-01-16T20:23:08.827Z"
   },
   {
    "duration": 279,
    "start_time": "2023-01-16T20:23:35.949Z"
   },
   {
    "duration": 8170,
    "start_time": "2023-01-16T20:23:44.617Z"
   },
   {
    "duration": 6,
    "start_time": "2023-01-16T20:25:20.748Z"
   },
   {
    "duration": 8796,
    "start_time": "2023-01-16T20:25:27.243Z"
   },
   {
    "duration": 263,
    "start_time": "2023-01-16T20:25:50.122Z"
   },
   {
    "duration": 8592,
    "start_time": "2023-01-16T20:25:56.088Z"
   },
   {
    "duration": 6,
    "start_time": "2023-01-16T20:27:04.235Z"
   },
   {
    "duration": 8400,
    "start_time": "2023-01-16T20:27:09.043Z"
   },
   {
    "duration": 279,
    "start_time": "2023-01-16T20:27:42.146Z"
   },
   {
    "duration": 4428,
    "start_time": "2023-01-16T20:27:50.599Z"
   },
   {
    "duration": 9,
    "start_time": "2023-01-16T20:31:59.204Z"
   },
   {
    "duration": 4716,
    "start_time": "2023-01-16T20:32:06.493Z"
   },
   {
    "duration": 7,
    "start_time": "2023-01-16T20:36:44.197Z"
   },
   {
    "duration": 4525,
    "start_time": "2023-01-16T20:36:49.828Z"
   },
   {
    "duration": 7,
    "start_time": "2023-01-16T20:38:12.789Z"
   },
   {
    "duration": 4551,
    "start_time": "2023-01-16T20:38:18.757Z"
   },
   {
    "duration": 85,
    "start_time": "2023-01-16T20:41:47.139Z"
   },
   {
    "duration": 8,
    "start_time": "2023-01-16T20:42:22.304Z"
   },
   {
    "duration": 77,
    "start_time": "2023-01-16T20:42:26.500Z"
   },
   {
    "duration": 8,
    "start_time": "2023-01-16T20:43:33.648Z"
   },
   {
    "duration": 4898,
    "start_time": "2023-01-16T20:43:38.940Z"
   },
   {
    "duration": 237,
    "start_time": "2023-01-16T20:47:31.326Z"
   },
   {
    "duration": 6777,
    "start_time": "2023-01-16T20:47:35.975Z"
   },
   {
    "duration": 5,
    "start_time": "2023-01-16T20:49:32.779Z"
   },
   {
    "duration": 11,
    "start_time": "2023-01-16T20:50:12.826Z"
   },
   {
    "duration": 7889,
    "start_time": "2023-01-16T20:50:18.909Z"
   },
   {
    "duration": 6,
    "start_time": "2023-01-16T20:51:54.372Z"
   },
   {
    "duration": 8586,
    "start_time": "2023-01-16T20:51:59.144Z"
   },
   {
    "duration": 7,
    "start_time": "2023-01-16T20:52:30.798Z"
   },
   {
    "duration": 8161,
    "start_time": "2023-01-16T20:53:06.158Z"
   },
   {
    "duration": 6,
    "start_time": "2023-01-16T21:00:15.160Z"
   },
   {
    "duration": 7,
    "start_time": "2023-01-16T21:01:43.044Z"
   },
   {
    "duration": 8140,
    "start_time": "2023-01-16T21:01:48.519Z"
   },
   {
    "duration": 8212,
    "start_time": "2023-01-16T21:28:34.818Z"
   },
   {
    "duration": 7849,
    "start_time": "2023-01-16T21:28:56.155Z"
   },
   {
    "duration": 3,
    "start_time": "2023-01-16T21:32:12.092Z"
   },
   {
    "duration": 206,
    "start_time": "2023-01-16T21:34:43.972Z"
   },
   {
    "duration": 940,
    "start_time": "2023-01-16T21:34:54.485Z"
   },
   {
    "duration": 70,
    "start_time": "2023-01-16T21:42:13.432Z"
   },
   {
    "duration": 9,
    "start_time": "2023-01-16T21:42:19.878Z"
   },
   {
    "duration": 17,
    "start_time": "2023-01-16T21:42:24.767Z"
   },
   {
    "duration": 8,
    "start_time": "2023-01-16T21:44:42.894Z"
   },
   {
    "duration": 18,
    "start_time": "2023-01-16T21:44:43.750Z"
   },
   {
    "duration": 18,
    "start_time": "2023-01-16T21:44:53.235Z"
   },
   {
    "duration": 224,
    "start_time": "2023-01-16T21:46:47.500Z"
   },
   {
    "duration": 5,
    "start_time": "2023-01-16T21:52:50.715Z"
   },
   {
    "duration": 62,
    "start_time": "2023-01-16T21:52:50.724Z"
   },
   {
    "duration": 3,
    "start_time": "2023-01-16T21:52:50.788Z"
   },
   {
    "duration": 9,
    "start_time": "2023-01-16T21:52:50.793Z"
   },
   {
    "duration": 14,
    "start_time": "2023-01-16T21:52:50.805Z"
   },
   {
    "duration": 9,
    "start_time": "2023-01-16T21:52:50.821Z"
   },
   {
    "duration": 8,
    "start_time": "2023-01-16T21:52:50.831Z"
   },
   {
    "duration": 8,
    "start_time": "2023-01-16T21:52:50.841Z"
   },
   {
    "duration": 47,
    "start_time": "2023-01-16T21:52:50.850Z"
   },
   {
    "duration": 7799,
    "start_time": "2023-01-16T21:52:50.899Z"
   },
   {
    "duration": 5,
    "start_time": "2023-01-16T21:59:50.287Z"
   },
   {
    "duration": 48,
    "start_time": "2023-01-16T21:59:50.296Z"
   },
   {
    "duration": 3,
    "start_time": "2023-01-16T21:59:50.346Z"
   },
   {
    "duration": 19,
    "start_time": "2023-01-16T21:59:50.351Z"
   },
   {
    "duration": 7,
    "start_time": "2023-01-16T21:59:50.372Z"
   },
   {
    "duration": 9,
    "start_time": "2023-01-16T21:59:50.381Z"
   },
   {
    "duration": 11,
    "start_time": "2023-01-16T21:59:50.391Z"
   },
   {
    "duration": 8,
    "start_time": "2023-01-16T21:59:50.403Z"
   },
   {
    "duration": 44,
    "start_time": "2023-01-16T21:59:50.412Z"
   },
   {
    "duration": 7564,
    "start_time": "2023-01-16T21:59:50.458Z"
   },
   {
    "duration": 8272,
    "start_time": "2023-01-16T21:59:58.024Z"
   },
   {
    "duration": 4,
    "start_time": "2023-01-16T22:00:06.298Z"
   },
   {
    "duration": 29,
    "start_time": "2023-01-16T22:00:06.304Z"
   },
   {
    "duration": 21,
    "start_time": "2023-01-16T22:00:06.335Z"
   },
   {
    "duration": 17,
    "start_time": "2023-01-16T22:00:17.647Z"
   },
   {
    "duration": 15,
    "start_time": "2023-01-16T22:02:19.108Z"
   },
   {
    "duration": 8,
    "start_time": "2023-01-16T22:02:38.685Z"
   },
   {
    "duration": 8,
    "start_time": "2023-01-16T22:02:44.181Z"
   },
   {
    "duration": 11,
    "start_time": "2023-01-16T22:02:50.678Z"
   },
   {
    "duration": 21,
    "start_time": "2023-01-16T22:03:10.182Z"
   },
   {
    "duration": 13,
    "start_time": "2023-01-16T22:03:41.143Z"
   },
   {
    "duration": 4,
    "start_time": "2023-01-16T22:03:43.739Z"
   },
   {
    "duration": 4,
    "start_time": "2023-01-16T22:03:44.813Z"
   },
   {
    "duration": 4,
    "start_time": "2023-01-16T22:03:45.446Z"
   },
   {
    "duration": 18,
    "start_time": "2023-01-16T22:03:49.086Z"
   },
   {
    "duration": 4,
    "start_time": "2023-01-16T22:04:08.639Z"
   },
   {
    "duration": 12,
    "start_time": "2023-01-16T22:08:20.087Z"
   },
   {
    "duration": 6,
    "start_time": "2023-01-16T22:08:39.222Z"
   },
   {
    "duration": 10,
    "start_time": "2023-01-16T22:09:21.428Z"
   },
   {
    "duration": 3,
    "start_time": "2023-01-16T22:09:25.495Z"
   },
   {
    "duration": 25,
    "start_time": "2023-01-16T22:09:26.211Z"
   },
   {
    "duration": 16,
    "start_time": "2023-01-16T22:10:40.134Z"
   },
   {
    "duration": 10,
    "start_time": "2023-01-16T22:11:14.405Z"
   },
   {
    "duration": 11,
    "start_time": "2023-01-16T22:11:37.277Z"
   },
   {
    "duration": 10,
    "start_time": "2023-01-16T22:11:40.806Z"
   },
   {
    "duration": 4,
    "start_time": "2023-01-16T22:21:50.629Z"
   },
   {
    "duration": 82,
    "start_time": "2023-01-16T22:41:03.348Z"
   },
   {
    "duration": 43,
    "start_time": "2023-01-16T22:41:12.807Z"
   },
   {
    "duration": 94,
    "start_time": "2023-01-16T22:41:17.398Z"
   },
   {
    "duration": 5,
    "start_time": "2023-01-16T22:44:34.433Z"
   },
   {
    "duration": 4,
    "start_time": "2023-01-16T22:45:54.078Z"
   },
   {
    "duration": 14,
    "start_time": "2023-01-16T22:46:02.456Z"
   },
   {
    "duration": 7,
    "start_time": "2023-01-16T22:49:47.977Z"
   },
   {
    "duration": 42,
    "start_time": "2023-01-16T22:49:47.988Z"
   },
   {
    "duration": 4,
    "start_time": "2023-01-16T22:49:48.032Z"
   },
   {
    "duration": 8,
    "start_time": "2023-01-16T22:49:48.037Z"
   },
   {
    "duration": 9,
    "start_time": "2023-01-16T22:49:48.047Z"
   },
   {
    "duration": 9,
    "start_time": "2023-01-16T22:49:48.059Z"
   },
   {
    "duration": 7,
    "start_time": "2023-01-16T22:49:48.070Z"
   },
   {
    "duration": 9,
    "start_time": "2023-01-16T22:49:48.079Z"
   },
   {
    "duration": 44,
    "start_time": "2023-01-16T22:49:48.089Z"
   },
   {
    "duration": 7762,
    "start_time": "2023-01-16T22:49:48.134Z"
   },
   {
    "duration": 4,
    "start_time": "2023-01-16T22:49:55.898Z"
   },
   {
    "duration": 11,
    "start_time": "2023-01-16T22:49:55.904Z"
   },
   {
    "duration": 20,
    "start_time": "2023-01-16T22:49:55.917Z"
   },
   {
    "duration": 12,
    "start_time": "2023-01-16T22:49:55.938Z"
   },
   {
    "duration": 34,
    "start_time": "2023-01-16T22:49:55.953Z"
   },
   {
    "duration": 12,
    "start_time": "2023-01-16T22:49:55.988Z"
   },
   {
    "duration": 6,
    "start_time": "2023-01-16T22:49:56.001Z"
   },
   {
    "duration": 6,
    "start_time": "2023-01-16T22:49:56.008Z"
   },
   {
    "duration": 12,
    "start_time": "2023-01-16T22:49:56.016Z"
   },
   {
    "duration": 8,
    "start_time": "2023-01-16T22:49:56.030Z"
   },
   {
    "duration": 64,
    "start_time": "2023-01-16T22:49:56.040Z"
   },
   {
    "duration": 0,
    "start_time": "2023-01-16T22:49:56.106Z"
   },
   {
    "duration": 0,
    "start_time": "2023-01-16T22:49:56.107Z"
   },
   {
    "duration": 0,
    "start_time": "2023-01-16T22:49:56.108Z"
   },
   {
    "duration": 0,
    "start_time": "2023-01-16T22:49:56.109Z"
   },
   {
    "duration": 0,
    "start_time": "2023-01-16T22:49:56.110Z"
   },
   {
    "duration": 0,
    "start_time": "2023-01-16T22:49:56.111Z"
   },
   {
    "duration": 0,
    "start_time": "2023-01-16T22:49:56.113Z"
   },
   {
    "duration": 0,
    "start_time": "2023-01-16T22:49:56.113Z"
   },
   {
    "duration": 27,
    "start_time": "2023-01-16T22:50:55.455Z"
   },
   {
    "duration": 12,
    "start_time": "2023-01-16T22:50:59.966Z"
   },
   {
    "duration": 9,
    "start_time": "2023-01-16T22:51:03.096Z"
   },
   {
    "duration": 11,
    "start_time": "2023-01-16T22:51:03.529Z"
   },
   {
    "duration": 92,
    "start_time": "2023-01-16T22:51:08.085Z"
   },
   {
    "duration": 3,
    "start_time": "2023-01-16T22:51:08.179Z"
   },
   {
    "duration": 12,
    "start_time": "2023-01-16T22:51:08.184Z"
   },
   {
    "duration": 6,
    "start_time": "2023-01-16T22:51:08.198Z"
   },
   {
    "duration": 18,
    "start_time": "2023-01-16T23:15:24.334Z"
   },
   {
    "duration": 4,
    "start_time": "2023-01-16T23:15:33.048Z"
   },
   {
    "duration": 6,
    "start_time": "2023-01-16T23:15:38.808Z"
   },
   {
    "duration": 3,
    "start_time": "2023-01-16T23:15:41.909Z"
   },
   {
    "duration": 18,
    "start_time": "2023-01-16T23:15:57.494Z"
   },
   {
    "duration": 5,
    "start_time": "2023-01-16T23:16:15.321Z"
   },
   {
    "duration": 7,
    "start_time": "2023-01-16T23:16:25.391Z"
   },
   {
    "duration": 3,
    "start_time": "2023-01-16T23:17:37.295Z"
   },
   {
    "duration": 7,
    "start_time": "2023-01-16T23:18:09.015Z"
   },
   {
    "duration": 81,
    "start_time": "2023-01-16T23:18:09.027Z"
   },
   {
    "duration": 3,
    "start_time": "2023-01-16T23:18:09.109Z"
   },
   {
    "duration": 23,
    "start_time": "2023-01-16T23:18:09.114Z"
   },
   {
    "duration": 16,
    "start_time": "2023-01-16T23:18:09.139Z"
   },
   {
    "duration": 33,
    "start_time": "2023-01-16T23:18:09.157Z"
   },
   {
    "duration": 42,
    "start_time": "2023-01-16T23:18:09.192Z"
   },
   {
    "duration": 40,
    "start_time": "2023-01-16T23:18:09.236Z"
   },
   {
    "duration": 59,
    "start_time": "2023-01-16T23:18:09.278Z"
   },
   {
    "duration": 7620,
    "start_time": "2023-01-16T23:18:09.338Z"
   },
   {
    "duration": 7,
    "start_time": "2023-01-16T23:18:16.960Z"
   },
   {
    "duration": 4,
    "start_time": "2023-01-16T23:18:16.977Z"
   },
   {
    "duration": 8,
    "start_time": "2023-01-16T23:18:16.982Z"
   },
   {
    "duration": 8,
    "start_time": "2023-01-16T23:18:16.991Z"
   },
   {
    "duration": 7,
    "start_time": "2023-01-16T23:18:17.002Z"
   },
   {
    "duration": 16,
    "start_time": "2023-01-16T23:18:17.011Z"
   },
   {
    "duration": 12,
    "start_time": "2023-01-16T23:18:17.029Z"
   },
   {
    "duration": 16,
    "start_time": "2023-01-16T23:18:17.042Z"
   },
   {
    "duration": 11,
    "start_time": "2023-01-16T23:18:17.078Z"
   },
   {
    "duration": 4,
    "start_time": "2023-01-16T23:18:17.091Z"
   },
   {
    "duration": 9,
    "start_time": "2023-01-16T23:18:17.096Z"
   },
   {
    "duration": 22,
    "start_time": "2023-01-16T23:18:17.106Z"
   },
   {
    "duration": 5,
    "start_time": "2023-01-16T23:18:17.130Z"
   },
   {
    "duration": 29,
    "start_time": "2023-01-16T23:18:17.137Z"
   },
   {
    "duration": 11,
    "start_time": "2023-01-16T23:18:17.168Z"
   },
   {
    "duration": 18,
    "start_time": "2023-01-16T23:18:17.181Z"
   },
   {
    "duration": 14,
    "start_time": "2023-01-16T23:18:17.200Z"
   },
   {
    "duration": 98,
    "start_time": "2023-01-16T23:18:17.216Z"
   },
   {
    "duration": 3,
    "start_time": "2023-01-16T23:18:17.316Z"
   },
   {
    "duration": 13,
    "start_time": "2023-01-16T23:18:17.320Z"
   },
   {
    "duration": 11,
    "start_time": "2023-01-16T23:18:17.335Z"
   },
   {
    "duration": 122332,
    "start_time": "2023-01-16T23:19:09.288Z"
   },
   {
    "duration": 4,
    "start_time": "2023-01-16T23:21:20.029Z"
   },
   {
    "duration": 4,
    "start_time": "2023-01-16T23:21:20.684Z"
   },
   {
    "duration": 4,
    "start_time": "2023-01-16T23:21:21.197Z"
   },
   {
    "duration": 4,
    "start_time": "2023-01-16T23:24:16.943Z"
   },
   {
    "duration": 10,
    "start_time": "2023-01-16T23:25:55.797Z"
   },
   {
    "duration": 6,
    "start_time": "2023-01-16T23:26:33.641Z"
   },
   {
    "duration": 9,
    "start_time": "2023-01-16T23:26:39.618Z"
   },
   {
    "duration": 23,
    "start_time": "2023-01-16T23:36:20.014Z"
   },
   {
    "duration": 48,
    "start_time": "2023-01-16T23:42:26.642Z"
   },
   {
    "duration": 46,
    "start_time": "2023-01-16T23:43:20.425Z"
   },
   {
    "duration": 260,
    "start_time": "2023-01-16T23:43:38.323Z"
   },
   {
    "duration": 188,
    "start_time": "2023-01-16T23:44:21.112Z"
   },
   {
    "duration": 220,
    "start_time": "2023-01-16T23:44:36.099Z"
   },
   {
    "duration": 10,
    "start_time": "2023-01-16T23:44:58.891Z"
   },
   {
    "duration": 223,
    "start_time": "2023-01-16T23:46:34.502Z"
   },
   {
    "duration": 11,
    "start_time": "2023-01-16T23:47:05.769Z"
   },
   {
    "duration": 7,
    "start_time": "2023-01-16T23:47:35.560Z"
   },
   {
    "duration": 5,
    "start_time": "2023-01-16T23:47:49.169Z"
   },
   {
    "duration": 7,
    "start_time": "2023-01-17T20:21:19.671Z"
   },
   {
    "duration": 40,
    "start_time": "2023-01-17T20:21:19.684Z"
   },
   {
    "duration": 3,
    "start_time": "2023-01-17T20:21:19.727Z"
   },
   {
    "duration": 8,
    "start_time": "2023-01-17T20:21:19.731Z"
   },
   {
    "duration": 13,
    "start_time": "2023-01-17T20:21:19.742Z"
   },
   {
    "duration": 9,
    "start_time": "2023-01-17T20:21:19.757Z"
   },
   {
    "duration": 14,
    "start_time": "2023-01-17T20:21:19.768Z"
   },
   {
    "duration": 17,
    "start_time": "2023-01-17T20:21:19.784Z"
   },
   {
    "duration": 55,
    "start_time": "2023-01-17T20:21:19.803Z"
   },
   {
    "duration": 7890,
    "start_time": "2023-01-17T20:21:19.859Z"
   },
   {
    "duration": 7,
    "start_time": "2023-01-17T20:21:27.750Z"
   },
   {
    "duration": 20,
    "start_time": "2023-01-17T20:21:27.759Z"
   },
   {
    "duration": 4,
    "start_time": "2023-01-17T20:21:27.781Z"
   },
   {
    "duration": 15,
    "start_time": "2023-01-17T20:21:27.787Z"
   },
   {
    "duration": 22,
    "start_time": "2023-01-17T20:21:27.805Z"
   },
   {
    "duration": 17,
    "start_time": "2023-01-17T20:21:27.829Z"
   },
   {
    "duration": 18,
    "start_time": "2023-01-17T20:21:27.848Z"
   },
   {
    "duration": 44,
    "start_time": "2023-01-17T20:21:27.868Z"
   },
   {
    "duration": 12,
    "start_time": "2023-01-17T20:21:27.914Z"
   },
   {
    "duration": 4,
    "start_time": "2023-01-17T20:21:27.927Z"
   },
   {
    "duration": 9,
    "start_time": "2023-01-17T20:21:27.933Z"
   },
   {
    "duration": 7,
    "start_time": "2023-01-17T20:21:27.943Z"
   },
   {
    "duration": 6,
    "start_time": "2023-01-17T20:21:27.952Z"
   },
   {
    "duration": 346,
    "start_time": "2023-01-17T20:21:27.959Z"
   },
   {
    "duration": 9,
    "start_time": "2023-01-17T20:21:28.307Z"
   },
   {
    "duration": 18,
    "start_time": "2023-01-17T20:21:28.318Z"
   },
   {
    "duration": 12,
    "start_time": "2023-01-17T20:21:28.338Z"
   },
   {
    "duration": 128612,
    "start_time": "2023-01-17T20:21:28.352Z"
   },
   {
    "duration": 5,
    "start_time": "2023-01-17T20:23:36.967Z"
   },
   {
    "duration": 229,
    "start_time": "2023-01-17T20:23:36.978Z"
   },
   {
    "duration": 5,
    "start_time": "2023-01-17T20:23:37.208Z"
   },
   {
    "duration": 11,
    "start_time": "2023-01-17T20:23:37.214Z"
   },
   {
    "duration": 11,
    "start_time": "2023-01-17T20:34:16.216Z"
   },
   {
    "duration": 8,
    "start_time": "2023-01-17T20:35:02.969Z"
   },
   {
    "duration": 392,
    "start_time": "2023-01-17T20:35:11.395Z"
   },
   {
    "duration": 419,
    "start_time": "2023-01-17T20:35:32.827Z"
   },
   {
    "duration": 9,
    "start_time": "2023-01-17T20:39:20.803Z"
   },
   {
    "duration": 416,
    "start_time": "2023-01-17T20:39:46.257Z"
   },
   {
    "duration": 413,
    "start_time": "2023-01-17T20:40:37.281Z"
   },
   {
    "duration": 3,
    "start_time": "2023-01-17T20:41:07.892Z"
   },
   {
    "duration": 4,
    "start_time": "2023-01-17T20:41:28.108Z"
   },
   {
    "duration": 14,
    "start_time": "2023-01-17T20:43:01.539Z"
   },
   {
    "duration": 14,
    "start_time": "2023-01-17T20:44:05.509Z"
   },
   {
    "duration": 7,
    "start_time": "2023-01-17T20:46:15.740Z"
   },
   {
    "duration": 6,
    "start_time": "2023-01-17T20:50:54.700Z"
   },
   {
    "duration": 13,
    "start_time": "2023-01-17T20:51:56.223Z"
   },
   {
    "duration": 17,
    "start_time": "2023-01-17T20:52:16.891Z"
   },
   {
    "duration": 10,
    "start_time": "2023-01-17T20:52:25.667Z"
   },
   {
    "duration": 85,
    "start_time": "2023-01-17T20:58:55.947Z"
   },
   {
    "duration": 2351,
    "start_time": "2023-01-17T21:00:10.314Z"
   },
   {
    "duration": 4,
    "start_time": "2023-01-17T21:00:19.399Z"
   },
   {
    "duration": 9,
    "start_time": "2023-01-17T21:00:24.547Z"
   },
   {
    "duration": 2331,
    "start_time": "2023-01-17T21:02:19.172Z"
   },
   {
    "duration": 5,
    "start_time": "2023-01-17T21:02:45.193Z"
   },
   {
    "duration": 11,
    "start_time": "2023-01-17T21:02:51.122Z"
   },
   {
    "duration": 2324,
    "start_time": "2023-01-17T21:12:06.136Z"
   },
   {
    "duration": 31397,
    "start_time": "2023-01-17T21:12:26.852Z"
   },
   {
    "duration": 508701,
    "start_time": "2023-01-17T21:13:16.003Z"
   },
   {
    "duration": 22834,
    "start_time": "2023-01-17T21:22:19.836Z"
   },
   {
    "duration": 131130,
    "start_time": "2023-01-17T21:23:00.690Z"
   },
   {
    "duration": 15,
    "start_time": "2023-01-17T21:27:38.589Z"
   },
   {
    "duration": 10,
    "start_time": "2023-01-17T21:30:37.107Z"
   },
   {
    "duration": 8,
    "start_time": "2023-01-17T21:31:00.300Z"
   },
   {
    "duration": 41,
    "start_time": "2023-01-17T21:31:15.341Z"
   },
   {
    "duration": 7,
    "start_time": "2023-01-17T21:31:26.316Z"
   },
   {
    "duration": 7,
    "start_time": "2023-01-17T21:31:54.718Z"
   },
   {
    "duration": 74,
    "start_time": "2023-01-17T21:32:22.222Z"
   },
   {
    "duration": 72,
    "start_time": "2023-01-17T21:35:27.884Z"
   },
   {
    "duration": 82,
    "start_time": "2023-01-17T21:35:58.590Z"
   },
   {
    "duration": 86,
    "start_time": "2023-01-17T21:36:28.000Z"
   },
   {
    "duration": 69,
    "start_time": "2023-01-17T21:36:32.569Z"
   },
   {
    "duration": 9,
    "start_time": "2023-01-17T21:47:23.312Z"
   },
   {
    "duration": 7,
    "start_time": "2023-01-17T21:47:37.941Z"
   },
   {
    "duration": 8,
    "start_time": "2023-01-17T21:49:32.612Z"
   },
   {
    "duration": 35,
    "start_time": "2023-01-17T21:51:33.982Z"
   },
   {
    "duration": 10,
    "start_time": "2023-01-17T21:52:08.620Z"
   },
   {
    "duration": 8,
    "start_time": "2023-01-17T21:52:54.182Z"
   },
   {
    "duration": 26,
    "start_time": "2023-01-17T21:53:38.835Z"
   },
   {
    "duration": 24,
    "start_time": "2023-01-17T21:53:41.343Z"
   },
   {
    "duration": 12,
    "start_time": "2023-01-17T21:54:41.943Z"
   },
   {
    "duration": 11,
    "start_time": "2023-01-17T21:54:44.830Z"
   },
   {
    "duration": 2416,
    "start_time": "2023-01-17T21:58:56.270Z"
   },
   {
    "duration": 3,
    "start_time": "2023-01-17T21:59:06.711Z"
   },
   {
    "duration": 10,
    "start_time": "2023-01-17T21:59:10.166Z"
   },
   {
    "duration": 8,
    "start_time": "2023-01-17T21:59:49.479Z"
   },
   {
    "duration": 9,
    "start_time": "2023-01-17T21:59:52.367Z"
   },
   {
    "duration": 2377,
    "start_time": "2023-01-17T22:17:41.625Z"
   },
   {
    "duration": 8,
    "start_time": "2023-01-17T22:19:07.899Z"
   },
   {
    "duration": 4,
    "start_time": "2023-01-17T22:20:25.876Z"
   },
   {
    "duration": 10,
    "start_time": "2023-01-17T22:20:38.268Z"
   },
   {
    "duration": 7,
    "start_time": "2023-01-17T22:21:41.390Z"
   },
   {
    "duration": 45,
    "start_time": "2023-01-17T22:21:41.402Z"
   },
   {
    "duration": 2,
    "start_time": "2023-01-17T22:21:41.449Z"
   },
   {
    "duration": 12,
    "start_time": "2023-01-17T22:21:41.453Z"
   },
   {
    "duration": 8,
    "start_time": "2023-01-17T22:21:41.466Z"
   },
   {
    "duration": 8,
    "start_time": "2023-01-17T22:21:41.476Z"
   },
   {
    "duration": 8,
    "start_time": "2023-01-17T22:21:41.486Z"
   },
   {
    "duration": 10,
    "start_time": "2023-01-17T22:21:41.496Z"
   },
   {
    "duration": 42,
    "start_time": "2023-01-17T22:21:41.508Z"
   },
   {
    "duration": 7333,
    "start_time": "2023-01-17T22:21:41.552Z"
   },
   {
    "duration": 5,
    "start_time": "2023-01-17T22:21:48.887Z"
   },
   {
    "duration": 12,
    "start_time": "2023-01-17T22:21:48.894Z"
   },
   {
    "duration": 11,
    "start_time": "2023-01-17T22:21:48.907Z"
   },
   {
    "duration": 13,
    "start_time": "2023-01-17T22:21:48.919Z"
   },
   {
    "duration": 17,
    "start_time": "2023-01-17T22:21:48.934Z"
   },
   {
    "duration": 18,
    "start_time": "2023-01-17T22:21:48.953Z"
   },
   {
    "duration": 17,
    "start_time": "2023-01-17T22:21:48.973Z"
   },
   {
    "duration": 22,
    "start_time": "2023-01-17T22:21:48.992Z"
   },
   {
    "duration": 14,
    "start_time": "2023-01-17T22:21:49.016Z"
   },
   {
    "duration": 4,
    "start_time": "2023-01-17T22:21:49.032Z"
   },
   {
    "duration": 7,
    "start_time": "2023-01-17T22:21:49.037Z"
   },
   {
    "duration": 13,
    "start_time": "2023-01-17T22:21:49.046Z"
   },
   {
    "duration": 21,
    "start_time": "2023-01-17T22:21:49.061Z"
   },
   {
    "duration": 32,
    "start_time": "2023-01-17T22:21:49.083Z"
   },
   {
    "duration": 9,
    "start_time": "2023-01-17T22:21:49.117Z"
   },
   {
    "duration": 12,
    "start_time": "2023-01-17T22:21:49.128Z"
   },
   {
    "duration": 12,
    "start_time": "2023-01-17T22:21:49.142Z"
   },
   {
    "duration": 22,
    "start_time": "2023-01-17T22:21:49.156Z"
   },
   {
    "duration": 2482,
    "start_time": "2023-01-17T22:21:58.231Z"
   },
   {
    "duration": 4,
    "start_time": "2023-01-17T22:22:00.715Z"
   },
   {
    "duration": 8,
    "start_time": "2023-01-17T22:22:12.166Z"
   },
   {
    "duration": 5,
    "start_time": "2023-01-17T22:22:14.433Z"
   },
   {
    "duration": 9,
    "start_time": "2023-01-17T22:22:16.112Z"
   },
   {
    "duration": 8,
    "start_time": "2023-01-17T22:22:54.604Z"
   },
   {
    "duration": 123347,
    "start_time": "2023-01-17T22:30:51.066Z"
   },
   {
    "duration": 4,
    "start_time": "2023-01-17T22:47:32.265Z"
   },
   {
    "duration": 21,
    "start_time": "2023-01-17T22:48:42.493Z"
   },
   {
    "duration": 5,
    "start_time": "2023-01-17T22:49:37.306Z"
   },
   {
    "duration": 2428,
    "start_time": "2023-01-17T22:50:17.119Z"
   },
   {
    "duration": 4,
    "start_time": "2023-01-17T22:50:22.074Z"
   },
   {
    "duration": 8,
    "start_time": "2023-01-17T22:50:24.464Z"
   },
   {
    "duration": 4,
    "start_time": "2023-01-17T22:50:27.495Z"
   },
   {
    "duration": 9,
    "start_time": "2023-01-17T22:50:30.826Z"
   },
   {
    "duration": 122765,
    "start_time": "2023-01-17T22:52:11.521Z"
   },
   {
    "duration": 3,
    "start_time": "2023-01-17T22:54:23.415Z"
   },
   {
    "duration": 22,
    "start_time": "2023-01-17T22:54:26.607Z"
   },
   {
    "duration": 5,
    "start_time": "2023-01-17T22:54:28.493Z"
   },
   {
    "duration": 7,
    "start_time": "2023-01-17T22:54:32.225Z"
   },
   {
    "duration": 12,
    "start_time": "2023-01-17T22:54:52.822Z"
   },
   {
    "duration": 22,
    "start_time": "2023-01-17T22:59:32.266Z"
   },
   {
    "duration": 9,
    "start_time": "2023-01-17T22:59:37.030Z"
   },
   {
    "duration": 7,
    "start_time": "2023-01-17T22:59:40.951Z"
   },
   {
    "duration": 10,
    "start_time": "2023-01-17T23:01:00.769Z"
   },
   {
    "duration": 5,
    "start_time": "2023-01-17T23:02:08.357Z"
   },
   {
    "duration": 8,
    "start_time": "2023-01-17T23:02:23.474Z"
   },
   {
    "duration": 2421,
    "start_time": "2023-01-17T23:08:44.833Z"
   },
   {
    "duration": 4,
    "start_time": "2023-01-17T23:08:49.424Z"
   },
   {
    "duration": 4,
    "start_time": "2023-01-17T23:10:27.929Z"
   },
   {
    "duration": 8,
    "start_time": "2023-01-17T23:10:30.825Z"
   },
   {
    "duration": 5,
    "start_time": "2023-01-17T23:10:35.568Z"
   },
   {
    "duration": 10,
    "start_time": "2023-01-17T23:10:39.856Z"
   },
   {
    "duration": 125307,
    "start_time": "2023-01-17T23:17:50.505Z"
   },
   {
    "duration": 5,
    "start_time": "2023-01-17T23:20:05.716Z"
   },
   {
    "duration": 25,
    "start_time": "2023-01-17T23:20:08.755Z"
   },
   {
    "duration": 6,
    "start_time": "2023-01-17T23:20:11.116Z"
   },
   {
    "duration": 12,
    "start_time": "2023-01-17T23:20:18.033Z"
   },
   {
    "duration": 260,
    "start_time": "2023-01-17T23:27:08.819Z"
   },
   {
    "duration": 8,
    "start_time": "2023-01-17T23:27:15.124Z"
   },
   {
    "duration": 9,
    "start_time": "2023-01-17T23:27:21.081Z"
   },
   {
    "duration": 5,
    "start_time": "2023-01-17T23:27:24.555Z"
   },
   {
    "duration": 7,
    "start_time": "2023-01-17T23:27:32.297Z"
   },
   {
    "duration": 75,
    "start_time": "2023-01-17T23:39:32.320Z"
   },
   {
    "duration": 4,
    "start_time": "2023-01-17T23:39:51.650Z"
   },
   {
    "duration": 23,
    "start_time": "2023-01-17T23:40:16.997Z"
   },
   {
    "duration": 7,
    "start_time": "2023-01-17T23:40:49.229Z"
   },
   {
    "duration": 9,
    "start_time": "2023-01-17T23:41:04.571Z"
   },
   {
    "duration": 2949,
    "start_time": "2023-01-17T23:43:28.879Z"
   },
   {
    "duration": 4,
    "start_time": "2023-01-17T23:43:40.314Z"
   },
   {
    "duration": 9,
    "start_time": "2023-01-17T23:43:51.326Z"
   },
   {
    "duration": 6,
    "start_time": "2023-01-17T23:43:57.964Z"
   },
   {
    "duration": 13,
    "start_time": "2023-01-17T23:44:00.581Z"
   },
   {
    "duration": 168983,
    "start_time": "2023-01-17T23:45:52.654Z"
   },
   {
    "duration": 4,
    "start_time": "2023-01-17T23:49:09.542Z"
   },
   {
    "duration": 31,
    "start_time": "2023-01-17T23:49:23.231Z"
   },
   {
    "duration": 5,
    "start_time": "2023-01-17T23:49:26.146Z"
   },
   {
    "duration": 19,
    "start_time": "2023-01-17T23:49:30.043Z"
   },
   {
    "duration": 91,
    "start_time": "2023-01-17T23:50:29.094Z"
   },
   {
    "duration": 8,
    "start_time": "2023-01-17T23:50:32.962Z"
   },
   {
    "duration": 9,
    "start_time": "2023-01-17T23:50:35.154Z"
   },
   {
    "duration": 4,
    "start_time": "2023-01-17T23:50:36.518Z"
   },
   {
    "duration": 7,
    "start_time": "2023-01-17T23:50:39.962Z"
   },
   {
    "duration": 164253,
    "start_time": "2023-01-17T23:51:07.045Z"
   },
   {
    "duration": 179,
    "start_time": "2023-01-17T23:53:51.300Z"
   },
   {
    "duration": 4,
    "start_time": "2023-01-17T23:54:53.237Z"
   },
   {
    "duration": 30,
    "start_time": "2023-01-17T23:54:58.571Z"
   },
   {
    "duration": 5,
    "start_time": "2023-01-17T23:55:01.723Z"
   },
   {
    "duration": 17,
    "start_time": "2023-01-17T23:55:05.004Z"
   },
   {
    "duration": 368,
    "start_time": "2023-01-17T23:55:50.316Z"
   },
   {
    "duration": 12,
    "start_time": "2023-01-17T23:55:54.908Z"
   },
   {
    "duration": 33,
    "start_time": "2023-01-17T23:56:02.346Z"
   },
   {
    "duration": 6,
    "start_time": "2023-01-17T23:56:04.244Z"
   },
   {
    "duration": 7,
    "start_time": "2023-01-17T23:56:05.958Z"
   },
   {
    "duration": 4,
    "start_time": "2023-01-18T00:04:03.389Z"
   },
   {
    "duration": 9,
    "start_time": "2023-01-18T00:04:04.462Z"
   },
   {
    "duration": 4,
    "start_time": "2023-01-18T00:05:41.871Z"
   },
   {
    "duration": 9,
    "start_time": "2023-01-18T00:05:41.883Z"
   },
   {
    "duration": 1122,
    "start_time": "2023-01-18T00:05:41.904Z"
   },
   {
    "duration": 4,
    "start_time": "2023-01-18T00:05:43.028Z"
   },
   {
    "duration": 11,
    "start_time": "2023-01-18T00:05:43.033Z"
   },
   {
    "duration": 7,
    "start_time": "2023-01-18T00:05:43.045Z"
   },
   {
    "duration": 26,
    "start_time": "2023-01-18T00:05:43.053Z"
   },
   {
    "duration": 71525,
    "start_time": "2023-01-18T00:05:43.080Z"
   },
   {
    "duration": 3,
    "start_time": "2023-01-18T00:06:54.607Z"
   },
   {
    "duration": 34,
    "start_time": "2023-01-18T00:06:54.612Z"
   },
   {
    "duration": 4,
    "start_time": "2023-01-18T00:06:54.648Z"
   },
   {
    "duration": 24,
    "start_time": "2023-01-18T00:06:54.654Z"
   },
   {
    "duration": 16,
    "start_time": "2023-01-18T00:06:54.680Z"
   },
   {
    "duration": 106,
    "start_time": "2023-01-18T00:06:54.779Z"
   },
   {
    "duration": 99,
    "start_time": "2023-01-18T00:06:54.887Z"
   },
   {
    "duration": 198,
    "start_time": "2023-01-18T00:06:54.988Z"
   },
   {
    "duration": 8,
    "start_time": "2023-01-18T00:06:55.188Z"
   },
   {
    "duration": 9,
    "start_time": "2023-01-18T00:34:56.465Z"
   },
   {
    "duration": 6,
    "start_time": "2023-01-18T00:35:29.500Z"
   },
   {
    "duration": 8,
    "start_time": "2023-01-18T00:35:37.392Z"
   },
   {
    "duration": 7,
    "start_time": "2023-01-18T00:36:05.321Z"
   },
   {
    "duration": 4,
    "start_time": "2023-01-18T00:37:42.482Z"
   },
   {
    "duration": 7,
    "start_time": "2023-01-18T00:43:36.419Z"
   },
   {
    "duration": 5,
    "start_time": "2023-01-18T00:50:21.065Z"
   },
   {
    "duration": 8,
    "start_time": "2023-01-18T00:50:37.944Z"
   },
   {
    "duration": 6,
    "start_time": "2023-01-18T00:51:36.865Z"
   },
   {
    "duration": 7,
    "start_time": "2023-01-18T00:52:01.402Z"
   },
   {
    "duration": 7,
    "start_time": "2023-01-18T00:52:20.659Z"
   },
   {
    "duration": 8,
    "start_time": "2023-01-18T00:52:35.561Z"
   },
   {
    "duration": 8,
    "start_time": "2023-01-18T00:52:46.800Z"
   },
   {
    "duration": 9,
    "start_time": "2023-01-18T00:52:56.520Z"
   },
   {
    "duration": 8,
    "start_time": "2023-01-18T00:53:05.695Z"
   },
   {
    "duration": 12,
    "start_time": "2023-01-18T00:54:18.234Z"
   },
   {
    "duration": 13,
    "start_time": "2023-01-18T00:56:02.786Z"
   },
   {
    "duration": 11,
    "start_time": "2023-01-18T00:57:56.369Z"
   },
   {
    "duration": 6,
    "start_time": "2023-01-18T07:37:34.655Z"
   },
   {
    "duration": 21,
    "start_time": "2023-01-18T07:38:35.094Z"
   },
   {
    "duration": 23,
    "start_time": "2023-01-18T07:38:47.455Z"
   },
   {
    "duration": 24,
    "start_time": "2023-01-18T07:40:43.269Z"
   },
   {
    "duration": 11,
    "start_time": "2023-01-18T07:45:40.311Z"
   },
   {
    "duration": 7,
    "start_time": "2023-01-18T07:47:03.992Z"
   },
   {
    "duration": 19,
    "start_time": "2023-01-18T08:22:16.696Z"
   },
   {
    "duration": 19,
    "start_time": "2023-01-18T08:22:30.201Z"
   },
   {
    "duration": 9,
    "start_time": "2023-01-18T08:22:55.159Z"
   },
   {
    "duration": 34,
    "start_time": "2023-01-18T08:22:59.216Z"
   },
   {
    "duration": 91,
    "start_time": "2023-01-18T08:32:48.766Z"
   },
   {
    "duration": 50,
    "start_time": "2023-01-18T08:32:55.662Z"
   },
   {
    "duration": 47,
    "start_time": "2023-01-18T08:33:29.360Z"
   },
   {
    "duration": 51,
    "start_time": "2023-01-18T08:36:45.719Z"
   },
   {
    "duration": 69,
    "start_time": "2023-01-18T11:49:12.998Z"
   },
   {
    "duration": 8,
    "start_time": "2023-01-18T12:01:51.215Z"
   },
   {
    "duration": 45,
    "start_time": "2023-01-18T12:01:51.227Z"
   },
   {
    "duration": 3,
    "start_time": "2023-01-18T12:01:51.274Z"
   },
   {
    "duration": 8,
    "start_time": "2023-01-18T12:01:51.279Z"
   },
   {
    "duration": 8,
    "start_time": "2023-01-18T12:01:51.289Z"
   },
   {
    "duration": 9,
    "start_time": "2023-01-18T12:01:51.299Z"
   },
   {
    "duration": 16,
    "start_time": "2023-01-18T12:01:51.309Z"
   },
   {
    "duration": 15,
    "start_time": "2023-01-18T12:01:51.326Z"
   },
   {
    "duration": 55,
    "start_time": "2023-01-18T12:01:51.343Z"
   },
   {
    "duration": 8009,
    "start_time": "2023-01-18T12:01:51.400Z"
   },
   {
    "duration": 6,
    "start_time": "2023-01-18T12:01:59.411Z"
   },
   {
    "duration": 6,
    "start_time": "2023-01-18T12:01:59.418Z"
   },
   {
    "duration": 14,
    "start_time": "2023-01-18T12:01:59.426Z"
   },
   {
    "duration": 17,
    "start_time": "2023-01-18T12:01:59.441Z"
   },
   {
    "duration": 9,
    "start_time": "2023-01-18T12:01:59.461Z"
   },
   {
    "duration": 19,
    "start_time": "2023-01-18T12:01:59.471Z"
   },
   {
    "duration": 11,
    "start_time": "2023-01-18T12:01:59.492Z"
   },
   {
    "duration": 19,
    "start_time": "2023-01-18T12:01:59.505Z"
   },
   {
    "duration": 17,
    "start_time": "2023-01-18T12:01:59.526Z"
   },
   {
    "duration": 16,
    "start_time": "2023-01-18T12:01:59.545Z"
   },
   {
    "duration": 15,
    "start_time": "2023-01-18T12:01:59.563Z"
   },
   {
    "duration": 8,
    "start_time": "2023-01-18T12:01:59.579Z"
   },
   {
    "duration": 7,
    "start_time": "2023-01-18T12:01:59.588Z"
   },
   {
    "duration": 27,
    "start_time": "2023-01-18T12:01:59.596Z"
   },
   {
    "duration": 11,
    "start_time": "2023-01-18T12:01:59.625Z"
   },
   {
    "duration": 13,
    "start_time": "2023-01-18T12:01:59.638Z"
   },
   {
    "duration": 33,
    "start_time": "2023-01-18T12:01:59.652Z"
   },
   {
    "duration": 12,
    "start_time": "2023-01-18T12:01:59.687Z"
   },
   {
    "duration": 39,
    "start_time": "2023-01-18T12:01:59.701Z"
   },
   {
    "duration": 2771,
    "start_time": "2023-01-18T12:01:59.742Z"
   },
   {
    "duration": 5,
    "start_time": "2023-01-18T12:02:02.514Z"
   },
   {
    "duration": 94,
    "start_time": "2023-01-18T12:02:02.520Z"
   },
   {
    "duration": 127923,
    "start_time": "2023-01-18T12:02:02.616Z"
   },
   {
    "duration": 3,
    "start_time": "2023-01-18T12:04:10.541Z"
   },
   {
    "duration": 33,
    "start_time": "2023-01-18T12:04:10.546Z"
   },
   {
    "duration": 99,
    "start_time": "2023-01-18T12:04:10.581Z"
   },
   {
    "duration": 102,
    "start_time": "2023-01-18T12:04:10.681Z"
   },
   {
    "duration": 98,
    "start_time": "2023-01-18T12:04:10.785Z"
   },
   {
    "duration": 2666,
    "start_time": "2023-01-18T12:04:10.885Z"
   },
   {
    "duration": 4,
    "start_time": "2023-01-18T12:04:13.554Z"
   },
   {
    "duration": 50,
    "start_time": "2023-01-18T12:04:13.559Z"
   },
   {
    "duration": 129795,
    "start_time": "2023-01-18T12:04:13.611Z"
   },
   {
    "duration": 5,
    "start_time": "2023-01-18T12:06:23.408Z"
   },
   {
    "duration": 25,
    "start_time": "2023-01-18T12:06:23.415Z"
   },
   {
    "duration": 236,
    "start_time": "2023-01-18T12:06:23.442Z"
   },
   {
    "duration": 100,
    "start_time": "2023-01-18T12:06:23.684Z"
   },
   {
    "duration": 190,
    "start_time": "2023-01-18T12:06:23.788Z"
   },
   {
    "duration": 106,
    "start_time": "2023-01-18T12:06:23.983Z"
   },
   {
    "duration": 39,
    "start_time": "2023-01-18T12:06:24.091Z"
   },
   {
    "duration": 3014,
    "start_time": "2023-01-18T12:06:24.132Z"
   },
   {
    "duration": 4,
    "start_time": "2023-01-18T12:06:49.625Z"
   },
   {
    "duration": 8,
    "start_time": "2023-01-18T12:09:29.562Z"
   },
   {
    "duration": 171696,
    "start_time": "2023-01-18T12:09:36.465Z"
   },
   {
    "duration": 4,
    "start_time": "2023-01-18T12:12:42.160Z"
   },
   {
    "duration": 27,
    "start_time": "2023-01-18T12:16:29.261Z"
   },
   {
    "duration": 78,
    "start_time": "2023-01-18T12:16:46.709Z"
   },
   {
    "duration": 11,
    "start_time": "2023-01-18T12:16:54.494Z"
   },
   {
    "duration": 13,
    "start_time": "2023-01-18T12:17:57.202Z"
   },
   {
    "duration": 5,
    "start_time": "2023-01-18T12:20:45.657Z"
   },
   {
    "duration": 10,
    "start_time": "2023-01-18T12:20:47.148Z"
   },
   {
    "duration": 1206,
    "start_time": "2023-01-18T12:20:56.627Z"
   },
   {
    "duration": 5,
    "start_time": "2023-01-18T12:21:03.096Z"
   },
   {
    "duration": 10,
    "start_time": "2023-01-18T12:22:37.560Z"
   },
   {
    "duration": 78146,
    "start_time": "2023-01-18T12:23:06.079Z"
   },
   {
    "duration": 5,
    "start_time": "2023-01-18T12:26:08.928Z"
   },
   {
    "duration": 68,
    "start_time": "2023-01-18T12:27:26.411Z"
   },
   {
    "duration": 20,
    "start_time": "2023-01-18T12:27:36.542Z"
   },
   {
    "duration": 5,
    "start_time": "2023-01-18T12:27:41.153Z"
   },
   {
    "duration": 13,
    "start_time": "2023-01-18T12:27:49.512Z"
   },
   {
    "duration": 87,
    "start_time": "2023-01-18T12:28:04.394Z"
   },
   {
    "duration": 10,
    "start_time": "2023-01-18T12:28:07.104Z"
   },
   {
    "duration": 77,
    "start_time": "2023-01-18T12:30:17.635Z"
   },
   {
    "duration": 19,
    "start_time": "2023-01-18T13:25:36.872Z"
   },
   {
    "duration": 59,
    "start_time": "2023-01-18T13:27:34.521Z"
   },
   {
    "duration": 298,
    "start_time": "2023-01-18T13:27:48.801Z"
   },
   {
    "duration": 389,
    "start_time": "2023-01-18T13:29:41.894Z"
   },
   {
    "duration": 309,
    "start_time": "2023-01-18T13:31:29.531Z"
   },
   {
    "duration": 339,
    "start_time": "2023-01-18T13:32:47.554Z"
   },
   {
    "duration": 340,
    "start_time": "2023-01-18T13:33:26.069Z"
   },
   {
    "duration": 299,
    "start_time": "2023-01-18T13:33:44.652Z"
   },
   {
    "duration": 284,
    "start_time": "2023-01-18T13:34:04.875Z"
   },
   {
    "duration": 343,
    "start_time": "2023-01-18T13:34:41.562Z"
   },
   {
    "duration": 283,
    "start_time": "2023-01-18T13:35:24.420Z"
   },
   {
    "duration": 286,
    "start_time": "2023-01-18T13:35:26.901Z"
   },
   {
    "duration": 279,
    "start_time": "2023-01-18T13:38:10.876Z"
   },
   {
    "duration": 109,
    "start_time": "2023-01-18T13:49:33.465Z"
   },
   {
    "duration": 641,
    "start_time": "2023-01-18T13:59:57.150Z"
   },
   {
    "duration": 74,
    "start_time": "2023-01-18T14:00:32.258Z"
   },
   {
    "duration": 619,
    "start_time": "2023-01-18T14:01:40.227Z"
   },
   {
    "duration": 430,
    "start_time": "2023-01-18T14:02:22.358Z"
   },
   {
    "duration": 74,
    "start_time": "2023-01-18T14:05:32.716Z"
   },
   {
    "duration": 476,
    "start_time": "2023-01-18T14:06:13.476Z"
   },
   {
    "duration": 561,
    "start_time": "2023-01-18T14:08:15.116Z"
   },
   {
    "duration": 537,
    "start_time": "2023-01-18T14:29:46.101Z"
   },
   {
    "duration": 525,
    "start_time": "2023-01-18T14:32:08.982Z"
   },
   {
    "duration": 266,
    "start_time": "2023-01-18T14:33:44.768Z"
   },
   {
    "duration": 91,
    "start_time": "2023-01-18T14:34:26.773Z"
   },
   {
    "duration": 287,
    "start_time": "2023-01-18T14:35:14.334Z"
   },
   {
    "duration": 68,
    "start_time": "2023-01-18T14:37:26.773Z"
   },
   {
    "duration": 99,
    "start_time": "2023-01-18T15:19:50.373Z"
   },
   {
    "duration": 477,
    "start_time": "2023-01-18T15:20:14.478Z"
   },
   {
    "duration": 74,
    "start_time": "2023-01-18T15:21:24.118Z"
   },
   {
    "duration": 277,
    "start_time": "2023-01-18T15:32:57.273Z"
   },
   {
    "duration": 9,
    "start_time": "2023-01-18T15:35:07.284Z"
   },
   {
    "duration": 4,
    "start_time": "2023-01-18T15:35:13.590Z"
   },
   {
    "duration": 5,
    "start_time": "2023-01-18T15:35:50.513Z"
   },
   {
    "duration": 194,
    "start_time": "2023-01-18T15:36:14.824Z"
   },
   {
    "duration": 211,
    "start_time": "2023-01-18T15:36:24.391Z"
   },
   {
    "duration": 293,
    "start_time": "2023-01-18T15:36:29.983Z"
   },
   {
    "duration": 492,
    "start_time": "2023-01-18T15:37:06.623Z"
   },
   {
    "duration": 13,
    "start_time": "2023-01-18T15:55:01.088Z"
   },
   {
    "duration": 9,
    "start_time": "2023-01-18T15:55:36.531Z"
   },
   {
    "duration": 121,
    "start_time": "2023-01-18T15:55:44.265Z"
   },
   {
    "duration": 72,
    "start_time": "2023-01-18T16:22:07.659Z"
   },
   {
    "duration": 1474,
    "start_time": "2023-01-18T16:48:53.311Z"
   },
   {
    "duration": 38,
    "start_time": "2023-01-18T16:48:54.787Z"
   },
   {
    "duration": 3,
    "start_time": "2023-01-18T16:48:54.826Z"
   },
   {
    "duration": 6,
    "start_time": "2023-01-18T16:48:54.832Z"
   },
   {
    "duration": 9,
    "start_time": "2023-01-18T16:48:54.839Z"
   },
   {
    "duration": 9,
    "start_time": "2023-01-18T16:48:54.849Z"
   },
   {
    "duration": 9,
    "start_time": "2023-01-18T16:48:54.859Z"
   },
   {
    "duration": 10,
    "start_time": "2023-01-18T16:48:54.869Z"
   },
   {
    "duration": 48,
    "start_time": "2023-01-18T16:48:54.880Z"
   },
   {
    "duration": 7776,
    "start_time": "2023-01-18T16:48:54.931Z"
   },
   {
    "duration": 6,
    "start_time": "2023-01-18T16:49:02.709Z"
   },
   {
    "duration": 17,
    "start_time": "2023-01-18T16:49:02.717Z"
   },
   {
    "duration": 10,
    "start_time": "2023-01-18T16:49:02.735Z"
   },
   {
    "duration": 21,
    "start_time": "2023-01-18T16:49:02.747Z"
   },
   {
    "duration": 28,
    "start_time": "2023-01-18T16:49:02.770Z"
   },
   {
    "duration": 37,
    "start_time": "2023-01-18T16:49:02.800Z"
   },
   {
    "duration": 16,
    "start_time": "2023-01-18T16:49:02.839Z"
   },
   {
    "duration": 21,
    "start_time": "2023-01-18T16:49:02.857Z"
   },
   {
    "duration": 119,
    "start_time": "2023-01-18T16:49:02.880Z"
   },
   {
    "duration": 4,
    "start_time": "2023-01-18T16:49:03.000Z"
   },
   {
    "duration": 12,
    "start_time": "2023-01-18T16:49:03.006Z"
   },
   {
    "duration": 16,
    "start_time": "2023-01-18T16:49:03.020Z"
   },
   {
    "duration": 12,
    "start_time": "2023-01-18T16:49:03.038Z"
   },
   {
    "duration": 43,
    "start_time": "2023-01-18T16:49:03.052Z"
   },
   {
    "duration": 11,
    "start_time": "2023-01-18T16:49:03.097Z"
   },
   {
    "duration": 19,
    "start_time": "2023-01-18T16:49:03.110Z"
   },
   {
    "duration": 19,
    "start_time": "2023-01-18T16:49:03.130Z"
   },
   {
    "duration": 12,
    "start_time": "2023-01-18T16:49:03.154Z"
   },
   {
    "duration": 125,
    "start_time": "2023-01-18T16:49:03.168Z"
   },
   {
    "duration": 0,
    "start_time": "2023-01-18T16:49:03.295Z"
   },
   {
    "duration": 1,
    "start_time": "2023-01-18T16:49:03.298Z"
   },
   {
    "duration": 0,
    "start_time": "2023-01-18T16:49:03.300Z"
   },
   {
    "duration": 0,
    "start_time": "2023-01-18T16:49:03.302Z"
   },
   {
    "duration": 0,
    "start_time": "2023-01-18T16:49:03.303Z"
   },
   {
    "duration": 0,
    "start_time": "2023-01-18T16:49:03.304Z"
   },
   {
    "duration": 0,
    "start_time": "2023-01-18T16:49:03.306Z"
   },
   {
    "duration": 0,
    "start_time": "2023-01-18T16:49:03.308Z"
   },
   {
    "duration": 0,
    "start_time": "2023-01-18T16:49:03.309Z"
   },
   {
    "duration": 0,
    "start_time": "2023-01-18T16:49:03.311Z"
   },
   {
    "duration": 0,
    "start_time": "2023-01-18T16:49:03.312Z"
   },
   {
    "duration": 0,
    "start_time": "2023-01-18T16:49:03.313Z"
   },
   {
    "duration": 0,
    "start_time": "2023-01-18T16:49:03.315Z"
   },
   {
    "duration": 0,
    "start_time": "2023-01-18T16:49:03.317Z"
   },
   {
    "duration": 0,
    "start_time": "2023-01-18T16:49:03.318Z"
   },
   {
    "duration": 0,
    "start_time": "2023-01-18T16:49:03.319Z"
   },
   {
    "duration": 1,
    "start_time": "2023-01-18T16:49:03.320Z"
   },
   {
    "duration": 0,
    "start_time": "2023-01-18T16:49:03.322Z"
   },
   {
    "duration": 0,
    "start_time": "2023-01-18T16:49:03.323Z"
   },
   {
    "duration": 0,
    "start_time": "2023-01-18T16:49:03.325Z"
   },
   {
    "duration": 0,
    "start_time": "2023-01-18T16:49:03.326Z"
   },
   {
    "duration": 0,
    "start_time": "2023-01-18T16:49:03.328Z"
   },
   {
    "duration": 0,
    "start_time": "2023-01-18T16:49:03.329Z"
   },
   {
    "duration": 0,
    "start_time": "2023-01-18T16:49:03.330Z"
   },
   {
    "duration": 0,
    "start_time": "2023-01-18T16:49:03.332Z"
   },
   {
    "duration": 0,
    "start_time": "2023-01-18T16:49:03.333Z"
   },
   {
    "duration": 0,
    "start_time": "2023-01-18T16:49:03.334Z"
   },
   {
    "duration": 0,
    "start_time": "2023-01-18T16:49:03.336Z"
   },
   {
    "duration": 0,
    "start_time": "2023-01-18T16:49:03.337Z"
   },
   {
    "duration": 0,
    "start_time": "2023-01-18T16:49:03.338Z"
   },
   {
    "duration": 0,
    "start_time": "2023-01-18T16:49:03.339Z"
   },
   {
    "duration": 0,
    "start_time": "2023-01-18T16:49:03.400Z"
   },
   {
    "duration": 0,
    "start_time": "2023-01-18T16:49:03.401Z"
   },
   {
    "duration": 0,
    "start_time": "2023-01-18T16:49:03.402Z"
   },
   {
    "duration": 0,
    "start_time": "2023-01-18T16:49:03.403Z"
   },
   {
    "duration": 0,
    "start_time": "2023-01-18T16:49:03.404Z"
   },
   {
    "duration": 0,
    "start_time": "2023-01-18T16:49:03.405Z"
   },
   {
    "duration": 0,
    "start_time": "2023-01-18T16:49:03.406Z"
   },
   {
    "duration": 0,
    "start_time": "2023-01-18T16:49:03.407Z"
   },
   {
    "duration": 0,
    "start_time": "2023-01-18T16:49:03.408Z"
   },
   {
    "duration": 0,
    "start_time": "2023-01-18T16:49:03.410Z"
   },
   {
    "duration": 0,
    "start_time": "2023-01-18T16:49:03.411Z"
   },
   {
    "duration": 0,
    "start_time": "2023-01-18T16:49:03.412Z"
   },
   {
    "duration": 0,
    "start_time": "2023-01-18T16:49:03.413Z"
   },
   {
    "duration": 0,
    "start_time": "2023-01-18T16:49:03.413Z"
   },
   {
    "duration": 0,
    "start_time": "2023-01-18T16:49:03.414Z"
   },
   {
    "duration": 0,
    "start_time": "2023-01-18T16:49:03.415Z"
   },
   {
    "duration": 0,
    "start_time": "2023-01-18T16:49:03.416Z"
   },
   {
    "duration": 38,
    "start_time": "2023-01-18T16:50:16.425Z"
   },
   {
    "duration": 24,
    "start_time": "2023-01-18T16:50:43.254Z"
   },
   {
    "duration": 22,
    "start_time": "2023-01-18T16:51:22.756Z"
   },
   {
    "duration": 2444,
    "start_time": "2023-01-18T16:51:34.474Z"
   },
   {
    "duration": 3,
    "start_time": "2023-01-18T16:51:36.919Z"
   },
   {
    "duration": 12,
    "start_time": "2023-01-18T16:51:36.924Z"
   },
   {
    "duration": 126353,
    "start_time": "2023-01-18T16:51:36.938Z"
   },
   {
    "duration": 8,
    "start_time": "2023-01-18T16:53:43.292Z"
   },
   {
    "duration": 26,
    "start_time": "2023-01-18T16:53:43.302Z"
   },
   {
    "duration": 79,
    "start_time": "2023-01-18T16:53:43.329Z"
   },
   {
    "duration": 97,
    "start_time": "2023-01-18T16:53:43.409Z"
   },
   {
    "duration": 195,
    "start_time": "2023-01-18T16:53:43.507Z"
   },
   {
    "duration": 2502,
    "start_time": "2023-01-18T16:53:43.705Z"
   },
   {
    "duration": 4,
    "start_time": "2023-01-18T16:53:46.209Z"
   },
   {
    "duration": 14,
    "start_time": "2023-01-18T16:53:46.214Z"
   },
   {
    "duration": 124922,
    "start_time": "2023-01-18T16:53:46.229Z"
   },
   {
    "duration": 4,
    "start_time": "2023-01-18T16:55:51.152Z"
   },
   {
    "duration": 40,
    "start_time": "2023-01-18T16:55:51.157Z"
   },
   {
    "duration": 304,
    "start_time": "2023-01-18T16:55:51.198Z"
   },
   {
    "duration": 98,
    "start_time": "2023-01-18T16:55:51.504Z"
   },
   {
    "duration": 113,
    "start_time": "2023-01-18T16:55:51.604Z"
   },
   {
    "duration": 82,
    "start_time": "2023-01-18T16:55:51.719Z"
   },
   {
    "duration": 122,
    "start_time": "2023-01-18T16:55:51.807Z"
   },
   {
    "duration": 3105,
    "start_time": "2023-01-18T16:55:51.932Z"
   },
   {
    "duration": 4,
    "start_time": "2023-01-18T16:55:55.039Z"
   },
   {
    "duration": 27,
    "start_time": "2023-01-18T16:55:55.045Z"
   },
   {
    "duration": 167030,
    "start_time": "2023-01-18T16:55:55.074Z"
   },
   {
    "duration": 4,
    "start_time": "2023-01-18T16:58:42.106Z"
   },
   {
    "duration": 33,
    "start_time": "2023-01-18T16:58:42.112Z"
   },
   {
    "duration": 154,
    "start_time": "2023-01-18T16:58:42.147Z"
   },
   {
    "duration": 94,
    "start_time": "2023-01-18T16:58:42.306Z"
   },
   {
    "duration": 102,
    "start_time": "2023-01-18T16:58:42.402Z"
   },
   {
    "duration": 94,
    "start_time": "2023-01-18T16:58:42.505Z"
   },
   {
    "duration": 13,
    "start_time": "2023-01-18T16:58:42.601Z"
   },
   {
    "duration": 1170,
    "start_time": "2023-01-18T16:58:42.615Z"
   },
   {
    "duration": 4,
    "start_time": "2023-01-18T16:58:43.787Z"
   },
   {
    "duration": 8,
    "start_time": "2023-01-18T16:58:43.800Z"
   },
   {
    "duration": 73910,
    "start_time": "2023-01-18T16:58:43.810Z"
   },
   {
    "duration": 4,
    "start_time": "2023-01-18T16:59:57.721Z"
   },
   {
    "duration": 31,
    "start_time": "2023-01-18T16:59:57.726Z"
   },
   {
    "duration": 49,
    "start_time": "2023-01-18T16:59:57.759Z"
   },
   {
    "duration": 103,
    "start_time": "2023-01-18T16:59:57.900Z"
   },
   {
    "duration": 106,
    "start_time": "2023-01-18T16:59:58.005Z"
   },
   {
    "duration": 429,
    "start_time": "2023-01-18T16:59:58.113Z"
   },
   {
    "duration": 277,
    "start_time": "2023-01-18T16:59:58.544Z"
   },
   {
    "duration": 618,
    "start_time": "2023-01-18T16:59:58.823Z"
   },
   {
    "duration": 448,
    "start_time": "2023-01-18T16:59:59.443Z"
   },
   {
    "duration": 559,
    "start_time": "2023-01-18T16:59:59.893Z"
   },
   {
    "duration": 501,
    "start_time": "2023-01-18T17:00:00.454Z"
   },
   {
    "duration": 483,
    "start_time": "2023-01-18T17:00:00.957Z"
   },
   {
    "duration": 118,
    "start_time": "2023-01-18T17:00:01.441Z"
   },
   {
    "duration": 1372,
    "start_time": "2023-01-18T19:28:32.354Z"
   },
   {
    "duration": 31,
    "start_time": "2023-01-18T19:28:33.729Z"
   },
   {
    "duration": 4,
    "start_time": "2023-01-18T19:28:33.762Z"
   },
   {
    "duration": 10,
    "start_time": "2023-01-18T19:28:33.768Z"
   },
   {
    "duration": 5,
    "start_time": "2023-01-18T19:28:33.779Z"
   },
   {
    "duration": 8,
    "start_time": "2023-01-18T19:28:33.786Z"
   },
   {
    "duration": 12,
    "start_time": "2023-01-18T19:28:33.796Z"
   },
   {
    "duration": 7,
    "start_time": "2023-01-18T19:28:33.810Z"
   },
   {
    "duration": 57,
    "start_time": "2023-01-18T19:28:33.820Z"
   },
   {
    "duration": 7743,
    "start_time": "2023-01-18T19:28:33.881Z"
   },
   {
    "duration": 7,
    "start_time": "2023-01-18T19:28:41.625Z"
   },
   {
    "duration": 15,
    "start_time": "2023-01-18T19:28:41.634Z"
   },
   {
    "duration": 3,
    "start_time": "2023-01-18T19:28:41.651Z"
   },
   {
    "duration": 5,
    "start_time": "2023-01-18T19:28:41.656Z"
   },
   {
    "duration": 11,
    "start_time": "2023-01-18T19:28:41.663Z"
   },
   {
    "duration": 15,
    "start_time": "2023-01-18T19:28:41.676Z"
   },
   {
    "duration": 11,
    "start_time": "2023-01-18T19:28:41.693Z"
   },
   {
    "duration": 16,
    "start_time": "2023-01-18T19:28:41.706Z"
   },
   {
    "duration": 27,
    "start_time": "2023-01-18T19:28:41.724Z"
   },
   {
    "duration": 4,
    "start_time": "2023-01-18T19:28:41.753Z"
   },
   {
    "duration": 5,
    "start_time": "2023-01-18T19:28:41.758Z"
   },
   {
    "duration": 5,
    "start_time": "2023-01-18T19:28:41.765Z"
   },
   {
    "duration": 8,
    "start_time": "2023-01-18T19:28:41.772Z"
   },
   {
    "duration": 17,
    "start_time": "2023-01-18T19:28:41.782Z"
   },
   {
    "duration": 8,
    "start_time": "2023-01-18T19:28:41.801Z"
   },
   {
    "duration": 38,
    "start_time": "2023-01-18T19:28:41.811Z"
   },
   {
    "duration": 9,
    "start_time": "2023-01-18T19:28:41.851Z"
   },
   {
    "duration": 5,
    "start_time": "2023-01-18T19:28:41.864Z"
   },
   {
    "duration": 30,
    "start_time": "2023-01-18T19:28:41.871Z"
   },
   {
    "duration": 2565,
    "start_time": "2023-01-18T19:28:41.902Z"
   },
   {
    "duration": 4,
    "start_time": "2023-01-18T19:28:44.468Z"
   },
   {
    "duration": 11,
    "start_time": "2023-01-18T19:28:44.474Z"
   },
   {
    "duration": 137039,
    "start_time": "2023-01-18T19:28:44.487Z"
   },
   {
    "duration": 3,
    "start_time": "2023-01-18T19:31:01.528Z"
   },
   {
    "duration": 41,
    "start_time": "2023-01-18T19:31:01.532Z"
   },
   {
    "duration": 176,
    "start_time": "2023-01-18T19:31:01.575Z"
   },
   {
    "duration": 105,
    "start_time": "2023-01-18T19:31:01.753Z"
   },
   {
    "duration": 197,
    "start_time": "2023-01-18T19:31:01.860Z"
   },
   {
    "duration": 2773,
    "start_time": "2023-01-18T19:31:02.059Z"
   },
   {
    "duration": 7,
    "start_time": "2023-01-18T19:31:04.833Z"
   },
   {
    "duration": 11,
    "start_time": "2023-01-18T19:31:04.842Z"
   },
   {
    "duration": 137529,
    "start_time": "2023-01-18T19:31:04.855Z"
   },
   {
    "duration": 3,
    "start_time": "2023-01-18T19:33:22.386Z"
   },
   {
    "duration": 28,
    "start_time": "2023-01-18T19:33:22.391Z"
   },
   {
    "duration": 135,
    "start_time": "2023-01-18T19:33:22.421Z"
   },
   {
    "duration": 112,
    "start_time": "2023-01-18T19:33:22.648Z"
   },
   {
    "duration": 100,
    "start_time": "2023-01-18T19:33:22.850Z"
   },
   {
    "duration": 5,
    "start_time": "2023-01-18T19:33:22.953Z"
   },
   {
    "duration": 14,
    "start_time": "2023-01-18T19:33:23.049Z"
   },
   {
    "duration": 3180,
    "start_time": "2023-01-18T19:33:23.064Z"
   },
   {
    "duration": 5,
    "start_time": "2023-01-18T19:33:26.246Z"
   },
   {
    "duration": 9,
    "start_time": "2023-01-18T19:33:26.253Z"
   },
   {
    "duration": 186821,
    "start_time": "2023-01-18T19:33:26.263Z"
   },
   {
    "duration": 4,
    "start_time": "2023-01-18T19:36:33.085Z"
   },
   {
    "duration": 28,
    "start_time": "2023-01-18T19:36:33.090Z"
   },
   {
    "duration": 334,
    "start_time": "2023-01-18T19:36:33.119Z"
   },
   {
    "duration": 101,
    "start_time": "2023-01-18T19:36:33.455Z"
   },
   {
    "duration": 100,
    "start_time": "2023-01-18T19:36:33.558Z"
   },
   {
    "duration": 7,
    "start_time": "2023-01-18T19:36:33.752Z"
   },
   {
    "duration": 96,
    "start_time": "2023-01-18T19:36:33.761Z"
   },
   {
    "duration": 1221,
    "start_time": "2023-01-18T19:36:33.859Z"
   },
   {
    "duration": 6,
    "start_time": "2023-01-18T19:36:35.082Z"
   },
   {
    "duration": 15,
    "start_time": "2023-01-18T19:36:35.089Z"
   },
   {
    "duration": 85367,
    "start_time": "2023-01-18T19:36:35.106Z"
   },
   {
    "duration": 4,
    "start_time": "2023-01-18T19:38:00.474Z"
   },
   {
    "duration": 64,
    "start_time": "2023-01-18T19:38:00.479Z"
   },
   {
    "duration": 104,
    "start_time": "2023-01-18T19:38:00.545Z"
   },
   {
    "duration": 104,
    "start_time": "2023-01-18T19:38:00.652Z"
   },
   {
    "duration": 191,
    "start_time": "2023-01-18T19:38:00.758Z"
   },
   {
    "duration": 405,
    "start_time": "2023-01-18T19:38:00.952Z"
   },
   {
    "duration": 316,
    "start_time": "2023-01-18T19:38:01.358Z"
   },
   {
    "duration": 692,
    "start_time": "2023-01-18T19:38:01.676Z"
   },
   {
    "duration": 528,
    "start_time": "2023-01-18T19:38:02.369Z"
   },
   {
    "duration": 765,
    "start_time": "2023-01-18T19:38:02.899Z"
   },
   {
    "duration": 576,
    "start_time": "2023-01-18T19:38:03.665Z"
   },
   {
    "duration": 513,
    "start_time": "2023-01-18T19:38:04.243Z"
   },
   {
    "duration": 123,
    "start_time": "2023-01-18T19:38:04.758Z"
   },
   {
    "duration": 99,
    "start_time": "2023-01-18T21:20:10.467Z"
   },
   {
    "duration": 1632,
    "start_time": "2023-01-18T21:23:36.767Z"
   },
   {
    "duration": 29,
    "start_time": "2023-01-18T21:23:38.401Z"
   },
   {
    "duration": 3,
    "start_time": "2023-01-18T21:23:38.432Z"
   },
   {
    "duration": 9,
    "start_time": "2023-01-18T21:23:38.437Z"
   },
   {
    "duration": 13,
    "start_time": "2023-01-18T21:23:38.448Z"
   },
   {
    "duration": 9,
    "start_time": "2023-01-18T21:23:38.462Z"
   },
   {
    "duration": 15,
    "start_time": "2023-01-18T21:23:38.473Z"
   },
   {
    "duration": 22,
    "start_time": "2023-01-18T21:23:38.490Z"
   },
   {
    "duration": 180,
    "start_time": "2023-01-18T21:23:38.514Z"
   },
   {
    "duration": 8458,
    "start_time": "2023-01-18T21:23:38.697Z"
   },
   {
    "duration": 6,
    "start_time": "2023-01-18T21:23:47.157Z"
   },
   {
    "duration": 5,
    "start_time": "2023-01-18T21:23:47.165Z"
   },
   {
    "duration": 22,
    "start_time": "2023-01-18T21:23:47.171Z"
   },
   {
    "duration": 5,
    "start_time": "2023-01-18T21:23:47.195Z"
   },
   {
    "duration": 16,
    "start_time": "2023-01-18T21:23:47.201Z"
   },
   {
    "duration": 20,
    "start_time": "2023-01-18T21:23:47.219Z"
   },
   {
    "duration": 24,
    "start_time": "2023-01-18T21:23:47.241Z"
   },
   {
    "duration": 31,
    "start_time": "2023-01-18T21:23:47.267Z"
   },
   {
    "duration": 126,
    "start_time": "2023-01-18T21:23:47.300Z"
   },
   {
    "duration": 4,
    "start_time": "2023-01-18T21:23:47.428Z"
   },
   {
    "duration": 8,
    "start_time": "2023-01-18T21:23:47.434Z"
   },
   {
    "duration": 10,
    "start_time": "2023-01-18T21:23:47.444Z"
   },
   {
    "duration": 15,
    "start_time": "2023-01-18T21:23:47.456Z"
   },
   {
    "duration": 36,
    "start_time": "2023-01-18T21:23:47.473Z"
   },
   {
    "duration": 10,
    "start_time": "2023-01-18T21:23:47.511Z"
   },
   {
    "duration": 14,
    "start_time": "2023-01-18T21:23:47.522Z"
   },
   {
    "duration": 11,
    "start_time": "2023-01-18T21:23:47.538Z"
   },
   {
    "duration": 6,
    "start_time": "2023-01-18T21:23:47.553Z"
   },
   {
    "duration": 26,
    "start_time": "2023-01-18T21:23:47.592Z"
   },
   {
    "duration": 2605,
    "start_time": "2023-01-18T21:23:47.620Z"
   },
   {
    "duration": 4,
    "start_time": "2023-01-18T21:23:50.227Z"
   },
   {
    "duration": 10,
    "start_time": "2023-01-18T21:23:50.232Z"
   },
   {
    "duration": 133869,
    "start_time": "2023-01-18T21:23:50.244Z"
   },
   {
    "duration": 4,
    "start_time": "2023-01-18T21:26:04.115Z"
   },
   {
    "duration": 68,
    "start_time": "2023-01-18T21:26:04.120Z"
   },
   {
    "duration": 304,
    "start_time": "2023-01-18T21:26:04.189Z"
   },
   {
    "duration": 114,
    "start_time": "2023-01-18T21:26:04.494Z"
   },
   {
    "duration": 91,
    "start_time": "2023-01-18T21:26:04.611Z"
   },
   {
    "duration": 2878,
    "start_time": "2023-01-18T21:26:04.707Z"
   },
   {
    "duration": 19,
    "start_time": "2023-01-18T21:26:07.586Z"
   },
   {
    "duration": 11,
    "start_time": "2023-01-18T21:26:07.607Z"
   },
   {
    "duration": 136119,
    "start_time": "2023-01-18T21:26:07.620Z"
   },
   {
    "duration": 4,
    "start_time": "2023-01-18T21:28:23.741Z"
   },
   {
    "duration": 22,
    "start_time": "2023-01-18T21:28:23.747Z"
   },
   {
    "duration": 229,
    "start_time": "2023-01-18T21:28:23.770Z"
   },
   {
    "duration": 10,
    "start_time": "2023-01-18T21:28:24.001Z"
   },
   {
    "duration": 201,
    "start_time": "2023-01-18T21:28:24.013Z"
   },
   {
    "duration": 176,
    "start_time": "2023-01-18T21:28:24.216Z"
   },
   {
    "duration": 16,
    "start_time": "2023-01-18T21:28:24.393Z"
   },
   {
    "duration": 3218,
    "start_time": "2023-01-18T21:28:24.410Z"
   },
   {
    "duration": 3,
    "start_time": "2023-01-18T21:28:27.630Z"
   },
   {
    "duration": 10,
    "start_time": "2023-01-18T21:28:27.635Z"
   },
   {
    "duration": 182412,
    "start_time": "2023-01-18T21:28:27.646Z"
   },
   {
    "duration": 4,
    "start_time": "2023-01-18T21:31:30.060Z"
   },
   {
    "duration": 73,
    "start_time": "2023-01-18T21:31:30.066Z"
   },
   {
    "duration": 273,
    "start_time": "2023-01-18T21:31:30.140Z"
   },
   {
    "duration": 109,
    "start_time": "2023-01-18T21:31:30.495Z"
   },
   {
    "duration": 99,
    "start_time": "2023-01-18T21:31:30.606Z"
   },
   {
    "duration": 230,
    "start_time": "2023-01-18T21:31:30.707Z"
   },
   {
    "duration": 27,
    "start_time": "2023-01-18T21:31:30.939Z"
   },
   {
    "duration": 1268,
    "start_time": "2023-01-18T21:31:30.968Z"
   },
   {
    "duration": 4,
    "start_time": "2023-01-18T21:31:32.238Z"
   },
   {
    "duration": 9,
    "start_time": "2023-01-18T21:31:32.243Z"
   },
   {
    "duration": 81960,
    "start_time": "2023-01-18T21:31:32.253Z"
   },
   {
    "duration": 3,
    "start_time": "2023-01-18T21:32:54.215Z"
   },
   {
    "duration": 23,
    "start_time": "2023-01-18T21:32:54.220Z"
   },
   {
    "duration": 148,
    "start_time": "2023-01-18T21:32:54.245Z"
   },
   {
    "duration": 104,
    "start_time": "2023-01-18T21:32:54.395Z"
   },
   {
    "duration": 196,
    "start_time": "2023-01-18T21:32:54.501Z"
   },
   {
    "duration": 462,
    "start_time": "2023-01-18T21:32:54.699Z"
   },
   {
    "duration": 292,
    "start_time": "2023-01-18T21:32:55.163Z"
   },
   {
    "duration": 654,
    "start_time": "2023-01-18T21:32:55.457Z"
   },
   {
    "duration": 528,
    "start_time": "2023-01-18T21:32:56.113Z"
   },
   {
    "duration": 601,
    "start_time": "2023-01-18T21:32:56.642Z"
   },
   {
    "duration": 595,
    "start_time": "2023-01-18T21:32:57.245Z"
   },
   {
    "duration": 228,
    "start_time": "2023-01-18T21:32:57.842Z"
   },
   {
    "duration": 127,
    "start_time": "2023-01-18T21:32:58.072Z"
   },
   {
    "duration": 45,
    "start_time": "2023-01-18T21:34:48.442Z"
   },
   {
    "duration": 9,
    "start_time": "2023-01-18T21:43:21.418Z"
   },
   {
    "duration": 5629,
    "start_time": "2023-01-18T21:43:26.879Z"
   },
   {
    "duration": 9,
    "start_time": "2023-01-18T21:44:03.187Z"
   },
   {
    "duration": 8471,
    "start_time": "2023-01-18T21:44:13.340Z"
   },
   {
    "duration": 8,
    "start_time": "2023-01-18T21:45:42.348Z"
   },
   {
    "duration": 9145,
    "start_time": "2023-01-18T21:45:48.373Z"
   },
   {
    "duration": 20,
    "start_time": "2023-01-18T21:47:09.683Z"
   },
   {
    "duration": 8443,
    "start_time": "2023-01-18T21:47:16.142Z"
   },
   {
    "duration": 8,
    "start_time": "2023-01-18T21:48:37.670Z"
   },
   {
    "duration": 8859,
    "start_time": "2023-01-18T21:48:43.508Z"
   },
   {
    "duration": 51,
    "start_time": "2023-01-18T21:51:21.913Z"
   },
   {
    "duration": 8,
    "start_time": "2023-01-18T22:00:58.581Z"
   },
   {
    "duration": 37,
    "start_time": "2023-01-18T22:00:58.593Z"
   },
   {
    "duration": 3,
    "start_time": "2023-01-18T22:00:58.632Z"
   },
   {
    "duration": 8,
    "start_time": "2023-01-18T22:00:58.636Z"
   },
   {
    "duration": 7,
    "start_time": "2023-01-18T22:00:58.646Z"
   },
   {
    "duration": 8,
    "start_time": "2023-01-18T22:00:58.655Z"
   },
   {
    "duration": 7,
    "start_time": "2023-01-18T22:00:58.665Z"
   },
   {
    "duration": 12,
    "start_time": "2023-01-18T22:00:58.674Z"
   },
   {
    "duration": 50,
    "start_time": "2023-01-18T22:00:58.687Z"
   },
   {
    "duration": 9054,
    "start_time": "2023-01-18T22:00:58.738Z"
   },
   {
    "duration": 6,
    "start_time": "2023-01-18T22:02:27.862Z"
   },
   {
    "duration": 21,
    "start_time": "2023-01-18T22:02:45.834Z"
   },
   {
    "duration": 5648,
    "start_time": "2023-01-18T22:05:10.097Z"
   },
   {
    "duration": 9,
    "start_time": "2023-01-18T22:09:39.918Z"
   },
   {
    "duration": 4,
    "start_time": "2023-01-18T22:09:43.140Z"
   },
   {
    "duration": 5809,
    "start_time": "2023-01-18T22:09:45.858Z"
   },
   {
    "duration": 4,
    "start_time": "2023-01-18T22:12:42.142Z"
   },
   {
    "duration": 5671,
    "start_time": "2023-01-18T22:12:51.375Z"
   },
   {
    "duration": 8,
    "start_time": "2023-01-18T22:13:53.636Z"
   },
   {
    "duration": 6166,
    "start_time": "2023-01-18T22:14:15.935Z"
   },
   {
    "duration": 8,
    "start_time": "2023-01-18T22:14:54.756Z"
   },
   {
    "duration": 5820,
    "start_time": "2023-01-18T22:15:24.760Z"
   },
   {
    "duration": 8,
    "start_time": "2023-01-18T22:17:08.974Z"
   },
   {
    "duration": 8,
    "start_time": "2023-01-18T22:18:03.303Z"
   },
   {
    "duration": 9019,
    "start_time": "2023-01-18T22:18:13.308Z"
   },
   {
    "duration": 5949,
    "start_time": "2023-01-18T22:18:39.250Z"
   },
   {
    "duration": 8,
    "start_time": "2023-01-18T22:19:27.477Z"
   },
   {
    "duration": 8674,
    "start_time": "2023-01-18T22:19:32.328Z"
   },
   {
    "duration": 4681,
    "start_time": "2023-01-18T22:19:48.780Z"
   },
   {
    "duration": 3,
    "start_time": "2023-01-18T22:26:33.059Z"
   },
   {
    "duration": 5,
    "start_time": "2023-01-18T22:26:36.452Z"
   },
   {
    "duration": 4,
    "start_time": "2023-01-18T22:30:31.868Z"
   },
   {
    "duration": 4,
    "start_time": "2023-01-18T22:32:18.919Z"
   },
   {
    "duration": 7,
    "start_time": "2023-01-18T22:35:22.900Z"
   },
   {
    "duration": 3,
    "start_time": "2023-01-18T22:35:23.708Z"
   },
   {
    "duration": 4,
    "start_time": "2023-01-18T22:35:24.484Z"
   },
   {
    "duration": 8,
    "start_time": "2023-01-18T22:35:51.799Z"
   },
   {
    "duration": 28,
    "start_time": "2023-01-18T22:35:51.813Z"
   },
   {
    "duration": 4,
    "start_time": "2023-01-18T22:35:51.842Z"
   },
   {
    "duration": 11,
    "start_time": "2023-01-18T22:35:51.847Z"
   },
   {
    "duration": 7,
    "start_time": "2023-01-18T22:35:51.860Z"
   },
   {
    "duration": 8,
    "start_time": "2023-01-18T22:35:51.869Z"
   },
   {
    "duration": 7,
    "start_time": "2023-01-18T22:35:51.879Z"
   },
   {
    "duration": 12,
    "start_time": "2023-01-18T22:35:51.888Z"
   },
   {
    "duration": 50,
    "start_time": "2023-01-18T22:35:51.901Z"
   },
   {
    "duration": 8725,
    "start_time": "2023-01-18T22:35:51.953Z"
   },
   {
    "duration": 24,
    "start_time": "2023-01-18T22:36:00.680Z"
   },
   {
    "duration": 11,
    "start_time": "2023-01-18T22:36:00.706Z"
   },
   {
    "duration": 23,
    "start_time": "2023-01-18T22:36:00.719Z"
   },
   {
    "duration": 38,
    "start_time": "2023-01-18T22:36:00.744Z"
   },
   {
    "duration": 33,
    "start_time": "2023-01-18T22:36:00.784Z"
   },
   {
    "duration": 35,
    "start_time": "2023-01-18T22:36:00.819Z"
   },
   {
    "duration": 5,
    "start_time": "2023-01-18T22:37:09.100Z"
   },
   {
    "duration": 2022,
    "start_time": "2023-01-19T08:52:34.041Z"
   },
   {
    "duration": 40,
    "start_time": "2023-01-19T08:52:36.066Z"
   },
   {
    "duration": 3,
    "start_time": "2023-01-19T08:52:36.108Z"
   },
   {
    "duration": 13,
    "start_time": "2023-01-19T08:52:36.113Z"
   },
   {
    "duration": 18,
    "start_time": "2023-01-19T08:52:36.127Z"
   },
   {
    "duration": 10,
    "start_time": "2023-01-19T08:52:36.146Z"
   },
   {
    "duration": 15,
    "start_time": "2023-01-19T08:52:36.158Z"
   },
   {
    "duration": 19,
    "start_time": "2023-01-19T08:52:36.175Z"
   },
   {
    "duration": 113,
    "start_time": "2023-01-19T08:52:36.196Z"
   },
   {
    "duration": 9037,
    "start_time": "2023-01-19T08:52:36.311Z"
   },
   {
    "duration": 17,
    "start_time": "2023-01-19T08:52:45.350Z"
   },
   {
    "duration": 4,
    "start_time": "2023-01-19T08:52:45.369Z"
   },
   {
    "duration": 16,
    "start_time": "2023-01-19T08:52:45.375Z"
   },
   {
    "duration": 9,
    "start_time": "2023-01-19T08:52:45.393Z"
   },
   {
    "duration": 35,
    "start_time": "2023-01-19T08:52:45.404Z"
   },
   {
    "duration": 3,
    "start_time": "2023-01-19T08:52:45.442Z"
   },
   {
    "duration": 8,
    "start_time": "2023-01-19T08:52:45.447Z"
   },
   {
    "duration": 27,
    "start_time": "2023-01-19T08:52:45.456Z"
   },
   {
    "duration": 11,
    "start_time": "2023-01-19T08:52:45.485Z"
   },
   {
    "duration": 24,
    "start_time": "2023-01-19T08:52:45.498Z"
   },
   {
    "duration": 13,
    "start_time": "2023-01-19T08:52:45.524Z"
   },
   {
    "duration": 33,
    "start_time": "2023-01-19T08:52:45.539Z"
   },
   {
    "duration": 15,
    "start_time": "2023-01-19T08:52:45.574Z"
   },
   {
    "duration": 4,
    "start_time": "2023-01-19T08:52:45.591Z"
   },
   {
    "duration": 7,
    "start_time": "2023-01-19T08:52:45.597Z"
   },
   {
    "duration": 10,
    "start_time": "2023-01-19T08:52:45.605Z"
   },
   {
    "duration": 12,
    "start_time": "2023-01-19T08:52:45.617Z"
   },
   {
    "duration": 31,
    "start_time": "2023-01-19T08:52:45.634Z"
   },
   {
    "duration": 12,
    "start_time": "2023-01-19T08:52:45.667Z"
   },
   {
    "duration": 15,
    "start_time": "2023-01-19T08:52:45.681Z"
   },
   {
    "duration": 29,
    "start_time": "2023-01-19T08:52:45.698Z"
   },
   {
    "duration": 19,
    "start_time": "2023-01-19T08:52:45.729Z"
   },
   {
    "duration": 31,
    "start_time": "2023-01-19T08:52:45.750Z"
   },
   {
    "duration": 2764,
    "start_time": "2023-01-19T08:52:45.782Z"
   },
   {
    "duration": 5,
    "start_time": "2023-01-19T08:52:48.547Z"
   },
   {
    "duration": 11,
    "start_time": "2023-01-19T08:52:48.553Z"
   },
   {
    "duration": 137615,
    "start_time": "2023-01-19T08:52:48.565Z"
   },
   {
    "duration": 4,
    "start_time": "2023-01-19T08:55:06.182Z"
   },
   {
    "duration": 27,
    "start_time": "2023-01-19T08:55:06.188Z"
   },
   {
    "duration": 134,
    "start_time": "2023-01-19T08:55:06.217Z"
   },
   {
    "duration": 103,
    "start_time": "2023-01-19T08:55:06.441Z"
   },
   {
    "duration": 96,
    "start_time": "2023-01-19T08:55:06.546Z"
   },
   {
    "duration": 2898,
    "start_time": "2023-01-19T08:55:06.644Z"
   },
   {
    "duration": 5,
    "start_time": "2023-01-19T08:55:09.544Z"
   },
   {
    "duration": 10,
    "start_time": "2023-01-19T08:55:09.551Z"
   },
   {
    "duration": 138734,
    "start_time": "2023-01-19T08:55:09.563Z"
   },
   {
    "duration": 4,
    "start_time": "2023-01-19T08:57:28.299Z"
   },
   {
    "duration": 50,
    "start_time": "2023-01-19T08:57:28.305Z"
   },
   {
    "duration": 184,
    "start_time": "2023-01-19T08:57:28.357Z"
   },
   {
    "duration": 126,
    "start_time": "2023-01-19T08:57:28.544Z"
   },
   {
    "duration": 187,
    "start_time": "2023-01-19T08:57:28.672Z"
   },
   {
    "duration": 214,
    "start_time": "2023-01-19T08:57:28.861Z"
   },
   {
    "duration": 60,
    "start_time": "2023-01-19T08:57:29.077Z"
   },
   {
    "duration": 3392,
    "start_time": "2023-01-19T08:57:29.139Z"
   },
   {
    "duration": 8,
    "start_time": "2023-01-19T08:57:32.533Z"
   },
   {
    "duration": 26,
    "start_time": "2023-01-19T08:57:32.544Z"
   },
   {
    "duration": 186021,
    "start_time": "2023-01-19T08:57:32.572Z"
   },
   {
    "duration": 5,
    "start_time": "2023-01-19T09:00:38.595Z"
   },
   {
    "duration": 49,
    "start_time": "2023-01-19T09:00:38.602Z"
   },
   {
    "duration": 289,
    "start_time": "2023-01-19T09:00:38.653Z"
   },
   {
    "duration": 99,
    "start_time": "2023-01-19T09:00:38.944Z"
   },
   {
    "duration": 104,
    "start_time": "2023-01-19T09:00:39.045Z"
   },
   {
    "duration": 99,
    "start_time": "2023-01-19T09:00:39.151Z"
   },
   {
    "duration": 10,
    "start_time": "2023-01-19T09:00:39.341Z"
   },
   {
    "duration": 1267,
    "start_time": "2023-01-19T09:00:39.353Z"
   },
   {
    "duration": 4,
    "start_time": "2023-01-19T09:00:40.621Z"
   },
   {
    "duration": 9,
    "start_time": "2023-01-19T09:00:40.639Z"
   },
   {
    "duration": 80984,
    "start_time": "2023-01-19T09:00:40.650Z"
   },
   {
    "duration": 5,
    "start_time": "2023-01-19T09:02:01.636Z"
   },
   {
    "duration": 55,
    "start_time": "2023-01-19T09:02:01.643Z"
   },
   {
    "duration": 141,
    "start_time": "2023-01-19T09:02:01.700Z"
   },
   {
    "duration": 121,
    "start_time": "2023-01-19T09:02:01.843Z"
   },
   {
    "duration": 220,
    "start_time": "2023-01-19T09:02:01.966Z"
   },
   {
    "duration": 445,
    "start_time": "2023-01-19T09:02:02.188Z"
   },
   {
    "duration": 285,
    "start_time": "2023-01-19T09:02:02.639Z"
   },
   {
    "duration": 663,
    "start_time": "2023-01-19T09:02:02.926Z"
   },
   {
    "duration": 491,
    "start_time": "2023-01-19T09:02:03.590Z"
   },
   {
    "duration": 620,
    "start_time": "2023-01-19T09:02:04.083Z"
   },
   {
    "duration": 608,
    "start_time": "2023-01-19T09:02:04.705Z"
   },
   {
    "duration": 234,
    "start_time": "2023-01-19T09:02:05.315Z"
   },
   {
    "duration": 133,
    "start_time": "2023-01-19T09:02:05.552Z"
   },
   {
    "duration": 9,
    "start_time": "2023-01-19T09:10:38.383Z"
   },
   {
    "duration": 9,
    "start_time": "2023-01-19T09:11:37.529Z"
   },
   {
    "duration": 8,
    "start_time": "2023-01-19T09:17:34.959Z"
   },
   {
    "duration": 42,
    "start_time": "2023-01-19T09:17:34.981Z"
   },
   {
    "duration": 3,
    "start_time": "2023-01-19T09:17:35.026Z"
   },
   {
    "duration": 8,
    "start_time": "2023-01-19T09:17:35.031Z"
   },
   {
    "duration": 18,
    "start_time": "2023-01-19T09:17:35.041Z"
   },
   {
    "duration": 10,
    "start_time": "2023-01-19T09:17:35.064Z"
   },
   {
    "duration": 11,
    "start_time": "2023-01-19T09:17:35.076Z"
   },
   {
    "duration": 10,
    "start_time": "2023-01-19T09:17:35.089Z"
   },
   {
    "duration": 55,
    "start_time": "2023-01-19T09:17:35.101Z"
   },
   {
    "duration": 8983,
    "start_time": "2023-01-19T09:17:35.159Z"
   },
   {
    "duration": 15,
    "start_time": "2023-01-19T09:17:44.144Z"
   },
   {
    "duration": 9,
    "start_time": "2023-01-19T09:17:44.161Z"
   },
   {
    "duration": 7,
    "start_time": "2023-01-19T09:17:44.172Z"
   },
   {
    "duration": 7,
    "start_time": "2023-01-19T09:17:44.180Z"
   },
   {
    "duration": 8,
    "start_time": "2023-01-19T09:17:44.189Z"
   },
   {
    "duration": 7,
    "start_time": "2023-01-19T09:17:44.199Z"
   },
   {
    "duration": 33,
    "start_time": "2023-01-19T09:17:44.208Z"
   },
   {
    "duration": 8,
    "start_time": "2023-01-19T09:17:44.242Z"
   },
   {
    "duration": 6,
    "start_time": "2023-01-19T09:17:44.253Z"
   },
   {
    "duration": 22,
    "start_time": "2023-01-19T09:17:44.261Z"
   },
   {
    "duration": 3,
    "start_time": "2023-01-19T09:17:44.285Z"
   },
   {
    "duration": 72,
    "start_time": "2023-01-19T09:18:20.444Z"
   },
   {
    "duration": 92,
    "start_time": "2023-01-19T09:19:33.209Z"
   },
   {
    "duration": 118,
    "start_time": "2023-01-19T09:20:03.058Z"
   },
   {
    "duration": 13,
    "start_time": "2023-01-19T09:20:20.383Z"
   },
   {
    "duration": 10,
    "start_time": "2023-01-19T09:26:01.186Z"
   },
   {
    "duration": 11,
    "start_time": "2023-01-19T09:26:48.162Z"
   },
   {
    "duration": 12,
    "start_time": "2023-01-19T09:26:57.202Z"
   },
   {
    "duration": 214,
    "start_time": "2023-01-19T09:39:37.201Z"
   },
   {
    "duration": 211,
    "start_time": "2023-01-19T09:40:02.961Z"
   },
   {
    "duration": 29,
    "start_time": "2023-01-19T09:41:01.772Z"
   },
   {
    "duration": 13,
    "start_time": "2023-01-19T09:46:12.592Z"
   },
   {
    "duration": 13,
    "start_time": "2023-01-19T09:46:54.786Z"
   },
   {
    "duration": 25,
    "start_time": "2023-01-19T10:00:18.160Z"
   },
   {
    "duration": 5,
    "start_time": "2023-01-19T10:02:11.017Z"
   },
   {
    "duration": 14,
    "start_time": "2023-01-19T10:03:30.972Z"
   },
   {
    "duration": 4,
    "start_time": "2023-01-19T10:07:41.192Z"
   },
   {
    "duration": 1613,
    "start_time": "2023-01-19T10:51:48.094Z"
   },
   {
    "duration": 60,
    "start_time": "2023-01-19T10:51:49.709Z"
   },
   {
    "duration": 3,
    "start_time": "2023-01-19T10:51:49.771Z"
   },
   {
    "duration": 6,
    "start_time": "2023-01-19T10:51:49.776Z"
   },
   {
    "duration": 43,
    "start_time": "2023-01-19T10:51:49.784Z"
   },
   {
    "duration": 24,
    "start_time": "2023-01-19T10:51:49.829Z"
   },
   {
    "duration": 26,
    "start_time": "2023-01-19T10:51:49.855Z"
   },
   {
    "duration": 20,
    "start_time": "2023-01-19T10:51:49.883Z"
   },
   {
    "duration": 184,
    "start_time": "2023-01-19T10:51:49.904Z"
   },
   {
    "duration": 8686,
    "start_time": "2023-01-19T10:51:50.091Z"
   },
   {
    "duration": 15,
    "start_time": "2023-01-19T10:51:58.779Z"
   },
   {
    "duration": 15,
    "start_time": "2023-01-19T10:51:58.796Z"
   },
   {
    "duration": 15,
    "start_time": "2023-01-19T10:51:58.814Z"
   },
   {
    "duration": 18,
    "start_time": "2023-01-19T10:51:58.831Z"
   },
   {
    "duration": 15,
    "start_time": "2023-01-19T10:51:58.850Z"
   },
   {
    "duration": 25,
    "start_time": "2023-01-19T10:51:58.866Z"
   },
   {
    "duration": 13,
    "start_time": "2023-01-19T10:51:58.893Z"
   },
   {
    "duration": 17,
    "start_time": "2023-01-19T10:51:58.907Z"
   },
   {
    "duration": 7,
    "start_time": "2023-01-19T10:51:58.926Z"
   },
   {
    "duration": 21,
    "start_time": "2023-01-19T10:51:58.935Z"
   },
   {
    "duration": 14,
    "start_time": "2023-01-19T10:51:58.957Z"
   },
   {
    "duration": 2,
    "start_time": "2023-01-19T10:52:04.345Z"
   },
   {
    "duration": 3,
    "start_time": "2023-01-19T10:52:43.369Z"
   },
   {
    "duration": 107,
    "start_time": "2023-01-19T10:53:12.305Z"
   },
   {
    "duration": 3,
    "start_time": "2023-01-19T10:54:35.160Z"
   },
   {
    "duration": 8,
    "start_time": "2023-01-19T10:54:36.009Z"
   },
   {
    "duration": 15,
    "start_time": "2023-01-19T10:56:47.872Z"
   },
   {
    "duration": 16,
    "start_time": "2023-01-19T11:04:23.048Z"
   },
   {
    "duration": 14,
    "start_time": "2023-01-19T11:04:39.265Z"
   },
   {
    "duration": 15,
    "start_time": "2023-01-19T11:04:46.266Z"
   },
   {
    "duration": 17,
    "start_time": "2023-01-19T11:06:56.437Z"
   },
   {
    "duration": 10,
    "start_time": "2023-01-19T11:07:17.797Z"
   },
   {
    "duration": 8,
    "start_time": "2023-01-19T11:08:16.365Z"
   },
   {
    "duration": 4,
    "start_time": "2023-01-19T11:10:26.819Z"
   },
   {
    "duration": 16,
    "start_time": "2023-01-19T11:11:03.898Z"
   },
   {
    "duration": 14,
    "start_time": "2023-01-19T11:11:59.188Z"
   },
   {
    "duration": 4,
    "start_time": "2023-01-19T11:12:15.309Z"
   },
   {
    "duration": 17,
    "start_time": "2023-01-19T11:13:12.528Z"
   },
   {
    "duration": 20,
    "start_time": "2023-01-19T11:15:31.613Z"
   },
   {
    "duration": 12,
    "start_time": "2023-01-19T11:15:39.692Z"
   },
   {
    "duration": 5,
    "start_time": "2023-01-19T11:15:56.881Z"
   },
   {
    "duration": 4,
    "start_time": "2023-01-19T11:16:13.115Z"
   },
   {
    "duration": 4,
    "start_time": "2023-01-19T11:27:53.234Z"
   },
   {
    "duration": 9,
    "start_time": "2023-01-19T11:29:04.574Z"
   },
   {
    "duration": 8,
    "start_time": "2023-01-19T11:29:35.300Z"
   },
   {
    "duration": 11,
    "start_time": "2023-01-19T11:30:22.750Z"
   },
   {
    "duration": 66,
    "start_time": "2023-01-19T11:30:22.765Z"
   },
   {
    "duration": 3,
    "start_time": "2023-01-19T11:30:22.833Z"
   },
   {
    "duration": 35,
    "start_time": "2023-01-19T11:30:22.837Z"
   },
   {
    "duration": 32,
    "start_time": "2023-01-19T11:30:22.874Z"
   },
   {
    "duration": 35,
    "start_time": "2023-01-19T11:30:22.907Z"
   },
   {
    "duration": 31,
    "start_time": "2023-01-19T11:30:22.944Z"
   },
   {
    "duration": 13,
    "start_time": "2023-01-19T11:30:22.977Z"
   },
   {
    "duration": 54,
    "start_time": "2023-01-19T11:30:22.991Z"
   },
   {
    "duration": 9016,
    "start_time": "2023-01-19T11:30:23.047Z"
   },
   {
    "duration": 16,
    "start_time": "2023-01-19T11:30:32.066Z"
   },
   {
    "duration": 3,
    "start_time": "2023-01-19T11:30:32.083Z"
   },
   {
    "duration": 9,
    "start_time": "2023-01-19T11:30:32.088Z"
   },
   {
    "duration": 11,
    "start_time": "2023-01-19T11:30:32.099Z"
   },
   {
    "duration": 11,
    "start_time": "2023-01-19T11:30:32.111Z"
   },
   {
    "duration": 21,
    "start_time": "2023-01-19T11:30:32.123Z"
   },
   {
    "duration": 4,
    "start_time": "2023-01-19T11:30:32.146Z"
   },
   {
    "duration": 27,
    "start_time": "2023-01-19T11:30:32.152Z"
   },
   {
    "duration": 21,
    "start_time": "2023-01-19T11:30:32.180Z"
   },
   {
    "duration": 23,
    "start_time": "2023-01-19T11:30:32.203Z"
   },
   {
    "duration": 26,
    "start_time": "2023-01-19T11:30:32.228Z"
   },
   {
    "duration": 6,
    "start_time": "2023-01-19T11:30:32.256Z"
   },
   {
    "duration": 13,
    "start_time": "2023-01-19T11:30:32.265Z"
   },
   {
    "duration": 21,
    "start_time": "2023-01-19T11:30:32.280Z"
   },
   {
    "duration": 7,
    "start_time": "2023-01-19T11:30:32.302Z"
   },
   {
    "duration": 7,
    "start_time": "2023-01-19T11:30:32.311Z"
   },
   {
    "duration": 11,
    "start_time": "2023-01-19T11:30:32.319Z"
   },
   {
    "duration": 21,
    "start_time": "2023-01-19T11:30:32.332Z"
   },
   {
    "duration": 3,
    "start_time": "2023-01-19T11:30:36.902Z"
   },
   {
    "duration": 22,
    "start_time": "2023-01-19T11:30:58.803Z"
   },
   {
    "duration": 10,
    "start_time": "2023-01-19T11:31:14.118Z"
   },
   {
    "duration": 17,
    "start_time": "2023-01-19T11:31:52.449Z"
   },
   {
    "duration": 4,
    "start_time": "2023-01-19T11:31:54.412Z"
   },
   {
    "duration": 4,
    "start_time": "2023-01-19T11:32:09.891Z"
   },
   {
    "duration": 16,
    "start_time": "2023-01-19T11:33:24.465Z"
   },
   {
    "duration": 11,
    "start_time": "2023-01-19T11:34:22.440Z"
   },
   {
    "duration": 8,
    "start_time": "2023-01-19T11:37:00.134Z"
   },
   {
    "duration": 11,
    "start_time": "2023-01-19T11:37:01.938Z"
   },
   {
    "duration": 9,
    "start_time": "2023-01-19T11:38:27.298Z"
   },
   {
    "duration": 11,
    "start_time": "2023-01-19T11:38:30.157Z"
   },
   {
    "duration": 49,
    "start_time": "2023-01-19T11:42:09.493Z"
   },
   {
    "duration": 3,
    "start_time": "2023-01-19T11:42:40.638Z"
   },
   {
    "duration": 25,
    "start_time": "2023-01-19T11:42:41.797Z"
   },
   {
    "duration": 11,
    "start_time": "2023-01-19T11:42:43.834Z"
   },
   {
    "duration": 9,
    "start_time": "2023-01-19T11:42:53.732Z"
   },
   {
    "duration": 12,
    "start_time": "2023-01-19T11:42:54.736Z"
   },
   {
    "duration": 5,
    "start_time": "2023-01-19T11:43:00.289Z"
   },
   {
    "duration": 166,
    "start_time": "2023-01-19T11:43:28.939Z"
   },
   {
    "duration": 146,
    "start_time": "2023-01-19T11:43:46.836Z"
   },
   {
    "duration": 130,
    "start_time": "2023-01-19T11:44:22.851Z"
   },
   {
    "duration": 18313,
    "start_time": "2023-01-19T11:49:26.184Z"
   },
   {
    "duration": 1,
    "start_time": "2023-01-19T11:49:44.498Z"
   },
   {
    "duration": 5,
    "start_time": "2023-01-19T11:49:46.705Z"
   },
   {
    "duration": 36584,
    "start_time": "2023-01-19T11:50:02.312Z"
   },
   {
    "duration": 120,
    "start_time": "2023-01-19T11:52:04.812Z"
   },
   {
    "duration": 159,
    "start_time": "2023-01-19T11:52:40.199Z"
   },
   {
    "duration": 161,
    "start_time": "2023-01-19T11:53:07.498Z"
   },
   {
    "duration": 147,
    "start_time": "2023-01-19T11:53:28.550Z"
   },
   {
    "duration": 156,
    "start_time": "2023-01-19T11:53:35.084Z"
   },
   {
    "duration": 159,
    "start_time": "2023-01-19T11:55:23.779Z"
   },
   {
    "duration": 167,
    "start_time": "2023-01-19T11:58:06.843Z"
   },
   {
    "duration": 142,
    "start_time": "2023-01-19T11:58:15.896Z"
   },
   {
    "duration": 151,
    "start_time": "2023-01-19T11:58:21.187Z"
   },
   {
    "duration": 150,
    "start_time": "2023-01-19T11:58:26.541Z"
   },
   {
    "duration": 174,
    "start_time": "2023-01-19T11:58:34.761Z"
   },
   {
    "duration": 170,
    "start_time": "2023-01-19T11:58:44.478Z"
   },
   {
    "duration": 160,
    "start_time": "2023-01-19T12:05:39.337Z"
   },
   {
    "duration": 1656,
    "start_time": "2023-01-19T15:28:41.815Z"
   },
   {
    "duration": 43,
    "start_time": "2023-01-19T15:28:43.475Z"
   },
   {
    "duration": 4,
    "start_time": "2023-01-19T15:28:43.519Z"
   },
   {
    "duration": 9,
    "start_time": "2023-01-19T15:28:43.525Z"
   },
   {
    "duration": 32,
    "start_time": "2023-01-19T15:28:43.535Z"
   },
   {
    "duration": 21,
    "start_time": "2023-01-19T15:28:43.569Z"
   },
   {
    "duration": 20,
    "start_time": "2023-01-19T15:28:43.591Z"
   },
   {
    "duration": 21,
    "start_time": "2023-01-19T15:28:43.613Z"
   },
   {
    "duration": 105,
    "start_time": "2023-01-19T15:28:43.635Z"
   },
   {
    "duration": 8778,
    "start_time": "2023-01-19T15:28:43.744Z"
   },
   {
    "duration": 20,
    "start_time": "2023-01-19T15:28:52.524Z"
   },
   {
    "duration": 6,
    "start_time": "2023-01-19T15:28:52.546Z"
   },
   {
    "duration": 13,
    "start_time": "2023-01-19T15:28:52.554Z"
   },
   {
    "duration": 31,
    "start_time": "2023-01-19T15:28:52.569Z"
   },
   {
    "duration": 6,
    "start_time": "2023-01-19T15:28:52.602Z"
   },
   {
    "duration": 14,
    "start_time": "2023-01-19T15:28:52.610Z"
   },
   {
    "duration": 9,
    "start_time": "2023-01-19T15:28:52.626Z"
   },
   {
    "duration": 18,
    "start_time": "2023-01-19T15:28:52.638Z"
   },
   {
    "duration": 8,
    "start_time": "2023-01-19T15:28:52.658Z"
   },
   {
    "duration": 35,
    "start_time": "2023-01-19T15:28:52.668Z"
   },
   {
    "duration": 15,
    "start_time": "2023-01-19T15:28:52.705Z"
   },
   {
    "duration": 4,
    "start_time": "2023-01-19T15:28:52.722Z"
   },
   {
    "duration": 10,
    "start_time": "2023-01-19T15:28:52.727Z"
   },
   {
    "duration": 14,
    "start_time": "2023-01-19T15:28:52.739Z"
   },
   {
    "duration": 12,
    "start_time": "2023-01-19T15:28:52.754Z"
   },
   {
    "duration": 5,
    "start_time": "2023-01-19T15:28:52.768Z"
   },
   {
    "duration": 6,
    "start_time": "2023-01-19T15:28:52.775Z"
   },
   {
    "duration": 7,
    "start_time": "2023-01-19T15:28:52.800Z"
   },
   {
    "duration": 36,
    "start_time": "2023-01-19T15:28:52.809Z"
   },
   {
    "duration": 23,
    "start_time": "2023-01-19T15:28:52.846Z"
   },
   {
    "duration": 12,
    "start_time": "2023-01-19T15:28:52.871Z"
   },
   {
    "duration": 14,
    "start_time": "2023-01-19T15:28:52.885Z"
   },
   {
    "duration": 22,
    "start_time": "2023-01-19T15:28:52.900Z"
   },
   {
    "duration": 12,
    "start_time": "2023-01-19T15:28:52.925Z"
   },
   {
    "duration": 15,
    "start_time": "2023-01-19T15:28:52.939Z"
   },
   {
    "duration": 11,
    "start_time": "2023-01-19T15:28:52.955Z"
   },
   {
    "duration": 34,
    "start_time": "2023-01-19T15:28:52.968Z"
   },
   {
    "duration": 12,
    "start_time": "2023-01-19T15:28:53.004Z"
   },
   {
    "duration": 23,
    "start_time": "2023-01-19T15:28:53.018Z"
   },
   {
    "duration": 47,
    "start_time": "2023-01-19T15:28:53.043Z"
   },
   {
    "duration": 13,
    "start_time": "2023-01-19T15:28:53.093Z"
   },
   {
    "duration": 161,
    "start_time": "2023-01-19T15:28:53.108Z"
   },
   {
    "duration": 33,
    "start_time": "2023-01-19T15:28:58.229Z"
   },
   {
    "duration": 2525,
    "start_time": "2023-01-19T15:29:18.964Z"
   },
   {
    "duration": 4,
    "start_time": "2023-01-19T15:29:28.616Z"
   },
   {
    "duration": 12,
    "start_time": "2023-01-19T15:29:34.664Z"
   },
   {
    "duration": 140042,
    "start_time": "2023-01-19T15:30:16.242Z"
   },
   {
    "duration": 4,
    "start_time": "2023-01-19T15:34:11.544Z"
   },
   {
    "duration": 24,
    "start_time": "2023-01-19T15:34:22.245Z"
   },
   {
    "duration": 57,
    "start_time": "2023-01-19T15:34:31.742Z"
   },
   {
    "duration": 11,
    "start_time": "2023-01-19T15:34:36.758Z"
   },
   {
    "duration": 10,
    "start_time": "2023-01-19T15:34:39.583Z"
   },
   {
    "duration": 2720,
    "start_time": "2023-01-19T15:35:08.134Z"
   },
   {
    "duration": 5,
    "start_time": "2023-01-19T15:35:13.477Z"
   },
   {
    "duration": 9,
    "start_time": "2023-01-19T15:35:17.302Z"
   },
   {
    "duration": 132879,
    "start_time": "2023-01-19T15:35:20.982Z"
   },
   {
    "duration": 4,
    "start_time": "2023-01-19T15:38:13.669Z"
   },
   {
    "duration": 19,
    "start_time": "2023-01-19T15:38:15.782Z"
   },
   {
    "duration": 42,
    "start_time": "2023-01-19T15:38:19.157Z"
   },
   {
    "duration": 12,
    "start_time": "2023-01-19T15:38:24.897Z"
   },
   {
    "duration": 13,
    "start_time": "2023-01-19T15:38:30.557Z"
   },
   {
    "duration": 4,
    "start_time": "2023-01-19T15:38:47.171Z"
   },
   {
    "duration": 122,
    "start_time": "2023-01-19T15:43:25.059Z"
   },
   {
    "duration": 8918,
    "start_time": "2023-01-19T15:45:00.571Z"
   },
   {
    "duration": 30,
    "start_time": "2023-01-19T15:45:13.824Z"
   },
   {
    "duration": 1365,
    "start_time": "2023-01-19T15:47:10.520Z"
   },
   {
    "duration": 2014,
    "start_time": "2023-01-19T15:47:48.141Z"
   },
   {
    "duration": 10,
    "start_time": "2023-01-19T15:47:50.157Z"
   },
   {
    "duration": 62,
    "start_time": "2023-01-19T15:47:50.169Z"
   },
   {
    "duration": 3,
    "start_time": "2023-01-19T15:47:50.233Z"
   },
   {
    "duration": 12,
    "start_time": "2023-01-19T15:47:50.238Z"
   },
   {
    "duration": 14,
    "start_time": "2023-01-19T15:47:50.251Z"
   },
   {
    "duration": 8,
    "start_time": "2023-01-19T15:47:50.267Z"
   },
   {
    "duration": 10,
    "start_time": "2023-01-19T15:47:50.277Z"
   },
   {
    "duration": 20,
    "start_time": "2023-01-19T15:47:50.289Z"
   },
   {
    "duration": 53,
    "start_time": "2023-01-19T15:47:50.312Z"
   },
   {
    "duration": 8704,
    "start_time": "2023-01-19T15:47:50.367Z"
   },
   {
    "duration": 14,
    "start_time": "2023-01-19T15:47:59.072Z"
   },
   {
    "duration": 26,
    "start_time": "2023-01-19T15:47:59.088Z"
   },
   {
    "duration": 16,
    "start_time": "2023-01-19T15:47:59.115Z"
   },
   {
    "duration": 6,
    "start_time": "2023-01-19T15:47:59.133Z"
   },
   {
    "duration": 7,
    "start_time": "2023-01-19T15:47:59.140Z"
   },
   {
    "duration": 4,
    "start_time": "2023-01-19T15:47:59.149Z"
   },
   {
    "duration": 9,
    "start_time": "2023-01-19T15:47:59.155Z"
   },
   {
    "duration": 9,
    "start_time": "2023-01-19T15:47:59.166Z"
   },
   {
    "duration": 6,
    "start_time": "2023-01-19T15:47:59.177Z"
   },
   {
    "duration": 25,
    "start_time": "2023-01-19T15:47:59.185Z"
   },
   {
    "duration": 13,
    "start_time": "2023-01-19T15:47:59.212Z"
   },
   {
    "duration": 3,
    "start_time": "2023-01-19T15:47:59.227Z"
   },
   {
    "duration": 6,
    "start_time": "2023-01-19T15:47:59.232Z"
   },
   {
    "duration": 6,
    "start_time": "2023-01-19T15:47:59.240Z"
   },
   {
    "duration": 5,
    "start_time": "2023-01-19T15:47:59.248Z"
   },
   {
    "duration": 6,
    "start_time": "2023-01-19T15:47:59.254Z"
   },
   {
    "duration": 4,
    "start_time": "2023-01-19T15:47:59.264Z"
   },
   {
    "duration": 9,
    "start_time": "2023-01-19T15:47:59.269Z"
   },
   {
    "duration": 131,
    "start_time": "2023-01-19T15:47:59.279Z"
   },
   {
    "duration": 0,
    "start_time": "2023-01-19T15:47:59.411Z"
   },
   {
    "duration": 0,
    "start_time": "2023-01-19T15:47:59.413Z"
   },
   {
    "duration": 0,
    "start_time": "2023-01-19T15:47:59.414Z"
   },
   {
    "duration": 0,
    "start_time": "2023-01-19T15:47:59.415Z"
   },
   {
    "duration": 0,
    "start_time": "2023-01-19T15:47:59.416Z"
   },
   {
    "duration": 0,
    "start_time": "2023-01-19T15:47:59.417Z"
   },
   {
    "duration": 0,
    "start_time": "2023-01-19T15:47:59.419Z"
   },
   {
    "duration": 0,
    "start_time": "2023-01-19T15:47:59.420Z"
   },
   {
    "duration": 0,
    "start_time": "2023-01-19T15:47:59.420Z"
   },
   {
    "duration": 0,
    "start_time": "2023-01-19T15:47:59.421Z"
   },
   {
    "duration": 0,
    "start_time": "2023-01-19T15:47:59.422Z"
   },
   {
    "duration": 0,
    "start_time": "2023-01-19T15:47:59.423Z"
   },
   {
    "duration": 0,
    "start_time": "2023-01-19T15:47:59.424Z"
   },
   {
    "duration": 0,
    "start_time": "2023-01-19T15:47:59.425Z"
   },
   {
    "duration": 0,
    "start_time": "2023-01-19T15:47:59.425Z"
   },
   {
    "duration": 0,
    "start_time": "2023-01-19T15:47:59.427Z"
   },
   {
    "duration": 0,
    "start_time": "2023-01-19T15:47:59.428Z"
   },
   {
    "duration": 0,
    "start_time": "2023-01-19T15:47:59.429Z"
   },
   {
    "duration": 0,
    "start_time": "2023-01-19T15:47:59.429Z"
   },
   {
    "duration": 0,
    "start_time": "2023-01-19T15:47:59.430Z"
   },
   {
    "duration": 0,
    "start_time": "2023-01-19T15:47:59.431Z"
   },
   {
    "duration": 0,
    "start_time": "2023-01-19T15:47:59.432Z"
   },
   {
    "duration": 0,
    "start_time": "2023-01-19T15:47:59.433Z"
   },
   {
    "duration": 0,
    "start_time": "2023-01-19T15:47:59.434Z"
   },
   {
    "duration": 0,
    "start_time": "2023-01-19T15:47:59.435Z"
   },
   {
    "duration": 0,
    "start_time": "2023-01-19T15:47:59.436Z"
   },
   {
    "duration": 0,
    "start_time": "2023-01-19T15:47:59.437Z"
   },
   {
    "duration": 0,
    "start_time": "2023-01-19T15:47:59.438Z"
   },
   {
    "duration": 0,
    "start_time": "2023-01-19T15:47:59.439Z"
   },
   {
    "duration": 0,
    "start_time": "2023-01-19T15:47:59.440Z"
   },
   {
    "duration": 0,
    "start_time": "2023-01-19T15:47:59.440Z"
   },
   {
    "duration": 0,
    "start_time": "2023-01-19T15:47:59.441Z"
   },
   {
    "duration": 0,
    "start_time": "2023-01-19T15:47:59.442Z"
   },
   {
    "duration": 2102,
    "start_time": "2023-01-19T15:52:46.546Z"
   },
   {
    "duration": 11,
    "start_time": "2023-01-19T15:52:48.650Z"
   },
   {
    "duration": 59,
    "start_time": "2023-01-19T15:52:48.662Z"
   },
   {
    "duration": 3,
    "start_time": "2023-01-19T15:52:48.724Z"
   },
   {
    "duration": 6,
    "start_time": "2023-01-19T15:52:48.729Z"
   },
   {
    "duration": 11,
    "start_time": "2023-01-19T15:52:48.737Z"
   },
   {
    "duration": 36,
    "start_time": "2023-01-19T15:52:48.749Z"
   },
   {
    "duration": 46,
    "start_time": "2023-01-19T15:52:48.786Z"
   },
   {
    "duration": 45,
    "start_time": "2023-01-19T15:52:48.834Z"
   },
   {
    "duration": 89,
    "start_time": "2023-01-19T15:52:48.881Z"
   },
   {
    "duration": 8914,
    "start_time": "2023-01-19T15:52:48.972Z"
   },
   {
    "duration": 29,
    "start_time": "2023-01-19T15:52:57.888Z"
   },
   {
    "duration": 8,
    "start_time": "2023-01-19T15:52:57.920Z"
   },
   {
    "duration": 9,
    "start_time": "2023-01-19T15:52:57.929Z"
   },
   {
    "duration": 8,
    "start_time": "2023-01-19T15:52:57.939Z"
   },
   {
    "duration": 9,
    "start_time": "2023-01-19T15:52:57.949Z"
   },
   {
    "duration": 6,
    "start_time": "2023-01-19T15:52:57.960Z"
   },
   {
    "duration": 11,
    "start_time": "2023-01-19T15:52:57.967Z"
   },
   {
    "duration": 8,
    "start_time": "2023-01-19T15:52:57.979Z"
   },
   {
    "duration": 22,
    "start_time": "2023-01-19T15:52:57.989Z"
   },
   {
    "duration": 18,
    "start_time": "2023-01-19T15:52:58.013Z"
   },
   {
    "duration": 12,
    "start_time": "2023-01-19T15:52:58.032Z"
   },
   {
    "duration": 3,
    "start_time": "2023-01-19T15:52:58.046Z"
   },
   {
    "duration": 8,
    "start_time": "2023-01-19T15:52:58.051Z"
   },
   {
    "duration": 32,
    "start_time": "2023-01-19T15:52:58.061Z"
   },
   {
    "duration": 27,
    "start_time": "2023-01-19T15:52:58.095Z"
   },
   {
    "duration": 7,
    "start_time": "2023-01-19T15:52:58.123Z"
   },
   {
    "duration": 4,
    "start_time": "2023-01-19T15:52:58.133Z"
   },
   {
    "duration": 10,
    "start_time": "2023-01-19T15:52:58.138Z"
   },
   {
    "duration": 12,
    "start_time": "2023-01-19T15:53:07.452Z"
   },
   {
    "duration": 4,
    "start_time": "2023-01-19T15:54:57.549Z"
   },
   {
    "duration": 18,
    "start_time": "2023-01-19T15:55:02.572Z"
   },
   {
    "duration": 9,
    "start_time": "2023-01-19T15:55:03.283Z"
   },
   {
    "duration": 9,
    "start_time": "2023-01-19T15:55:06.017Z"
   },
   {
    "duration": 9,
    "start_time": "2023-01-19T15:55:06.558Z"
   },
   {
    "duration": 11,
    "start_time": "2023-01-19T15:55:18.616Z"
   },
   {
    "duration": 10,
    "start_time": "2023-01-19T15:55:19.187Z"
   },
   {
    "duration": 1989,
    "start_time": "2023-01-19T15:56:24.728Z"
   },
   {
    "duration": 10,
    "start_time": "2023-01-19T15:56:26.720Z"
   },
   {
    "duration": 53,
    "start_time": "2023-01-19T15:56:26.732Z"
   },
   {
    "duration": 3,
    "start_time": "2023-01-19T15:56:26.787Z"
   },
   {
    "duration": 6,
    "start_time": "2023-01-19T15:56:26.793Z"
   },
   {
    "duration": 20,
    "start_time": "2023-01-19T15:56:26.810Z"
   },
   {
    "duration": 13,
    "start_time": "2023-01-19T15:56:26.832Z"
   },
   {
    "duration": 12,
    "start_time": "2023-01-19T15:56:26.847Z"
   },
   {
    "duration": 17,
    "start_time": "2023-01-19T15:56:26.861Z"
   },
   {
    "duration": 59,
    "start_time": "2023-01-19T15:56:26.881Z"
   },
   {
    "duration": 8777,
    "start_time": "2023-01-19T15:56:26.942Z"
   },
   {
    "duration": 16,
    "start_time": "2023-01-19T15:56:35.722Z"
   },
   {
    "duration": 7,
    "start_time": "2023-01-19T15:56:35.740Z"
   },
   {
    "duration": 7,
    "start_time": "2023-01-19T15:56:35.748Z"
   },
   {
    "duration": 7,
    "start_time": "2023-01-19T15:56:35.756Z"
   },
   {
    "duration": 8,
    "start_time": "2023-01-19T15:56:35.764Z"
   },
   {
    "duration": 26,
    "start_time": "2023-01-19T15:56:35.774Z"
   },
   {
    "duration": 4,
    "start_time": "2023-01-19T15:56:35.802Z"
   },
   {
    "duration": 4,
    "start_time": "2023-01-19T15:56:35.807Z"
   },
   {
    "duration": 5,
    "start_time": "2023-01-19T15:56:35.812Z"
   },
   {
    "duration": 25,
    "start_time": "2023-01-19T15:56:35.818Z"
   },
   {
    "duration": 20,
    "start_time": "2023-01-19T15:56:35.845Z"
   },
   {
    "duration": 27,
    "start_time": "2023-01-19T15:56:35.867Z"
   },
   {
    "duration": 58,
    "start_time": "2023-01-19T15:56:35.895Z"
   },
   {
    "duration": 35,
    "start_time": "2023-01-19T15:56:35.954Z"
   },
   {
    "duration": 63,
    "start_time": "2023-01-19T15:56:35.991Z"
   },
   {
    "duration": 32,
    "start_time": "2023-01-19T15:56:36.056Z"
   },
   {
    "duration": 33,
    "start_time": "2023-01-19T15:56:36.092Z"
   },
   {
    "duration": 29,
    "start_time": "2023-01-19T15:56:36.127Z"
   },
   {
    "duration": 57,
    "start_time": "2023-01-19T15:56:36.158Z"
   },
   {
    "duration": 46,
    "start_time": "2023-01-19T15:56:36.216Z"
   },
   {
    "duration": 17,
    "start_time": "2023-01-19T15:56:36.264Z"
   },
   {
    "duration": 25,
    "start_time": "2023-01-19T15:56:36.283Z"
   },
   {
    "duration": 15,
    "start_time": "2023-01-19T15:56:36.310Z"
   },
   {
    "duration": 22,
    "start_time": "2023-01-19T15:56:36.326Z"
   },
   {
    "duration": 34,
    "start_time": "2023-01-19T15:56:36.350Z"
   },
   {
    "duration": 8,
    "start_time": "2023-01-19T15:56:36.386Z"
   },
   {
    "duration": 48,
    "start_time": "2023-01-19T15:56:36.396Z"
   },
   {
    "duration": 39,
    "start_time": "2023-01-19T15:56:36.445Z"
   },
   {
    "duration": 51,
    "start_time": "2023-01-19T15:56:36.485Z"
   },
   {
    "duration": 34,
    "start_time": "2023-01-19T15:56:36.538Z"
   },
   {
    "duration": 23,
    "start_time": "2023-01-19T15:56:36.574Z"
   },
   {
    "duration": 162,
    "start_time": "2023-01-19T15:56:36.603Z"
   },
   {
    "duration": 36,
    "start_time": "2023-01-19T15:56:36.767Z"
   },
   {
    "duration": 2580,
    "start_time": "2023-01-19T15:56:36.815Z"
   },
   {
    "duration": 15,
    "start_time": "2023-01-19T15:56:39.403Z"
   },
   {
    "duration": 14,
    "start_time": "2023-01-19T15:56:39.419Z"
   },
   {
    "duration": 143814,
    "start_time": "2023-01-19T15:56:39.435Z"
   },
   {
    "duration": 5,
    "start_time": "2023-01-19T15:59:03.251Z"
   },
   {
    "duration": 48,
    "start_time": "2023-01-19T15:59:03.259Z"
   },
   {
    "duration": 687,
    "start_time": "2023-01-19T15:59:03.311Z"
   },
   {
    "duration": 119,
    "start_time": "2023-01-19T15:59:04.018Z"
   },
   {
    "duration": 112,
    "start_time": "2023-01-19T15:59:04.209Z"
   },
   {
    "duration": 2909,
    "start_time": "2023-01-19T15:59:04.324Z"
   },
   {
    "duration": 6,
    "start_time": "2023-01-19T15:59:07.235Z"
   },
   {
    "duration": 19,
    "start_time": "2023-01-19T15:59:07.243Z"
   },
   {
    "duration": 145087,
    "start_time": "2023-01-19T15:59:07.264Z"
   },
   {
    "duration": 4,
    "start_time": "2023-01-19T16:01:32.353Z"
   },
   {
    "duration": 31,
    "start_time": "2023-01-19T16:01:32.359Z"
   },
   {
    "duration": 117,
    "start_time": "2023-01-19T16:01:32.392Z"
   },
   {
    "duration": 89,
    "start_time": "2023-01-19T16:01:32.511Z"
   },
   {
    "duration": 96,
    "start_time": "2023-01-19T16:01:32.602Z"
   },
   {
    "duration": 102,
    "start_time": "2023-01-19T16:01:32.708Z"
   },
   {
    "duration": 5,
    "start_time": "2023-01-19T16:02:37.752Z"
   },
   {
    "duration": 38,
    "start_time": "2023-01-19T16:02:41.833Z"
   },
   {
    "duration": 6,
    "start_time": "2023-01-19T16:02:59.016Z"
   },
   {
    "duration": 30,
    "start_time": "2023-01-19T16:03:09.152Z"
   },
   {
    "duration": 5,
    "start_time": "2023-01-19T16:03:09.850Z"
   },
   {
    "duration": 3,
    "start_time": "2023-01-19T16:06:22.114Z"
   },
   {
    "duration": 4277,
    "start_time": "2023-01-19T16:06:35.353Z"
   },
   {
    "duration": 4,
    "start_time": "2023-01-19T16:06:47.584Z"
   },
   {
    "duration": 9,
    "start_time": "2023-01-19T16:06:54.020Z"
   },
   {
    "duration": 226242,
    "start_time": "2023-01-19T16:08:40.125Z"
   },
   {
    "duration": 10,
    "start_time": "2023-01-19T16:12:26.369Z"
   },
   {
    "duration": 59,
    "start_time": "2023-01-19T16:12:26.381Z"
   },
   {
    "duration": 364,
    "start_time": "2023-01-19T16:12:26.443Z"
   },
   {
    "duration": 98,
    "start_time": "2023-01-19T16:12:26.809Z"
   },
   {
    "duration": 89,
    "start_time": "2023-01-19T16:12:26.909Z"
   },
   {
    "duration": 102,
    "start_time": "2023-01-19T16:12:27.000Z"
   },
   {
    "duration": 13,
    "start_time": "2023-01-19T16:12:27.103Z"
   },
   {
    "duration": 1244,
    "start_time": "2023-01-19T16:12:27.118Z"
   },
   {
    "duration": 5,
    "start_time": "2023-01-19T16:12:28.365Z"
   },
   {
    "duration": 17,
    "start_time": "2023-01-19T16:12:28.372Z"
   },
   {
    "duration": 92054,
    "start_time": "2023-01-19T16:12:28.391Z"
   },
   {
    "duration": 5,
    "start_time": "2023-01-19T16:14:00.447Z"
   },
   {
    "duration": 58,
    "start_time": "2023-01-19T16:14:00.454Z"
   },
   {
    "duration": 89,
    "start_time": "2023-01-19T16:14:00.514Z"
   },
   {
    "duration": 142,
    "start_time": "2023-01-19T16:14:00.605Z"
   },
   {
    "duration": 191,
    "start_time": "2023-01-19T16:14:00.749Z"
   },
   {
    "duration": 426,
    "start_time": "2023-01-19T16:14:01.000Z"
   },
   {
    "duration": 350,
    "start_time": "2023-01-19T16:14:01.428Z"
   },
   {
    "duration": 888,
    "start_time": "2023-01-19T16:14:01.783Z"
   },
   {
    "duration": 563,
    "start_time": "2023-01-19T16:14:02.673Z"
   },
   {
    "duration": 1209,
    "start_time": "2023-01-19T16:14:03.238Z"
   },
   {
    "duration": 584,
    "start_time": "2023-01-19T16:14:04.448Z"
   },
   {
    "duration": 246,
    "start_time": "2023-01-19T16:14:05.034Z"
   },
   {
    "duration": 136,
    "start_time": "2023-01-19T16:14:05.282Z"
   },
   {
    "duration": 9,
    "start_time": "2023-01-19T16:21:31.148Z"
   },
   {
    "duration": 4,
    "start_time": "2023-01-19T16:22:18.257Z"
   },
   {
    "duration": 10,
    "start_time": "2023-01-19T16:23:25.314Z"
   },
   {
    "duration": 4,
    "start_time": "2023-01-19T16:23:43.203Z"
   },
   {
    "duration": 3,
    "start_time": "2023-01-19T16:23:50.048Z"
   },
   {
    "duration": 1216,
    "start_time": "2023-01-19T16:25:30.548Z"
   },
   {
    "duration": 3,
    "start_time": "2023-01-19T16:25:34.709Z"
   },
   {
    "duration": 8,
    "start_time": "2023-01-19T16:25:57.497Z"
   },
   {
    "duration": 83305,
    "start_time": "2023-01-19T16:26:14.713Z"
   },
   {
    "duration": 4,
    "start_time": "2023-01-19T16:28:04.770Z"
   },
   {
    "duration": 31,
    "start_time": "2023-01-19T16:28:37.093Z"
   },
   {
    "duration": 77,
    "start_time": "2023-01-19T16:29:04.123Z"
   },
   {
    "duration": 12,
    "start_time": "2023-01-19T16:29:56.092Z"
   },
   {
    "duration": 10,
    "start_time": "2023-01-19T16:30:35.668Z"
   },
   {
    "duration": 179770,
    "start_time": "2023-01-19T16:31:32.189Z"
   },
   {
    "duration": 4,
    "start_time": "2023-01-19T16:35:00.641Z"
   },
   {
    "duration": 28,
    "start_time": "2023-01-19T16:35:20.259Z"
   },
   {
    "duration": 314,
    "start_time": "2023-01-19T16:41:26.505Z"
   },
   {
    "duration": 299,
    "start_time": "2023-01-19T16:43:04.047Z"
   },
   {
    "duration": 709,
    "start_time": "2023-01-19T16:46:36.588Z"
   },
   {
    "duration": 564,
    "start_time": "2023-01-19T16:47:33.563Z"
   },
   {
    "duration": 414,
    "start_time": "2023-01-19T16:50:19.743Z"
   },
   {
    "duration": 302,
    "start_time": "2023-01-19T16:51:20.081Z"
   },
   {
    "duration": 478,
    "start_time": "2023-01-19T16:51:59.169Z"
   },
   {
    "duration": 512,
    "start_time": "2023-01-19T16:52:19.203Z"
   },
   {
    "duration": 200,
    "start_time": "2023-01-19T16:53:02.027Z"
   },
   {
    "duration": 106,
    "start_time": "2023-01-19T16:53:20.863Z"
   },
   {
    "duration": 72,
    "start_time": "2023-01-19T16:54:11.062Z"
   },
   {
    "duration": 1238,
    "start_time": "2023-01-19T17:08:33.129Z"
   },
   {
    "duration": 3,
    "start_time": "2023-01-19T17:08:34.509Z"
   },
   {
    "duration": 2067,
    "start_time": "2023-01-19T17:08:51.480Z"
   },
   {
    "duration": 1274,
    "start_time": "2023-01-19T17:08:53.549Z"
   },
   {
    "duration": 3,
    "start_time": "2023-01-19T17:08:54.824Z"
   },
   {
    "duration": 43,
    "start_time": "2023-01-19T17:08:54.830Z"
   },
   {
    "duration": 4,
    "start_time": "2023-01-19T17:08:54.874Z"
   },
   {
    "duration": 12,
    "start_time": "2023-01-19T17:08:54.880Z"
   },
   {
    "duration": 9,
    "start_time": "2023-01-19T17:08:54.894Z"
   },
   {
    "duration": 10,
    "start_time": "2023-01-19T17:08:54.905Z"
   },
   {
    "duration": 23,
    "start_time": "2023-01-19T17:08:54.917Z"
   },
   {
    "duration": 59,
    "start_time": "2023-01-19T17:08:54.943Z"
   },
   {
    "duration": 9186,
    "start_time": "2023-01-19T17:08:55.003Z"
   },
   {
    "duration": 20,
    "start_time": "2023-01-19T17:09:04.191Z"
   },
   {
    "duration": 8,
    "start_time": "2023-01-19T17:09:04.213Z"
   },
   {
    "duration": 44,
    "start_time": "2023-01-19T17:09:04.222Z"
   },
   {
    "duration": 45,
    "start_time": "2023-01-19T17:09:04.268Z"
   },
   {
    "duration": 55,
    "start_time": "2023-01-19T17:09:04.315Z"
   },
   {
    "duration": 43,
    "start_time": "2023-01-19T17:09:04.372Z"
   },
   {
    "duration": 65,
    "start_time": "2023-01-19T17:09:04.417Z"
   },
   {
    "duration": 65,
    "start_time": "2023-01-19T17:09:04.484Z"
   },
   {
    "duration": 68,
    "start_time": "2023-01-19T17:09:04.550Z"
   },
   {
    "duration": 40,
    "start_time": "2023-01-19T17:09:04.620Z"
   },
   {
    "duration": 33,
    "start_time": "2023-01-19T17:09:04.661Z"
   },
   {
    "duration": 44,
    "start_time": "2023-01-19T17:09:04.695Z"
   },
   {
    "duration": 42,
    "start_time": "2023-01-19T17:09:04.741Z"
   },
   {
    "duration": 56,
    "start_time": "2023-01-19T17:09:04.785Z"
   },
   {
    "duration": 47,
    "start_time": "2023-01-19T17:09:04.843Z"
   },
   {
    "duration": 10,
    "start_time": "2023-01-19T17:09:04.892Z"
   },
   {
    "duration": 27,
    "start_time": "2023-01-19T17:09:04.905Z"
   },
   {
    "duration": 28,
    "start_time": "2023-01-19T17:09:04.933Z"
   },
   {
    "duration": 29,
    "start_time": "2023-01-19T17:09:04.962Z"
   },
   {
    "duration": 35,
    "start_time": "2023-01-19T17:09:04.992Z"
   },
   {
    "duration": 22,
    "start_time": "2023-01-19T17:09:05.029Z"
   },
   {
    "duration": 38,
    "start_time": "2023-01-19T17:09:05.053Z"
   },
   {
    "duration": 12,
    "start_time": "2023-01-19T17:09:05.093Z"
   },
   {
    "duration": 28,
    "start_time": "2023-01-19T17:09:05.107Z"
   },
   {
    "duration": 28,
    "start_time": "2023-01-19T17:09:05.137Z"
   },
   {
    "duration": 20,
    "start_time": "2023-01-19T17:09:05.166Z"
   },
   {
    "duration": 54,
    "start_time": "2023-01-19T17:09:05.188Z"
   },
   {
    "duration": 12,
    "start_time": "2023-01-19T17:09:05.243Z"
   },
   {
    "duration": 39,
    "start_time": "2023-01-19T17:09:05.257Z"
   },
   {
    "duration": 25,
    "start_time": "2023-01-19T17:09:05.297Z"
   },
   {
    "duration": 38,
    "start_time": "2023-01-19T17:09:05.324Z"
   },
   {
    "duration": 151,
    "start_time": "2023-01-19T17:09:05.364Z"
   },
   {
    "duration": 27,
    "start_time": "2023-01-19T17:09:05.517Z"
   },
   {
    "duration": 2405,
    "start_time": "2023-01-19T17:09:05.546Z"
   },
   {
    "duration": 5,
    "start_time": "2023-01-19T17:09:07.952Z"
   },
   {
    "duration": 12,
    "start_time": "2023-01-19T17:09:07.959Z"
   },
   {
    "duration": 134603,
    "start_time": "2023-01-19T17:09:07.973Z"
   },
   {
    "duration": 3,
    "start_time": "2023-01-19T17:11:22.577Z"
   },
   {
    "duration": 33,
    "start_time": "2023-01-19T17:11:22.582Z"
   },
   {
    "duration": 83,
    "start_time": "2023-01-19T17:11:22.617Z"
   },
   {
    "duration": 99,
    "start_time": "2023-01-19T17:11:22.702Z"
   },
   {
    "duration": 101,
    "start_time": "2023-01-19T17:11:22.803Z"
   },
   {
    "duration": 2633,
    "start_time": "2023-01-19T17:11:22.906Z"
   },
   {
    "duration": 4,
    "start_time": "2023-01-19T17:11:25.540Z"
   },
   {
    "duration": 18,
    "start_time": "2023-01-19T17:11:25.546Z"
   },
   {
    "duration": 135092,
    "start_time": "2023-01-19T17:11:25.565Z"
   },
   {
    "duration": 4,
    "start_time": "2023-01-19T17:13:40.659Z"
   },
   {
    "duration": 44,
    "start_time": "2023-01-19T17:13:40.665Z"
   },
   {
    "duration": 95,
    "start_time": "2023-01-19T17:13:40.712Z"
   },
   {
    "duration": 100,
    "start_time": "2023-01-19T17:13:40.809Z"
   },
   {
    "duration": 194,
    "start_time": "2023-01-19T17:13:40.911Z"
   },
   {
    "duration": 100,
    "start_time": "2023-01-19T17:13:41.108Z"
   },
   {
    "duration": 10,
    "start_time": "2023-01-19T17:13:41.210Z"
   },
   {
    "duration": 35,
    "start_time": "2023-01-19T17:13:41.221Z"
   },
   {
    "duration": 5,
    "start_time": "2023-01-19T17:13:41.258Z"
   },
   {
    "duration": 7,
    "start_time": "2023-01-19T17:13:41.265Z"
   },
   {
    "duration": 4427,
    "start_time": "2023-01-19T17:13:41.274Z"
   },
   {
    "duration": 4,
    "start_time": "2023-01-19T17:13:45.702Z"
   },
   {
    "duration": 17,
    "start_time": "2023-01-19T17:13:45.707Z"
   },
   {
    "duration": 209982,
    "start_time": "2023-01-19T17:13:45.727Z"
   },
   {
    "duration": 4,
    "start_time": "2023-01-19T17:17:15.711Z"
   },
   {
    "duration": 56,
    "start_time": "2023-01-19T17:17:15.716Z"
   },
   {
    "duration": 228,
    "start_time": "2023-01-19T17:17:15.774Z"
   },
   {
    "duration": 105,
    "start_time": "2023-01-19T17:17:16.003Z"
   },
   {
    "duration": 189,
    "start_time": "2023-01-19T17:17:16.110Z"
   },
   {
    "duration": 149,
    "start_time": "2023-01-19T17:17:16.305Z"
   },
   {
    "duration": 33,
    "start_time": "2023-01-19T17:17:16.456Z"
   },
   {
    "duration": 33,
    "start_time": "2023-01-19T17:17:16.491Z"
   },
   {
    "duration": 20,
    "start_time": "2023-01-19T17:17:16.526Z"
   },
   {
    "duration": 26,
    "start_time": "2023-01-19T17:17:16.548Z"
   },
   {
    "duration": 1227,
    "start_time": "2023-01-19T17:17:16.579Z"
   },
   {
    "duration": 4,
    "start_time": "2023-01-19T17:17:17.807Z"
   },
   {
    "duration": 30,
    "start_time": "2023-01-19T17:17:17.813Z"
   },
   {
    "duration": 79,
    "start_time": "2023-01-19T17:17:17.845Z"
   },
   {
    "duration": 0,
    "start_time": "2023-01-19T17:17:17.926Z"
   },
   {
    "duration": 0,
    "start_time": "2023-01-19T17:17:17.928Z"
   },
   {
    "duration": 0,
    "start_time": "2023-01-19T17:17:17.930Z"
   },
   {
    "duration": 0,
    "start_time": "2023-01-19T17:17:17.931Z"
   },
   {
    "duration": 0,
    "start_time": "2023-01-19T17:17:17.933Z"
   },
   {
    "duration": 0,
    "start_time": "2023-01-19T17:17:17.935Z"
   },
   {
    "duration": 0,
    "start_time": "2023-01-19T17:17:17.936Z"
   },
   {
    "duration": 0,
    "start_time": "2023-01-19T17:17:17.937Z"
   },
   {
    "duration": 0,
    "start_time": "2023-01-19T17:17:17.938Z"
   },
   {
    "duration": 0,
    "start_time": "2023-01-19T17:17:17.939Z"
   },
   {
    "duration": 0,
    "start_time": "2023-01-19T17:17:17.940Z"
   },
   {
    "duration": 0,
    "start_time": "2023-01-19T17:17:17.941Z"
   },
   {
    "duration": 0,
    "start_time": "2023-01-19T17:17:17.942Z"
   },
   {
    "duration": 118390,
    "start_time": "2023-01-19T17:18:16.979Z"
   },
   {
    "duration": 4,
    "start_time": "2023-01-19T17:20:57.249Z"
   },
   {
    "duration": 44,
    "start_time": "2023-01-19T17:20:57.276Z"
   },
   {
    "duration": 181,
    "start_time": "2023-01-19T17:20:57.322Z"
   },
   {
    "duration": 212,
    "start_time": "2023-01-19T17:20:57.505Z"
   },
   {
    "duration": 186,
    "start_time": "2023-01-19T17:20:57.721Z"
   },
   {
    "duration": 470,
    "start_time": "2023-01-19T17:20:57.910Z"
   },
   {
    "duration": 277,
    "start_time": "2023-01-19T17:20:58.382Z"
   },
   {
    "duration": 733,
    "start_time": "2023-01-19T17:20:58.661Z"
   },
   {
    "duration": 481,
    "start_time": "2023-01-19T17:20:59.395Z"
   },
   {
    "duration": 488,
    "start_time": "2023-01-19T17:20:59.877Z"
   },
   {
    "duration": 597,
    "start_time": "2023-01-19T17:21:00.366Z"
   },
   {
    "duration": 263,
    "start_time": "2023-01-19T17:21:00.964Z"
   },
   {
    "duration": 271,
    "start_time": "2023-01-19T17:21:01.228Z"
   },
   {
    "duration": 7265,
    "start_time": "2023-01-19T21:01:47.144Z"
   },
   {
    "duration": 1440,
    "start_time": "2023-01-19T21:01:54.411Z"
   },
   {
    "duration": 3,
    "start_time": "2023-01-19T21:01:55.853Z"
   },
   {
    "duration": 34,
    "start_time": "2023-01-19T21:01:55.859Z"
   },
   {
    "duration": 4,
    "start_time": "2023-01-19T21:01:55.895Z"
   },
   {
    "duration": 10,
    "start_time": "2023-01-19T21:01:55.901Z"
   },
   {
    "duration": 9,
    "start_time": "2023-01-19T21:01:55.913Z"
   },
   {
    "duration": 8,
    "start_time": "2023-01-19T21:01:55.924Z"
   },
   {
    "duration": 9,
    "start_time": "2023-01-19T21:01:55.933Z"
   },
   {
    "duration": 175,
    "start_time": "2023-01-19T21:01:55.944Z"
   },
   {
    "duration": 8405,
    "start_time": "2023-01-19T21:01:56.121Z"
   },
   {
    "duration": 23,
    "start_time": "2023-01-19T21:02:04.528Z"
   },
   {
    "duration": 9,
    "start_time": "2023-01-19T21:02:04.553Z"
   },
   {
    "duration": 9,
    "start_time": "2023-01-19T21:02:04.564Z"
   },
   {
    "duration": 6,
    "start_time": "2023-01-19T21:02:04.575Z"
   },
   {
    "duration": 10,
    "start_time": "2023-01-19T21:02:04.583Z"
   },
   {
    "duration": 7,
    "start_time": "2023-01-19T21:02:04.595Z"
   },
   {
    "duration": 6,
    "start_time": "2023-01-19T21:02:04.604Z"
   },
   {
    "duration": 8,
    "start_time": "2023-01-19T21:02:04.611Z"
   },
   {
    "duration": 6,
    "start_time": "2023-01-19T21:02:04.620Z"
   },
   {
    "duration": 41,
    "start_time": "2023-01-19T21:02:04.628Z"
   },
   {
    "duration": 12,
    "start_time": "2023-01-19T21:02:04.671Z"
   },
   {
    "duration": 4,
    "start_time": "2023-01-19T21:02:04.685Z"
   },
   {
    "duration": 9,
    "start_time": "2023-01-19T21:02:04.691Z"
   },
   {
    "duration": 9,
    "start_time": "2023-01-19T21:02:04.702Z"
   },
   {
    "duration": 4,
    "start_time": "2023-01-19T21:02:04.713Z"
   },
   {
    "duration": 5,
    "start_time": "2023-01-19T21:02:04.718Z"
   },
   {
    "duration": 3,
    "start_time": "2023-01-19T21:02:04.753Z"
   },
   {
    "duration": 12,
    "start_time": "2023-01-19T21:02:04.757Z"
   },
   {
    "duration": 10,
    "start_time": "2023-01-19T21:02:04.770Z"
   },
   {
    "duration": 14,
    "start_time": "2023-01-19T21:02:04.781Z"
   },
   {
    "duration": 10,
    "start_time": "2023-01-19T21:02:04.797Z"
   },
   {
    "duration": 13,
    "start_time": "2023-01-19T21:02:04.809Z"
   },
   {
    "duration": 26,
    "start_time": "2023-01-19T21:02:04.824Z"
   },
   {
    "duration": 12,
    "start_time": "2023-01-19T21:02:04.851Z"
   },
   {
    "duration": 15,
    "start_time": "2023-01-19T21:02:04.865Z"
   },
   {
    "duration": 8,
    "start_time": "2023-01-19T21:02:04.881Z"
   },
   {
    "duration": 28,
    "start_time": "2023-01-19T21:02:04.890Z"
   },
   {
    "duration": 9,
    "start_time": "2023-01-19T21:02:04.920Z"
   },
   {
    "duration": 28,
    "start_time": "2023-01-19T21:02:04.931Z"
   },
   {
    "duration": 13,
    "start_time": "2023-01-19T21:02:04.961Z"
   },
   {
    "duration": 9,
    "start_time": "2023-01-19T21:02:04.976Z"
   },
   {
    "duration": 149,
    "start_time": "2023-01-19T21:02:04.987Z"
   },
   {
    "duration": 37,
    "start_time": "2023-01-19T21:02:05.138Z"
   },
   {
    "duration": 2633,
    "start_time": "2023-01-19T21:02:05.176Z"
   },
   {
    "duration": 5,
    "start_time": "2023-01-19T21:02:07.810Z"
   },
   {
    "duration": 14,
    "start_time": "2023-01-19T21:02:07.816Z"
   },
   {
    "duration": 136955,
    "start_time": "2023-01-19T21:02:07.832Z"
   },
   {
    "duration": 6,
    "start_time": "2023-01-19T21:04:24.789Z"
   },
   {
    "duration": 29,
    "start_time": "2023-01-19T21:04:24.797Z"
   },
   {
    "duration": 125,
    "start_time": "2023-01-19T21:04:24.828Z"
   },
   {
    "duration": 95,
    "start_time": "2023-01-19T21:04:24.955Z"
   },
   {
    "duration": 105,
    "start_time": "2023-01-19T21:04:25.056Z"
   },
   {
    "duration": 2866,
    "start_time": "2023-01-19T21:04:25.166Z"
   },
   {
    "duration": 4,
    "start_time": "2023-01-19T21:04:28.034Z"
   },
   {
    "duration": 14,
    "start_time": "2023-01-19T21:04:28.048Z"
   },
   {
    "duration": 180509,
    "start_time": "2023-01-19T21:04:28.065Z"
   },
   {
    "duration": 4,
    "start_time": "2023-01-19T21:07:28.576Z"
   },
   {
    "duration": 36,
    "start_time": "2023-01-19T21:07:28.582Z"
   },
   {
    "duration": 129,
    "start_time": "2023-01-19T21:07:28.620Z"
   },
   {
    "duration": 105,
    "start_time": "2023-01-19T21:07:28.751Z"
   },
   {
    "duration": 101,
    "start_time": "2023-01-19T21:07:28.858Z"
   },
   {
    "duration": 89,
    "start_time": "2023-01-19T21:07:28.961Z"
   },
   {
    "duration": 100,
    "start_time": "2023-01-19T21:07:29.053Z"
   },
   {
    "duration": 33,
    "start_time": "2023-01-19T21:07:29.155Z"
   },
   {
    "duration": 5,
    "start_time": "2023-01-19T21:07:29.189Z"
   },
   {
    "duration": 6,
    "start_time": "2023-01-19T21:07:29.196Z"
   },
   {
    "duration": 4385,
    "start_time": "2023-01-19T21:07:29.204Z"
   },
   {
    "duration": 4,
    "start_time": "2023-01-19T21:07:33.591Z"
   },
   {
    "duration": 12,
    "start_time": "2023-01-19T21:07:33.596Z"
   },
   {
    "duration": 212246,
    "start_time": "2023-01-19T21:07:33.610Z"
   },
   {
    "duration": 3,
    "start_time": "2023-01-19T21:11:05.858Z"
   },
   {
    "duration": 29,
    "start_time": "2023-01-19T21:11:05.863Z"
   },
   {
    "duration": 157,
    "start_time": "2023-01-19T21:11:05.893Z"
   },
   {
    "duration": 100,
    "start_time": "2023-01-19T21:11:06.052Z"
   },
   {
    "duration": 106,
    "start_time": "2023-01-19T21:11:06.154Z"
   },
   {
    "duration": 187,
    "start_time": "2023-01-19T21:11:06.267Z"
   },
   {
    "duration": 11,
    "start_time": "2023-01-19T21:11:06.456Z"
   },
   {
    "duration": 20,
    "start_time": "2023-01-19T21:11:06.469Z"
   },
   {
    "duration": 12,
    "start_time": "2023-01-19T21:11:06.492Z"
   },
   {
    "duration": 13,
    "start_time": "2023-01-19T21:11:06.506Z"
   },
   {
    "duration": 1177,
    "start_time": "2023-01-19T21:11:06.525Z"
   },
   {
    "duration": 4,
    "start_time": "2023-01-19T21:11:07.704Z"
   },
   {
    "duration": 12,
    "start_time": "2023-01-19T21:11:07.709Z"
   },
   {
    "duration": 119345,
    "start_time": "2023-01-19T21:11:07.723Z"
   },
   {
    "duration": 3,
    "start_time": "2023-01-19T21:13:07.070Z"
   },
   {
    "duration": 30,
    "start_time": "2023-01-19T21:13:07.075Z"
   },
   {
    "duration": 243,
    "start_time": "2023-01-19T21:13:07.106Z"
   },
   {
    "duration": 105,
    "start_time": "2023-01-19T21:13:07.352Z"
   },
   {
    "duration": 106,
    "start_time": "2023-01-19T21:13:07.460Z"
   },
   {
    "duration": 492,
    "start_time": "2023-01-19T21:13:07.568Z"
   },
   {
    "duration": 280,
    "start_time": "2023-01-19T21:13:08.062Z"
   },
   {
    "duration": 710,
    "start_time": "2023-01-19T21:13:08.344Z"
   },
   {
    "duration": 505,
    "start_time": "2023-01-19T21:13:09.056Z"
   },
   {
    "duration": 548,
    "start_time": "2023-01-19T21:13:09.562Z"
   },
   {
    "duration": 599,
    "start_time": "2023-01-19T21:13:10.111Z"
   },
   {
    "duration": 214,
    "start_time": "2023-01-19T21:13:10.714Z"
   },
   {
    "duration": 119,
    "start_time": "2023-01-19T21:13:10.929Z"
   },
   {
    "duration": 92,
    "start_time": "2023-01-20T05:42:27.641Z"
   },
   {
    "duration": 5896,
    "start_time": "2023-01-20T05:43:23.751Z"
   },
   {
    "duration": 1431,
    "start_time": "2023-01-20T05:43:29.649Z"
   },
   {
    "duration": 4,
    "start_time": "2023-01-20T05:43:31.081Z"
   },
   {
    "duration": 52,
    "start_time": "2023-01-20T05:43:31.087Z"
   },
   {
    "duration": 4,
    "start_time": "2023-01-20T05:43:31.140Z"
   },
   {
    "duration": 46,
    "start_time": "2023-01-20T05:43:31.145Z"
   },
   {
    "duration": 22,
    "start_time": "2023-01-20T05:43:31.192Z"
   },
   {
    "duration": 25,
    "start_time": "2023-01-20T05:43:31.215Z"
   },
   {
    "duration": 30,
    "start_time": "2023-01-20T05:43:31.242Z"
   },
   {
    "duration": 210,
    "start_time": "2023-01-20T05:43:31.276Z"
   },
   {
    "duration": 7859,
    "start_time": "2023-01-20T05:43:31.487Z"
   },
   {
    "duration": 14,
    "start_time": "2023-01-20T05:43:39.347Z"
   },
   {
    "duration": 5,
    "start_time": "2023-01-20T05:43:39.362Z"
   },
   {
    "duration": 7,
    "start_time": "2023-01-20T05:43:39.368Z"
   },
   {
    "duration": 5,
    "start_time": "2023-01-20T05:43:39.376Z"
   },
   {
    "duration": 24,
    "start_time": "2023-01-20T05:43:39.383Z"
   },
   {
    "duration": 6,
    "start_time": "2023-01-20T05:43:39.409Z"
   },
   {
    "duration": 8,
    "start_time": "2023-01-20T05:43:39.416Z"
   },
   {
    "duration": 14,
    "start_time": "2023-01-20T05:43:39.425Z"
   },
   {
    "duration": 7,
    "start_time": "2023-01-20T05:43:39.441Z"
   },
   {
    "duration": 28,
    "start_time": "2023-01-20T05:43:39.449Z"
   },
   {
    "duration": 12,
    "start_time": "2023-01-20T05:43:39.478Z"
   },
   {
    "duration": 5,
    "start_time": "2023-01-20T05:43:39.492Z"
   },
   {
    "duration": 6,
    "start_time": "2023-01-20T05:43:39.498Z"
   },
   {
    "duration": 8,
    "start_time": "2023-01-20T05:43:39.505Z"
   },
   {
    "duration": 6,
    "start_time": "2023-01-20T05:43:39.515Z"
   },
   {
    "duration": 6,
    "start_time": "2023-01-20T05:43:39.522Z"
   },
   {
    "duration": 3,
    "start_time": "2023-01-20T05:43:39.531Z"
   },
   {
    "duration": 15,
    "start_time": "2023-01-20T05:43:39.536Z"
   },
   {
    "duration": 6,
    "start_time": "2023-01-20T05:43:39.553Z"
   },
   {
    "duration": 17,
    "start_time": "2023-01-20T05:43:39.560Z"
   },
   {
    "duration": 9,
    "start_time": "2023-01-20T05:43:39.578Z"
   },
   {
    "duration": 12,
    "start_time": "2023-01-20T05:43:39.588Z"
   },
   {
    "duration": 12,
    "start_time": "2023-01-20T05:43:39.601Z"
   },
   {
    "duration": 13,
    "start_time": "2023-01-20T05:43:39.615Z"
   },
   {
    "duration": 16,
    "start_time": "2023-01-20T05:43:39.630Z"
   },
   {
    "duration": 7,
    "start_time": "2023-01-20T05:43:39.647Z"
   },
   {
    "duration": 25,
    "start_time": "2023-01-20T05:43:39.655Z"
   },
   {
    "duration": 8,
    "start_time": "2023-01-20T05:43:39.682Z"
   },
   {
    "duration": 10,
    "start_time": "2023-01-20T05:43:39.692Z"
   },
   {
    "duration": 20,
    "start_time": "2023-01-20T05:43:39.704Z"
   },
   {
    "duration": 10,
    "start_time": "2023-01-20T05:43:39.725Z"
   },
   {
    "duration": 132,
    "start_time": "2023-01-20T05:43:39.736Z"
   },
   {
    "duration": 23,
    "start_time": "2023-01-20T05:43:39.870Z"
   },
   {
    "duration": 2401,
    "start_time": "2023-01-20T05:43:39.895Z"
   },
   {
    "duration": 4,
    "start_time": "2023-01-20T05:43:42.297Z"
   },
   {
    "duration": 11,
    "start_time": "2023-01-20T05:43:42.303Z"
   },
   {
    "duration": 130012,
    "start_time": "2023-01-20T05:43:42.315Z"
   },
   {
    "duration": 4,
    "start_time": "2023-01-20T05:45:52.328Z"
   },
   {
    "duration": 29,
    "start_time": "2023-01-20T05:45:52.333Z"
   },
   {
    "duration": 93,
    "start_time": "2023-01-20T05:45:52.363Z"
   },
   {
    "duration": 107,
    "start_time": "2023-01-20T05:45:52.546Z"
   },
   {
    "duration": 205,
    "start_time": "2023-01-20T05:45:52.655Z"
   },
   {
    "duration": 2698,
    "start_time": "2023-01-20T05:45:52.945Z"
   },
   {
    "duration": 4,
    "start_time": "2023-01-20T05:45:55.645Z"
   },
   {
    "duration": 21,
    "start_time": "2023-01-20T05:45:55.651Z"
   },
   {
    "duration": 133451,
    "start_time": "2023-01-20T05:45:55.674Z"
   },
   {
    "duration": 4,
    "start_time": "2023-01-20T05:48:09.126Z"
   },
   {
    "duration": 31,
    "start_time": "2023-01-20T05:48:09.143Z"
   },
   {
    "duration": 276,
    "start_time": "2023-01-20T05:48:09.176Z"
   },
   {
    "duration": 190,
    "start_time": "2023-01-20T05:48:09.455Z"
   },
   {
    "duration": 108,
    "start_time": "2023-01-20T05:48:09.647Z"
   },
   {
    "duration": 188,
    "start_time": "2023-01-20T05:48:09.757Z"
   },
   {
    "duration": 18,
    "start_time": "2023-01-20T05:48:09.947Z"
   },
   {
    "duration": 39,
    "start_time": "2023-01-20T05:48:09.967Z"
   },
   {
    "duration": 5,
    "start_time": "2023-01-20T05:48:10.008Z"
   },
   {
    "duration": 41,
    "start_time": "2023-01-20T05:48:10.014Z"
   },
   {
    "duration": 4266,
    "start_time": "2023-01-20T05:48:10.057Z"
   },
   {
    "duration": 4,
    "start_time": "2023-01-20T05:48:14.324Z"
   },
   {
    "duration": 16,
    "start_time": "2023-01-20T05:48:14.330Z"
   },
   {
    "duration": 207290,
    "start_time": "2023-01-20T05:48:14.347Z"
   },
   {
    "duration": 5,
    "start_time": "2023-01-20T05:51:41.640Z"
   },
   {
    "duration": 41,
    "start_time": "2023-01-20T05:51:41.647Z"
   },
   {
    "duration": 372,
    "start_time": "2023-01-20T05:51:41.690Z"
   },
   {
    "duration": 94,
    "start_time": "2023-01-20T05:51:42.065Z"
   },
   {
    "duration": 208,
    "start_time": "2023-01-20T05:51:42.162Z"
   },
   {
    "duration": 172,
    "start_time": "2023-01-20T05:51:42.376Z"
   },
   {
    "duration": 30,
    "start_time": "2023-01-20T05:51:42.551Z"
   },
   {
    "duration": 18,
    "start_time": "2023-01-20T05:51:42.583Z"
   },
   {
    "duration": 17,
    "start_time": "2023-01-20T05:51:42.603Z"
   },
   {
    "duration": 16,
    "start_time": "2023-01-20T05:51:42.622Z"
   },
   {
    "duration": 1258,
    "start_time": "2023-01-20T05:51:42.646Z"
   },
   {
    "duration": 4,
    "start_time": "2023-01-20T05:51:43.906Z"
   },
   {
    "duration": 17,
    "start_time": "2023-01-20T05:51:43.913Z"
   },
   {
    "duration": 116104,
    "start_time": "2023-01-20T05:51:43.944Z"
   },
   {
    "duration": 4,
    "start_time": "2023-01-20T05:53:40.051Z"
   },
   {
    "duration": 44,
    "start_time": "2023-01-20T05:53:40.057Z"
   },
   {
    "duration": 54,
    "start_time": "2023-01-20T05:53:40.102Z"
   },
   {
    "duration": 193,
    "start_time": "2023-01-20T05:53:40.157Z"
   },
   {
    "duration": 193,
    "start_time": "2023-01-20T05:53:40.353Z"
   },
   {
    "duration": 385,
    "start_time": "2023-01-20T05:53:40.548Z"
   },
   {
    "duration": 288,
    "start_time": "2023-01-20T05:53:40.935Z"
   },
   {
    "duration": 703,
    "start_time": "2023-01-20T05:53:41.225Z"
   },
   {
    "duration": 496,
    "start_time": "2023-01-20T05:53:41.930Z"
   },
   {
    "duration": 461,
    "start_time": "2023-01-20T05:53:42.428Z"
   },
   {
    "duration": 515,
    "start_time": "2023-01-20T05:53:42.891Z"
   },
   {
    "duration": 215,
    "start_time": "2023-01-20T05:53:43.408Z"
   },
   {
    "duration": 118,
    "start_time": "2023-01-20T05:53:43.625Z"
   },
   {
    "duration": 2792,
    "start_time": "2023-03-05T10:43:00.630Z"
   },
   {
    "duration": 1601,
    "start_time": "2023-03-05T10:43:03.425Z"
   },
   {
    "duration": 3,
    "start_time": "2023-03-05T10:43:05.029Z"
   },
   {
    "duration": 86,
    "start_time": "2023-03-05T10:43:05.038Z"
   },
   {
    "duration": 35,
    "start_time": "2023-03-05T10:43:05.126Z"
   },
   {
    "duration": 10,
    "start_time": "2023-03-05T10:43:05.163Z"
   },
   {
    "duration": 16,
    "start_time": "2023-03-05T10:43:05.175Z"
   },
   {
    "duration": 15,
    "start_time": "2023-03-05T10:43:05.193Z"
   },
   {
    "duration": 17,
    "start_time": "2023-03-05T10:43:05.210Z"
   },
   {
    "duration": 94,
    "start_time": "2023-03-05T10:43:05.231Z"
   },
   {
    "duration": 11272,
    "start_time": "2023-03-05T10:43:05.327Z"
   },
   {
    "duration": 48,
    "start_time": "2023-03-05T10:43:16.602Z"
   },
   {
    "duration": 19,
    "start_time": "2023-03-05T10:43:16.652Z"
   },
   {
    "duration": 16,
    "start_time": "2023-03-05T10:43:16.674Z"
   },
   {
    "duration": 19,
    "start_time": "2023-03-05T10:43:16.693Z"
   },
   {
    "duration": 27,
    "start_time": "2023-03-05T10:43:16.714Z"
   },
   {
    "duration": 34,
    "start_time": "2023-03-05T10:43:16.743Z"
   },
   {
    "duration": 28,
    "start_time": "2023-03-05T10:43:16.780Z"
   },
   {
    "duration": 15,
    "start_time": "2023-03-05T10:43:16.810Z"
   },
   {
    "duration": 42,
    "start_time": "2023-03-05T10:43:16.827Z"
   },
   {
    "duration": 49,
    "start_time": "2023-03-05T10:43:16.872Z"
   },
   {
    "duration": 51,
    "start_time": "2023-03-05T10:43:16.924Z"
   },
   {
    "duration": 68,
    "start_time": "2023-03-05T10:43:16.977Z"
   },
   {
    "duration": 52,
    "start_time": "2023-03-05T10:43:17.054Z"
   },
   {
    "duration": 30,
    "start_time": "2023-03-05T10:43:17.108Z"
   },
   {
    "duration": 47,
    "start_time": "2023-03-05T10:43:17.140Z"
   },
   {
    "duration": 24,
    "start_time": "2023-03-05T10:43:17.189Z"
   },
   {
    "duration": 58,
    "start_time": "2023-03-05T10:43:17.220Z"
   },
   {
    "duration": 19,
    "start_time": "2023-03-05T10:43:17.281Z"
   },
   {
    "duration": 26,
    "start_time": "2023-03-05T10:43:17.303Z"
   },
   {
    "duration": 54,
    "start_time": "2023-03-05T10:43:17.331Z"
   },
   {
    "duration": 46,
    "start_time": "2023-03-05T10:43:17.388Z"
   },
   {
    "duration": 97,
    "start_time": "2023-03-05T10:43:17.437Z"
   },
   {
    "duration": 87,
    "start_time": "2023-03-05T10:43:17.537Z"
   },
   {
    "duration": 71,
    "start_time": "2023-03-05T10:43:17.626Z"
   },
   {
    "duration": 16,
    "start_time": "2023-03-05T10:43:17.699Z"
   },
   {
    "duration": 18,
    "start_time": "2023-03-05T10:43:17.717Z"
   },
   {
    "duration": 74,
    "start_time": "2023-03-05T10:43:17.737Z"
   },
   {
    "duration": 11,
    "start_time": "2023-03-05T10:43:17.814Z"
   },
   {
    "duration": 60,
    "start_time": "2023-03-05T10:43:17.827Z"
   },
   {
    "duration": 73,
    "start_time": "2023-03-05T10:43:17.889Z"
   },
   {
    "duration": 24,
    "start_time": "2023-03-05T10:43:17.969Z"
   },
   {
    "duration": 263,
    "start_time": "2023-03-05T10:43:17.997Z"
   },
   {
    "duration": 44,
    "start_time": "2023-03-05T10:43:18.263Z"
   },
   {
    "duration": 3414,
    "start_time": "2023-03-05T10:43:18.310Z"
   },
   {
    "duration": 12,
    "start_time": "2023-03-05T10:43:21.728Z"
   },
   {
    "duration": 33,
    "start_time": "2023-03-05T10:43:21.744Z"
   },
   {
    "duration": 190763,
    "start_time": "2023-03-05T10:43:21.785Z"
   },
   {
    "duration": 6,
    "start_time": "2023-03-05T10:46:32.553Z"
   },
   {
    "duration": 83,
    "start_time": "2023-03-05T10:46:32.565Z"
   },
   {
    "duration": 888,
    "start_time": "2023-03-05T10:46:32.651Z"
   },
   {
    "duration": 124,
    "start_time": "2023-03-05T10:46:33.541Z"
   },
   {
    "duration": 178,
    "start_time": "2023-03-05T10:46:33.668Z"
   },
   {
    "duration": 3715,
    "start_time": "2023-03-05T10:46:33.856Z"
   },
   {
    "duration": 5,
    "start_time": "2023-03-05T10:46:37.573Z"
   },
   {
    "duration": 24,
    "start_time": "2023-03-05T10:46:37.580Z"
   },
   {
    "duration": 186385,
    "start_time": "2023-03-05T10:46:37.606Z"
   },
   {
    "duration": 4,
    "start_time": "2023-03-05T10:49:43.993Z"
   },
   {
    "duration": 48,
    "start_time": "2023-03-05T10:49:43.999Z"
   },
   {
    "duration": 235,
    "start_time": "2023-03-05T10:49:44.049Z"
   },
   {
    "duration": 160,
    "start_time": "2023-03-05T10:49:44.289Z"
   },
   {
    "duration": 105,
    "start_time": "2023-03-05T10:49:44.458Z"
   },
   {
    "duration": 11,
    "start_time": "2023-03-05T10:49:44.577Z"
   },
   {
    "duration": 105,
    "start_time": "2023-03-05T10:49:44.591Z"
   },
   {
    "duration": 70,
    "start_time": "2023-03-05T10:49:44.699Z"
   },
   {
    "duration": 11,
    "start_time": "2023-03-05T10:49:44.775Z"
   },
   {
    "duration": 17,
    "start_time": "2023-03-05T10:49:44.788Z"
   },
   {
    "duration": 5670,
    "start_time": "2023-03-05T10:49:44.807Z"
   },
   {
    "duration": 7,
    "start_time": "2023-03-05T10:49:50.480Z"
   },
   {
    "duration": 16,
    "start_time": "2023-03-05T10:49:50.489Z"
   },
   {
    "duration": 285639,
    "start_time": "2023-03-05T10:49:50.507Z"
   },
   {
    "duration": 18,
    "start_time": "2023-03-05T10:54:36.148Z"
   },
   {
    "duration": 63,
    "start_time": "2023-03-05T10:54:36.172Z"
   },
   {
    "duration": 231,
    "start_time": "2023-03-05T10:54:36.240Z"
   },
   {
    "duration": 78,
    "start_time": "2023-03-05T10:54:36.480Z"
   },
   {
    "duration": 102,
    "start_time": "2023-03-05T10:54:36.646Z"
   },
   {
    "duration": 102,
    "start_time": "2023-03-05T10:54:36.766Z"
   },
   {
    "duration": 17,
    "start_time": "2023-03-05T10:54:36.871Z"
   },
   {
    "duration": 24,
    "start_time": "2023-03-05T10:54:36.890Z"
   },
   {
    "duration": 11,
    "start_time": "2023-03-05T10:54:36.916Z"
   },
   {
    "duration": 32,
    "start_time": "2023-03-05T10:54:36.929Z"
   },
   {
    "duration": 2036,
    "start_time": "2023-03-05T10:54:36.972Z"
   },
   {
    "duration": 6,
    "start_time": "2023-03-05T10:54:39.011Z"
   },
   {
    "duration": 30,
    "start_time": "2023-03-05T10:54:39.021Z"
   },
   {
    "duration": 160101,
    "start_time": "2023-03-05T10:54:39.057Z"
   },
   {
    "duration": 17,
    "start_time": "2023-03-05T10:57:19.160Z"
   },
   {
    "duration": 66,
    "start_time": "2023-03-05T10:57:19.182Z"
   },
   {
    "duration": 623,
    "start_time": "2023-03-05T10:57:19.251Z"
   },
   {
    "duration": 57,
    "start_time": "2023-03-05T10:57:19.944Z"
   },
   {
    "duration": 147,
    "start_time": "2023-03-05T10:57:20.015Z"
   },
   {
    "duration": 532,
    "start_time": "2023-03-05T10:57:20.169Z"
   },
   {
    "duration": 532,
    "start_time": "2023-03-05T10:57:20.703Z"
   },
   {
    "duration": 1011,
    "start_time": "2023-03-05T10:57:21.247Z"
   },
   {
    "duration": 782,
    "start_time": "2023-03-05T10:57:22.264Z"
   },
   {
    "duration": 1017,
    "start_time": "2023-03-05T10:57:23.052Z"
   },
   {
    "duration": 946,
    "start_time": "2023-03-05T10:57:24.071Z"
   },
   {
    "duration": 334,
    "start_time": "2023-03-05T10:57:25.020Z"
   },
   {
    "duration": 151,
    "start_time": "2023-03-05T10:57:25.358Z"
   }
  ],
  "kernelspec": {
   "display_name": "Python 3 (ipykernel)",
   "language": "python",
   "name": "python3"
  },
  "language_info": {
   "codemirror_mode": {
    "name": "ipython",
    "version": 3
   },
   "file_extension": ".py",
   "mimetype": "text/x-python",
   "name": "python",
   "nbconvert_exporter": "python",
   "pygments_lexer": "ipython3",
   "version": "3.9.12"
  },
  "toc": {
   "base_numbering": 1,
   "nav_menu": {},
   "number_sections": true,
   "sideBar": true,
   "skip_h1_title": true,
   "title_cell": "Содержание",
   "title_sidebar": "Contents",
   "toc_cell": true,
   "toc_position": {
    "height": "calc(100% - 180px)",
    "left": "10px",
    "top": "150px",
    "width": "366px"
   },
   "toc_section_display": true,
   "toc_window_display": true
  }
 },
 "nbformat": 4,
 "nbformat_minor": 2
}
